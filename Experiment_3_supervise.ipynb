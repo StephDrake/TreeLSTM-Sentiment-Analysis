{
  "cells": [
    {
      "cell_type": "markdown",
      "metadata": {
        "id": "Uw1myN1eW8mA"
      },
      "source": [
        "#**Experiment three:**\n",
        "For this experiment, we adress the following research question\n",
        "\n",
        "* Do you get better performance if you supervise the sentiment at each node in the tree?\n",
        "\n",
        "In this experiment, I have worked with a TreeLSTM model to explore the impact of supervising sentiment at each node in a syntactic tree. Specifically, I have broken down sentences into their subtrees and treated each subtree as an individual training example. This is in contrast to the usual approach, where sentiment is only supervised at the root node (the entire sentence).\n",
        "\n",
        "To start, I used NLTK to parse the sentences into tree structures, where each sentence is represented as a tree with words and phrases as nodes. I then extracted the subtrees (which are smaller parts of the sentence represented by subtrees) from the tree structure. These subtrees were processed into numerical tokens using a vocabulary, which allowed me to map words into integer values for training the model.\n",
        "\n",
        "Next, I trained the TreeLSTM model on these subtrees. TreeLSTM is a type of recurrent neural network designed to process tree-structured data, and it works by propagating information through the tree nodes, allowing it to capture hierarchical relationships between words and phrases in the sentence. In this experiment, I supervised sentiment at each node (subtree) in the tree, which means that instead of only predicting the sentiment at the root node (the entire sentence), the model was asked to predict sentiment for each part of the tree.\n",
        "\n",
        "To ensure efficiency in training, I used mini-batches, where I grouped multiple subtrees together in each training iteration. This helped speed up the training process by leveraging batch processing on the GPU.\n",
        "\n",
        "By doing this, I am addressing the research question: \"Do you get better performance if you supervise the sentiment at each node in the tree?\" I am testing whether providing supervision at the subtree level (rather than just at the root node) improves the model’s ability to classify sentiment more accurately. Essentially, I want to see if training with more granular supervision (at each node) helps the model learn better representations of the sentence, potentially leading to improved performance on sentiment classification tasks.\n",
        "\n",
        "The outcome of this experiment will show whether this fine-grained supervision (sentiment prediction at each subtree) provides better performance compared to the standard approach of supervising sentiment only at the root node. If the model performs better, it would suggest that considering smaller components (subtrees) of a sentence allows for more nuanced understanding, which can lead to improved sentiment classification accuracy.\n",
        "\n"
      ]
    },
    {
      "cell_type": "markdown",
      "metadata": {
        "id": "YbNKef3lymaj"
      },
      "source": [
        "## Preparing the data"
      ]
    },
    {
      "cell_type": "markdown",
      "metadata": {
        "id": "9jxTkpg59FlU"
      },
      "source": [
        "Let's first download the data set and take a look."
      ]
    },
    {
      "cell_type": "code",
      "execution_count": 1,
      "metadata": {
        "id": "WZp53HmMP3F2"
      },
      "outputs": [],
      "source": [
        "import re\n",
        "import random\n",
        "import time\n",
        "import math\n",
        "import numpy as np\n",
        "import nltk\n",
        "import matplotlib.pyplot as plt\n",
        "plt.style.use('default')"
      ]
    },
    {
      "cell_type": "code",
      "execution_count": 2,
      "metadata": {
        "colab": {
          "base_uri": "https://localhost:8080/"
        },
        "id": "1QprhgkFodAV",
        "outputId": "c26da87e-b494-4fe6-e999-86727b8e41b3"
      },
      "outputs": [
        {
          "output_type": "stream",
          "name": "stdout",
          "text": [
            "--2024-12-13 12:53:10--  http://nlp.stanford.edu/sentiment/trainDevTestTrees_PTB.zip\n",
            "Resolving nlp.stanford.edu (nlp.stanford.edu)... 171.64.67.140\n",
            "Connecting to nlp.stanford.edu (nlp.stanford.edu)|171.64.67.140|:80... connected.\n",
            "HTTP request sent, awaiting response... 302 Found\n",
            "Location: https://nlp.stanford.edu/sentiment/trainDevTestTrees_PTB.zip [following]\n",
            "--2024-12-13 12:53:10--  https://nlp.stanford.edu/sentiment/trainDevTestTrees_PTB.zip\n",
            "Connecting to nlp.stanford.edu (nlp.stanford.edu)|171.64.67.140|:443... connected.\n",
            "HTTP request sent, awaiting response... 200 OK\n",
            "Length: 789539 (771K) [application/zip]\n",
            "Saving to: ‘trainDevTestTrees_PTB.zip’\n",
            "\n",
            "trainDevTestTrees_P 100%[===================>] 771.03K   329KB/s    in 2.3s    \n",
            "\n",
            "2024-12-13 12:53:14 (329 KB/s) - ‘trainDevTestTrees_PTB.zip’ saved [789539/789539]\n",
            "\n",
            "Archive:  trainDevTestTrees_PTB.zip\n",
            "   creating: trees/\n",
            "  inflating: trees/dev.txt           \n",
            "  inflating: trees/test.txt          \n",
            "  inflating: trees/train.txt         \n"
          ]
        }
      ],
      "source": [
        "!wget http://nlp.stanford.edu/sentiment/trainDevTestTrees_PTB.zip\n",
        "!unzip trainDevTestTrees_PTB.zip"
      ]
    },
    {
      "cell_type": "code",
      "execution_count": 3,
      "metadata": {
        "id": "0IpAphkBO5eW"
      },
      "outputs": [],
      "source": [
        "# this function reads in a textfile and fixes an issue with \"\\\\\"\n",
        "def filereader(path):\n",
        "  with open(path, mode=\"r\", encoding=\"utf-8\") as f:\n",
        "    for line in f:\n",
        "      yield line.strip().replace(\"\\\\\",\"\")"
      ]
    },
    {
      "cell_type": "markdown",
      "metadata": {
        "id": "yP_jpquiprH8"
      },
      "source": [
        "Let's look at a data point. It is a **flattened binary tree**, with sentiment scores at every node, and words as the leaves (or *terminal nodes*)."
      ]
    },
    {
      "cell_type": "code",
      "execution_count": 4,
      "metadata": {
        "id": "ylkIopm0QJML",
        "colab": {
          "base_uri": "https://localhost:8080/"
        },
        "outputId": "9545ecc1-e275-4ff5-bde3-16c4c94055cb"
      },
      "outputs": [
        {
          "output_type": "stream",
          "name": "stdout",
          "text": [
            "(3 (2 (2 The) (2 Rock)) (4 (3 (2 is) (4 (2 destined) (2 (2 (2 (2 (2 to) (2 (2 be) (2 (2 the) (2 (2 21st) (2 (2 (2 Century) (2 's)) (2 (3 new) (2 (2 ``) (2 Conan)))))))) (2 '')) (2 and)) (3 (2 that) (3 (2 he) (3 (2 's) (3 (2 going) (3 (2 to) (4 (3 (2 make) (3 (3 (2 a) (3 splash)) (2 (2 even) (3 greater)))) (2 (2 than) (2 (2 (2 (2 (1 (2 Arnold) (2 Schwarzenegger)) (2 ,)) (2 (2 Jean-Claud) (2 (2 Van) (2 Damme)))) (2 or)) (2 (2 Steven) (2 Segal))))))))))))) (2 .)))\n"
          ]
        }
      ],
      "source": [
        "s = next(filereader(\"trees/train.txt\"))\n",
        "print(s)"
      ]
    },
    {
      "cell_type": "code",
      "execution_count": 5,
      "metadata": {
        "id": "7_U7HTFwdrWt",
        "colab": {
          "base_uri": "https://localhost:8080/"
        },
        "outputId": "c9735ac6-ac2a-4859-c612-52c88297e6ea"
      },
      "outputs": [
        {
          "output_type": "stream",
          "name": "stdout",
          "text": [
            "                                                                                               3                                                                                                                                         \n",
            "      _________________________________________________________________________________________|____                                                                                                                                      \n",
            "     |                                                                                              4                                                                                                                                    \n",
            "     |                      ________________________________________________________________________|__________________________________________________________________________________________________________________________________   \n",
            "     |                     3                                                                                                                                                                                                           | \n",
            "     |         ____________|___________                                                                                                                                                                                                |  \n",
            "     |        |                        4                                                                                                                                                                                               | \n",
            "     |        |      __________________|_________________________________                                                                                                                                                              |  \n",
            "     |        |     |                                                    2                                                                                                                                                             | \n",
            "     |        |     |                                    ________________|_________________                                                                                                                                            |  \n",
            "     |        |     |                                   |                                  3                                                                                                                                           | \n",
            "     |        |     |                                   |                              ____|___                                                                                                                                        |  \n",
            "     |        |     |                                   |                             |        3                                                                                                                                       | \n",
            "     |        |     |                                   |                             |     ___|_________                                                                                                                              |  \n",
            "     |        |     |                                   |                             |    |             3                                                                                                                             | \n",
            "     |        |     |                                   |                             |    |    _________|_________________                                                                                                            |  \n",
            "     |        |     |                                   2                             |    |   |                           3                                                                                                           | \n",
            "     |        |     |                          _________|_________________________    |    |   |     ______________________|________________________________                                                                           |  \n",
            "     |        |     |                         2                                   |   |    |   |    |                                                       3                                                                          | \n",
            "     |        |     |           ______________|_______________________________    |   |    |   |    |     __________________________________________________|______________                                                            |  \n",
            "     |        |     |          2                                              |   |   |    |   |    |    |                                                                 4                                                           | \n",
            "     |        |     |       ___|___                                           |   |   |    |   |    |    |                  _______________________________________________|________________                                           |  \n",
            "     |        |     |      |       2                                          |   |   |    |   |    |    |                 |                                                                2                                          | \n",
            "     |        |     |      |    ___|___                                       |   |   |    |   |    |    |                 |                           _____________________________________|_______                                   |  \n",
            "     |        |     |      |   |       2                                      |   |   |    |   |    |    |                 |                          |                                             2                                  | \n",
            "     |        |     |      |   |    ___|________________                      |   |   |    |   |    |    |                 |                          |                                      _______|________________________          |  \n",
            "     |        |     |      |   |   |                    2                     |   |   |    |   |    |    |                 |                          |                                     2                                |         | \n",
            "     |        |     |      |   |   |    ________________|___                  |   |   |    |   |    |    |                 |                          |                               ______|_____________________           |         |  \n",
            "     |        |     |      |   |   |   |                    2                 |   |   |    |   |    |    |                 3                          |                              2                            |          |         | \n",
            "     |        |     |      |   |   |   |             _______|___              |   |   |    |   |    |    |    _____________|_____                     |                     _________|______________              |          |         |  \n",
            "     |        |     |      |   |   |   |            |           2             |   |   |    |   |    |    |   |                   3                    |                    2                        2             |          |         | \n",
            "     |        |     |      |   |   |   |            |        ___|___          |   |   |    |   |    |    |   |         __________|________            |            ________|_________        _______|___          |          |         |  \n",
            "     2        |     |      |   |   |   |            2       |       2         |   |   |    |   |    |    |   |        3                   2           |           1                  |      |           2         |          2         | \n",
            "  ___|___     |     |      |   |   |   |       _____|___    |    ___|____     |   |   |    |   |    |    |   |     ___|____           ____|_____      |      _____|________          |      |        ___|____     |     _____|____     |  \n",
            " 2       2    2     2      2   2   2   2      2         2   3   2        2    2   2   2    2   2    2    2   2    2        3         2          3     2     2              2         2      2       2        2    2    2          2    2 \n",
            " |       |    |     |      |   |   |   |      |         |   |   |        |    |   |   |    |   |    |    |   |    |        |         |          |     |     |              |         |      |       |        |    |    |          |    |  \n",
            "The     Rock  is destined  to  be the 21st Century      's new  ``     Conan  '' and that  he  's going  to make  a      splash     even     greater than Arnold     Schwarzenegger  ,  Jean-Claud Van     Damme  or Steven     Segal  . \n",
            "\n"
          ]
        },
        {
          "output_type": "stream",
          "name": "stderr",
          "text": [
            "<ipython-input-5-6ab7e95feba4>:5: DeprecationWarning: \n",
            "    Class TreePrettyPrinter has been deprecated.  Import\n",
            "    `TreePrettyPrinter` using `from nltk.tree import\n",
            "    TreePrettyPrinter` instead.\n",
            "  print(TreePrettyPrinter(tree))\n"
          ]
        }
      ],
      "source": [
        "# We can use NLTK to better visualise the tree structure of the sentence\n",
        "from nltk import Tree\n",
        "from nltk.treeprettyprinter import TreePrettyPrinter\n",
        "tree = Tree.fromstring(s)\n",
        "print(TreePrettyPrinter(tree))"
      ]
    },
    {
      "cell_type": "markdown",
      "metadata": {
        "id": "ekAWKsji9t93"
      },
      "source": [
        "The sentiment scores range from 0 (very negative) to 5 (very positive). Again, as you can see, every node in the tree is labeled with a sentiment score. For now, we will only use the score at the **root node**, i.e., the sentiment score for the complete sentence."
      ]
    },
    {
      "cell_type": "code",
      "execution_count": 6,
      "metadata": {
        "id": "DKynLm0xPKr2",
        "colab": {
          "base_uri": "https://localhost:8080/"
        },
        "outputId": "ef3b88bf-5b3d-4722-9c1a-760998275549"
      },
      "outputs": [
        {
          "output_type": "stream",
          "name": "stdout",
          "text": [
            "['The', 'Rock', 'is', 'destined', 'to', 'be', 'the', '21st', 'Century', \"'s\", 'new', '``', 'Conan', \"''\", 'and', 'that', 'he', \"'s\", 'going', 'to', 'make', 'a', 'splash', 'even', 'greater', 'than', 'Arnold', 'Schwarzenegger', ',', 'Jean-Claud', 'Van', 'Damme', 'or', 'Steven', 'Segal', '.']\n",
            "36\n"
          ]
        }
      ],
      "source": [
        "# Let's first make a function that extracts the tokens (the leaves).\n",
        "\n",
        "def tokens_from_treestring(s):\n",
        "  \"\"\"extract the tokens from a sentiment tree\"\"\"\n",
        "  return re.sub(r\"\\([0-9] |\\)\", \"\", s).split()\n",
        "\n",
        "# let's try it on our example tree\n",
        "tokens = tokens_from_treestring(s)\n",
        "print(tokens)\n",
        "print(len(tokens))"
      ]
    },
    {
      "cell_type": "markdown",
      "metadata": {
        "id": "B8vFkeqN-NLP"
      },
      "source": [
        "> *Warning: you could also parse a treestring using NLTK and ask it to return the leaves, but there seems to be an issue with NLTK not always correctly parsing the input, so do not rely on it.*"
      ]
    },
    {
      "cell_type": "code",
      "execution_count": 7,
      "metadata": {
        "id": "Akr9K_Mv4dym"
      },
      "outputs": [],
      "source": [
        "# We will also need the following function, but you can ignore this for now.\n",
        "# It is explained later on.\n",
        "\n",
        "SHIFT = 0\n",
        "REDUCE = 1\n",
        "\n",
        "\n",
        "def transitions_from_treestring(s):\n",
        "  s = re.sub(\"\\([0-5] ([^)]+)\\)\", \"0\", s)\n",
        "  s = re.sub(\"\\)\", \" )\", s)\n",
        "  s = re.sub(\"\\([0-4] \", \"\", s)\n",
        "  s = re.sub(\"\\([0-4] \", \"\", s)\n",
        "  s = re.sub(\"\\)\", \"1\", s)\n",
        "  return list(map(int, s.split()))"
      ]
    },
    {
      "cell_type": "code",
      "execution_count": 8,
      "metadata": {
        "id": "mNtPdlwPgRat",
        "colab": {
          "base_uri": "https://localhost:8080/"
        },
        "outputId": "d8f7482e-b696-4cc2-f795-ac5d275e4527"
      },
      "outputs": [
        {
          "output_type": "stream",
          "name": "stdout",
          "text": [
            "trees/train.txt  8544\n",
            "trees/dev.txt    1101\n",
            "trees/test.txt   2210\n"
          ]
        }
      ],
      "source": [
        "# Now let's first see how large our data sets are.\n",
        "for path in (\"trees/train.txt\", \"trees/dev.txt\", \"trees/test.txt\"):\n",
        "  print(\"{:16s} {:4d}\".format(path, sum(1 for _ in filereader(path))))"
      ]
    },
    {
      "cell_type": "code",
      "execution_count": 9,
      "metadata": {
        "id": "YP0wc22ohWlO",
        "colab": {
          "base_uri": "https://localhost:8080/"
        },
        "outputId": "658f2765-c2bd-43c3-def0-2fca727adf0d"
      },
      "outputs": [
        {
          "output_type": "stream",
          "name": "stdout",
          "text": [
            "First sentence in trees/train.txt:\n",
            "(3 (2 (2 The) (2 Rock)) (4 (3 (2 is) (4 (2 destined) (2 (2 (2 (2 (2 to) (2 (2 be) (2 (2 the) (2 (2 21st) (2 (2 (2 Century) (2 's)) (2 (3 new) (2 (2 ``) (2 Conan)))))))) (2 '')) (2 and)) (3 (2 that) (3 (2 he) (3 (2 's) (3 (2 going) (3 (2 to) (4 (3 (2 make) (3 (3 (2 a) (3 splash)) (2 (2 even) (3 greater)))) (2 (2 than) (2 (2 (2 (2 (1 (2 Arnold) (2 Schwarzenegger)) (2 ,)) (2 (2 Jean-Claud) (2 (2 Van) (2 Damme)))) (2 or)) (2 (2 Steven) (2 Segal))))))))))))) (2 .)))\n",
            "First sentence in trees/dev.txt:\n",
            "(3 (2 It) (4 (4 (2 's) (4 (3 (2 a) (4 (3 lovely) (2 film))) (3 (2 with) (4 (3 (3 lovely) (2 performances)) (2 (2 by) (2 (2 (2 Buy) (2 and)) (2 Accorsi))))))) (2 .)))\n",
            "First sentence in trees/test.txt:\n",
            "(2 (3 (3 Effective) (2 but)) (1 (1 too-tepid) (2 biopic)))\n"
          ]
        }
      ],
      "source": [
        "for path in (\"trees/train.txt\", \"trees/dev.txt\", \"trees/test.txt\"):\n",
        "    print(f\"First sentence in {path}:\")\n",
        "    print(next(filereader(path)))\n"
      ]
    },
    {
      "cell_type": "markdown",
      "metadata": {
        "id": "HexlSqTR_UrY"
      },
      "source": [
        "You can see that the number of sentences is not very large. That's probably because the data set required so much manual annotation. However, it is large enough to train a neural network on."
      ]
    },
    {
      "cell_type": "markdown",
      "metadata": {
        "id": "IfRjelOcsXuC"
      },
      "source": [
        "It will be useful to store each data example in an `Example` object,\n",
        "containing everything that we may need for each data point.\n",
        "It will contain the tokens, the tree, the top-level sentiment label, and\n",
        "the transitions (explained later)."
      ]
    },
    {
      "cell_type": "code",
      "execution_count": 10,
      "metadata": {
        "id": "4I07Hb_-q8wg",
        "colab": {
          "base_uri": "https://localhost:8080/"
        },
        "outputId": "29b293dd-ceed-477a-84e2-1cb3ed8a2f40"
      },
      "outputs": [
        {
          "output_type": "stream",
          "name": "stdout",
          "text": [
            "train 8544\n",
            "dev 1101\n",
            "test 2210\n"
          ]
        }
      ],
      "source": [
        "from collections import namedtuple\n",
        "from nltk import Tree\n",
        "\n",
        "# A simple way to define a class is using namedtuple.\n",
        "Example = namedtuple(\"Example\", [\"tokens\", \"tree\", \"label\", \"transitions\"])\n",
        "\n",
        "\n",
        "def examplereader(path, lower=False):\n",
        "  \"\"\"Returns all examples in a file one by one.\"\"\"\n",
        "  for line in filereader(path):\n",
        "    line = line.lower() if lower else line\n",
        "    tokens = tokens_from_treestring(line)\n",
        "    tree = Tree.fromstring(line)  # use NLTK's Tree\n",
        "    label = int(line[1])\n",
        "    trans = transitions_from_treestring(line)\n",
        "    yield Example(tokens=tokens, tree=tree, label=label, transitions=trans)\n",
        "\n",
        "\n",
        "# Let's load the data into memory.\n",
        "LOWER = False  # we will keep the original casing\n",
        "train_data = list(examplereader(\"trees/train.txt\", lower=LOWER))\n",
        "dev_data = list(examplereader(\"trees/dev.txt\", lower=LOWER))\n",
        "test_data = list(examplereader(\"trees/test.txt\", lower=LOWER))\n",
        "\n",
        "print(\"train\", len(train_data))\n",
        "print(\"dev\", len(dev_data))\n",
        "print(\"test\", len(test_data))"
      ]
    },
    {
      "cell_type": "markdown",
      "metadata": {
        "id": "6KM0bDyeVZtP"
      },
      "source": [
        "Let's check out an `Example` object."
      ]
    },
    {
      "cell_type": "code",
      "source": [
        "example = dev_data[0]\n",
        "print(\"First example:\", example)\n",
        "print(\"First example tokens:\", example.tokens)\n",
        "print(\"First example label:\",  example.label)"
      ],
      "metadata": {
        "colab": {
          "base_uri": "https://localhost:8080/"
        },
        "id": "d5OTXuqQ9l_q",
        "outputId": "6f6a31a5-eac2-49c4-d0c7-20a27e6191e7"
      },
      "execution_count": 11,
      "outputs": [
        {
          "output_type": "stream",
          "name": "stdout",
          "text": [
            "First example: Example(tokens=['It', \"'s\", 'a', 'lovely', 'film', 'with', 'lovely', 'performances', 'by', 'Buy', 'and', 'Accorsi', '.'], tree=Tree('3', [Tree('2', ['It']), Tree('4', [Tree('4', [Tree('2', [\"'s\"]), Tree('4', [Tree('3', [Tree('2', ['a']), Tree('4', [Tree('3', ['lovely']), Tree('2', ['film'])])]), Tree('3', [Tree('2', ['with']), Tree('4', [Tree('3', [Tree('3', ['lovely']), Tree('2', ['performances'])]), Tree('2', [Tree('2', ['by']), Tree('2', [Tree('2', [Tree('2', ['Buy']), Tree('2', ['and'])]), Tree('2', ['Accorsi'])])])])])])]), Tree('2', ['.'])])]), label=3, transitions=[0, 0, 0, 0, 0, 1, 1, 0, 0, 0, 1, 0, 0, 0, 1, 0, 1, 1, 1, 1, 1, 1, 0, 1, 1])\n",
            "First example tokens: ['It', \"'s\", 'a', 'lovely', 'film', 'with', 'lovely', 'performances', 'by', 'Buy', 'and', 'Accorsi', '.']\n",
            "First example label: 3\n"
          ]
        }
      ]
    },
    {
      "cell_type": "code",
      "source": [
        "def prepare_example(example, vocab):\n",
        "    \"\"\"\n",
        "    Prepare input and label for a single example, including transitions.\n",
        "    \"\"\"\n",
        "    # Map tokens to IDs\n",
        "    x = [vocab.w2i.get(t, 0) for t in example.tokens]  # 0 is <unk>\n",
        "    x = torch.LongTensor([x]).to(device)\n",
        "\n",
        "    # Extract transitions\n",
        "    transitions = example.transitions  # Ensure example has `transitions`\n",
        "    transitions = torch.LongTensor(transitions).to(device)\n",
        "\n",
        "    # Get label\n",
        "    y = torch.LongTensor([example.label]).to(device)\n",
        "\n",
        "    return x, transitions, y\n"
      ],
      "metadata": {
        "id": "fDowYsteOxqb"
      },
      "execution_count": 12,
      "outputs": []
    },
    {
      "cell_type": "markdown",
      "metadata": {
        "id": "-WDSprDBVcr-"
      },
      "source": [
        "#### Vocabulary\n",
        "A first step in most NLP tasks is collecting all the word types that appear in the data into a vocabulary, and counting the frequency of their occurrences. On the one hand, this will give us an overview of the word distribution of the data set (what are the most frequent words, how many rare words are there, ...). On the other hand, we will also use the vocabulary to map each word to a unique numeric ID, which is a more handy index than a string."
      ]
    },
    {
      "cell_type": "code",
      "execution_count": 13,
      "metadata": {
        "id": "VvNgKx7usRSt"
      },
      "outputs": [],
      "source": [
        "# Here we first define a class that can map a word to an ID (w2i)\n",
        "# and back (i2w).\n",
        "\n",
        "from collections import Counter, OrderedDict, defaultdict\n",
        "\n",
        "\n",
        "class OrderedCounter(Counter, OrderedDict):\n",
        "  \"\"\"Counter that remembers the order elements are first seen\"\"\"\n",
        "  def __repr__(self):\n",
        "    return '%s(%r)' % (self.__class__.__name__,\n",
        "                      OrderedDict(self))\n",
        "  def __reduce__(self):\n",
        "    return self.__class__, (OrderedDict(self),)\n",
        "\n",
        "\n",
        "class Vocabulary:\n",
        "  \"\"\"A vocabulary, assigns IDs to tokens\"\"\"\n",
        "\n",
        "  def __init__(self):\n",
        "    self.freqs = OrderedCounter()\n",
        "    self.w2i = {}\n",
        "    self.i2w = []\n",
        "\n",
        "  def count_token(self, t):\n",
        "    self.freqs[t] += 1\n",
        "\n",
        "  def add_token(self, t):\n",
        "    self.w2i[t] = len(self.w2i)\n",
        "    self.i2w.append(t)\n",
        "\n",
        "  def build(self, min_freq=0):\n",
        "    '''\n",
        "    min_freq: minimum number of occurrences for a word to be included\n",
        "              in the vocabulary\n",
        "    '''\n",
        "    self.add_token(\"<unk>\")  # reserve 0 for <unk> (unknown words)\n",
        "    self.add_token(\"<pad>\")  # reserve 1 for <pad> (discussed later)\n",
        "\n",
        "    tok_freq = list(self.freqs.items())\n",
        "    tok_freq.sort(key=lambda x: x[1], reverse=True)\n",
        "    for tok, freq in tok_freq:\n",
        "      if freq >= min_freq:\n",
        "        self.add_token(tok)"
      ]
    },
    {
      "cell_type": "markdown",
      "metadata": {
        "id": "kOvkH_llVsoW"
      },
      "source": [
        "The vocabulary has by default an `<unk>` token and a `<pad>` token. The `<unk>` token is reserved for all words which do not appear in the training data (and for which, therefore, we cannot learn word representations). The function of the `<pad>` token will be explained later.\n",
        "\n",
        "\n",
        "Let's build the vocabulary!\n"
      ]
    },
    {
      "cell_type": "code",
      "execution_count": 14,
      "metadata": {
        "id": "GwGQgQQBNUSq",
        "colab": {
          "base_uri": "https://localhost:8080/"
        },
        "outputId": "e6ddaf02-00fe-4086-e4c7-a161cf1b50c4"
      },
      "outputs": [
        {
          "output_type": "stream",
          "name": "stdout",
          "text": [
            "Vocabulary size: 18280\n"
          ]
        }
      ],
      "source": [
        "# This process should be deterministic and should have the same result\n",
        "# if run multiple times on the same data set.\n",
        "\n",
        "v = Vocabulary()\n",
        "for data_set in (train_data,):\n",
        "  for ex in data_set:\n",
        "    for token in ex.tokens:\n",
        "      v.count_token(token)\n",
        "\n",
        "v.build()\n",
        "print(\"Vocabulary size:\", len(v.w2i))"
      ]
    },
    {
      "cell_type": "markdown",
      "metadata": {
        "id": "-UNIedPrPdCw"
      },
      "source": [
        "Let's have a closer look at the properties of our vocabulary. Having a good idea of what it is like can facilitate data analysis and debugging later on."
      ]
    },
    {
      "cell_type": "code",
      "execution_count": 15,
      "metadata": {
        "id": "AmTC-rvQelpl"
      },
      "outputs": [],
      "source": [
        "# Now let's map the sentiment labels 0-4 to a more readable form\n",
        "i2t = [\"very negative\", \"negative\", \"neutral\", \"positive\", \"very positive\"]\n",
        "t2i = OrderedDict({p : i for p, i in zip(i2t, range(len(i2t)))})"
      ]
    },
    {
      "cell_type": "markdown",
      "metadata": {
        "id": "y0067ax54-rd"
      },
      "source": [
        "## PyTorch\n",
        "\n",
        "We are going to need PyTorch and Google Colab does not have it installed by default. Run the cell below to install it.\n",
        "\n",
        "*For installing PyTorch in your own computer, follow the instructions on [pytorch.org](pytorch.org) instead. This is for Google Colab only.*"
      ]
    },
    {
      "cell_type": "code",
      "execution_count": 16,
      "metadata": {
        "id": "qKQMGtkR5KWr",
        "colab": {
          "base_uri": "https://localhost:8080/"
        },
        "outputId": "e3216c82-1c9f-4877-d2a5-a3818c8a3852"
      },
      "outputs": [
        {
          "output_type": "stream",
          "name": "stdout",
          "text": [
            "Using torch 2.5.1+cu121\n"
          ]
        }
      ],
      "source": [
        "import torch\n",
        "print(\"Using torch\", torch.__version__) # should say 1.7.0+cu101"
      ]
    },
    {
      "cell_type": "code",
      "execution_count": 17,
      "metadata": {
        "id": "mnvPcd_E1xH8"
      },
      "outputs": [],
      "source": [
        "# Let's also import torch.nn, a PyTorch package that\n",
        "# makes building neural networks more convenient.\n",
        "from torch import nn"
      ]
    },
    {
      "cell_type": "code",
      "execution_count": 18,
      "metadata": {
        "id": "BYt8uTyGCKc7",
        "colab": {
          "base_uri": "https://localhost:8080/"
        },
        "outputId": "cec62449-abd2-45d2-cf30-e14a07bc85e4"
      },
      "outputs": [
        {
          "output_type": "execute_result",
          "data": {
            "text/plain": [
              "device(type='cuda')"
            ]
          },
          "metadata": {},
          "execution_count": 18
        }
      ],
      "source": [
        "# PyTorch can run on CPU or on Nvidia GPU (video card) using CUDA\n",
        "# This cell selects the GPU if one is available.\n",
        "device = torch.device('cuda' if torch.cuda.is_available() else 'cpu')\n",
        "device"
      ]
    },
    {
      "cell_type": "code",
      "execution_count": 19,
      "metadata": {
        "id": "2d1VMOOYx1Bw"
      },
      "outputs": [],
      "source": [
        "# Seed manually to make runs reproducible\n",
        "# You need to set this again if you do multiple runs of the same model\n",
        "torch.manual_seed(42)\n",
        "\n",
        "# When running on the CuDNN backend two further options must be set for reproducibility\n",
        "if torch.cuda.is_available():\n",
        "  torch.backends.cudnn.deterministic = True\n",
        "  torch.backends.cudnn.benchmark = False"
      ]
    },
    {
      "cell_type": "code",
      "execution_count": 20,
      "metadata": {
        "id": "Fhvk5HenAroT"
      },
      "outputs": [],
      "source": [
        "# Here we print each parameter name, shape, and if it is trainable.\n",
        "def print_parameters(model):\n",
        "  total = 0\n",
        "  for name, p in model.named_parameters():\n",
        "    total += np.prod(p.shape)\n",
        "    print(\"{:24s} {:12s} requires_grad={}\".format(name, str(list(p.shape)), p.requires_grad))\n",
        "  print(\"\\nTotal number of parameters: {}\\n\".format(total))\n",
        "\n",
        "\n",
        "#print_parameters(bow_model)"
      ]
    },
    {
      "cell_type": "markdown",
      "metadata": {
        "id": "WSAw292WxuP4"
      },
      "source": [
        "#### Preparing an example for input\n",
        "\n",
        "To feed sentences to our PyTorch model, we need to convert a sequence of tokens to a sequence of IDs. The `prepare_example` function below takes care of this for us. We then use these IDs as indices for the word embedding table."
      ]
    },
    {
      "cell_type": "code",
      "execution_count": 21,
      "metadata": {
        "id": "YWeGTC_OGReV"
      },
      "outputs": [],
      "source": [
        "def prepare_example(example, vocab):\n",
        "  \"\"\"\n",
        "  Map tokens to their IDs for a single example\n",
        "  \"\"\"\n",
        "\n",
        "  # vocab returns 0 if the word is not there (i2w[0] = <unk>)\n",
        "  x = [vocab.w2i.get(t, 0) for t in example.tokens]\n",
        "\n",
        "  x = torch.LongTensor([x])\n",
        "  x = x.to(device)\n",
        "\n",
        "  y = torch.LongTensor([example.label])\n",
        "  y = y.to(device)\n",
        "\n",
        "  return x, y"
      ]
    },
    {
      "cell_type": "code",
      "execution_count": 22,
      "metadata": {
        "id": "sfbdv9px3uFF"
      },
      "outputs": [],
      "source": [
        "x, y = prepare_example(dev_data[0], v)"
      ]
    },
    {
      "cell_type": "markdown",
      "metadata": {
        "id": "oKNQjEc0yXnJ"
      },
      "source": [
        "#### Evaluation\n",
        "We now need to define an evaluation metric.\n",
        "How many predictions do we get right? The accuracy will tell us.\n",
        "Make sure that you understand this code block.\n"
      ]
    },
    {
      "cell_type": "code",
      "execution_count": 23,
      "metadata": {
        "id": "yGmQLcVYKZsh"
      },
      "outputs": [],
      "source": [
        "def simple_evaluate(model, data, prep_fn=prepare_example, **kwargs):\n",
        "  \"\"\"Accuracy of a model on given data set.\"\"\"\n",
        "  correct = 0\n",
        "  total = 0\n",
        "  model.eval()  # disable dropout (explained later)\n",
        "\n",
        "  for example in data:\n",
        "\n",
        "    # convert the example input and label to PyTorch tensors\n",
        "    x, target = prep_fn(example, model.vocab)\n",
        "\n",
        "    # forward pass without backpropagation (no_grad)\n",
        "    # get the output from the neural network for input x\n",
        "    with torch.no_grad():\n",
        "      logits = model(x)\n",
        "\n",
        "    # get the prediction\n",
        "    prediction = logits.argmax(dim=-1)\n",
        "\n",
        "    # add the number of correct predictions to the total correct\n",
        "    correct += (prediction == target).sum().item()\n",
        "    total += 1\n",
        "\n",
        "  return correct, total, correct / float(total)"
      ]
    },
    {
      "cell_type": "markdown",
      "metadata": {
        "id": "5KlIGFXllWWm"
      },
      "source": [
        "We are using accuracy as a handy evaluation metric. Please consider using [alternative metrics](https://scikit-learn.org/stable/modules/classes.html#classification-metrics) for your experiments if that makes more theoretical sense."
      ]
    },
    {
      "cell_type": "markdown",
      "metadata": {
        "id": "dIk6OtSdzGRP"
      },
      "source": [
        "#### Example feed\n",
        "For stochastic gradient descent (SGD) we will need a random training example for every update.\n",
        "We implement this by shuffling the training data and returning examples one by one using `yield`.\n",
        "\n",
        "Shuffling is optional so that we get to use this function to get validation and test examples, too."
      ]
    },
    {
      "cell_type": "code",
      "execution_count": 24,
      "metadata": {
        "id": "dxDFOZLfCXvJ"
      },
      "outputs": [],
      "source": [
        "def get_examples(data, shuffle=True, **kwargs):\n",
        "  \"\"\"Shuffle data set and return 1 example at a time (until nothing left)\"\"\"\n",
        "  if shuffle:\n",
        "    print(\"Shuffling training data\")\n",
        "    random.shuffle(data)  # shuffle training data each epoch\n",
        "  for example in data:\n",
        "    yield example"
      ]
    },
    {
      "cell_type": "markdown",
      "metadata": {
        "id": "g09SM8yb2cjx"
      },
      "source": [
        "#### Exercise: Training function\n",
        "\n",
        "Your task is now to complete the training loop below.\n",
        "Before you do so, please read the section about optimisation."
      ]
    },
    {
      "cell_type": "markdown",
      "metadata": {
        "id": "TVfUukVdM_1c"
      },
      "source": [
        "**Optimisation**\n",
        "\n",
        "As mentioned in the \"Intro to PyTorch\" notebook, one of the perks of using PyTorch is automatic differentiation. We will use it to train our BOW model.\n",
        "\n",
        "We train our model by feeding it an input, performing a **forward** pass, obtaining an output prediction, and calculating a **loss** with our loss function.\n",
        "After the gradients are computed in the **backward** pass, we can take a step on the surface of the loss function towards more optimal parameter settings (gradient descent).\n",
        "\n",
        "The package we will use to do this optimisation is [torch.optim](https://pytorch.org/docs/stable/optim.html)."
      ]
    },
    {
      "cell_type": "code",
      "execution_count": 25,
      "metadata": {
        "id": "KhQigDrQ--YU"
      },
      "outputs": [],
      "source": [
        "from torch import optim"
      ]
    },
    {
      "cell_type": "code",
      "execution_count": 26,
      "metadata": {
        "id": "ktFnKBux25lD"
      },
      "outputs": [],
      "source": [
        "def train_model(model, optimizer, num_iterations=10000,\n",
        "                print_every=1000, eval_every=1000,\n",
        "                batch_fn=get_examples,\n",
        "                prep_fn=prepare_example,\n",
        "                eval_fn=simple_evaluate,\n",
        "                batch_size=1, eval_batch_size=None):\n",
        "  \"\"\"Train a model.\"\"\"\n",
        "  training_data = train_data[:]\n",
        "  iter_i = 0\n",
        "  train_loss = 0.\n",
        "  print_num = 0\n",
        "  start = time.time()\n",
        "  criterion = nn.CrossEntropyLoss() # loss function\n",
        "  best_eval = 0.\n",
        "  best_iter = 0\n",
        "\n",
        "  # store train loss and validation accuracy during training\n",
        "  # so we can plot them afterwards\n",
        "  losses = []\n",
        "  accuracies = []\n",
        "\n",
        "  if eval_batch_size is None:\n",
        "    eval_batch_size = batch_size\n",
        "\n",
        "  while True:  # when we run out of examples, shuffle and continue\n",
        "    for batch in batch_fn(train_data, batch_size=batch_size):\n",
        "\n",
        "      # forward pass\n",
        "      model.train()\n",
        "      x, targets = prep_fn(batch, model.vocab)\n",
        "      logits = model(x)\n",
        "\n",
        "      B = targets.size(0)  # later we will use B examples per update\n",
        "\n",
        "      # compute cross-entropy loss (our criterion)\n",
        "      # note that the cross entropy loss function computes the softmax for us\n",
        "      loss = criterion(logits.view([B, -1]), targets.view(-1))\n",
        "      train_loss += loss.item()\n",
        "\n",
        "      # backward pass (tip: check the Introduction to PyTorch notebook)\n",
        "\n",
        "      # erase previous gradients\n",
        "      optimizer.zero_grad()\n",
        "\n",
        "      # compute gradients\n",
        "      loss.backward()\n",
        "\n",
        "      # update weights - take a small step in the opposite dir of the gradient\n",
        "      optimizer.step()\n",
        "\n",
        "\n",
        "      print_num += 1\n",
        "      iter_i += 1\n",
        "\n",
        "      # print info\n",
        "      if iter_i % print_every == 0:\n",
        "        print(\"Iter %r: loss=%.4f, time=%.2fs\" %\n",
        "              (iter_i, train_loss, time.time()-start))\n",
        "        losses.append(train_loss)\n",
        "        print_num = 0\n",
        "        train_loss = 0.\n",
        "\n",
        "      # evaluate\n",
        "      if iter_i % eval_every == 0:\n",
        "        _, _, accuracy = eval_fn(model, dev_data, batch_size=eval_batch_size,\n",
        "                                 batch_fn=batch_fn, prep_fn=prep_fn)\n",
        "        accuracies.append(accuracy)\n",
        "        print(\"iter %r: dev acc=%.4f\" % (iter_i, accuracy))\n",
        "\n",
        "        # save best model parameters\n",
        "        if accuracy > best_eval:\n",
        "          print(\"new highscore\")\n",
        "          best_eval = accuracy\n",
        "          best_iter = iter_i\n",
        "          path = \"{}.pt\".format(model.__class__.__name__)\n",
        "          ckpt = {\n",
        "              \"state_dict\": model.state_dict(),\n",
        "              \"optimizer_state_dict\": optimizer.state_dict(),\n",
        "              \"best_eval\": best_eval,\n",
        "              \"best_iter\": best_iter\n",
        "          }\n",
        "          torch.save(ckpt, path)\n",
        "\n",
        "      # done training\n",
        "      if iter_i == num_iterations:\n",
        "        print(\"Done training\")\n",
        "\n",
        "        # evaluate on train, dev, and test with best model\n",
        "        print(\"Loading best model\")\n",
        "        path = \"{}.pt\".format(model.__class__.__name__)\n",
        "        ckpt = torch.load(path)\n",
        "        model.load_state_dict(ckpt[\"state_dict\"])\n",
        "\n",
        "        _, _, train_acc = eval_fn(\n",
        "            model, train_data, batch_size=eval_batch_size,\n",
        "            batch_fn=batch_fn, prep_fn=prep_fn)\n",
        "        _, _, dev_acc = eval_fn(\n",
        "            model, dev_data, batch_size=eval_batch_size,\n",
        "            batch_fn=batch_fn, prep_fn=prep_fn)\n",
        "        _, _, test_acc = eval_fn(\n",
        "            model, test_data, batch_size=eval_batch_size,\n",
        "            batch_fn=batch_fn, prep_fn=prep_fn)\n",
        "\n",
        "        print(\"best model iter {:d}: \"\n",
        "              \"train acc={:.4f}, dev acc={:.4f}, test acc={:.4f}\".format(\n",
        "                  best_iter, train_acc, dev_acc, test_acc))\n",
        "\n",
        "        return losses, accuracies, test_acc"
      ]
    },
    {
      "cell_type": "markdown",
      "metadata": {
        "id": "MQZ5flHwiiHY"
      },
      "source": [
        "# Pre-trained word embeddings"
      ]
    },
    {
      "cell_type": "markdown",
      "metadata": {
        "id": "9NX35vecmHy6"
      },
      "source": [
        "The Stanford Sentiment Treebank is a rather small data set, since it required fine-grained manual annotatation. This makes it difficult for the Deep CBOW model to learn good word embeddings, i.e. to learn good word representations for the words in our vocabulary.\n",
        "In fact, the only error signal that the network receives is from predicting the sentiment of entire sentences!\n",
        "\n",
        "To start off with better word representations, we can download **pre-trained word embeddings**.\n",
        "You can choose which pre-trained word embeddings to use:\n",
        "\n",
        "- **GloVe**. The \"original\" Stanford Sentiment classification [paper](http://aclweb.org/anthology/P/P15/P15-1150.pdf) used Glove embeddings, which are just another method (like *word2vec*) to get word embeddings from unannotated text. Glove is described in the following paper which you should cite if you use them:\n",
        "> Jeffrey Pennington, Richard Socher, and Christopher Manning. [\"Glove: Global vectors for word representation.\"](https://nlp.stanford.edu/pubs/glove.pdf) EMNLP 2014.\n",
        "\n",
        "- **Word2Vec**. This is the method that you learned about in class, described in:\n",
        "> Mikolov, Tomas, et al. [\"Distributed representations of words and phrases and their compositionality.\"](https://papers.nips.cc/paper/5021-distributed-representations-of-words-and-phrases-and-their-compositionality.pdf) Advances in neural information processing systems. 2013.\n",
        "\n",
        "Using these pre-trained word embeddings, we can initialize our word embedding lookup table and start form a point where similar words are already close to one another in the distributional semantic space.\n",
        "\n",
        "You can choose to keep the word embeddings **fixed** or to train them further, specialising them to the task at hand.\n",
        "We will keep them fixed for now.\n",
        "\n",
        "For the purposes of this lab, it is enough if you understand how word2vec works (whichever vectors you use), but if you are interested, we encourage you to also check out the GloVe paper.\n",
        "\n",
        "You can either download the word2vec vectors, or the Glove vectors.\n",
        "If you want to compare your results to the Stanford paper later on, then you should use Glove.\n",
        "**At the end of this lab you have the option to compare which vectors give you the best performance. For now, simply choose one of them and continue with that.**\n",
        "\n",
        "[**OPTIONAL in case you don't want to mount Google Drive:** instead of running all the 5 boxes below, you can 1) download the GloVe and word2vec in your local machine, 2) upload them on your Drive folder (\"My Drive\"). Then, uncomment the first 2 lines in box 6 before writing your code!]\n"
      ]
    },
    {
      "cell_type": "code",
      "execution_count": 27,
      "metadata": {
        "id": "QTHqbBZN3WrO",
        "colab": {
          "base_uri": "https://localhost:8080/"
        },
        "outputId": "7ebf6488-7b0d-49be-a347-cb81788a703f"
      },
      "outputs": [
        {
          "output_type": "stream",
          "name": "stdout",
          "text": [
            "Downloading glove file...\n",
            "File downloaded and saved as glove.filtered.txt\n"
          ]
        }
      ],
      "source": [
        "import requests\n",
        "\n",
        "# URL to the glove file\n",
        "url = \"https://gist.githubusercontent.com/bastings/b094de2813da58056a05e8e7950d4ad1/raw/3fbd3976199c2b88de2ae62afc0ecc6f15e6f7ce/glove.840B.300d.sst.txt\"\n",
        "\n",
        "# File name to save the downloaded file\n",
        "file_name = \"glove.filtered.txt\"\n",
        "\n",
        "# Download the file\n",
        "print(\"Downloading glove file...\")\n",
        "response = requests.get(url)\n",
        "\n",
        "# Save the file locally\n",
        "with open(file_name, \"wb\") as f:\n",
        "    f.write(response.content)\n",
        "\n",
        "print(f\"File downloaded and saved as {file_name}\")"
      ]
    },
    {
      "cell_type": "code",
      "execution_count": 28,
      "metadata": {
        "id": "74grLoH-4Ef0",
        "colab": {
          "base_uri": "https://localhost:8080/"
        },
        "outputId": "552be867-8dac-47c4-d507-7fbf79897828"
      },
      "outputs": [
        {
          "output_type": "stream",
          "name": "stdout",
          "text": [
            ", -0.082752 0.67204 -0.14987 -0.064983 0.056491 0.40228 0.0027747 -0.3311 -0.30691 2.0817 0.031819 0.013643 0.30265 0.0071297 -0.5819 -0.2774 -0.062254 1.1451 -0.24232 0.1235 -0.12243 0.33152 -0.006162 -0.30541 -0.13057 -0.054601 0.037083 -0.070552 0.5893 -0.30385 0.2898 -0.14653 -0.27052 0.37161 0.32031 -0.29125 0.0052483 -0.13212 -0.052736 0.087349 -0.26668 -0.16897 0.015162 -0.0083746 -0.14871 0.23413 -0.20719 -0.091386 0.40075 -0.17223 0.18145 0.37586 -0.28682 0.37289 -0.16185 0.18008 0.3032 -0.13216 0.18352 0.095759 0.094916 0.008289 0.11761 0.34046 0.03677 -0.29077 0.058303 -0.027814 0.082941 0.1862 -0.031494 0.27985 -0.074412 -0.13762 -0.21866 0.18138 0.040855 -0.113 0.24107 0.3657 -0.27525 -0.05684 0.34872 0.011884 0.14517 -0.71395 0.48497 0.14807 0.62287 0.20599 0.58379 -0.13438 0.40207 0.18311 0.28021 -0.42349 -0.25626 0.17715 -0.54095 0.16596 -0.036058 0.08499 -0.64989 0.075549 -0.28831 0.40626 -0.2802 0.094062 0.32406 0.28437 -0.26341 0.11553 0.071918 -0.47215 -0.18366 -0.34709 0.29964 -0.66514 0.002516 -0.42333 0.27512 0.36012 0.16311 0.23964 -0.05923 0.3261 0.20559 0.038677 -0.045816 0.089764 0.43151 -0.15954 0.08532 -0.26572 -0.15001 0.084286 -0.16714 -0.43004 0.060807 0.13121 -0.24112 0.66554 0.4453 -0.18019 -0.13919 0.56252 0.21457 -0.46443 -0.012211 0.029988 -0.051094 -0.20135 0.80788 0.47377 -0.057647 0.46216 0.16084 -0.20954 -0.05452 0.15572 -0.13712 0.12972 -0.011936 -0.003378 -0.13595 -0.080711 0.20065 0.054056 0.046816 0.059539 0.046265 0.17754 -0.31094 0.28119 -0.24355 0.085252 -0.21011 -0.19472 0.0027297 -0.46341 0.14789 -0.31517 -0.065939 0.036106 0.42903 -0.33759 0.16432 0.32568 -0.050392 -0.054297 0.24074 0.41923 0.13012 -0.17167 -0.37808 -0.23089 -0.019477 -0.29291 -0.30824 0.30297 -0.22659 0.081574 -0.18516 -0.21408 0.40616 -0.28974 0.074174 -0.17795 0.28595 -0.039626 -0.2339 -0.36054 -0.067503 -0.091065 0.23438 -0.0041331 0.003232 0.0072134 0.008697 0.21614 0.049904 0.35582 0.13748 0.073361 0.14166 0.2412 -0.013322 0.15613 0.083381 0.088146 -0.019357 0.43795 0.083961 0.45309 -0.50489 -0.10865 -0.2527 -0.18251 0.20441 0.13319 0.1294 0.050594 -0.15612 -0.39543 0.12538 0.24881 -0.1927 -0.31847 -0.12719 0.4341 0.31177 -0.0040946 -0.2094 -0.079961 0.1161 -0.050794 0.015266 -0.2803 -0.12486 0.23587 0.2339 -0.14023 0.028462 0.56923 -0.1649 -0.036429 0.010051 -0.17107 -0.042608 0.044965 -0.4393 -0.26137 0.30088 -0.060772 -0.45312 -0.19076 -0.20288 0.27694 -0.060888 0.11944 0.62206 -0.19343 0.47849 -0.30113 0.059389 0.074901 0.061068 -0.4662 0.40054 -0.19099 -0.14331 0.018267 -0.18643 0.20709 -0.35598 0.05338 -0.050821 -0.1918 -0.37846 -0.06589\n",
            ". 0.012001 0.20751 -0.12578 -0.59325 0.12525 0.15975 0.13748 -0.33157 -0.13694 1.7893 -0.47094 0.70434 0.26673 -0.089961 -0.18168 0.067226 0.053347 1.5595 -0.2541 0.038413 -0.01409 0.056774 0.023434 0.024042 0.31703 0.19025 -0.37505 0.035603 0.1181 0.012032 -0.037566 -0.5046 -0.049261 0.092351 0.11031 -0.073062 0.33994 0.28239 0.13413 0.070128 -0.022099 -0.28103 0.49607 -0.48693 -0.090964 -0.1538 -0.38011 -0.014228 -0.19392 -0.11068 -0.014088 -0.17906 0.24509 -0.16878 -0.15351 -0.13808 0.02151 0.13699 0.0068061 -0.14915 -0.38169 0.12727 0.44007 0.32678 -0.46117 0.068687 0.34747 0.18827 -0.31837 0.4447 -0.2095 -0.26987 0.48945 0.15388 0.05295 -0.049831 0.11207 0.14881 -0.37003 0.30777 -0.33865 0.045149 -0.18987 0.26634 -0.26401 -0.47556 0.68381 -0.30653 0.24606 0.31611 -0.071098 0.030417 0.088119 0.045025 0.20125 -0.21618 -0.36371 -0.25948 -0.42398 -0.14305 -0.10208 0.21498 -0.21924 -0.17935 0.21546 0.13801 0.24504 -0.2559 0.054815 0.21307 0.2564 -0.25673 0.17961 -0.47638 -0.25181 -0.0091498 -0.054362 -0.21007 0.12597 -0.40795 -0.021164 0.20585 0.18925 -0.0051896 -0.51394 0.28862 -0.077748 -0.27676 0.46567 -0.14225 -0.17879 -0.4357 -0.32481 0.15034 -0.058367 0.49652 0.20472 0.019866 0.13326 0.12823 -1.0177 0.29007 0.28995 0.029994 -0.10763 0.28665 -0.24387 0.22905 -0.26249 -0.069269 -0.17889 0.21936 0.15146 0.04567 -0.050497 0.071482 -0.1027 -0.080705 0.30296 0.031302 0.26613 -0.0060951 0.10313 -0.39987 -0.043945 -0.057625 0.08702 -0.098152 0.22835 -0.005211 0.038075 0.01591 -0.20622 0.021853 0.0040426 -0.043063 -0.002294 -0.26097 -0.25802 -0.28158 -0.23118 -0.010404 -0.30102 -0.4042 0.014653 -0.10445 0.30377 -0.20957 0.3119 0.068272 0.1008 0.010423 0.54011 0.29865 0.12653 0.013761 0.21738 -0.39521 0.066633 0.50327 0.14913 -0.11554 0.010042 0.095698 0.16607 -0.18808 0.055019 0.026715 -0.3164 -0.046583 -0.051591 0.023475 -0.11007 0.085642 0.28394 0.040497 0.071986 0.14157 -0.021199 0.44718 0.20088 -0.12964 -0.067183 0.47614 0.13394 -0.17287 -0.37324 -0.17285 0.02683 -0.1316 0.09116 -0.46487 0.1274 -0.090159 -0.10552 0.068006 -0.13381 0.17056 0.089509 -0.23133 -0.27572 0.061534 -0.051646 0.28377 0.25286 -0.24139 -0.19905 0.12049 -0.1011 0.27392 0.27843 0.26449 -0.18292 -0.048961 0.19198 0.17192 0.33659 -0.20184 -0.34305 -0.24553 -0.15399 0.3945 0.22839 -0.25753 -0.25675 -0.37332 -0.23884 -0.048816 0.78323 0.18851 -0.26477 0.096566 0.062658 -0.30668 -0.43334 0.10006 0.21136 0.039459 -0.11077 0.24421 0.60942 -0.46646 0.086385 -0.39702 -0.23363 0.021307 -0.10778 -0.2281 0.50803 0.11567 0.16165 -0.066737 -0.29556 0.022612 -0.28135 0.0635 0.14019 0.13871 -0.36049 -0.035\n",
            "the 0.27204 -0.06203 -0.1884 0.023225 -0.018158 0.0067192 -0.13877 0.17708 0.17709 2.5882 -0.35179 -0.17312 0.43285 -0.10708 0.15006 -0.19982 -0.19093 1.1871 -0.16207 -0.23538 0.003664 -0.19156 -0.085662 0.039199 -0.066449 -0.04209 -0.19122 0.011679 -0.37138 0.21886 0.0011423 0.4319 -0.14205 0.38059 0.30654 0.020167 -0.18316 -0.0065186 -0.0080549 -0.12063 0.027507 0.29839 -0.22896 -0.22882 0.14671 -0.076301 -0.1268 -0.0066651 -0.052795 0.14258 0.1561 0.05551 -0.16149 0.09629 -0.076533 -0.049971 -0.010195 -0.047641 -0.16679 -0.2394 0.0050141 -0.049175 0.013338 0.41923 -0.10104 0.015111 -0.077706 -0.13471 0.119 0.10802 0.21061 -0.051904 0.18527 0.17856 0.041293 -0.014385 -0.082567 -0.035483 -0.076173 -0.045367 0.089281 0.33672 -0.22099 -0.0067275 0.23983 -0.23147 -0.88592 0.091297 -0.012123 0.013233 -0.25799 -0.02972 0.016754 0.01369 0.32377 0.039546 0.042114 -0.088243 0.30318 0.087747 0.16346 -0.40485 -0.043845 -0.040697 0.20936 -0.77795 0.2997 0.2334 0.14891 -0.39037 -0.053086 0.062922 0.065663 -0.13906 0.094193 0.10344 -0.2797 0.28905 -0.32161 0.020687 0.063254 -0.23257 -0.4352 -0.017049 -0.32744 -0.047064 -0.075149 -0.18788 -0.015017 0.029342 -0.3527 -0.044278 -0.13507 -0.11644 -0.1043 0.1392 0.0039199 0.37603 0.067217 -0.37992 -1.1241 -0.057357 -0.16826 0.03941 0.2604 -0.023866 0.17963 0.13553 0.2139 0.052633 -0.25033 -0.11307 0.22234 0.066597 -0.11161 0.062438 -0.27972 0.19878 -0.36262 -1.0006e-05 -0.17262 0.29166 -0.15723 0.054295 0.06101 -0.39165 0.2766 0.057816 0.39709 0.025229 0.24672 -0.08905 0.15683 -0.2096 -0.22196 0.052394 -0.01136 0.050417 -0.14023 -0.042825 -0.031931 -0.21336 -0.20402 -0.23272 0.07449 0.088202 -0.11063 -0.33526 -0.014028 -0.29429 -0.086911 -0.1321 -0.43616 0.20513 0.0079362 0.48505 0.064237 0.14261 -0.43711 0.12783 -0.13111 0.24673 -0.27496 0.15896 0.43314 0.090286 0.24662 0.066463 -0.20099 0.1101 0.03644 0.17359 -0.15689 -0.086328 -0.17316 0.36975 -0.40317 -0.064814 -0.034166 -0.013773 0.062854 -0.17183 -0.12366 -0.034663 -0.22793 -0.23172 0.239 0.27473 0.15332 0.10661 -0.060982 -0.024805 -0.13478 0.17932 -0.37374 -0.02893 -0.11142 -0.08389 -0.055932 0.068039 -0.10783 0.1465 0.094617 -0.084554 0.067429 -0.3291 0.034082 -0.16747 -0.25997 -0.22917 0.020159 -0.02758 0.16136 -0.18538 0.037665 0.57603 0.20684 0.27941 0.16477 -0.018769 0.12062 0.069648 0.059022 -0.23154 0.24095 -0.3471 0.04854 -0.056502 0.41566 -0.43194 0.4823 -0.051759 -0.27285 -0.25893 0.16555 -0.1831 -0.06734 0.42457 0.010346 0.14237 0.25939 0.17123 -0.13821 -0.066846 0.015981 -0.30193 0.043579 -0.043102 0.35025 -0.19681 -0.4281 0.16899 0.22511 -0.28557 -0.1028 -0.018168 0.11407 0.13015 -0.18317 0.1323\n",
            "and -0.18567 0.066008 -0.25209 -0.11725 0.26513 0.064908 0.12291 -0.093979 0.024321 2.4926 -0.017916 -0.071218 -0.24782 -0.26237 -0.2246 -0.21961 -0.12927 1.0867 -0.66072 -0.031617 -0.057328 0.056903 -0.27939 -0.39825 0.14251 -0.085146 -0.14779 0.055067 -0.0028687 -0.20917 -0.070735 0.22577 -0.15881 -0.10395 0.09711 -0.56251 -0.32929 -0.20853 0.0098711 0.049777 0.0014883 0.15884 0.042771 -0.0026956 -0.02462 -0.19213 -0.22556 0.10838 0.090086 -0.13291 0.32559 -0.17038 -0.1099 -0.23986 -0.024289 0.014656 -0.237 0.084828 -0.35982 -0.076746 0.048909 0.11431 -0.21013 0.24765 -0.017531 -0.14028 0.046191 0.22972 0.1175 0.12724 0.012992 0.4587 0.41085 0.039106 0.15713 -0.18376 0.26834 0.056662 0.16844 -0.053788 -0.091892 0.11193 -0.08681 -0.13324 0.15062 -0.31733 -0.22078 0.25038 0.34131 0.36419 -0.089514 -0.22193 0.24471 0.040091 0.47798 -0.029996 0.0019212 0.063511 -0.20417 -0.26478 0.20649 0.015573 -0.27722 -0.18861 -0.10289 -0.49773 0.14986 -0.010877 0.25085 -0.28117 0.18966 -0.065879 0.094753 -0.15338 -0.055071 -0.36747 0.24993 0.096527 0.23538 0.18405 0.052859 0.22967 0.12582 0.15536 -0.17275 0.33946 -0.10049 0.074948 -0.093575 -0.04049 -0.016922 -0.0058039 -0.18108 0.19537 0.45178 0.10965 0.2337 -0.09905 -0.078633 0.21678 -0.71231 -0.099759 0.33333 -0.1646 -0.091688 0.21056 0.023669 0.028922 0.1199 -0.12512 -0.026037 -0.062217 0.55816 0.0050273 -0.30888 0.038611 0.17568 -0.11163 -0.10815 -0.19444 0.29433 0.14519 -0.042878 0.18534 0.018891 -0.61883 0.13352 0.036007 0.33995 0.22109 -0.079328 0.071319 0.17678 0.16378 -0.23142 -0.1434 -0.098122 -0.019286 0.2356 -0.34013 -0.061007 -0.23208 -0.31152 0.10063 -0.15957 0.20183 -0.016345 -0.12303 0.022667 -0.20986 -0.20127 -0.087883 0.064731 0.10195 -0.1786 0.33056 0.21407 -0.32165 -0.17106 0.19407 -0.38618 -0.2148 -0.052254 0.023175 0.47389 0.18612 0.12711 0.20855 -0.10256 -0.12016 -0.40488 0.029695 -0.027419 -0.0085227 -0.11415 0.081134 -0.17228 0.19142 0.026514 0.043789 -0.12399 0.13354 0.10112 0.081682 -0.15085 0.0075806 -0.18971 0.24669 0.22491 0.35553 -0.3277 -0.21821 0.1402 0.28604 0.055226 -0.086544 0.02111 -0.19236 0.074245 0.076782 0.00081666 0.034097 -0.57719 0.10657 0.28134 -0.11964 -0.68281 -0.32893 -0.24442 -0.025847 0.0091273 0.2025 -0.050959 -0.11042 0.010962 0.076773 0.40048 -0.40739 -0.44773 0.31954 -0.036326 -0.012789 -0.17282 0.1476 0.2356 0.080642 -0.36528 -0.0083443 0.6239 -0.24379 0.019917 -0.28803 -0.010494 0.038412 -0.11718 -0.072462 0.16381 0.38488 -0.029783 0.23444 0.4532 0.14815 -0.027021 -0.073181 -0.1147 -0.0054545 0.47796 0.090912 0.094489 -0.36882 -0.59396 -0.097729 0.20072 0.17055 -0.0047356 -0.039709 0.32498 -0.023452 0.12302 0.3312\n",
            "to 0.31924 0.06316 -0.27858 0.2612 0.079248 -0.21462 -0.10495 0.15495 -0.03353 2.4834 -0.50904 0.08749 0.21426 0.22151 -0.25234 -0.097544 -0.1927 1.3606 -0.11592 -0.10383 0.21929 0.11997 -0.11063 0.14212 -0.16643 0.21815 0.0042086 -0.070012 -0.23532 -0.26518 0.031248 0.16669 -0.089777 0.20059 0.31614 -0.5583 0.075735 0.27635 0.12741 -0.18185 -0.12722 0.024686 -0.077233 -0.48998 0.020355 0.0039164 0.1215 0.089723 -0.078975 0.081443 -0.099087 -0.055621 0.10737 -0.0044042 0.48496 0.11717 -0.017329 0.109 -0.35558 0.051084 0.15714 0.17961 -0.29711 0.033645 -0.025792 -0.013931 -0.23 -0.040306 0.22282 -0.013544 0.011554 0.3911 0.26533 -0.31012 0.40539 -0.042975 0.020811 -0.33033 0.19573 -0.037958 0.10274 -0.0013581 -0.44505 0.077886 0.08511 -0.20285 -0.19481 0.056933 0.53105 0.034154 -0.56996 -0.18469 0.093403 0.28044 -0.23349 0.10938 -0.014288 -0.274 0.034196 -0.098479 0.13268 0.19437 0.13463 -0.099059 0.040324 -0.66272 0.3571 0.15429 0.18598 0.087542 0.080538 -0.25121 0.24155 0.1783 0.036011 -0.027677 0.21161 -0.29107 -0.0083456 0.11317 0.31064 -0.10693 -0.27367 -0.039785 0.039881 0.034462 -0.16518 0.16115 0.060826 0.3075 -0.22398 0.14619 -0.2661 0.49732 -0.13996 -0.24287 0.039469 -0.084495 -0.24315 0.070701 -1.0136 -0.21733 -0.36878 -0.24973 0.17472 -0.011592 0.068561 -0.090411 0.21878 -0.2639 0.11904 0.14285 -0.18707 -0.13474 -0.13232 -0.26553 0.22947 -0.018215 0.0067383 -0.1019 0.10053 -0.1127 -0.13295 0.15951 0.14906 -0.095578 0.26992 0.011057 0.056568 0.021386 0.20215 0.00048589 0.5336 -0.22947 0.29275 0.17378 0.25423 -0.10976 0.058816 0.014616 -0.04306 0.10732 -0.028149 -0.19181 0.1025 -0.063892 0.012737 -0.12913 0.015037 0.26562 -0.017049 -0.060716 -0.094919 0.017775 0.13221 0.1683 -0.19323 -0.17612 0.075506 0.18939 0.12508 -0.1988 -0.16017 -0.21092 0.46933 0.044747 0.098349 0.011637 0.22281 -0.010837 -0.04833 -0.47335 -0.36811 -0.13592 -0.15086 0.25416 0.069531 0.14211 -0.26703 -0.1259 0.12076 -0.26117 0.033024 -0.034398 -0.13968 0.13446 -0.16709 0.15002 -0.13724 0.091226 -0.27718 0.020098 0.26919 0.43016 0.094019 -0.085496 -0.25192 -0.11645 -0.039734 0.0046738 0.54178 -0.16636 0.34546 0.098501 0.47819 -0.38428 -0.3238 -0.14822 -0.47817 0.16704 -0.064505 0.11834 -0.3448 0.096891 0.32309 0.41471 0.19463 -0.20891 -0.12223 -0.058298 -0.20268 0.2948 0.043397 0.10112 0.27177 -0.52124 -0.073794 0.044808 0.41388 0.088782 0.62255 -0.072391 0.090129 0.15428 0.023163 -0.13028 0.061762 0.33803 -0.091581 0.21039 0.05108 0.19184 0.10444 0.2138 -0.35091 -0.23702 0.038399 -0.10031 0.18359 0.025178 -0.12977 0.3713 0.18888 -0.0042738 -0.10645 -0.2581 -0.044629 0.082745 0.097801 0.25045\n"
          ]
        }
      ],
      "source": [
        "# Exercise: Print the first 4 lines of the files that you downloaded.\n",
        "# What do you see?\n",
        "# Print the first few lines of the file\n",
        "with open(\"glove.filtered.txt\", \"r\", encoding=\"utf-8\") as f:\n",
        "    for i in range(5):\n",
        "        print(f.readline().strip())\n"
      ]
    },
    {
      "cell_type": "code",
      "execution_count": 29,
      "metadata": {
        "id": "qgGCNe7R4Qqw",
        "colab": {
          "base_uri": "https://localhost:8080/"
        },
        "outputId": "d4f70b10-f781-4210-df73-1b86c2021472"
      },
      "outputs": [
        {
          "output_type": "stream",
          "name": "stdout",
          "text": [
            "Loaded 20725 word embeddings!\n",
            "Vocabulary size: 20727\n",
            "First 10 vocabulary entries:\n",
            "0: <unk>\n",
            "1: <pad>\n",
            "2: ,\n",
            "3: .\n",
            "4: the\n",
            "5: and\n",
            "6: to\n",
            "7: of\n",
            "8: a\n",
            "9: in\n"
          ]
        }
      ],
      "source": [
        "# Parse the glove file\n",
        "glove = {}\n",
        "with open(\"glove.filtered.txt\", \"r\", encoding=\"utf-8\") as f:\n",
        "    for line in f:\n",
        "        values = line.strip().split()\n",
        "        word = values[0]  # The first value is the word\n",
        "        vector = [float(x) for x in values[1:]]  # The rest are the embedding values\n",
        "        glove[word] = vector\n",
        "\n",
        "print(f\"Loaded {len(glove)} word embeddings!\")\n",
        "\n",
        "from collections import defaultdict\n",
        "import numpy as np\n",
        "\n",
        "# Initialize vocabulary object\n",
        "v = Vocabulary()\n",
        "\n",
        "# Add special tokens manually\n",
        "v.add_token(\"<unk>\")\n",
        "v.add_token(\"<pad>\")\n",
        "\n",
        "# Define embedding dimensions and initialize list for vectors\n",
        "embedding_dim = 300  # Update if using different dimensions\n",
        "vectors = []\n",
        "\n",
        "# Add special token embeddings\n",
        "vectors.append(np.random.uniform(-0.01, 0.01, embedding_dim))  # <unk>\n",
        "vectors.append(np.zeros(embedding_dim))  # <pad>\n",
        "\n",
        "# Add pre-trained word embeddings to vocabulary\n",
        "for word, vector in glove.items():\n",
        "    if word not in v.w2i:  # If the word is not already in the vocab\n",
        "        v.add_token(word)\n",
        "        vectors.append(vector)\n",
        "\n",
        "# Convert vectors to a NumPy array\n",
        "vectors = np.stack(vectors, axis=0)\n",
        "\n",
        "# Print vocabulary size and first few entries\n",
        "print(f\"Vocabulary size: {len(v.w2i)}\")\n",
        "print(\"First 10 vocabulary entries:\")\n",
        "for i, word in enumerate(v.i2w[:10]):\n",
        "    print(f\"{i}: {word}\")\n"
      ]
    },
    {
      "cell_type": "markdown",
      "metadata": {
        "id": "3GcMFdNzWvVi"
      },
      "source": [
        "Create a function to set set for reproducbility."
      ]
    },
    {
      "cell_type": "code",
      "execution_count": 30,
      "metadata": {
        "id": "fGQcMCLBoF3R"
      },
      "outputs": [],
      "source": [
        "def set_seed(seed):\n",
        "\n",
        "    random.seed(seed)\n",
        "    np.random.seed(seed)\n",
        "    torch.manual_seed(seed)\n",
        "    if torch.cuda.is_available():\n",
        "        torch.cuda.manual_seed(seed)\n",
        "        torch.cuda.manual_seed_all(seed)\n",
        "\n",
        "    # Enforce determinism in PyTorch\n",
        "    torch.backends.cudnn.deterministic = True\n",
        "    torch.backends.cudnn.benchmark = False\n"
      ]
    },
    {
      "cell_type": "markdown",
      "metadata": {
        "id": "YEw6XHQY_AAQ"
      },
      "source": [
        "# Mini-batching\n",
        "\n"
      ]
    },
    {
      "cell_type": "code",
      "execution_count": 31,
      "metadata": {
        "id": "IoAE2JBiXJ3P"
      },
      "outputs": [],
      "source": [
        "def get_minibatch(data, batch_size=25, shuffle=True):\n",
        "  \"\"\"Return minibatches, optional shuffling\"\"\"\n",
        "\n",
        "  if shuffle:\n",
        "    print(\"Shuffling training data\")\n",
        "    random.shuffle(data)  # shuffle training data each epoch\n",
        "\n",
        "  batch = []\n",
        "\n",
        "  # yield minibatches\n",
        "  for example in data:\n",
        "    batch.append(example)\n",
        "\n",
        "    if len(batch) == batch_size:\n",
        "      yield batch\n",
        "      batch = []\n",
        "\n",
        "  # in case there is something left\n",
        "  if len(batch) > 0:\n",
        "    yield batch"
      ]
    },
    {
      "cell_type": "markdown",
      "metadata": {
        "id": "DwZM-XYkT8Zx"
      },
      "source": [
        "#### Padding function\n",
        "We will need a function that adds padding 1s to a sequence of IDs so that\n",
        "it becomes as long as the longest sequence in the minibatch."
      ]
    },
    {
      "cell_type": "code",
      "execution_count": 32,
      "metadata": {
        "colab": {
          "base_uri": "https://localhost:8080/"
        },
        "id": "sp0sK1ghw4Ft",
        "outputId": "cdbf6bac-2fc6-462f-e6d1-f0663d53fb2a"
      },
      "outputs": [
        {
          "output_type": "execute_result",
          "data": {
            "text/plain": [
              "[2, 3, 4, 1, 1]"
            ]
          },
          "metadata": {},
          "execution_count": 32
        }
      ],
      "source": [
        "def pad(tokens, length, pad_value=1):\n",
        "  \"\"\"add padding 1s to a sequence to that it has the desired length\"\"\"\n",
        "  return tokens + [pad_value] * (length - len(tokens))\n",
        "\n",
        "# example\n",
        "tokens = [2, 3, 4]\n",
        "pad(tokens, 5)"
      ]
    },
    {
      "cell_type": "markdown",
      "metadata": {
        "id": "SL2iixMYUgfh"
      },
      "source": [
        "#### New `prepare` function\n",
        "\n",
        "We will also need a new function that turns a mini-batch into PyTorch tensors."
      ]
    },
    {
      "cell_type": "code",
      "execution_count": 33,
      "metadata": {
        "id": "ZID0cqozWks8"
      },
      "outputs": [],
      "source": [
        "def prepare_minibatch(mb, vocab):\n",
        "  \"\"\"\n",
        "  Minibatch is a list of examples.\n",
        "  This function converts words to IDs and returns\n",
        "  torch tensors to be used as input/targets.\n",
        "  \"\"\"\n",
        "  batch_size = len(mb)\n",
        "  maxlen = max([len(ex.tokens) for ex in mb])\n",
        "\n",
        "  # vocab returns 0 if the word is not there\n",
        "  x = [pad([vocab.w2i.get(t, 0) for t in ex.tokens], maxlen) for ex in mb]\n",
        "\n",
        "  x = torch.LongTensor(x)\n",
        "  x = x.to(device)\n",
        "\n",
        "  y = [ex.label for ex in mb]\n",
        "  y = torch.LongTensor(y)\n",
        "  y = y.to(device)\n",
        "\n",
        "  return x, y"
      ]
    },
    {
      "cell_type": "code",
      "execution_count": 34,
      "metadata": {
        "colab": {
          "base_uri": "https://localhost:8080/"
        },
        "id": "OwDAtCv1x2hB",
        "outputId": "c9fe50ae-0991-4b37-eaeb-da2099c18198"
      },
      "outputs": [
        {
          "output_type": "stream",
          "name": "stdout",
          "text": [
            "Example(tokens=['The', 'Rock', 'is', 'destined', 'to', 'be', 'the', '21st', 'Century', \"'s\", 'new', '``', 'Conan', \"''\", 'and', 'that', 'he', \"'s\", 'going', 'to', 'make', 'a', 'splash', 'even', 'greater', 'than', 'Arnold', 'Schwarzenegger', ',', 'Jean-Claud', 'Van', 'Damme', 'or', 'Steven', 'Segal', '.'], tree=Tree('3', [Tree('2', [Tree('2', ['The']), Tree('2', ['Rock'])]), Tree('4', [Tree('3', [Tree('2', ['is']), Tree('4', [Tree('2', ['destined']), Tree('2', [Tree('2', [Tree('2', [Tree('2', [Tree('2', ['to']), Tree('2', [Tree('2', ['be']), Tree('2', [Tree('2', ['the']), Tree('2', [Tree('2', ['21st']), Tree('2', [Tree('2', [Tree('2', ['Century']), Tree('2', [\"'s\"])]), Tree('2', [Tree('3', ['new']), Tree('2', [Tree('2', ['``']), Tree('2', ['Conan'])])])])])])])]), Tree('2', [\"''\"])]), Tree('2', ['and'])]), Tree('3', [Tree('2', ['that']), Tree('3', [Tree('2', ['he']), Tree('3', [Tree('2', [\"'s\"]), Tree('3', [Tree('2', ['going']), Tree('3', [Tree('2', ['to']), Tree('4', [Tree('3', [Tree('2', ['make']), Tree('3', [Tree('3', [Tree('2', ['a']), Tree('3', ['splash'])]), Tree('2', [Tree('2', ['even']), Tree('3', ['greater'])])])]), Tree('2', [Tree('2', ['than']), Tree('2', [Tree('2', [Tree('2', [Tree('2', [Tree('1', [Tree('2', ['Arnold']), Tree('2', ['Schwarzenegger'])]), Tree('2', [','])]), Tree('2', [Tree('2', ['Jean-Claud']), Tree('2', [Tree('2', ['Van']), Tree('2', ['Damme'])])])]), Tree('2', ['or'])]), Tree('2', [Tree('2', ['Steven']), Tree('2', ['Segal'])])])])])])])])])])])])]), Tree('2', ['.'])])]), label=3, transitions=[0, 0, 1, 0, 0, 0, 0, 0, 0, 0, 0, 1, 0, 0, 0, 1, 1, 1, 1, 1, 1, 1, 0, 1, 0, 1, 0, 0, 0, 0, 0, 0, 0, 0, 1, 0, 0, 1, 1, 1, 0, 0, 0, 1, 0, 1, 0, 0, 0, 1, 1, 1, 0, 1, 0, 0, 1, 1, 1, 1, 1, 1, 1, 1, 1, 1, 1, 1, 0, 1, 1])\n",
            "Example(tokens=['The', 'gorgeously', 'elaborate', 'continuation', 'of', '``', 'The', 'Lord', 'of', 'the', 'Rings', \"''\", 'trilogy', 'is', 'so', 'huge', 'that', 'a', 'column', 'of', 'words', 'can', 'not', 'adequately', 'describe', 'co-writer/director', 'Peter', 'Jackson', \"'s\", 'expanded', 'vision', 'of', 'J.R.R.', 'Tolkien', \"'s\", 'Middle-earth', '.'], tree=Tree('4', [Tree('4', [Tree('4', [Tree('2', ['The']), Tree('4', [Tree('3', ['gorgeously']), Tree('3', [Tree('2', ['elaborate']), Tree('2', ['continuation'])])])]), Tree('2', [Tree('2', [Tree('2', ['of']), Tree('2', ['``'])]), Tree('2', [Tree('2', ['The']), Tree('2', [Tree('2', [Tree('2', ['Lord']), Tree('2', [Tree('2', ['of']), Tree('2', [Tree('2', ['the']), Tree('2', ['Rings'])])])]), Tree('2', [Tree('2', [\"''\"]), Tree('2', ['trilogy'])])])])])]), Tree('2', [Tree('3', [Tree('2', [Tree('2', ['is']), Tree('2', [Tree('2', ['so']), Tree('2', ['huge'])])]), Tree('2', [Tree('2', ['that']), Tree('3', [Tree('2', [Tree('2', [Tree('2', ['a']), Tree('2', ['column'])]), Tree('2', [Tree('2', ['of']), Tree('2', ['words'])])]), Tree('2', [Tree('2', [Tree('2', [Tree('2', ['can']), Tree('1', ['not'])]), Tree('3', ['adequately'])]), Tree('2', [Tree('2', ['describe']), Tree('2', [Tree('3', [Tree('2', [Tree('2', ['co-writer/director']), Tree('2', [Tree('2', ['Peter']), Tree('3', [Tree('2', ['Jackson']), Tree('2', [\"'s\"])])])]), Tree('3', [Tree('2', ['expanded']), Tree('2', ['vision'])])]), Tree('2', [Tree('2', ['of']), Tree('2', [Tree('2', [Tree('2', ['J.R.R.']), Tree('2', [Tree('2', ['Tolkien']), Tree('2', [\"'s\"])])]), Tree('2', ['Middle-earth'])])])])])])])])]), Tree('2', ['.'])])]), label=4, transitions=[0, 0, 0, 0, 1, 1, 1, 0, 0, 1, 0, 0, 0, 0, 0, 1, 1, 1, 0, 0, 1, 1, 1, 1, 1, 0, 0, 0, 1, 1, 0, 0, 0, 1, 0, 0, 1, 1, 0, 0, 1, 0, 1, 0, 0, 0, 0, 0, 1, 1, 1, 0, 0, 1, 1, 0, 0, 0, 0, 1, 1, 0, 1, 1, 1, 1, 1, 1, 1, 1, 0, 1, 1])\n",
            "Example(tokens=['Singer/composer', 'Bryan', 'Adams', 'contributes', 'a', 'slew', 'of', 'songs', '--', 'a', 'few', 'potential', 'hits', ',', 'a', 'few', 'more', 'simply', 'intrusive', 'to', 'the', 'story', '--', 'but', 'the', 'whole', 'package', 'certainly', 'captures', 'the', 'intended', ',', 'er', ',', 'spirit', 'of', 'the', 'piece', '.'], tree=Tree('3', [Tree('3', [Tree('2', [Tree('2', [Tree('2', [Tree('2', [Tree('2', ['Singer/composer']), Tree('2', [Tree('2', ['Bryan']), Tree('2', ['Adams'])])]), Tree('2', [Tree('2', ['contributes']), Tree('2', [Tree('2', [Tree('2', ['a']), Tree('2', ['slew'])]), Tree('2', [Tree('2', ['of']), Tree('2', ['songs'])])])])]), Tree('2', [Tree('2', ['--']), Tree('2', [Tree('2', [Tree('2', [Tree('2', ['a']), Tree('2', [Tree('2', ['few']), Tree('3', ['potential'])])]), Tree('2', [Tree('2', [Tree('2', ['hits']), Tree('2', [','])]), Tree('2', [Tree('2', [Tree('2', ['a']), Tree('2', ['few'])]), Tree('1', [Tree('1', [Tree('2', ['more']), Tree('1', [Tree('2', ['simply']), Tree('2', ['intrusive'])])]), Tree('2', [Tree('2', ['to']), Tree('2', [Tree('2', ['the']), Tree('2', ['story'])])])])])])]), Tree('2', ['--'])])])]), Tree('2', ['but'])]), Tree('3', [Tree('4', [Tree('2', ['the']), Tree('3', [Tree('2', ['whole']), Tree('2', ['package'])])]), Tree('2', [Tree('3', ['certainly']), Tree('3', [Tree('2', ['captures']), Tree('2', [Tree('1', [Tree('2', ['the']), Tree('2', [Tree('2', [Tree('2', ['intended']), Tree('2', [Tree('2', [',']), Tree('2', [Tree('2', ['er']), Tree('2', [','])])])]), Tree('3', ['spirit'])])]), Tree('2', [Tree('2', ['of']), Tree('2', [Tree('2', ['the']), Tree('2', ['piece'])])])])])])])]), Tree('2', ['.'])]), label=3, transitions=[0, 0, 0, 1, 1, 0, 0, 0, 1, 0, 0, 1, 1, 1, 1, 0, 0, 0, 0, 1, 1, 0, 0, 1, 0, 0, 1, 0, 0, 0, 1, 1, 0, 0, 0, 1, 1, 1, 1, 1, 1, 0, 1, 1, 1, 0, 1, 0, 0, 0, 1, 1, 0, 0, 0, 0, 0, 0, 0, 1, 1, 1, 0, 1, 1, 0, 0, 0, 1, 1, 1, 1, 1, 1, 1, 0, 1])\n"
          ]
        }
      ],
      "source": [
        "# Let's test our new function.\n",
        "# This should give us 3 examples.\n",
        "mb = next(get_minibatch(train_data, batch_size=3, shuffle=False))\n",
        "for ex in mb:\n",
        "  print(ex)"
      ]
    },
    {
      "cell_type": "code",
      "execution_count": 35,
      "metadata": {
        "colab": {
          "base_uri": "https://localhost:8080/"
        },
        "id": "dg8zEK8zyUCH",
        "outputId": "3ce1957f-04ea-4529-ef22-ac8c813f0abe"
      },
      "outputs": [
        {
          "output_type": "stream",
          "name": "stdout",
          "text": [
            "x tensor([[   23,  1414,    11,  8222,     6,    27,     4,  2826,  3764,    21,\n",
            "            92,  5233,  8558, 15010,     5,    16,    53,    21,   183,     6,\n",
            "           107,     8,  7409,   148,  1552,    97,  6000, 10464,     2,     0,\n",
            "          2740, 15451,    33,  4008, 12925,     3,     1,     1,     1],\n",
            "        [   23, 15300,  6665,  8307,     7,  5233,    23,  1383,     7,     4,\n",
            "          4884, 15010,  8681,    11,    59,   933,    16,     8,  3045,     7,\n",
            "           566,    42,    36,  7800,  2886, 20302,  1433,  1977,    21,  4360,\n",
            "          2274,     7, 15256, 10099,    21, 15561,     3,     1,     1],\n",
            "        [    0,  5314,  3878,  7735,     8,  9726,     7,  1261,   158,     8,\n",
            "           219,  1060,  2187,     2,     8,   219,    50,   688, 11605,     6,\n",
            "             4,   414,   158,    43,     4,   494,  1568,  1214,  6985,     4,\n",
            "          2243,     2,  5986,     2,  2320,     7,     4,   982,     3]],\n",
            "       device='cuda:0')\n",
            "y tensor([3, 4, 3], device='cuda:0')\n"
          ]
        }
      ],
      "source": [
        "# We should find padding 1s at the end\n",
        "x, y = prepare_minibatch(mb, v)\n",
        "print(\"x\", x)\n",
        "print(\"y\", y)"
      ]
    },
    {
      "cell_type": "markdown",
      "metadata": {
        "id": "xYBJEoSNUwI0"
      },
      "source": [
        "#### Evaluate (mini-batch version)\n",
        "\n",
        "We can now update our evaluation function to use mini-batches"
      ]
    },
    {
      "cell_type": "code",
      "execution_count": 36,
      "metadata": {
        "id": "eiZZpEghzqou"
      },
      "outputs": [],
      "source": [
        "def evaluate(model, data,\n",
        "             batch_fn=get_minibatch, prep_fn=prepare_minibatch,\n",
        "             batch_size=16):\n",
        "  \"\"\"Accuracy of a model on given data set (using mini-batches)\"\"\"\n",
        "  correct = 0\n",
        "  total = 0\n",
        "  model.eval()  # disable dropout\n",
        "\n",
        "  for mb in batch_fn(data, batch_size=batch_size, shuffle=False):\n",
        "    x, targets = prep_fn(mb, model.vocab)\n",
        "    with torch.no_grad():\n",
        "      logits = model(x)\n",
        "\n",
        "    predictions = logits.argmax(dim=-1).view(-1)\n",
        "\n",
        "    # add the number of correct predictions to the total correct\n",
        "    correct += (predictions == targets.view(-1)).sum().item()\n",
        "    total += targets.size(0)\n",
        "\n",
        "  return correct, total, correct / float(total)"
      ]
    },
    {
      "cell_type": "markdown",
      "metadata": {
        "id": "q7WjcxXntMi5"
      },
      "source": [
        "# Tree-LSTM"
      ]
    },
    {
      "cell_type": "markdown",
      "metadata": {
        "id": "jyj_UD6GtO5M"
      },
      "source": [
        "In the final part of this lab we will exploit the tree structure of the SST data.\n",
        "Until now we only used the surface tokens, but remember that our data examples include binary trees with a sentiment score at every node.\n",
        "\n",
        "In particular, we will implement **N-ary Tree-LSTMs** which are described in:\n",
        "\n",
        "> Kai Sheng Tai, Richard Socher, and Christopher D. Manning. [Improved Semantic Representations From Tree-Structured Long Short-Term Memory Networks](http://aclweb.org/anthology/P/P15/P15-1150.pdf) ACL 2015.\n",
        "\n",
        "Since our trees are binary (i.e., N=2), we can refer to these as *Binary Tree-LSTMs*. If you study equations (9) to (14) in the paper, you will find that they are not all too different from the original LSTM that you already have.\n",
        "\n",
        "You should read this paper carefully and make sure that you understand the approach. You will also find our LSTM baseline there.\n",
        "Note however that Tree-LSTMs were proposed around the same time by two other groups:\n",
        "\n",
        "> Phong Le and Willem Zuidema. [Compositional distributional semantics with long short term memory](http://anthology.aclweb.org/S/S15/S15-1002.pdf). *SEM 2015.\n",
        "\n",
        "> Xiaodan Zhu, Parinaz Sobihani,  and Hongyu Guo. [Long short-term memory over recursive structures](http://proceedings.mlr.press/v37/zhub15.pdf). ICML 2015.\n",
        "\n",
        "It is good scientific practice to cite all three papers in your report.\n",
        "\n",
        "\n"
      ]
    },
    {
      "cell_type": "markdown",
      "metadata": {
        "id": "1rDzvSos3JFp"
      },
      "source": [
        "## Computation\n",
        "\n",
        "Do you remember the `transitions_from_treestring` function all the way in the beginning of this lab? Every example contains a **transition sequence** produced by this function. Let's look at it again:\n",
        "\n"
      ]
    },
    {
      "cell_type": "code",
      "execution_count": 37,
      "metadata": {
        "id": "Vdc0Z8MIpPbn"
      },
      "outputs": [],
      "source": [
        "# We can use NLTK to better visualise the tree structure of the sentence\n",
        "from nltk import Tree\n",
        "from nltk.treeprettyprinter import TreePrettyPrinter\n",
        "tree = Tree.fromstring(s)"
      ]
    },
    {
      "cell_type": "code",
      "execution_count": 38,
      "metadata": {
        "id": "5pg0Xumc3ZUS"
      },
      "outputs": [],
      "source": [
        "ex = next(examplereader(\"trees/dev.txt\"))"
      ]
    },
    {
      "cell_type": "code",
      "execution_count": 39,
      "metadata": {
        "id": "1y069gM4_v64"
      },
      "outputs": [],
      "source": [
        "# for comparison\n",
        "seq = ex.transitions\n",
        "s = \" \".join([\"S\" if t == 0 else \"R\" for t in seq])"
      ]
    },
    {
      "cell_type": "markdown",
      "metadata": {
        "id": "d-qOuKbDAiBn"
      },
      "source": [
        "## Coding the Tree-LSTM\n",
        "\n",
        "The code below contains a Binary Tree-LSTM cell.\n",
        "It is used in the TreeLSTM class below it, which in turn is used in the TreeLSTMClassifier.\n",
        "The job of the TreeLSTM class is to encode a complete sentence and return the root node.\n",
        "The job of the TreeLSTMCell is to return a new state when provided with two children (a reduce action). By repeatedly calling the TreeLSTMCell, the TreeLSTM will encode a sentence. This can be done for multiple sentences at the same time.\n",
        "\n",
        "\n",
        "#### Exercise\n",
        "Check the `forward` function and complete the Tree-LSTM formulas.\n",
        "You can see that we defined a large linear layer for you, that projects the *concatenation* of the left and right child into the input gate, left forget gate, right forget gate, candidate, and output gate."
      ]
    },
    {
      "cell_type": "code",
      "execution_count": 40,
      "metadata": {
        "id": "J9b9mjMlN7Pb"
      },
      "outputs": [],
      "source": [
        "class TreeLSTMCell(nn.Module):\n",
        "  \"\"\"A Binary Tree LSTM cell\"\"\"\n",
        "\n",
        "  def __init__(self, input_size, hidden_size, bias=True):\n",
        "    \"\"\"Creates the weights for this LSTM\"\"\"\n",
        "    super(TreeLSTMCell, self).__init__()\n",
        "\n",
        "    self.input_size = input_size\n",
        "    self.hidden_size = hidden_size\n",
        "    self.bias = bias\n",
        "\n",
        "    self.reduce_layer = nn.Linear(2 * hidden_size, 5 * hidden_size)\n",
        "    self.dropout_layer = nn.Dropout(p=0.25)\n",
        "\n",
        "    self.reset_parameters()\n",
        "\n",
        "  def reset_parameters(self):\n",
        "    \"\"\"This is PyTorch's default initialization method\"\"\"\n",
        "    stdv = 1.0 / math.sqrt(self.hidden_size)\n",
        "    for weight in self.parameters():\n",
        "      weight.data.uniform_(-stdv, stdv)\n",
        "\n",
        "  def forward(self, hx_l, hx_r, mask=None):\n",
        "    \"\"\"\n",
        "    hx_l is ((batch, hidden_size), (batch, hidden_size))\n",
        "    hx_r is ((batch, hidden_size), (batch, hidden_size))\n",
        "    \"\"\"\n",
        "    prev_h_l, prev_c_l = hx_l  # left child\n",
        "    prev_h_r, prev_c_r = hx_r  # right child\n",
        "\n",
        "    B = prev_h_l.size(0)\n",
        "\n",
        "    # we concatenate the left and right children\n",
        "    # you can also project from them separately and then sum\n",
        "    children = torch.cat([prev_h_l, prev_h_r], dim=1)\n",
        "\n",
        "    # project the combined children into a 5D tensor for i,fl,fr,g,o\n",
        "    # this is done for speed, and you could also do it separately\n",
        "    proj = self.reduce_layer(children)  # shape: B x 5D\n",
        "\n",
        "    # each shape: B x D\n",
        "    i, f_l, f_r, g, o = torch.chunk(proj, 5, dim=-1)\n",
        "\n",
        "    # main Tree LSTM computation\n",
        "    # The shape of each of these is [batch_size, hidden_size]\n",
        "\n",
        "    # Apply activations\n",
        "    i = torch.sigmoid(i)          # Input gate\n",
        "    f_l = torch.sigmoid(f_l)      # Left forget gate\n",
        "    f_r = torch.sigmoid(f_r)      # Right forget gate\n",
        "    g = torch.tanh(g)             # Candidate memory\n",
        "    o = torch.sigmoid(o)          # Output gate\n",
        "\n",
        "    # Compute the new cell state\n",
        "    c = i * g + f_l * prev_c_l + f_r * prev_c_r\n",
        "\n",
        "    # Compute the new hidden state\n",
        "    h = o * torch.tanh(c)\n",
        "\n",
        "    return h, c\n",
        "\n",
        "  def __repr__(self):\n",
        "    return \"{}({:d}, {:d})\".format(\n",
        "        self.__class__.__name__, self.input_size, self.hidden_size)"
      ]
    },
    {
      "cell_type": "markdown",
      "metadata": {
        "id": "Dj5dYSGh_643"
      },
      "source": [
        "## Explanation of the TreeLSTM class\n",
        "\n",
        "\n",
        "The code below contains the TreeLSTM class, which implements everything we need in order to encode a sentence from word embeddings. The calculations are the same as in the paper, implemented such that the class `TreeLSTMCell` above is as general as possible and only takes two children to reduce them into a parent.\n",
        "\n",
        "\n",
        "**Initialize $\\mathbf{h}$ and $\\mathbf{c}$ outside of the cell for the leaves**\n",
        "\n",
        "At the leaves of each tree the children nodes are **empty**, whereas in higher levels the nodes are binary tree nodes that *do* have a left and right child (but no input $x$). By initializing the leaf nodes outside of the cell class (`TreeLSTMCell`), we avoid if-else statements in the forward pass.\n",
        "\n",
        "The `TreeLSTM` class (among other things) pre-calculates an initial $h$ and $c$ for every word in the sentence. Since the initial left and right child are 0, the only calculations we need to do are based on $x$, and we can drop the forget gate calculation (`prev_c_l` and `prev_c_r` are zero). The calculations we do in order to initalize $h$ and $c$ are then:\n",
        "\n",
        "$$\n",
        "c_1 =  W^{(u)}x_1 \\\\\n",
        "o_1 = \\sigma (W^{(i)}x_1) \\\\\n",
        "h_1 = o_1 \\odot \\text{tanh}(c_1)$$\n",
        "*NB: note that these equations are chosen as initializations of $c$ and $h$, other initializations are possible and might work equally well.*\n",
        "\n",
        "**Sentence Representations**\n",
        "\n",
        "All our leaf nodes are now initialized, so we can start processing the sentence in its tree form. Each sentence is represented by a buffer (initially a list with a concatenation of $[h_1, c_1]$ for every word in the reversed sentence), a stack (initially an empty list) and a transition sequence. To encode our sentence, we construct the tree from its transition sequence as explained earlier.\n",
        "\n",
        "*A short example that constructs a tree:*\n",
        "\n",
        "We loop over the time dimension of the batched transition sequences (i.e. row by row), which contain values of 0's, 1's and 2's (representing SHIFT, REDUCE and padding respectively). If we have a batch of size 2 where the first example has a transition sequence given by [0, 0, 1, 0, 0, 0, 1] and the second by [0, 0, 1, 0, 0, 1], our transition batch will be given by the following two-dimensional numpy array:\n",
        "\n",
        "$$\n",
        "\\text{transitions} =\n",
        "\\begin{pmatrix}\n",
        "0 & 0\\\\\n",
        "0 & 0\\\\\n",
        "1 & 1\\\\\n",
        "0 & 0\\\\\n",
        "0 & 0\\\\\n",
        "0 & 1\\\\\n",
        "1 & 2\n",
        "\\end{pmatrix}\n",
        "$$\n",
        "The inner loop (`for transition, buffer, stack in zip(t_batch, buffers, stacks)`) goes over each example in the batch and updates its buffer and stack. The nested loop for this example will then do roughy the following:\n",
        "\n",
        "```\n",
        "Time = 0:  t_batch = [0, 0], the inner loop performs 2 SHIFTs.\n",
        "\n",
        "Time = 1:  t_batch = [0, 0], \"..\"\n",
        "\n",
        "Time = 2:  t_batch = [1, 1], causing the inner loop to fill the list child_l and child_r for both examples in the batch. Now the statement if child_l will return True, triggering a REDUCE action to be performed by our Tree LSTM cell with a batch size of 2.\n",
        "\n",
        "Time = 3:  t_batch = [0, 0], \"..\".\n",
        "\n",
        "Time = 4:  t_batch = [0, 0], \"..\"\n",
        "\n",
        "Time = 5:  t_batch = [0, 1], one SHIFT will be done and another REDUCE action will be performed by our Tree LSTM, this time of batch size 1.  \n",
        "\n",
        "Time = 6:  t_batch = [1, 2], triggering another REDUCE action with batch size 1.\n",
        "```\n",
        "*NB: note that this was an artificial example for the purpose of demonstrating parts of the code, the transition sequences do not necessarily represent actual trees.*\n",
        "\n",
        "**Batching and Unbatching**\n",
        "\n",
        "Within the body of the outer loop over time, we use the functions for batching and unbatching.\n",
        "\n",
        "*Batching*\n",
        "\n",
        "Before passing two lists of children to the reduce layer (an instance of `TreeLSTMCell`), we batch the children as they are at this point a list of tensors of variable length based on how many REDUCE actions there are to perform at a certain time step across the batch (let's call the length `L`). To do an efficient forward pass we want to transform the list to a pair of tensors of shape `([L, D], [L, D])`, which the function `batch` achieves.\n",
        "\n",
        "*Unbatching*\n",
        "\n",
        "In the same line where we batched the children, we unbatch the output of the forward pass to become a list of states of length `L` again. We do this because we need to loop over each example's transition at the current time step and push the children that are reduced into a parent to the stack.\n",
        "\n",
        "*The batch and unbatch functions let us switch between the \"PyTorch world\" (Tensors) and the Python world (easy to manipulate lists).*\n"
      ]
    },
    {
      "cell_type": "code",
      "execution_count": 41,
      "metadata": {
        "id": "5PixvTd4AqsQ"
      },
      "outputs": [],
      "source": [
        "# Helper functions for batching and unbatching states\n",
        "# For speed we want to combine computations by batching, but\n",
        "# for processing logic we want to turn the output into lists again\n",
        "# to easily manipulate.\n",
        "\n",
        "def batch(states):\n",
        "  \"\"\"\n",
        "  Turns a list of states into a single tensor for fast processing.\n",
        "  This function also chunks (splits) each state into a (h, c) pair\"\"\"\n",
        "  return torch.cat(states, 0).chunk(2, 1)\n",
        "\n",
        "def unbatch(state):\n",
        "  \"\"\"\n",
        "  Turns a tensor back into a list of states.\n",
        "  First, (h, c) are merged into a single state.\n",
        "  Then the result is split into a list of sentences.\n",
        "  \"\"\"\n",
        "  return torch.split(torch.cat(state, 1), 1, 0)"
      ]
    },
    {
      "cell_type": "markdown",
      "metadata": {
        "id": "CynltDasaLPt"
      },
      "source": [
        "Take some time to understand the class below, having read the explanation above."
      ]
    },
    {
      "cell_type": "code",
      "execution_count": 42,
      "metadata": {
        "id": "rQOqMXG4gX5G"
      },
      "outputs": [],
      "source": [
        "class TreeLSTM(nn.Module):\n",
        "  \"\"\"Encodes a sentence using a TreeLSTMCell\"\"\"\n",
        "\n",
        "  def __init__(self, input_size, hidden_size, bias=True):\n",
        "    \"\"\"Creates the weights for this LSTM\"\"\"\n",
        "    super(TreeLSTM, self).__init__()\n",
        "\n",
        "    self.input_size = input_size\n",
        "    self.hidden_size = hidden_size\n",
        "    self.bias = bias\n",
        "    self.reduce = TreeLSTMCell(input_size, hidden_size)\n",
        "\n",
        "    # project word to initial c\n",
        "    self.proj_x = nn.Linear(input_size, hidden_size)\n",
        "    self.proj_x_gate = nn.Linear(input_size, hidden_size)\n",
        "\n",
        "    self.buffers_dropout = nn.Dropout(p=0.5)\n",
        "\n",
        "  def forward(self, x, transitions):\n",
        "    \"\"\"\n",
        "    WARNING: assuming x is reversed!\n",
        "    :param x: word embeddings [B, T, E]\n",
        "    :param transitions: [2T-1, B]\n",
        "    :return: root states\n",
        "    \"\"\"\n",
        "\n",
        "    B = x.size(0)  # batch size\n",
        "    T = x.size(1)  # time\n",
        "\n",
        "    # compute an initial c and h for each word\n",
        "    # Note: this corresponds to input x in the Tai et al. Tree LSTM paper.\n",
        "    # We do not handle input x in the TreeLSTMCell itself.\n",
        "    buffers_c = self.proj_x(x)\n",
        "    buffers_h = buffers_c.tanh()\n",
        "    buffers_h_gate = self.proj_x_gate(x).sigmoid()\n",
        "    buffers_h = buffers_h_gate * buffers_h\n",
        "\n",
        "    # concatenate h and c for each word\n",
        "    buffers = torch.cat([buffers_h, buffers_c], dim=-1)\n",
        "\n",
        "    D = buffers.size(-1) // 2\n",
        "\n",
        "    # we turn buffers into a list of stacks (1 stack for each sentence)\n",
        "    # first we split buffers so that it is a list of sentences (length B)\n",
        "    # then we split each sentence to be a list of word vectors\n",
        "    buffers = buffers.split(1, dim=0)  # Bx[T, 2D]\n",
        "    buffers = [list(b.squeeze(0).split(1, dim=0)) for b in buffers]  # BxTx[2D]\n",
        "\n",
        "    # create B empty stacks\n",
        "    stacks = [[] for _ in buffers]\n",
        "\n",
        "    # t_batch holds 1 transition for each sentence\n",
        "    for t_batch in transitions:\n",
        "\n",
        "      child_l = []  # contains the left child for each sentence with reduce action\n",
        "      child_r = []  # contains the corresponding right child\n",
        "\n",
        "      # iterate over sentences in the batch\n",
        "      # each has a transition t, a buffer and a stack\n",
        "      for transition, buffer, stack in zip(t_batch, buffers, stacks):\n",
        "        if transition == SHIFT:\n",
        "          stack.append(buffer.pop())\n",
        "        elif transition == REDUCE:\n",
        "          assert len(stack) >= 2, \\\n",
        "            \"Stack too small! Should not happen with valid transition sequences\"\n",
        "          child_r.append(stack.pop())  # right child is on top\n",
        "          child_l.append(stack.pop())\n",
        "\n",
        "      # if there are sentences with reduce transition, perform them batched\n",
        "      if child_l:\n",
        "        reduced = iter(unbatch(self.reduce(batch(child_l), batch(child_r))))\n",
        "        for transition, stack in zip(t_batch, stacks):\n",
        "          if transition == REDUCE:\n",
        "            stack.append(next(reduced))\n",
        "\n",
        "    final = [stack.pop().chunk(2, -1)[0] for stack in stacks]\n",
        "    final = torch.cat(final, dim=0)  # tensor [B, D]\n",
        "\n",
        "    return final"
      ]
    },
    {
      "cell_type": "markdown",
      "metadata": {
        "id": "s4EzbVzqaXkw"
      },
      "source": [
        "Just like the LSTM before, we will need an extra class that does the classifications."
      ]
    },
    {
      "cell_type": "code",
      "execution_count": 43,
      "metadata": {
        "id": "nLxpYRvtQKge"
      },
      "outputs": [],
      "source": [
        "class TreeLSTMClassifier(nn.Module):\n",
        "  \"\"\"Encodes sentence with a TreeLSTM and projects final hidden state\"\"\"\n",
        "\n",
        "  def __init__(self, vocab_size, embedding_dim, hidden_dim, output_dim, vocab):\n",
        "    super(TreeLSTMClassifier, self).__init__()\n",
        "    self.vocab = vocab\n",
        "    self.hidden_dim = hidden_dim\n",
        "    self.embed = nn.Embedding(vocab_size, embedding_dim, padding_idx=1)\n",
        "    self.treelstm = TreeLSTM(embedding_dim, hidden_dim)\n",
        "    self.output_layer = nn.Sequential(\n",
        "        nn.Dropout(p=0.5),\n",
        "        nn.Linear(hidden_dim, output_dim, bias=True)\n",
        "    )\n",
        "\n",
        "  def forward(self, x):\n",
        "\n",
        "    # x is a pair here of words and transitions; we unpack it here.\n",
        "    # x is batch-major: [B, T], transitions is time major [2T-1, B]\n",
        "    x, transitions = x\n",
        "    emb = self.embed(x)\n",
        "\n",
        "    # we use the root/top state of the Tree LSTM to classify the sentence\n",
        "    root_states = self.treelstm(emb, transitions)\n",
        "\n",
        "    # we use the last hidden state to classify the sentence\n",
        "    logits = self.output_layer(root_states)\n",
        "    return logits"
      ]
    },
    {
      "cell_type": "markdown",
      "metadata": {
        "id": "gh9RbhGwaiLg"
      },
      "source": [
        "## Special `prepare` function for Tree-LSTM\n",
        "\n",
        "We need yet another `prepare` function. For our implementation, sentences need to be *reversed*. We will do that here."
      ]
    },
    {
      "cell_type": "code",
      "execution_count": 44,
      "metadata": {
        "id": "DiqH-_2xdm9H"
      },
      "outputs": [],
      "source": [
        "def prepare_treelstm_minibatch(mb, vocab):\n",
        "  \"\"\"\n",
        "  Returns sentences reversed (last word first)\n",
        "  Returns transitions together with the sentences.\n",
        "  \"\"\"\n",
        "  batch_size = len(mb)\n",
        "  maxlen = max([len(ex.tokens) for ex in mb])\n",
        "\n",
        "  # vocab returns 0 if the word is not there\n",
        "  # NOTE: reversed sequence!\n",
        "  x = [pad([vocab.w2i.get(t, 0) for t in ex.tokens], maxlen)[::-1] for ex in mb]\n",
        "\n",
        "  x = torch.LongTensor(x)\n",
        "  x = x.to(device)\n",
        "\n",
        "  y = [ex.label for ex in mb]\n",
        "  y = torch.LongTensor(y)\n",
        "  y = y.to(device)\n",
        "\n",
        "  maxlen_t = max([len(ex.transitions) for ex in mb])\n",
        "  transitions = [pad(ex.transitions, maxlen_t, pad_value=2) for ex in mb]\n",
        "  transitions = np.array(transitions)\n",
        "  transitions = transitions.T  # time-major\n",
        "\n",
        "  return (x, transitions), y"
      ]
    },
    {
      "cell_type": "markdown",
      "source": [
        "# **Experiment 3**\n",
        "\n",
        "In this section, we process the dataset by extracting relevant components required for training a Tree LSTM model. We define an Example structure to represent each data point, which includes the tokens, the tree structure, sentiment labels, and the transitions used for tree reduction.\n",
        "\n",
        "We then extract subtrees from each tree in the dataset, ensuring that only meaningful subtrees with more than one token are considered. Each subtree is paired with its corresponding sentiment label, which is used as the target for the model.\n",
        "\n",
        "Finally, we load the training, development, and test datasets using a custom reader function, preparing them for use in the training process. These datasets are stored as lists of examples, ready for model training and evaluation."
      ],
      "metadata": {
        "id": "ISKoNWCiP5HV"
      }
    },
    {
      "cell_type": "code",
      "source": [
        "def extract_subtrees(tree_string):\n",
        "    \"\"\"\n",
        "    Recursively extract all subtrees from the given tree string.\n",
        "    \"\"\"\n",
        "    subtrees = []\n",
        "    stack = []\n",
        "    current_subtree = []\n",
        "\n",
        "    for char in tree_string:\n",
        "        if char == '(':\n",
        "            # Push current subtree to stack and start a new one\n",
        "            if current_subtree:\n",
        "                stack.append(current_subtree)\n",
        "            current_subtree = []\n",
        "            current_subtree.append(char)\n",
        "        elif char == ')':\n",
        "            # Close the current subtree and add it to the list of subtrees\n",
        "            current_subtree.append(char)\n",
        "            subtrees.append(''.join(current_subtree))\n",
        "\n",
        "            # Pop the previous subtree from stack and continue\n",
        "            if stack:\n",
        "                previous_subtree = stack.pop()\n",
        "                previous_subtree.extend(current_subtree)\n",
        "                current_subtree = previous_subtree\n",
        "        else:\n",
        "            current_subtree.append(char)\n",
        "\n",
        "    return subtrees\n",
        "\n",
        "def process_trees(input_file, output_file):\n",
        "    \"\"\"\n",
        "    Read the input file, extract all subtrees from each tree and write to output file.\n",
        "    \"\"\"\n",
        "    with open(input_file, 'r') as infile, open(output_file, 'w') as outfile:\n",
        "        for line in infile:\n",
        "            line = line.strip()\n",
        "            if line:\n",
        "                subtrees = extract_subtrees(line)\n",
        "                for subtree in subtrees:\n",
        "                    outfile.write(subtree + '\\n')\n",
        "\n",
        "input_file_train = 'trees/train.txt'\n",
        "output_file_train = 'trees/subtrees_train.txt'\n",
        "process_trees(input_file_train, output_file_train)\n",
        "print(\"Subtrees have been successfully extracted and written to\", output_file_train)"
      ],
      "metadata": {
        "id": "4oBRiSDj8QEc",
        "colab": {
          "base_uri": "https://localhost:8080/"
        },
        "outputId": "4ea605ea-7576-47ea-ecfd-f29d05be6951"
      },
      "execution_count": 45,
      "outputs": [
        {
          "output_type": "stream",
          "name": "stdout",
          "text": [
            "Subtrees have been successfully extracted and written to trees/subtrees_train.txt\n"
          ]
        }
      ]
    },
    {
      "cell_type": "code",
      "source": [
        "# Print the first 10 lines of the output file\n",
        "with open(output_file_train, 'r') as file:\n",
        "    for i in range(10):\n",
        "        line = file.readline().strip()\n"
      ],
      "metadata": {
        "id": "BwthIH1Y6rJ4"
      },
      "execution_count": 46,
      "outputs": []
    },
    {
      "cell_type": "code",
      "source": [
        "from collections import namedtuple\n",
        "from nltk import Tree\n",
        "\n",
        "# A simple way to define a class is using namedtuple.\n",
        "Example = namedtuple(\"Example\", [\"tokens\", \"tree\", \"label\", \"transitions\"])\n",
        "\n",
        "\n",
        "def examplereader(path, lower=False):\n",
        "  \"\"\"Returns all examples in a file one by one.\"\"\"\n",
        "  for line in filereader(path):\n",
        "    line = line.lower() if lower else line\n",
        "    tokens = tokens_from_treestring(line)\n",
        "    tree = Tree.fromstring(line)  # use NLTK's Tree\n",
        "    label = int(line[1])\n",
        "    trans = transitions_from_treestring(line)\n",
        "    yield Example(tokens=tokens, tree=tree, label=label, transitions=trans)\n",
        "\n",
        "\n",
        "LOWER = False  # we will keep the original casing\n",
        "train_data = list(examplereader(\"trees/subtrees_train.txt\", lower=LOWER))"
      ],
      "metadata": {
        "id": "CUKpZPhQ8ggZ"
      },
      "execution_count": 47,
      "outputs": []
    },
    {
      "cell_type": "code",
      "source": [
        "len(train_data), len(dev_data), len(test_data)"
      ],
      "metadata": {
        "id": "kQo3JLIsNPRp",
        "colab": {
          "base_uri": "https://localhost:8080/"
        },
        "outputId": "7faaa9d0-f649-44eb-c54e-4a0b47ad7610"
      },
      "execution_count": 48,
      "outputs": [
        {
          "output_type": "execute_result",
          "data": {
            "text/plain": [
              "(318582, 1101, 2210)"
            ]
          },
          "metadata": {},
          "execution_count": 48
        }
      ]
    },
    {
      "cell_type": "markdown",
      "source": [
        "### Train the model"
      ],
      "metadata": {
        "id": "0atoSGIB3Xle"
      }
    },
    {
      "cell_type": "code",
      "execution_count": 49,
      "metadata": {
        "id": "mnEetFigvVV6",
        "colab": {
          "base_uri": "https://localhost:8080/"
        },
        "outputId": "cb979121-df69-4353-8387-e096da1cea80"
      },
      "outputs": [
        {
          "output_type": "stream",
          "name": "stdout",
          "text": [
            "Shuffling training data\n",
            "Iter 100: loss=124.8452, time=10.87s\n",
            "iter 100: dev acc=0.2916\n",
            "new highscore\n",
            "Iter 200: loss=89.2455, time=22.58s\n",
            "iter 200: dev acc=0.3224\n",
            "new highscore\n",
            "Iter 300: loss=78.4544, time=32.75s\n",
            "iter 300: dev acc=0.3742\n",
            "new highscore\n",
            "Iter 400: loss=76.7765, time=42.81s\n",
            "iter 400: dev acc=0.3588\n",
            "Iter 500: loss=71.2467, time=51.82s\n",
            "iter 500: dev acc=0.4078\n",
            "new highscore\n",
            "Iter 600: loss=69.7978, time=62.38s\n",
            "iter 600: dev acc=0.3833\n",
            "Iter 700: loss=67.4267, time=73.32s\n",
            "iter 700: dev acc=0.4151\n",
            "new highscore\n",
            "Iter 800: loss=67.5184, time=83.11s\n",
            "iter 800: dev acc=0.4024\n",
            "Iter 900: loss=67.5802, time=92.77s\n",
            "iter 900: dev acc=0.4223\n",
            "new highscore\n",
            "Iter 1000: loss=65.8960, time=102.31s\n",
            "iter 1000: dev acc=0.4133\n",
            "Iter 1100: loss=63.5438, time=111.99s\n",
            "iter 1100: dev acc=0.4278\n",
            "new highscore\n",
            "Iter 1200: loss=64.4241, time=122.13s\n",
            "iter 1200: dev acc=0.4378\n",
            "new highscore\n",
            "Iter 1300: loss=63.2362, time=133.88s\n",
            "iter 1300: dev acc=0.4196\n",
            "Iter 1400: loss=63.0943, time=143.96s\n",
            "iter 1400: dev acc=0.4242\n",
            "Iter 1500: loss=62.3928, time=154.26s\n",
            "iter 1500: dev acc=0.4378\n",
            "Iter 1600: loss=62.5012, time=164.07s\n",
            "iter 1600: dev acc=0.4478\n",
            "new highscore\n",
            "Iter 1700: loss=60.8899, time=174.05s\n",
            "iter 1700: dev acc=0.4423\n",
            "Iter 1800: loss=60.2084, time=183.14s\n",
            "iter 1800: dev acc=0.4342\n",
            "Iter 1900: loss=60.4142, time=193.15s\n",
            "iter 1900: dev acc=0.4496\n",
            "new highscore\n",
            "Iter 2000: loss=61.1634, time=203.12s\n",
            "iter 2000: dev acc=0.4550\n",
            "new highscore\n",
            "Iter 2100: loss=60.2899, time=212.94s\n",
            "iter 2100: dev acc=0.4214\n",
            "Iter 2200: loss=59.6150, time=222.12s\n",
            "iter 2200: dev acc=0.4423\n",
            "Iter 2300: loss=59.4367, time=232.93s\n",
            "iter 2300: dev acc=0.4469\n",
            "Iter 2400: loss=59.4516, time=242.76s\n",
            "iter 2400: dev acc=0.4550\n",
            "Iter 2500: loss=59.3525, time=252.34s\n",
            "iter 2500: dev acc=0.4414\n",
            "Iter 2600: loss=59.0914, time=262.41s\n",
            "iter 2600: dev acc=0.4569\n",
            "new highscore\n",
            "Iter 2700: loss=57.4937, time=271.65s\n",
            "iter 2700: dev acc=0.4478\n",
            "Iter 2800: loss=59.3574, time=281.52s\n",
            "iter 2800: dev acc=0.4505\n",
            "Iter 2900: loss=58.3196, time=291.70s\n",
            "iter 2900: dev acc=0.4523\n",
            "Iter 3000: loss=57.9315, time=301.91s\n",
            "iter 3000: dev acc=0.4596\n",
            "new highscore\n",
            "Iter 3100: loss=57.8604, time=311.14s\n",
            "iter 3100: dev acc=0.4578\n",
            "Shuffling training data\n",
            "Iter 3200: loss=59.0174, time=321.38s\n",
            "iter 3200: dev acc=0.4587\n",
            "Iter 3300: loss=57.4360, time=331.25s\n",
            "iter 3300: dev acc=0.4668\n",
            "new highscore\n",
            "Iter 3400: loss=57.6198, time=342.88s\n",
            "iter 3400: dev acc=0.4723\n",
            "new highscore\n",
            "Iter 3500: loss=57.8101, time=353.25s\n",
            "iter 3500: dev acc=0.4569\n",
            "Iter 3600: loss=56.7559, time=362.23s\n",
            "iter 3600: dev acc=0.4641\n",
            "Iter 3700: loss=56.2362, time=372.44s\n",
            "iter 3700: dev acc=0.4550\n",
            "Iter 3800: loss=57.2917, time=382.32s\n",
            "iter 3800: dev acc=0.4559\n",
            "Iter 3900: loss=56.7675, time=392.56s\n",
            "iter 3900: dev acc=0.4668\n",
            "Iter 4000: loss=56.3609, time=402.03s\n",
            "iter 4000: dev acc=0.4523\n",
            "Iter 4100: loss=55.5379, time=411.65s\n",
            "iter 4100: dev acc=0.4541\n",
            "Iter 4200: loss=57.5062, time=422.98s\n",
            "iter 4200: dev acc=0.4650\n",
            "Iter 4300: loss=55.3539, time=433.18s\n",
            "iter 4300: dev acc=0.4705\n",
            "Iter 4400: loss=57.2804, time=443.22s\n",
            "iter 4400: dev acc=0.4605\n",
            "Iter 4500: loss=54.4090, time=453.99s\n",
            "iter 4500: dev acc=0.4650\n",
            "Iter 4600: loss=55.1108, time=463.88s\n",
            "iter 4600: dev acc=0.4596\n",
            "Iter 4700: loss=55.9922, time=474.00s\n",
            "iter 4700: dev acc=0.4641\n",
            "Iter 4800: loss=55.4851, time=483.88s\n",
            "iter 4800: dev acc=0.4659\n",
            "Iter 4900: loss=55.6048, time=492.89s\n",
            "iter 4900: dev acc=0.4741\n",
            "new highscore\n",
            "Iter 5000: loss=54.3617, time=502.69s\n",
            "iter 5000: dev acc=0.4614\n",
            "Iter 5100: loss=56.8675, time=512.37s\n",
            "iter 5100: dev acc=0.4641\n",
            "Iter 5200: loss=55.6816, time=522.30s\n",
            "iter 5200: dev acc=0.4787\n",
            "new highscore\n",
            "Iter 5300: loss=55.8703, time=531.67s\n",
            "iter 5300: dev acc=0.4714\n",
            "Iter 5400: loss=55.4079, time=541.39s\n",
            "iter 5400: dev acc=0.4723\n",
            "Iter 5500: loss=56.0722, time=551.73s\n",
            "iter 5500: dev acc=0.4850\n",
            "new highscore\n",
            "Iter 5600: loss=54.7501, time=562.77s\n",
            "iter 5600: dev acc=0.4768\n",
            "Iter 5700: loss=55.0244, time=572.78s\n",
            "iter 5700: dev acc=0.4523\n",
            "Iter 5800: loss=55.6260, time=581.79s\n",
            "iter 5800: dev acc=0.4614\n",
            "Iter 5900: loss=56.0246, time=591.92s\n",
            "iter 5900: dev acc=0.4505\n",
            "Iter 6000: loss=54.0012, time=601.84s\n",
            "iter 6000: dev acc=0.4405\n",
            "Iter 6100: loss=55.7252, time=611.67s\n",
            "iter 6100: dev acc=0.4696\n",
            "Iter 6200: loss=54.5678, time=620.63s\n",
            "iter 6200: dev acc=0.4759\n",
            "Iter 6300: loss=54.6907, time=630.59s\n",
            "iter 6300: dev acc=0.4614\n",
            "Shuffling training data\n",
            "Iter 6400: loss=54.8342, time=640.81s\n",
            "iter 6400: dev acc=0.4750\n",
            "Iter 6500: loss=53.8095, time=650.69s\n",
            "iter 6500: dev acc=0.4759\n",
            "Iter 6600: loss=53.3562, time=660.02s\n",
            "iter 6600: dev acc=0.4905\n",
            "new highscore\n",
            "Iter 6700: loss=54.1230, time=671.57s\n",
            "iter 6700: dev acc=0.4796\n",
            "Iter 6800: loss=53.6067, time=681.33s\n",
            "iter 6800: dev acc=0.4859\n",
            "Iter 6900: loss=54.3279, time=691.18s\n",
            "iter 6900: dev acc=0.4678\n",
            "Iter 7000: loss=54.2324, time=702.11s\n",
            "iter 7000: dev acc=0.4859\n",
            "Iter 7100: loss=53.9718, time=711.06s\n",
            "iter 7100: dev acc=0.4805\n",
            "Iter 7200: loss=53.7680, time=720.72s\n",
            "iter 7200: dev acc=0.4741\n",
            "Iter 7300: loss=52.4003, time=730.86s\n",
            "iter 7300: dev acc=0.4732\n",
            "Iter 7400: loss=52.7162, time=740.73s\n",
            "iter 7400: dev acc=0.4787\n",
            "Iter 7500: loss=53.1763, time=749.71s\n",
            "iter 7500: dev acc=0.4841\n",
            "Iter 7600: loss=53.6399, time=759.47s\n",
            "iter 7600: dev acc=0.4877\n",
            "Iter 7700: loss=52.6308, time=769.05s\n",
            "iter 7700: dev acc=0.4796\n",
            "Iter 7800: loss=53.6796, time=780.05s\n",
            "iter 7800: dev acc=0.4896\n",
            "Iter 7900: loss=53.8756, time=789.44s\n",
            "iter 7900: dev acc=0.4687\n",
            "Iter 8000: loss=53.7142, time=798.94s\n",
            "iter 8000: dev acc=0.4796\n",
            "Iter 8100: loss=54.3961, time=809.29s\n",
            "iter 8100: dev acc=0.4614\n",
            "Iter 8200: loss=53.5834, time=819.10s\n",
            "iter 8200: dev acc=0.4705\n",
            "Iter 8300: loss=54.1985, time=828.86s\n",
            "iter 8300: dev acc=0.4768\n",
            "Iter 8400: loss=54.1658, time=837.92s\n",
            "iter 8400: dev acc=0.4777\n",
            "Iter 8500: loss=53.0191, time=847.66s\n",
            "iter 8500: dev acc=0.4732\n",
            "Iter 8600: loss=52.2662, time=857.63s\n",
            "iter 8600: dev acc=0.4623\n",
            "Iter 8700: loss=52.7169, time=867.31s\n",
            "iter 8700: dev acc=0.4641\n",
            "Iter 8800: loss=53.4202, time=876.14s\n",
            "iter 8800: dev acc=0.4750\n",
            "Iter 8900: loss=52.3344, time=886.08s\n",
            "iter 8900: dev acc=0.4787\n",
            "Iter 9000: loss=51.6433, time=897.33s\n",
            "iter 9000: dev acc=0.4814\n",
            "Iter 9100: loss=53.1214, time=906.98s\n",
            "iter 9100: dev acc=0.4886\n",
            "Iter 9200: loss=52.3300, time=916.88s\n",
            "iter 9200: dev acc=0.4705\n",
            "Iter 9300: loss=53.0560, time=926.15s\n",
            "iter 9300: dev acc=0.4877\n",
            "Iter 9400: loss=54.3787, time=936.09s\n",
            "iter 9400: dev acc=0.4932\n",
            "new highscore\n",
            "Iter 9500: loss=51.4924, time=946.00s\n",
            "iter 9500: dev acc=0.4986\n",
            "new highscore\n",
            "Shuffling training data\n",
            "Iter 9600: loss=51.2930, time=956.19s\n",
            "iter 9600: dev acc=0.4914\n",
            "Iter 9700: loss=51.6429, time=965.02s\n",
            "iter 9700: dev acc=0.4768\n",
            "Iter 9800: loss=51.7024, time=976.09s\n",
            "iter 9800: dev acc=0.4923\n",
            "Iter 9900: loss=52.8477, time=986.19s\n",
            "iter 9900: dev acc=0.4777\n",
            "Iter 10000: loss=51.5692, time=996.11s\n",
            "iter 10000: dev acc=0.4668\n",
            "Iter 10100: loss=51.5930, time=1006.74s\n",
            "iter 10100: dev acc=0.4832\n",
            "Iter 10200: loss=50.9740, time=1016.42s\n",
            "iter 10200: dev acc=0.4859\n",
            "Iter 10300: loss=51.8277, time=1026.21s\n",
            "iter 10300: dev acc=0.4868\n",
            "Iter 10400: loss=50.4355, time=1036.06s\n",
            "iter 10400: dev acc=0.4723\n",
            "Iter 10500: loss=52.1005, time=1045.10s\n",
            "iter 10500: dev acc=0.4759\n",
            "Iter 10600: loss=50.8296, time=1055.60s\n",
            "iter 10600: dev acc=0.4723\n",
            "Iter 10700: loss=51.2154, time=1066.00s\n",
            "iter 10700: dev acc=0.4768\n",
            "Iter 10800: loss=51.8443, time=1075.96s\n",
            "iter 10800: dev acc=0.4750\n",
            "Iter 10900: loss=51.2816, time=1085.36s\n",
            "iter 10900: dev acc=0.4832\n",
            "Iter 11000: loss=51.5086, time=1095.23s\n",
            "iter 11000: dev acc=0.4805\n",
            "Iter 11100: loss=50.8397, time=1105.48s\n",
            "iter 11100: dev acc=0.4805\n",
            "Iter 11200: loss=51.0128, time=1115.61s\n",
            "iter 11200: dev acc=0.4823\n",
            "Iter 11300: loss=50.4173, time=1127.35s\n",
            "iter 11300: dev acc=0.4750\n",
            "Iter 11400: loss=51.6022, time=1137.11s\n",
            "iter 11400: dev acc=0.4886\n",
            "Iter 11500: loss=52.1495, time=1146.67s\n",
            "iter 11500: dev acc=0.5032\n",
            "new highscore\n",
            "Iter 11600: loss=50.3923, time=1156.92s\n",
            "iter 11600: dev acc=0.4868\n",
            "Iter 11700: loss=51.6845, time=1167.17s\n",
            "iter 11700: dev acc=0.4705\n",
            "Iter 11800: loss=49.7823, time=1177.19s\n",
            "iter 11800: dev acc=0.4877\n",
            "Iter 11900: loss=51.2864, time=1186.21s\n",
            "iter 11900: dev acc=0.4968\n",
            "Iter 12000: loss=51.0671, time=1196.32s\n",
            "iter 12000: dev acc=0.4859\n",
            "Iter 12100: loss=48.8912, time=1206.47s\n",
            "iter 12100: dev acc=0.4968\n",
            "Iter 12200: loss=51.4571, time=1216.76s\n",
            "iter 12200: dev acc=0.4896\n",
            "Iter 12300: loss=50.9954, time=1228.04s\n",
            "iter 12300: dev acc=0.4823\n",
            "Iter 12400: loss=51.0710, time=1237.11s\n",
            "iter 12400: dev acc=0.4805\n",
            "Iter 12500: loss=50.8625, time=1248.42s\n",
            "iter 12500: dev acc=0.4886\n",
            "Iter 12600: loss=50.5448, time=1258.24s\n",
            "iter 12600: dev acc=0.4832\n",
            "Iter 12700: loss=51.3466, time=1268.35s\n",
            "iter 12700: dev acc=0.4859\n",
            "Shuffling training data\n",
            "Iter 12800: loss=50.2598, time=1277.43s\n",
            "iter 12800: dev acc=0.4968\n",
            "Iter 12900: loss=49.9695, time=1286.84s\n",
            "iter 12900: dev acc=0.4841\n",
            "Iter 13000: loss=50.4387, time=1296.70s\n",
            "iter 13000: dev acc=0.4796\n",
            "Iter 13100: loss=49.8165, time=1306.63s\n",
            "iter 13100: dev acc=0.4850\n",
            "Iter 13200: loss=50.7283, time=1315.52s\n",
            "iter 13200: dev acc=0.4841\n",
            "Iter 13300: loss=49.8315, time=1325.47s\n",
            "iter 13300: dev acc=0.4877\n",
            "Iter 13400: loss=50.8163, time=1335.43s\n",
            "iter 13400: dev acc=0.4841\n",
            "Iter 13500: loss=48.7917, time=1346.97s\n",
            "iter 13500: dev acc=0.4877\n",
            "Iter 13600: loss=49.6804, time=1356.54s\n",
            "iter 13600: dev acc=0.4950\n",
            "Iter 13700: loss=48.8557, time=1366.11s\n",
            "iter 13700: dev acc=0.4877\n",
            "Iter 13800: loss=48.7718, time=1375.79s\n",
            "iter 13800: dev acc=0.4923\n",
            "Iter 13900: loss=48.6571, time=1385.79s\n",
            "iter 13900: dev acc=0.4832\n",
            "Iter 14000: loss=49.4487, time=1395.76s\n",
            "iter 14000: dev acc=0.4796\n",
            "Iter 14100: loss=49.2042, time=1405.15s\n",
            "iter 14100: dev acc=0.4977\n",
            "Iter 14200: loss=49.8979, time=1415.46s\n",
            "iter 14200: dev acc=0.4850\n",
            "Iter 14300: loss=50.2671, time=1425.62s\n",
            "iter 14300: dev acc=0.4905\n",
            "Iter 14400: loss=49.1793, time=1435.70s\n",
            "iter 14400: dev acc=0.4678\n",
            "Iter 14500: loss=48.2673, time=1447.03s\n",
            "iter 14500: dev acc=0.4914\n",
            "Iter 14600: loss=51.7045, time=1456.23s\n",
            "iter 14600: dev acc=0.4877\n",
            "Iter 14700: loss=49.5338, time=1466.01s\n",
            "iter 14700: dev acc=0.4950\n",
            "Iter 14800: loss=48.7808, time=1475.83s\n",
            "iter 14800: dev acc=0.4723\n",
            "Iter 14900: loss=49.7071, time=1485.34s\n",
            "iter 14900: dev acc=0.4796\n",
            "Iter 15000: loss=48.9316, time=1494.61s\n",
            "iter 15000: dev acc=0.4796\n",
            "Iter 15100: loss=50.3343, time=1504.57s\n",
            "iter 15100: dev acc=0.4932\n",
            "Iter 15200: loss=48.5677, time=1514.26s\n",
            "iter 15200: dev acc=0.4787\n",
            "Iter 15300: loss=50.2202, time=1525.06s\n",
            "iter 15300: dev acc=0.4877\n",
            "Iter 15400: loss=49.7152, time=1534.32s\n",
            "iter 15400: dev acc=0.4823\n",
            "Iter 15500: loss=48.7961, time=1544.70s\n",
            "iter 15500: dev acc=0.4805\n",
            "Iter 15600: loss=49.9505, time=1554.80s\n",
            "iter 15600: dev acc=0.4805\n",
            "Iter 15700: loss=47.8407, time=1566.36s\n",
            "iter 15700: dev acc=0.4741\n",
            "Iter 15800: loss=49.0378, time=1576.34s\n",
            "iter 15800: dev acc=0.4759\n",
            "Iter 15900: loss=48.3854, time=1585.06s\n",
            "iter 15900: dev acc=0.4850\n",
            "Done training\n",
            "Loading best model\n"
          ]
        },
        {
          "output_type": "stream",
          "name": "stderr",
          "text": [
            "<ipython-input-26-07f34c5b57a1>:91: FutureWarning: You are using `torch.load` with `weights_only=False` (the current default value), which uses the default pickle module implicitly. It is possible to construct malicious pickle data which will execute arbitrary code during unpickling (See https://github.com/pytorch/pytorch/blob/main/SECURITY.md#untrusted-models for more details). In a future release, the default value for `weights_only` will be flipped to `True`. This limits the functions that could be executed during unpickling. Arbitrary objects will no longer be allowed to be loaded via this mode unless they are explicitly allowlisted by the user via `torch.serialization.add_safe_globals`. We recommend you start setting `weights_only=True` for any use case where you don't have full control of the loaded file. Please open an issue on GitHub for any issues related to this experimental feature.\n",
            "  ckpt = torch.load(path)\n"
          ]
        },
        {
          "output_type": "stream",
          "name": "stdout",
          "text": [
            "best model iter 11500: train acc=0.7984, dev acc=0.5032, test acc=0.4864\n",
            "Best Test Accuracy for seed 42: 0.4864\n",
            "Shuffling training data\n",
            "Iter 100: loss=125.6787, time=9.58s\n",
            "iter 100: dev acc=0.2670\n",
            "new highscore\n",
            "Iter 200: loss=89.5204, time=19.49s\n",
            "iter 200: dev acc=0.3606\n",
            "new highscore\n",
            "Iter 300: loss=78.6281, time=28.93s\n",
            "iter 300: dev acc=0.3806\n",
            "new highscore\n",
            "Iter 400: loss=74.6946, time=38.67s\n",
            "iter 400: dev acc=0.3860\n",
            "new highscore\n",
            "Iter 500: loss=70.7272, time=48.50s\n",
            "iter 500: dev acc=0.3987\n",
            "new highscore\n",
            "Iter 600: loss=69.2859, time=58.18s\n",
            "iter 600: dev acc=0.4033\n",
            "new highscore\n",
            "Iter 700: loss=68.5997, time=69.81s\n",
            "iter 700: dev acc=0.4142\n",
            "new highscore\n",
            "Iter 800: loss=66.8498, time=79.15s\n",
            "iter 800: dev acc=0.4105\n",
            "Iter 900: loss=65.5648, time=89.28s\n",
            "iter 900: dev acc=0.4223\n",
            "new highscore\n",
            "Iter 1000: loss=65.5496, time=99.21s\n",
            "iter 1000: dev acc=0.4233\n",
            "new highscore\n",
            "Iter 1100: loss=64.3652, time=110.48s\n",
            "iter 1100: dev acc=0.4196\n",
            "Iter 1200: loss=62.8466, time=119.30s\n",
            "iter 1200: dev acc=0.4278\n",
            "new highscore\n",
            "Iter 1300: loss=62.5966, time=128.92s\n",
            "iter 1300: dev acc=0.4251\n",
            "Iter 1400: loss=61.6640, time=138.40s\n",
            "iter 1400: dev acc=0.4205\n",
            "Iter 1500: loss=61.5144, time=148.42s\n",
            "iter 1500: dev acc=0.4332\n",
            "new highscore\n",
            "Iter 1600: loss=62.8549, time=157.55s\n",
            "iter 1600: dev acc=0.4332\n",
            "Iter 1700: loss=62.0079, time=167.35s\n",
            "iter 1700: dev acc=0.4496\n",
            "new highscore\n",
            "Iter 1800: loss=61.1583, time=178.73s\n",
            "iter 1800: dev acc=0.4296\n",
            "Iter 1900: loss=59.9242, time=188.17s\n",
            "iter 1900: dev acc=0.4469\n",
            "Iter 2000: loss=61.1465, time=197.05s\n",
            "iter 2000: dev acc=0.4242\n",
            "Iter 2100: loss=61.7668, time=207.02s\n",
            "iter 2100: dev acc=0.4387\n",
            "Iter 2200: loss=61.0399, time=217.10s\n",
            "iter 2200: dev acc=0.4496\n",
            "Iter 2300: loss=59.8837, time=227.27s\n",
            "iter 2300: dev acc=0.4496\n",
            "Iter 2400: loss=58.5979, time=237.37s\n",
            "iter 2400: dev acc=0.4496\n",
            "Iter 2500: loss=59.6825, time=246.74s\n",
            "iter 2500: dev acc=0.4605\n",
            "new highscore\n",
            "Iter 2600: loss=59.4831, time=256.61s\n",
            "iter 2600: dev acc=0.4623\n",
            "new highscore\n",
            "Iter 2700: loss=58.7642, time=266.82s\n",
            "iter 2700: dev acc=0.4441\n",
            "Iter 2800: loss=57.5051, time=276.74s\n",
            "iter 2800: dev acc=0.4578\n",
            "Iter 2900: loss=57.8531, time=287.44s\n",
            "iter 2900: dev acc=0.4432\n",
            "Iter 3000: loss=58.1837, time=296.86s\n",
            "iter 3000: dev acc=0.4578\n",
            "Iter 3100: loss=57.7822, time=306.66s\n",
            "iter 3100: dev acc=0.4550\n",
            "Shuffling training data\n",
            "Iter 3200: loss=57.1190, time=316.84s\n",
            "iter 3200: dev acc=0.4596\n",
            "Iter 3300: loss=57.2179, time=325.88s\n",
            "iter 3300: dev acc=0.4441\n",
            "Iter 3400: loss=57.0591, time=335.50s\n",
            "iter 3400: dev acc=0.4605\n",
            "Iter 3500: loss=56.2218, time=345.52s\n",
            "iter 3500: dev acc=0.4550\n",
            "Iter 3600: loss=55.8486, time=355.50s\n",
            "iter 3600: dev acc=0.4614\n",
            "Iter 3700: loss=57.5251, time=365.07s\n",
            "iter 3700: dev acc=0.4596\n",
            "Iter 3800: loss=57.6327, time=374.41s\n",
            "iter 3800: dev acc=0.4741\n",
            "new highscore\n",
            "Iter 3900: loss=56.3777, time=385.56s\n",
            "iter 3900: dev acc=0.4705\n",
            "Iter 4000: loss=57.3439, time=395.26s\n",
            "iter 4000: dev acc=0.4605\n",
            "Iter 4100: loss=57.0915, time=406.46s\n",
            "iter 4100: dev acc=0.4605\n",
            "Iter 4200: loss=57.5630, time=415.84s\n",
            "iter 4200: dev acc=0.4632\n",
            "Iter 4300: loss=56.6855, time=425.27s\n",
            "iter 4300: dev acc=0.4696\n",
            "Iter 4400: loss=54.5653, time=434.96s\n",
            "iter 4400: dev acc=0.4605\n",
            "Iter 4500: loss=56.0669, time=444.55s\n",
            "iter 4500: dev acc=0.4714\n",
            "Iter 4600: loss=56.3812, time=453.61s\n",
            "iter 4600: dev acc=0.4732\n",
            "Iter 4700: loss=55.9613, time=463.56s\n",
            "iter 4700: dev acc=0.4714\n",
            "Iter 4800: loss=54.4835, time=473.63s\n",
            "iter 4800: dev acc=0.4705\n",
            "Iter 4900: loss=56.0206, time=483.66s\n",
            "iter 4900: dev acc=0.4678\n",
            "Iter 5000: loss=55.4811, time=493.35s\n",
            "iter 5000: dev acc=0.4705\n",
            "Iter 5100: loss=55.1790, time=502.75s\n",
            "iter 5100: dev acc=0.4668\n",
            "Iter 5200: loss=57.2635, time=514.43s\n",
            "iter 5200: dev acc=0.4659\n",
            "Iter 5300: loss=55.6775, time=524.39s\n",
            "iter 5300: dev acc=0.4559\n",
            "Iter 5400: loss=55.0341, time=534.61s\n",
            "iter 5400: dev acc=0.4578\n",
            "Iter 5500: loss=55.3995, time=544.18s\n",
            "iter 5500: dev acc=0.4596\n",
            "Iter 5600: loss=55.3934, time=553.68s\n",
            "iter 5600: dev acc=0.4532\n",
            "Iter 5700: loss=54.0608, time=564.17s\n",
            "iter 5700: dev acc=0.4796\n",
            "new highscore\n",
            "Iter 5800: loss=55.0693, time=574.61s\n",
            "iter 5800: dev acc=0.4632\n",
            "Iter 5900: loss=54.4632, time=585.18s\n",
            "iter 5900: dev acc=0.4714\n",
            "Iter 6000: loss=56.1462, time=595.27s\n",
            "iter 6000: dev acc=0.4587\n",
            "Iter 6100: loss=53.8553, time=605.06s\n",
            "iter 6100: dev acc=0.4641\n",
            "Iter 6200: loss=54.1037, time=615.34s\n",
            "iter 6200: dev acc=0.4768\n",
            "Iter 6300: loss=54.1924, time=627.31s\n",
            "iter 6300: dev acc=0.4723\n",
            "Shuffling training data\n",
            "Iter 6400: loss=54.0397, time=637.77s\n",
            "iter 6400: dev acc=0.4732\n",
            "Iter 6500: loss=54.2933, time=648.04s\n",
            "iter 6500: dev acc=0.4723\n",
            "Iter 6600: loss=54.8769, time=658.91s\n",
            "iter 6600: dev acc=0.4759\n",
            "Iter 6700: loss=53.8951, time=668.74s\n",
            "iter 6700: dev acc=0.4787\n",
            "Iter 6800: loss=53.8631, time=679.04s\n",
            "iter 6800: dev acc=0.4705\n",
            "Iter 6900: loss=53.6115, time=689.22s\n",
            "iter 6900: dev acc=0.4905\n",
            "new highscore\n",
            "Iter 7000: loss=53.2128, time=699.73s\n",
            "iter 7000: dev acc=0.4950\n",
            "new highscore\n",
            "Iter 7100: loss=53.4355, time=709.76s\n",
            "iter 7100: dev acc=0.4814\n",
            "Iter 7200: loss=52.6663, time=719.95s\n",
            "iter 7200: dev acc=0.4787\n",
            "Iter 7300: loss=53.8573, time=731.94s\n",
            "iter 7300: dev acc=0.4823\n",
            "Iter 7400: loss=54.3267, time=742.26s\n",
            "iter 7400: dev acc=0.4732\n",
            "Iter 7500: loss=54.2531, time=752.32s\n",
            "iter 7500: dev acc=0.4787\n",
            "Iter 7600: loss=53.7726, time=762.45s\n",
            "iter 7600: dev acc=0.4787\n",
            "Iter 7700: loss=53.6359, time=771.47s\n",
            "iter 7700: dev acc=0.4759\n",
            "Iter 7800: loss=53.1837, time=781.58s\n",
            "iter 7800: dev acc=0.4750\n",
            "Iter 7900: loss=53.3087, time=791.53s\n",
            "iter 7900: dev acc=0.4714\n",
            "Iter 8000: loss=53.6279, time=801.69s\n",
            "iter 8000: dev acc=0.4741\n",
            "Iter 8100: loss=52.7269, time=811.04s\n",
            "iter 8100: dev acc=0.4759\n",
            "Iter 8200: loss=53.5182, time=821.34s\n",
            "iter 8200: dev acc=0.4723\n",
            "Iter 8300: loss=52.0177, time=831.49s\n",
            "iter 8300: dev acc=0.4732\n",
            "Iter 8400: loss=53.9189, time=841.67s\n",
            "iter 8400: dev acc=0.4787\n",
            "Iter 8500: loss=51.8873, time=853.58s\n",
            "iter 8500: dev acc=0.4759\n",
            "Iter 8600: loss=52.0094, time=863.48s\n",
            "iter 8600: dev acc=0.4750\n",
            "Iter 8700: loss=53.3280, time=873.57s\n",
            "iter 8700: dev acc=0.4832\n",
            "Iter 8800: loss=51.9535, time=883.82s\n",
            "iter 8800: dev acc=0.4868\n",
            "Iter 8900: loss=52.0943, time=894.17s\n",
            "iter 8900: dev acc=0.4823\n",
            "Iter 9000: loss=52.9954, time=904.39s\n",
            "iter 9000: dev acc=0.4805\n",
            "Iter 9100: loss=52.1601, time=913.84s\n",
            "iter 9100: dev acc=0.4723\n",
            "Iter 9200: loss=52.1314, time=924.05s\n",
            "iter 9200: dev acc=0.4832\n",
            "Iter 9300: loss=53.9629, time=935.81s\n",
            "iter 9300: dev acc=0.4741\n",
            "Iter 9400: loss=52.5065, time=946.16s\n",
            "iter 9400: dev acc=0.4850\n",
            "Iter 9500: loss=53.5845, time=956.02s\n",
            "iter 9500: dev acc=0.4814\n",
            "Shuffling training data\n",
            "Iter 9600: loss=51.2296, time=967.18s\n",
            "iter 9600: dev acc=0.4750\n",
            "Iter 9700: loss=50.9828, time=977.48s\n",
            "iter 9700: dev acc=0.4841\n",
            "Iter 9800: loss=52.8272, time=987.74s\n",
            "iter 9800: dev acc=0.4832\n",
            "Iter 9900: loss=51.3847, time=998.14s\n",
            "iter 9900: dev acc=0.4796\n",
            "Iter 10000: loss=53.0638, time=1008.41s\n",
            "iter 10000: dev acc=0.4923\n",
            "Iter 10100: loss=51.3181, time=1017.61s\n",
            "iter 10100: dev acc=0.4941\n",
            "Iter 10200: loss=51.7860, time=1027.96s\n",
            "iter 10200: dev acc=0.4687\n",
            "Iter 10300: loss=52.7363, time=1038.28s\n",
            "iter 10300: dev acc=0.4714\n",
            "Iter 10400: loss=51.5665, time=1048.22s\n",
            "iter 10400: dev acc=0.4832\n",
            "Iter 10500: loss=52.0720, time=1057.27s\n",
            "iter 10500: dev acc=0.4823\n",
            "Iter 10600: loss=51.5892, time=1067.25s\n",
            "iter 10600: dev acc=0.4850\n",
            "Iter 10700: loss=50.9857, time=1078.79s\n",
            "iter 10700: dev acc=0.4805\n",
            "Iter 10800: loss=49.6184, time=1088.59s\n",
            "iter 10800: dev acc=0.4777\n",
            "Iter 10900: loss=51.0750, time=1097.91s\n",
            "iter 10900: dev acc=0.4832\n",
            "Iter 11000: loss=51.0764, time=1107.30s\n",
            "iter 11000: dev acc=0.4668\n",
            "Iter 11100: loss=50.7701, time=1117.20s\n",
            "iter 11100: dev acc=0.4714\n",
            "Iter 11200: loss=50.7906, time=1127.21s\n",
            "iter 11200: dev acc=0.4923\n",
            "Iter 11300: loss=50.1778, time=1136.84s\n",
            "iter 11300: dev acc=0.4805\n",
            "Iter 11400: loss=51.0764, time=1145.68s\n",
            "iter 11400: dev acc=0.4805\n",
            "Iter 11500: loss=50.9967, time=1155.52s\n",
            "iter 11500: dev acc=0.4787\n",
            "Iter 11600: loss=52.8064, time=1165.29s\n",
            "iter 11600: dev acc=0.4768\n",
            "Iter 11700: loss=52.5302, time=1174.66s\n",
            "iter 11700: dev acc=0.4850\n",
            "Iter 11800: loss=51.4090, time=1183.83s\n",
            "iter 11800: dev acc=0.4777\n",
            "Iter 11900: loss=51.8619, time=1195.29s\n",
            "iter 11900: dev acc=0.4859\n",
            "Iter 12000: loss=50.6272, time=1206.79s\n",
            "iter 12000: dev acc=0.4877\n",
            "Iter 12100: loss=49.6442, time=1216.49s\n",
            "iter 12100: dev acc=0.4859\n",
            "Iter 12200: loss=51.6115, time=1225.60s\n",
            "iter 12200: dev acc=0.4877\n",
            "Iter 12300: loss=50.1563, time=1235.14s\n",
            "iter 12300: dev acc=0.4896\n",
            "Iter 12400: loss=50.7671, time=1245.23s\n",
            "iter 12400: dev acc=0.4914\n",
            "Iter 12500: loss=49.5013, time=1255.01s\n",
            "iter 12500: dev acc=0.4841\n",
            "Iter 12600: loss=51.5172, time=1264.08s\n",
            "iter 12600: dev acc=0.4841\n",
            "Iter 12700: loss=50.4349, time=1273.59s\n",
            "iter 12700: dev acc=0.4732\n",
            "Shuffling training data\n",
            "Iter 12800: loss=50.1009, time=1283.71s\n",
            "iter 12800: dev acc=0.4905\n",
            "Iter 12900: loss=49.1959, time=1293.41s\n",
            "iter 12900: dev acc=0.4623\n",
            "Iter 13000: loss=49.9421, time=1304.70s\n",
            "iter 13000: dev acc=0.4877\n",
            "Iter 13100: loss=51.0855, time=1313.83s\n",
            "iter 13100: dev acc=0.4923\n",
            "Iter 13200: loss=50.7155, time=1323.79s\n",
            "iter 13200: dev acc=0.4859\n",
            "Iter 13300: loss=48.8736, time=1333.69s\n",
            "iter 13300: dev acc=0.4868\n",
            "Iter 13400: loss=48.9658, time=1343.56s\n",
            "iter 13400: dev acc=0.4914\n",
            "Iter 13500: loss=49.2579, time=1352.60s\n",
            "iter 13500: dev acc=0.4750\n",
            "Iter 13600: loss=51.2709, time=1362.56s\n",
            "iter 13600: dev acc=0.4896\n",
            "Iter 13700: loss=49.4676, time=1372.33s\n",
            "iter 13700: dev acc=0.4941\n",
            "Iter 13800: loss=50.7123, time=1381.98s\n",
            "iter 13800: dev acc=0.4914\n",
            "Iter 13900: loss=47.8934, time=1390.64s\n",
            "iter 13900: dev acc=0.4950\n",
            "Iter 14000: loss=50.1378, time=1400.41s\n",
            "iter 14000: dev acc=0.4977\n",
            "new highscore\n",
            "Iter 14100: loss=51.2385, time=1412.20s\n",
            "iter 14100: dev acc=0.4932\n",
            "Iter 14200: loss=49.5755, time=1421.97s\n",
            "iter 14200: dev acc=0.4914\n",
            "Iter 14300: loss=49.4870, time=1431.70s\n",
            "iter 14300: dev acc=0.4877\n",
            "Iter 14400: loss=50.9081, time=1441.17s\n",
            "iter 14400: dev acc=0.4914\n",
            "Iter 14500: loss=49.1791, time=1450.90s\n",
            "iter 14500: dev acc=0.4823\n",
            "Iter 14600: loss=49.5209, time=1460.76s\n",
            "iter 14600: dev acc=0.4668\n",
            "Iter 14700: loss=47.9038, time=1470.57s\n",
            "iter 14700: dev acc=0.4787\n",
            "Iter 14800: loss=49.9111, time=1480.43s\n",
            "iter 14800: dev acc=0.4886\n",
            "Iter 14900: loss=49.3162, time=1490.19s\n",
            "iter 14900: dev acc=0.4859\n",
            "Iter 15000: loss=49.6974, time=1500.35s\n",
            "iter 15000: dev acc=0.4850\n",
            "Iter 15100: loss=49.8908, time=1510.38s\n",
            "iter 15100: dev acc=0.4850\n",
            "Iter 15200: loss=49.4763, time=1521.09s\n",
            "iter 15200: dev acc=0.4859\n",
            "Iter 15300: loss=48.7004, time=1531.24s\n",
            "iter 15300: dev acc=0.4941\n",
            "Iter 15400: loss=49.0408, time=1541.21s\n",
            "iter 15400: dev acc=0.4896\n",
            "Iter 15500: loss=49.3827, time=1551.12s\n",
            "iter 15500: dev acc=0.4914\n",
            "Iter 15600: loss=50.1925, time=1561.20s\n",
            "iter 15600: dev acc=0.4923\n",
            "Iter 15700: loss=47.6433, time=1570.52s\n",
            "iter 15700: dev acc=0.4859\n",
            "Iter 15800: loss=47.3274, time=1580.47s\n",
            "iter 15800: dev acc=0.4823\n",
            "Iter 15900: loss=48.3327, time=1590.62s\n",
            "iter 15900: dev acc=0.4696\n",
            "Done training\n",
            "Loading best model\n",
            "best model iter 14000: train acc=0.8060, dev acc=0.4977, test acc=0.5027\n",
            "Best Test Accuracy for seed 123: 0.5027\n",
            "Shuffling training data\n",
            "Iter 100: loss=124.6988, time=8.88s\n",
            "iter 100: dev acc=0.2661\n",
            "new highscore\n",
            "Iter 200: loss=90.2181, time=20.19s\n",
            "iter 200: dev acc=0.3424\n",
            "new highscore\n",
            "Iter 300: loss=80.3508, time=30.04s\n",
            "iter 300: dev acc=0.3751\n",
            "new highscore\n",
            "Iter 400: loss=76.3563, time=39.93s\n",
            "iter 400: dev acc=0.3851\n",
            "new highscore\n",
            "Iter 500: loss=71.0452, time=50.90s\n",
            "iter 500: dev acc=0.3797\n",
            "Iter 600: loss=68.3307, time=60.19s\n",
            "iter 600: dev acc=0.3742\n",
            "Iter 700: loss=68.2518, time=69.90s\n",
            "iter 700: dev acc=0.3987\n",
            "new highscore\n",
            "Iter 800: loss=67.3593, time=80.16s\n",
            "iter 800: dev acc=0.4105\n",
            "new highscore\n",
            "Iter 900: loss=64.8749, time=90.77s\n",
            "iter 900: dev acc=0.4169\n",
            "new highscore\n",
            "Iter 1000: loss=65.4179, time=100.10s\n",
            "iter 1000: dev acc=0.4223\n",
            "new highscore\n",
            "Iter 1100: loss=64.7316, time=110.14s\n",
            "iter 1100: dev acc=0.4169\n",
            "Iter 1200: loss=63.2627, time=120.26s\n",
            "iter 1200: dev acc=0.4287\n",
            "new highscore\n",
            "Iter 1300: loss=63.3719, time=132.01s\n",
            "iter 1300: dev acc=0.4342\n",
            "new highscore\n",
            "Iter 1400: loss=61.8742, time=141.98s\n",
            "iter 1400: dev acc=0.4496\n",
            "new highscore\n",
            "Iter 1500: loss=61.8936, time=150.89s\n",
            "iter 1500: dev acc=0.4251\n",
            "Iter 1600: loss=61.3789, time=160.75s\n",
            "iter 1600: dev acc=0.4478\n",
            "Iter 1700: loss=61.9691, time=170.79s\n",
            "iter 1700: dev acc=0.4378\n",
            "Iter 1800: loss=60.8129, time=180.32s\n",
            "iter 1800: dev acc=0.4387\n",
            "Iter 1900: loss=61.8907, time=189.05s\n",
            "iter 1900: dev acc=0.4469\n",
            "Iter 2000: loss=61.8490, time=198.86s\n",
            "iter 2000: dev acc=0.4405\n",
            "Iter 2100: loss=59.0691, time=208.41s\n",
            "iter 2100: dev acc=0.4478\n",
            "Iter 2200: loss=59.5715, time=217.88s\n",
            "iter 2200: dev acc=0.4505\n",
            "new highscore\n",
            "Iter 2300: loss=58.6515, time=227.18s\n",
            "iter 2300: dev acc=0.4496\n",
            "Iter 2400: loss=60.2385, time=238.69s\n",
            "iter 2400: dev acc=0.4668\n",
            "new highscore\n",
            "Iter 2500: loss=58.0821, time=248.74s\n",
            "iter 2500: dev acc=0.4423\n",
            "Iter 2600: loss=58.7194, time=258.81s\n",
            "iter 2600: dev acc=0.4487\n",
            "Iter 2700: loss=58.5208, time=268.10s\n",
            "iter 2700: dev acc=0.4587\n",
            "Iter 2800: loss=59.2157, time=277.53s\n",
            "iter 2800: dev acc=0.4696\n",
            "new highscore\n",
            "Iter 2900: loss=58.4013, time=287.36s\n",
            "iter 2900: dev acc=0.4650\n",
            "Iter 3000: loss=58.3070, time=297.42s\n",
            "iter 3000: dev acc=0.4714\n",
            "new highscore\n",
            "Iter 3100: loss=58.2231, time=307.19s\n",
            "iter 3100: dev acc=0.4659\n",
            "Shuffling training data\n",
            "Iter 3200: loss=58.8491, time=317.27s\n",
            "iter 3200: dev acc=0.4623\n",
            "Iter 3300: loss=58.5401, time=327.69s\n",
            "iter 3300: dev acc=0.4668\n",
            "Iter 3400: loss=58.1358, time=337.56s\n",
            "iter 3400: dev acc=0.4705\n",
            "Iter 3500: loss=56.4845, time=347.30s\n",
            "iter 3500: dev acc=0.4678\n",
            "Iter 3600: loss=55.4925, time=358.00s\n",
            "iter 3600: dev acc=0.4496\n",
            "Iter 3700: loss=57.2742, time=367.31s\n",
            "iter 3700: dev acc=0.4641\n",
            "Iter 3800: loss=58.0432, time=377.25s\n",
            "iter 3800: dev acc=0.4687\n",
            "Iter 3900: loss=56.4971, time=387.23s\n",
            "iter 3900: dev acc=0.4705\n",
            "Iter 4000: loss=56.2631, time=396.79s\n",
            "iter 4000: dev acc=0.4641\n",
            "Iter 4100: loss=56.5415, time=406.04s\n",
            "iter 4100: dev acc=0.4587\n",
            "Iter 4200: loss=57.2282, time=415.86s\n",
            "iter 4200: dev acc=0.4705\n",
            "Iter 4300: loss=56.4188, time=425.53s\n",
            "iter 4300: dev acc=0.4605\n",
            "Iter 4400: loss=55.9043, time=435.52s\n",
            "iter 4400: dev acc=0.4641\n",
            "Iter 4500: loss=56.8875, time=444.80s\n",
            "iter 4500: dev acc=0.4614\n",
            "Iter 4600: loss=55.7860, time=454.75s\n",
            "iter 4600: dev acc=0.4768\n",
            "new highscore\n",
            "Iter 4700: loss=56.3307, time=466.23s\n",
            "iter 4700: dev acc=0.4668\n",
            "Iter 4800: loss=55.4678, time=476.23s\n",
            "iter 4800: dev acc=0.4696\n",
            "Iter 4900: loss=56.3399, time=485.10s\n",
            "iter 4900: dev acc=0.4732\n",
            "Iter 5000: loss=55.9570, time=494.81s\n",
            "iter 5000: dev acc=0.4678\n",
            "Iter 5100: loss=54.1919, time=504.58s\n",
            "iter 5100: dev acc=0.4596\n",
            "Iter 5200: loss=55.1821, time=514.46s\n",
            "iter 5200: dev acc=0.4732\n",
            "Iter 5300: loss=54.7212, time=523.63s\n",
            "iter 5300: dev acc=0.4759\n",
            "Iter 5400: loss=55.1725, time=533.48s\n",
            "iter 5400: dev acc=0.4777\n",
            "new highscore\n",
            "Iter 5500: loss=54.6057, time=543.76s\n",
            "iter 5500: dev acc=0.4796\n",
            "new highscore\n",
            "Iter 5600: loss=54.5540, time=554.00s\n",
            "iter 5600: dev acc=0.4705\n",
            "Iter 5700: loss=54.7390, time=564.11s\n",
            "iter 5700: dev acc=0.4741\n",
            "Iter 5800: loss=53.9264, time=575.11s\n",
            "iter 5800: dev acc=0.4614\n",
            "Iter 5900: loss=55.0122, time=585.51s\n",
            "iter 5900: dev acc=0.4687\n",
            "Iter 6000: loss=53.6705, time=595.64s\n",
            "iter 6000: dev acc=0.4796\n",
            "Iter 6100: loss=56.0094, time=605.57s\n",
            "iter 6100: dev acc=0.4723\n",
            "Iter 6200: loss=54.1208, time=615.01s\n",
            "iter 6200: dev acc=0.4805\n",
            "new highscore\n",
            "Iter 6300: loss=55.1972, time=624.36s\n",
            "iter 6300: dev acc=0.4714\n",
            "Shuffling training data\n",
            "Iter 6400: loss=55.6546, time=634.29s\n",
            "iter 6400: dev acc=0.4714\n",
            "Iter 6500: loss=54.4976, time=644.25s\n",
            "iter 6500: dev acc=0.4659\n",
            "Iter 6600: loss=54.0319, time=654.10s\n",
            "iter 6600: dev acc=0.4623\n",
            "Iter 6700: loss=53.3646, time=663.03s\n",
            "iter 6700: dev acc=0.4632\n",
            "Iter 6800: loss=53.9179, time=673.20s\n",
            "iter 6800: dev acc=0.4650\n",
            "Iter 6900: loss=53.2633, time=684.25s\n",
            "iter 6900: dev acc=0.4859\n",
            "new highscore\n",
            "Iter 7000: loss=53.6550, time=694.40s\n",
            "iter 7000: dev acc=0.4732\n",
            "Iter 7100: loss=53.5408, time=702.99s\n",
            "iter 7100: dev acc=0.4805\n",
            "Iter 7200: loss=52.6572, time=712.80s\n",
            "iter 7200: dev acc=0.4768\n",
            "Iter 7300: loss=52.4362, time=722.44s\n",
            "iter 7300: dev acc=0.4768\n",
            "Iter 7400: loss=53.0426, time=732.28s\n",
            "iter 7400: dev acc=0.4814\n",
            "Iter 7500: loss=53.7144, time=741.20s\n",
            "iter 7500: dev acc=0.4841\n",
            "Iter 7600: loss=53.5887, time=750.96s\n",
            "iter 7600: dev acc=0.4832\n",
            "Iter 7700: loss=53.4061, time=760.74s\n",
            "iter 7700: dev acc=0.4823\n",
            "Iter 7800: loss=52.0716, time=769.83s\n",
            "iter 7800: dev acc=0.4796\n",
            "Iter 7900: loss=54.9220, time=779.11s\n",
            "iter 7900: dev acc=0.4678\n",
            "Iter 8000: loss=52.5891, time=789.09s\n",
            "iter 8000: dev acc=0.4768\n",
            "Iter 8100: loss=53.2337, time=800.38s\n",
            "iter 8100: dev acc=0.4787\n",
            "Iter 8200: loss=53.8050, time=810.45s\n",
            "iter 8200: dev acc=0.4659\n",
            "Iter 8300: loss=52.9281, time=818.94s\n",
            "iter 8300: dev acc=0.4832\n",
            "Iter 8400: loss=53.4612, time=828.92s\n",
            "iter 8400: dev acc=0.4668\n",
            "Iter 8500: loss=52.7910, time=838.93s\n",
            "iter 8500: dev acc=0.4823\n",
            "Iter 8600: loss=53.9788, time=848.90s\n",
            "iter 8600: dev acc=0.4923\n",
            "new highscore\n",
            "Iter 8700: loss=52.9257, time=859.25s\n",
            "iter 8700: dev acc=0.4823\n",
            "Iter 8800: loss=52.5098, time=868.81s\n",
            "iter 8800: dev acc=0.4832\n",
            "Iter 8900: loss=52.0131, time=878.69s\n",
            "iter 8900: dev acc=0.4777\n",
            "Iter 9000: loss=52.4658, time=888.56s\n",
            "iter 9000: dev acc=0.4886\n",
            "Iter 9100: loss=51.2722, time=899.46s\n",
            "iter 9100: dev acc=0.4687\n",
            "Iter 9200: loss=51.3666, time=908.67s\n",
            "iter 9200: dev acc=0.4896\n",
            "Iter 9300: loss=52.1072, time=918.77s\n",
            "iter 9300: dev acc=0.4723\n",
            "Iter 9400: loss=53.8344, time=928.96s\n",
            "iter 9400: dev acc=0.4823\n",
            "Iter 9500: loss=52.7751, time=938.91s\n",
            "iter 9500: dev acc=0.4787\n",
            "Shuffling training data\n",
            "Iter 9600: loss=52.0234, time=948.32s\n",
            "iter 9600: dev acc=0.4805\n",
            "Iter 9700: loss=50.7429, time=958.15s\n",
            "iter 9700: dev acc=0.4814\n",
            "Iter 9800: loss=51.3873, time=968.26s\n",
            "iter 9800: dev acc=0.4886\n",
            "Iter 9900: loss=53.2342, time=978.58s\n",
            "iter 9900: dev acc=0.4877\n",
            "Iter 10000: loss=52.1554, time=988.07s\n",
            "iter 10000: dev acc=0.4796\n",
            "Iter 10100: loss=52.1412, time=997.78s\n",
            "iter 10100: dev acc=0.4805\n",
            "Iter 10200: loss=52.5694, time=1007.38s\n",
            "iter 10200: dev acc=0.4841\n",
            "Iter 10300: loss=50.4973, time=1019.02s\n",
            "iter 10300: dev acc=0.4877\n",
            "Iter 10400: loss=51.1395, time=1028.86s\n",
            "iter 10400: dev acc=0.4814\n",
            "Iter 10500: loss=51.2694, time=1037.89s\n",
            "iter 10500: dev acc=0.4823\n",
            "Iter 10600: loss=50.1491, time=1047.72s\n",
            "iter 10600: dev acc=0.4859\n",
            "Iter 10700: loss=51.8966, time=1057.88s\n",
            "iter 10700: dev acc=0.4768\n",
            "Iter 10800: loss=51.0531, time=1067.52s\n",
            "iter 10800: dev acc=0.4687\n",
            "Iter 10900: loss=52.6965, time=1076.34s\n",
            "iter 10900: dev acc=0.4668\n",
            "Iter 11000: loss=52.1545, time=1086.17s\n",
            "iter 11000: dev acc=0.4714\n",
            "Iter 11100: loss=51.9183, time=1096.11s\n",
            "iter 11100: dev acc=0.4868\n",
            "Iter 11200: loss=51.0597, time=1105.76s\n",
            "iter 11200: dev acc=0.4787\n",
            "Iter 11300: loss=50.4177, time=1114.37s\n",
            "iter 11300: dev acc=0.4814\n",
            "Iter 11400: loss=51.7187, time=1126.16s\n",
            "iter 11400: dev acc=0.4886\n",
            "Iter 11500: loss=51.2894, time=1136.46s\n",
            "iter 11500: dev acc=0.4814\n",
            "Iter 11600: loss=50.8233, time=1146.44s\n",
            "iter 11600: dev acc=0.4868\n",
            "Iter 11700: loss=50.6890, time=1156.28s\n",
            "iter 11700: dev acc=0.4841\n",
            "Iter 11800: loss=50.5680, time=1165.06s\n",
            "iter 11800: dev acc=0.4814\n",
            "Iter 11900: loss=50.6656, time=1174.80s\n",
            "iter 11900: dev acc=0.4886\n",
            "Iter 12000: loss=50.9382, time=1184.39s\n",
            "iter 12000: dev acc=0.4868\n",
            "Iter 12100: loss=50.2977, time=1193.81s\n",
            "iter 12100: dev acc=0.4859\n",
            "Iter 12200: loss=50.6242, time=1202.80s\n",
            "iter 12200: dev acc=0.4787\n",
            "Iter 12300: loss=49.5135, time=1212.53s\n",
            "iter 12300: dev acc=0.4859\n",
            "Iter 12400: loss=50.7154, time=1223.00s\n",
            "iter 12400: dev acc=0.4814\n",
            "Iter 12500: loss=50.8010, time=1237.03s\n",
            "iter 12500: dev acc=0.4896\n",
            "Iter 12600: loss=51.1117, time=1246.82s\n",
            "iter 12600: dev acc=0.4896\n",
            "Iter 12700: loss=49.6737, time=1255.50s\n",
            "iter 12700: dev acc=0.4859\n",
            "Shuffling training data\n",
            "Iter 12800: loss=49.7578, time=1265.61s\n",
            "iter 12800: dev acc=0.4886\n",
            "Iter 12900: loss=50.6525, time=1275.25s\n",
            "iter 12900: dev acc=0.4886\n",
            "Iter 13000: loss=50.5573, time=1284.88s\n",
            "iter 13000: dev acc=0.4814\n",
            "Iter 13100: loss=49.5083, time=1293.59s\n",
            "iter 13100: dev acc=0.4941\n",
            "new highscore\n",
            "Iter 13200: loss=49.9345, time=1304.28s\n",
            "iter 13200: dev acc=0.4759\n",
            "Iter 13300: loss=49.9868, time=1314.18s\n",
            "iter 13300: dev acc=0.4850\n",
            "Iter 13400: loss=51.2859, time=1323.70s\n",
            "iter 13400: dev acc=0.4941\n",
            "Iter 13500: loss=50.2493, time=1332.61s\n",
            "iter 13500: dev acc=0.4896\n",
            "Iter 13600: loss=48.6343, time=1343.89s\n",
            "iter 13600: dev acc=0.4850\n",
            "Iter 13700: loss=49.6251, time=1353.59s\n",
            "iter 13700: dev acc=0.4877\n",
            "Iter 13800: loss=48.4321, time=1363.59s\n",
            "iter 13800: dev acc=0.4923\n",
            "Iter 13900: loss=49.7626, time=1372.69s\n",
            "iter 13900: dev acc=0.4850\n",
            "Iter 14000: loss=48.7045, time=1382.00s\n",
            "iter 14000: dev acc=0.4923\n",
            "Iter 14100: loss=49.4226, time=1391.45s\n",
            "iter 14100: dev acc=0.4868\n",
            "Iter 14200: loss=49.5363, time=1402.62s\n",
            "iter 14200: dev acc=0.4823\n",
            "Iter 14300: loss=50.3944, time=1412.25s\n",
            "iter 14300: dev acc=0.4796\n",
            "Iter 14400: loss=50.3921, time=1422.58s\n",
            "iter 14400: dev acc=0.4977\n",
            "new highscore\n",
            "Iter 14500: loss=50.0582, time=1432.93s\n",
            "iter 14500: dev acc=0.4995\n",
            "new highscore\n",
            "Iter 14600: loss=48.6254, time=1445.04s\n",
            "iter 14600: dev acc=0.5059\n",
            "new highscore\n",
            "Iter 14700: loss=50.5998, time=1455.71s\n",
            "iter 14700: dev acc=0.4923\n",
            "Iter 14800: loss=49.5071, time=1465.28s\n",
            "iter 14800: dev acc=0.4768\n",
            "Iter 14900: loss=49.6176, time=1474.85s\n",
            "iter 14900: dev acc=0.4914\n",
            "Iter 15000: loss=49.0967, time=1484.96s\n",
            "iter 15000: dev acc=0.4732\n",
            "Iter 15100: loss=50.0739, time=1494.83s\n",
            "iter 15100: dev acc=0.4741\n",
            "Iter 15200: loss=48.7798, time=1504.15s\n",
            "iter 15200: dev acc=0.4886\n",
            "Iter 15300: loss=49.6647, time=1513.90s\n",
            "iter 15300: dev acc=0.4796\n",
            "Iter 15400: loss=48.6445, time=1524.00s\n",
            "iter 15400: dev acc=0.4868\n",
            "Iter 15500: loss=49.4804, time=1534.02s\n",
            "iter 15500: dev acc=0.4777\n",
            "Iter 15600: loss=48.4180, time=1544.38s\n",
            "iter 15600: dev acc=0.4696\n",
            "Iter 15700: loss=48.3238, time=1553.45s\n",
            "iter 15700: dev acc=0.4868\n",
            "Iter 15800: loss=48.0681, time=1565.10s\n",
            "iter 15800: dev acc=0.4886\n",
            "Iter 15900: loss=48.3624, time=1575.08s\n",
            "iter 15900: dev acc=0.4905\n",
            "Done training\n",
            "Loading best model\n",
            "best model iter 14600: train acc=0.8067, dev acc=0.5059, test acc=0.4973\n",
            "Best Test Accuracy for seed 999: 0.4973\n",
            "Mean Test Accuracy: 0.4955\n",
            "Standard Deviation: 0.0068\n"
          ]
        }
      ],
      "source": [
        "seeds = [42, 123, 999]\n",
        "tree_test_accuracies = []\n",
        "\n",
        "for seed in seeds:\n",
        "  set_seed(seed)\n",
        "\n",
        "  # Initialize the TreeLSTMClassifier\n",
        "  model = TreeLSTMClassifier(\n",
        "    vocab_size=len(v.w2i),\n",
        "    embedding_dim=300,\n",
        "    hidden_dim=168,\n",
        "    output_dim=5,\n",
        "    vocab=v).to(device)\n",
        "\n",
        "  # Initialize optimizer\n",
        "  optimizer = torch.optim.Adam(model.parameters(), lr=2e-4)\n",
        "\n",
        "  with torch.no_grad():\n",
        "    model.embed.weight.data.copy_(torch.from_numpy(vectors))\n",
        "    model.embed.weight.requires_grad = False\n",
        "\n",
        "  losses, accuracies, test_acc = train_model(\n",
        "    model=model,\n",
        "    optimizer=optimizer,\n",
        "    num_iterations=15930,\n",
        "    print_every=100,\n",
        "    eval_every=100,\n",
        "    prep_fn=prepare_treelstm_minibatch,\n",
        "    eval_fn=evaluate,\n",
        "    batch_fn=get_minibatch,\n",
        "    batch_size=100,\n",
        "    eval_batch_size=100\n",
        ")\n",
        "\n",
        "\n",
        "  print(f\"Best Test Accuracy for seed {seed}: {test_acc:.4f}\")\n",
        "  tree_test_accuracies.append(test_acc)\n",
        "\n",
        "# Compute mean and standard deviation across seeds\n",
        "mean_accuracy = np.mean(tree_test_accuracies)\n",
        "std_accuracy = np.std(tree_test_accuracies)\n",
        "print(f\"Mean Test Accuracy: {mean_accuracy:.4f}\")\n",
        "print(f\"Standard Deviation: {std_accuracy:.4f}\")\n"
      ]
    },
    {
      "cell_type": "code",
      "source": [
        "seeds = [42, 123, 999]\n",
        "tree_test_accuracies = []\n",
        "\n",
        "for seed in seeds:\n",
        "  set_seed(seed)\n",
        "\n",
        "  # Initialize the TreeLSTMClassifier\n",
        "  model = TreeLSTMClassifier(\n",
        "    vocab_size=len(v.w2i),\n",
        "    embedding_dim=300,\n",
        "    hidden_dim=168,\n",
        "    output_dim=5,\n",
        "    vocab=v).to(device)\n",
        "\n",
        "  # Initialize optimizer\n",
        "  optimizer = torch.optim.Adam(model.parameters(), lr=2e-4)\n",
        "\n",
        "  with torch.no_grad():\n",
        "    model.embed.weight.data.copy_(torch.from_numpy(vectors))\n",
        "    model.embed.weight.requires_grad = True\n",
        "\n",
        "  losses, accuracies, test_acc = train_model(\n",
        "    model=model,\n",
        "    optimizer=optimizer,\n",
        "    num_iterations=15930,\n",
        "    print_every=1000,\n",
        "    eval_every=1000,\n",
        "    prep_fn=prepare_treelstm_minibatch,\n",
        "    eval_fn=evaluate,\n",
        "    batch_fn=get_minibatch,\n",
        "    batch_size=100,\n",
        "    eval_batch_size=100\n",
        ")\n",
        "\n",
        "  print(f\"Best Test Accuracy for seed {seed}: {test_acc:.4f}\")\n",
        "  tree_test_accuracies.append(test_acc)\n",
        "\n",
        "# Compute mean and standard deviation across seeds\n",
        "mean_accuracy = np.mean(tree_test_accuracies)\n",
        "std_accuracy = np.std(tree_test_accuracies)\n",
        "print(f\"Mean Test Accuracy: {mean_accuracy:.4f}\")\n",
        "print(f\"Standard Deviation: {std_accuracy:.4f}\")\n",
        "\n"
      ],
      "metadata": {
        "id": "IRV5mJzve3Bn",
        "colab": {
          "base_uri": "https://localhost:8080/"
        },
        "outputId": "1b49ea93-b94d-40c0-a6a0-82c61f41bd7b"
      },
      "execution_count": 48,
      "outputs": [
        {
          "output_type": "stream",
          "name": "stdout",
          "text": [
            "Shuffling training data\n",
            "Iter 1000: loss=747.2013, time=97.67s\n",
            "iter 1000: dev acc=0.4214\n",
            "new highscore\n",
            "Iter 2000: loss=553.8183, time=193.88s\n",
            "iter 2000: dev acc=0.4487\n",
            "new highscore\n",
            "Iter 3000: loss=501.5587, time=288.60s\n",
            "iter 3000: dev acc=0.4587\n",
            "new highscore\n",
            "Shuffling training data\n",
            "Iter 4000: loss=454.3319, time=384.89s\n",
            "iter 4000: dev acc=0.4668\n",
            "new highscore\n",
            "Iter 5000: loss=432.1640, time=478.02s\n",
            "iter 5000: dev acc=0.4777\n",
            "new highscore\n",
            "Iter 6000: loss=424.4380, time=574.11s\n",
            "iter 6000: dev acc=0.4678\n",
            "Shuffling training data\n",
            "Iter 7000: loss=395.4845, time=670.44s\n",
            "iter 7000: dev acc=0.4914\n",
            "new highscore\n",
            "Iter 8000: loss=385.0982, time=764.97s\n",
            "iter 8000: dev acc=0.4859\n",
            "Iter 9000: loss=384.5992, time=859.28s\n",
            "iter 9000: dev acc=0.4796\n",
            "Shuffling training data\n",
            "Iter 10000: loss=367.0549, time=951.91s\n",
            "iter 10000: dev acc=0.4750\n",
            "Iter 11000: loss=353.1228, time=1045.83s\n",
            "iter 11000: dev acc=0.4714\n",
            "Iter 12000: loss=356.8220, time=1139.19s\n",
            "iter 12000: dev acc=0.4841\n",
            "Shuffling training data\n",
            "Iter 13000: loss=351.3386, time=1234.57s\n",
            "iter 13000: dev acc=0.4850\n",
            "Iter 14000: loss=330.3317, time=1326.94s\n",
            "iter 14000: dev acc=0.4732\n",
            "Iter 15000: loss=337.6169, time=1420.91s\n",
            "iter 15000: dev acc=0.4714\n",
            "Done training\n",
            "Loading best model\n"
          ]
        },
        {
          "output_type": "stream",
          "name": "stderr",
          "text": [
            "<ipython-input-26-07f34c5b57a1>:91: FutureWarning: You are using `torch.load` with `weights_only=False` (the current default value), which uses the default pickle module implicitly. It is possible to construct malicious pickle data which will execute arbitrary code during unpickling (See https://github.com/pytorch/pytorch/blob/main/SECURITY.md#untrusted-models for more details). In a future release, the default value for `weights_only` will be flipped to `True`. This limits the functions that could be executed during unpickling. Arbitrary objects will no longer be allowed to be loaded via this mode unless they are explicitly allowlisted by the user via `torch.serialization.add_safe_globals`. We recommend you start setting `weights_only=True` for any use case where you don't have full control of the loaded file. Please open an issue on GitHub for any issues related to this experimental feature.\n",
            "  ckpt = torch.load(path)\n"
          ]
        },
        {
          "output_type": "stream",
          "name": "stdout",
          "text": [
            "best model iter 7000: train acc=0.8487, dev acc=0.4914, test acc=0.4946\n",
            "Best Test Accuracy for seed 42: 0.4946\n",
            "Shuffling training data\n",
            "Iter 1000: loss=742.5050, time=94.73s\n",
            "iter 1000: dev acc=0.4323\n",
            "new highscore\n",
            "Iter 2000: loss=550.7207, time=188.15s\n",
            "iter 2000: dev acc=0.4441\n",
            "new highscore\n",
            "Iter 3000: loss=502.7503, time=280.21s\n",
            "iter 3000: dev acc=0.4523\n",
            "new highscore\n",
            "Shuffling training data\n",
            "Iter 4000: loss=450.7656, time=374.90s\n",
            "iter 4000: dev acc=0.4714\n",
            "new highscore\n",
            "Iter 5000: loss=432.0050, time=467.04s\n",
            "iter 5000: dev acc=0.4768\n",
            "new highscore\n",
            "Iter 6000: loss=420.8514, time=561.28s\n",
            "iter 6000: dev acc=0.4632\n",
            "Shuffling training data\n",
            "Iter 7000: loss=393.7794, time=655.04s\n",
            "iter 7000: dev acc=0.4859\n",
            "new highscore\n",
            "Iter 8000: loss=384.0872, time=746.76s\n",
            "iter 8000: dev acc=0.4877\n",
            "new highscore\n",
            "Iter 9000: loss=376.4584, time=841.26s\n",
            "iter 9000: dev acc=0.4859\n",
            "Shuffling training data\n",
            "Iter 10000: loss=368.6925, time=935.01s\n",
            "iter 10000: dev acc=0.4705\n",
            "Iter 11000: loss=352.7326, time=1029.11s\n",
            "iter 11000: dev acc=0.4759\n",
            "Iter 12000: loss=355.0040, time=1121.91s\n",
            "iter 12000: dev acc=0.4814\n",
            "Shuffling training data\n",
            "Iter 13000: loss=346.2239, time=1214.83s\n",
            "iter 13000: dev acc=0.4777\n",
            "Iter 14000: loss=332.5044, time=1308.98s\n",
            "iter 14000: dev acc=0.4841\n",
            "Iter 15000: loss=336.0929, time=1401.90s\n",
            "iter 15000: dev acc=0.4569\n",
            "Done training\n",
            "Loading best model\n",
            "best model iter 8000: train acc=0.8526, dev acc=0.4877, test acc=0.4937\n",
            "Best Test Accuracy for seed 123: 0.4937\n",
            "Shuffling training data\n",
            "Iter 1000: loss=745.3249, time=92.90s\n",
            "iter 1000: dev acc=0.4296\n",
            "new highscore\n",
            "Iter 2000: loss=555.4435, time=184.90s\n",
            "iter 2000: dev acc=0.4559\n",
            "new highscore\n",
            "Iter 3000: loss=498.8904, time=278.68s\n",
            "iter 3000: dev acc=0.4886\n",
            "new highscore\n",
            "Shuffling training data\n",
            "Iter 4000: loss=456.7162, time=372.13s\n",
            "iter 4000: dev acc=0.4687\n",
            "Iter 5000: loss=434.5839, time=463.82s\n",
            "iter 5000: dev acc=0.4796\n",
            "Iter 6000: loss=415.6288, time=557.87s\n",
            "iter 6000: dev acc=0.4986\n",
            "new highscore\n",
            "Shuffling training data\n",
            "Iter 7000: loss=397.0418, time=651.71s\n",
            "iter 7000: dev acc=0.4923\n",
            "Iter 8000: loss=381.6030, time=743.43s\n",
            "iter 8000: dev acc=0.4914\n",
            "Iter 9000: loss=382.1723, time=838.06s\n",
            "iter 9000: dev acc=0.4941\n",
            "Shuffling training data\n",
            "Iter 10000: loss=367.4883, time=930.55s\n",
            "iter 10000: dev acc=0.4460\n",
            "Iter 11000: loss=356.0248, time=1024.46s\n",
            "iter 11000: dev acc=0.4823\n",
            "Iter 12000: loss=353.2009, time=1117.38s\n",
            "iter 12000: dev acc=0.4732\n",
            "Shuffling training data\n",
            "Iter 13000: loss=348.8590, time=1209.17s\n",
            "iter 13000: dev acc=0.5050\n",
            "new highscore\n",
            "Iter 14000: loss=331.4263, time=1300.51s\n",
            "iter 14000: dev acc=0.4886\n",
            "Iter 15000: loss=336.4558, time=1393.93s\n",
            "iter 15000: dev acc=0.4650\n",
            "Done training\n",
            "Loading best model\n",
            "best model iter 13000: train acc=0.8675, dev acc=0.5050, test acc=0.4905\n",
            "Best Test Accuracy for seed 999: 0.4905\n",
            "Mean Test Accuracy: 0.4929\n",
            "Standard Deviation: 0.0017\n"
          ]
        }
      ]
    }
  ],
  "metadata": {
    "accelerator": "GPU",
    "colab": {
      "collapsed_sections": [
        "YbNKef3lymaj",
        "-WDSprDBVcr-",
        "y0067ax54-rd",
        "g09SM8yb2cjx",
        "MQZ5flHwiiHY",
        "YEw6XHQY_AAQ",
        "DwZM-XYkT8Zx",
        "SL2iixMYUgfh",
        "xYBJEoSNUwI0",
        "q7WjcxXntMi5",
        "1rDzvSos3JFp",
        "gh9RbhGwaiLg"
      ],
      "gpuType": "T4",
      "provenance": []
    },
    "kernelspec": {
      "display_name": "Python 3",
      "name": "python3"
    },
    "language_info": {
      "codemirror_mode": {
        "name": "ipython",
        "version": 3
      },
      "file_extension": ".py",
      "mimetype": "text/x-python",
      "name": "python",
      "nbconvert_exporter": "python",
      "pygments_lexer": "ipython3",
      "version": "3.9.15"
    }
  },
  "nbformat": 4,
  "nbformat_minor": 0
}