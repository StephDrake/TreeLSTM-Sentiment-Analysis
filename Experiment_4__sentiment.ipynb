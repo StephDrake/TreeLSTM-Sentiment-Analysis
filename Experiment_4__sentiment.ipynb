{
  "cells": [
    {
      "cell_type": "markdown",
      "metadata": {
        "id": "Uw1myN1eW8mA"
      },
      "source": [
        "# Experiment Four: Sentiment and length and depth\n",
        "Research Question: How does classification accuracy vary across sentiment classes with increasing node depth and phrase length in n-ary Tree-LSTM models?\n",
        "\n",
        "Objective:\n",
        "To examine how classification accuracy differs across sentiment classes as node depth and phrase length increase in n-ary Tree-LSTM models, identifying patterns and potential challenges at varying hierarchical levels.\n"
      ]
    },
    {
      "cell_type": "markdown",
      "metadata": {
        "id": "YbNKef3lymaj"
      },
      "source": [
        "## Preparing the data"
      ]
    },
    {
      "cell_type": "markdown",
      "metadata": {
        "id": "9jxTkpg59FlU"
      },
      "source": [
        "Let's first download the data set and take a look."
      ]
    },
    {
      "cell_type": "code",
      "execution_count": null,
      "metadata": {
        "id": "WZp53HmMP3F2"
      },
      "outputs": [],
      "source": [
        "import re\n",
        "import random\n",
        "import time\n",
        "import math\n",
        "import numpy as np\n",
        "from collections import defaultdict\n",
        "import nltk\n",
        "import matplotlib.pyplot as plt\n",
        "import pandas as pd\n",
        "import seaborn as sns\n",
        "plt.style.use('default')"
      ]
    },
    {
      "cell_type": "code",
      "execution_count": null,
      "metadata": {
        "colab": {
          "base_uri": "https://localhost:8080/"
        },
        "id": "1QprhgkFodAV",
        "outputId": "6734077f-32b9-4768-bcf7-e3fbd12e47db"
      },
      "outputs": [
        {
          "output_type": "stream",
          "name": "stdout",
          "text": [
            "--2024-12-12 10:48:21--  http://nlp.stanford.edu/sentiment/trainDevTestTrees_PTB.zip\n",
            "Resolving nlp.stanford.edu (nlp.stanford.edu)... 171.64.67.140\n",
            "Connecting to nlp.stanford.edu (nlp.stanford.edu)|171.64.67.140|:80... connected.\n",
            "HTTP request sent, awaiting response... 302 Found\n",
            "Location: https://nlp.stanford.edu/sentiment/trainDevTestTrees_PTB.zip [following]\n",
            "--2024-12-12 10:48:22--  https://nlp.stanford.edu/sentiment/trainDevTestTrees_PTB.zip\n",
            "Connecting to nlp.stanford.edu (nlp.stanford.edu)|171.64.67.140|:443... connected.\n",
            "HTTP request sent, awaiting response... 200 OK\n",
            "Length: 789539 (771K) [application/zip]\n",
            "Saving to: ‘trainDevTestTrees_PTB.zip’\n",
            "\n",
            "trainDevTestTrees_P 100%[===================>] 771.03K   272KB/s    in 2.8s    \n",
            "\n",
            "2024-12-12 10:48:25 (272 KB/s) - ‘trainDevTestTrees_PTB.zip’ saved [789539/789539]\n",
            "\n",
            "Archive:  trainDevTestTrees_PTB.zip\n",
            "   creating: trees/\n",
            "  inflating: trees/dev.txt           \n",
            "  inflating: trees/test.txt          \n",
            "  inflating: trees/train.txt         \n"
          ]
        }
      ],
      "source": [
        "!wget http://nlp.stanford.edu/sentiment/trainDevTestTrees_PTB.zip\n",
        "!unzip trainDevTestTrees_PTB.zip"
      ]
    },
    {
      "cell_type": "code",
      "execution_count": null,
      "metadata": {
        "id": "0IpAphkBO5eW"
      },
      "outputs": [],
      "source": [
        "# this function reads in a textfile and fixes an issue with \"\\\\\"\n",
        "def filereader(path):\n",
        "  with open(path, mode=\"r\", encoding=\"utf-8\") as f:\n",
        "    for line in f:\n",
        "      yield line.strip().replace(\"\\\\\",\"\")"
      ]
    },
    {
      "cell_type": "markdown",
      "metadata": {
        "id": "yP_jpquiprH8"
      },
      "source": [
        "Let's look at a data point. It is a **flattened binary tree**, with sentiment scores at every node, and words as the leaves (or *terminal nodes*)."
      ]
    },
    {
      "cell_type": "code",
      "execution_count": null,
      "metadata": {
        "id": "ylkIopm0QJML",
        "colab": {
          "base_uri": "https://localhost:8080/"
        },
        "outputId": "fd32ab13-793e-4b95-f116-521bb4d10eca"
      },
      "outputs": [
        {
          "output_type": "stream",
          "name": "stdout",
          "text": [
            "(3 (2 (2 The) (2 Rock)) (4 (3 (2 is) (4 (2 destined) (2 (2 (2 (2 (2 to) (2 (2 be) (2 (2 the) (2 (2 21st) (2 (2 (2 Century) (2 's)) (2 (3 new) (2 (2 ``) (2 Conan)))))))) (2 '')) (2 and)) (3 (2 that) (3 (2 he) (3 (2 's) (3 (2 going) (3 (2 to) (4 (3 (2 make) (3 (3 (2 a) (3 splash)) (2 (2 even) (3 greater)))) (2 (2 than) (2 (2 (2 (2 (1 (2 Arnold) (2 Schwarzenegger)) (2 ,)) (2 (2 Jean-Claud) (2 (2 Van) (2 Damme)))) (2 or)) (2 (2 Steven) (2 Segal))))))))))))) (2 .)))\n"
          ]
        }
      ],
      "source": [
        "s = next(filereader(\"trees/train.txt\"))\n",
        "print(s)"
      ]
    },
    {
      "cell_type": "code",
      "execution_count": null,
      "metadata": {
        "id": "7_U7HTFwdrWt",
        "colab": {
          "base_uri": "https://localhost:8080/"
        },
        "outputId": "1fdf84a3-3be0-485f-c476-26b288ddebc6"
      },
      "outputs": [
        {
          "output_type": "stream",
          "name": "stdout",
          "text": [
            "                                                                                               3                                                                                                                                         \n",
            "      _________________________________________________________________________________________|____                                                                                                                                      \n",
            "     |                                                                                              4                                                                                                                                    \n",
            "     |                      ________________________________________________________________________|__________________________________________________________________________________________________________________________________   \n",
            "     |                     3                                                                                                                                                                                                           | \n",
            "     |         ____________|___________                                                                                                                                                                                                |  \n",
            "     |        |                        4                                                                                                                                                                                               | \n",
            "     |        |      __________________|_________________________________                                                                                                                                                              |  \n",
            "     |        |     |                                                    2                                                                                                                                                             | \n",
            "     |        |     |                                    ________________|_________________                                                                                                                                            |  \n",
            "     |        |     |                                   |                                  3                                                                                                                                           | \n",
            "     |        |     |                                   |                              ____|___                                                                                                                                        |  \n",
            "     |        |     |                                   |                             |        3                                                                                                                                       | \n",
            "     |        |     |                                   |                             |     ___|_________                                                                                                                              |  \n",
            "     |        |     |                                   |                             |    |             3                                                                                                                             | \n",
            "     |        |     |                                   |                             |    |    _________|_________________                                                                                                            |  \n",
            "     |        |     |                                   2                             |    |   |                           3                                                                                                           | \n",
            "     |        |     |                          _________|_________________________    |    |   |     ______________________|________________________________                                                                           |  \n",
            "     |        |     |                         2                                   |   |    |   |    |                                                       3                                                                          | \n",
            "     |        |     |           ______________|_______________________________    |   |    |   |    |     __________________________________________________|______________                                                            |  \n",
            "     |        |     |          2                                              |   |   |    |   |    |    |                                                                 4                                                           | \n",
            "     |        |     |       ___|___                                           |   |   |    |   |    |    |                  _______________________________________________|________________                                           |  \n",
            "     |        |     |      |       2                                          |   |   |    |   |    |    |                 |                                                                2                                          | \n",
            "     |        |     |      |    ___|___                                       |   |   |    |   |    |    |                 |                           _____________________________________|_______                                   |  \n",
            "     |        |     |      |   |       2                                      |   |   |    |   |    |    |                 |                          |                                             2                                  | \n",
            "     |        |     |      |   |    ___|________________                      |   |   |    |   |    |    |                 |                          |                                      _______|________________________          |  \n",
            "     |        |     |      |   |   |                    2                     |   |   |    |   |    |    |                 |                          |                                     2                                |         | \n",
            "     |        |     |      |   |   |    ________________|___                  |   |   |    |   |    |    |                 |                          |                               ______|_____________________           |         |  \n",
            "     |        |     |      |   |   |   |                    2                 |   |   |    |   |    |    |                 3                          |                              2                            |          |         | \n",
            "     |        |     |      |   |   |   |             _______|___              |   |   |    |   |    |    |    _____________|_____                     |                     _________|______________              |          |         |  \n",
            "     |        |     |      |   |   |   |            |           2             |   |   |    |   |    |    |   |                   3                    |                    2                        2             |          |         | \n",
            "     |        |     |      |   |   |   |            |        ___|___          |   |   |    |   |    |    |   |         __________|________            |            ________|_________        _______|___          |          |         |  \n",
            "     2        |     |      |   |   |   |            2       |       2         |   |   |    |   |    |    |   |        3                   2           |           1                  |      |           2         |          2         | \n",
            "  ___|___     |     |      |   |   |   |       _____|___    |    ___|____     |   |   |    |   |    |    |   |     ___|____           ____|_____      |      _____|________          |      |        ___|____     |     _____|____     |  \n",
            " 2       2    2     2      2   2   2   2      2         2   3   2        2    2   2   2    2   2    2    2   2    2        3         2          3     2     2              2         2      2       2        2    2    2          2    2 \n",
            " |       |    |     |      |   |   |   |      |         |   |   |        |    |   |   |    |   |    |    |   |    |        |         |          |     |     |              |         |      |       |        |    |    |          |    |  \n",
            "The     Rock  is destined  to  be the 21st Century      's new  ``     Conan  '' and that  he  's going  to make  a      splash     even     greater than Arnold     Schwarzenegger  ,  Jean-Claud Van     Damme  or Steven     Segal  . \n",
            "\n"
          ]
        },
        {
          "output_type": "stream",
          "name": "stderr",
          "text": [
            "<ipython-input-5-6ab7e95feba4>:5: DeprecationWarning: \n",
            "    Class TreePrettyPrinter has been deprecated.  Import\n",
            "    `TreePrettyPrinter` using `from nltk.tree import\n",
            "    TreePrettyPrinter` instead.\n",
            "  print(TreePrettyPrinter(tree))\n"
          ]
        }
      ],
      "source": [
        "# We can use NLTK to better visualise the tree structure of the sentence\n",
        "from nltk import Tree\n",
        "from nltk.treeprettyprinter import TreePrettyPrinter\n",
        "tree = Tree.fromstring(s)\n",
        "print(TreePrettyPrinter(tree))"
      ]
    },
    {
      "cell_type": "markdown",
      "metadata": {
        "id": "ekAWKsji9t93"
      },
      "source": [
        "The sentiment scores range from 0 (very negative) to 5 (very positive). Again, as you can see, every node in the tree is labeled with a sentiment score. For now, we will only use the score at the **root node**, i.e., the sentiment score for the complete sentence."
      ]
    },
    {
      "cell_type": "code",
      "execution_count": null,
      "metadata": {
        "id": "DKynLm0xPKr2",
        "colab": {
          "base_uri": "https://localhost:8080/"
        },
        "outputId": "738c236e-1369-47a9-b132-e6d82b8599a2"
      },
      "outputs": [
        {
          "output_type": "stream",
          "name": "stdout",
          "text": [
            "['The', 'Rock', 'is', 'destined', 'to', 'be', 'the', '21st', 'Century', \"'s\", 'new', '``', 'Conan', \"''\", 'and', 'that', 'he', \"'s\", 'going', 'to', 'make', 'a', 'splash', 'even', 'greater', 'than', 'Arnold', 'Schwarzenegger', ',', 'Jean-Claud', 'Van', 'Damme', 'or', 'Steven', 'Segal', '.']\n",
            "36\n"
          ]
        }
      ],
      "source": [
        "# Let's first make a function that extracts the tokens (the leaves).\n",
        "\n",
        "def tokens_from_treestring(s):\n",
        "  \"\"\"extract the tokens from a sentiment tree\"\"\"\n",
        "  return re.sub(r\"\\([0-9] |\\)\", \"\", s).split()\n",
        "\n",
        "# let's try it on our example tree\n",
        "tokens = tokens_from_treestring(s)\n",
        "print(tokens)\n",
        "print(len(tokens))"
      ]
    },
    {
      "cell_type": "markdown",
      "metadata": {
        "id": "B8vFkeqN-NLP"
      },
      "source": [
        "> *Warning: you could also parse a treestring using NLTK and ask it to return the leaves, but there seems to be an issue with NLTK not always correctly parsing the input, so do not rely on it.*"
      ]
    },
    {
      "cell_type": "code",
      "execution_count": null,
      "metadata": {
        "id": "Akr9K_Mv4dym"
      },
      "outputs": [],
      "source": [
        "# We will also need the following function, but you can ignore this for now.\n",
        "# It is explained later on.\n",
        "\n",
        "SHIFT = 0\n",
        "REDUCE = 1\n",
        "\n",
        "\n",
        "def transitions_from_treestring(s):\n",
        "  s = re.sub(\"\\([0-5] ([^)]+)\\)\", \"0\", s)\n",
        "  s = re.sub(\"\\)\", \" )\", s)\n",
        "  s = re.sub(\"\\([0-4] \", \"\", s)\n",
        "  s = re.sub(\"\\([0-4] \", \"\", s)\n",
        "  s = re.sub(\"\\)\", \"1\", s)\n",
        "  return list(map(int, s.split()))"
      ]
    },
    {
      "cell_type": "code",
      "execution_count": null,
      "metadata": {
        "id": "mNtPdlwPgRat",
        "colab": {
          "base_uri": "https://localhost:8080/"
        },
        "outputId": "f31e91c7-7462-4773-cf09-7fa5f84ebb42"
      },
      "outputs": [
        {
          "output_type": "stream",
          "name": "stdout",
          "text": [
            "trees/train.txt  8544\n",
            "trees/dev.txt    1101\n",
            "trees/test.txt   2210\n"
          ]
        }
      ],
      "source": [
        "# Now let's first see how large our data sets are.\n",
        "for path in (\"trees/train.txt\", \"trees/dev.txt\", \"trees/test.txt\"):\n",
        "  print(\"{:16s} {:4d}\".format(path, sum(1 for _ in filereader(path))))"
      ]
    },
    {
      "cell_type": "code",
      "execution_count": null,
      "metadata": {
        "id": "YP0wc22ohWlO",
        "colab": {
          "base_uri": "https://localhost:8080/"
        },
        "outputId": "f6945563-f6eb-4a7d-8771-8e969528e2f9"
      },
      "outputs": [
        {
          "output_type": "stream",
          "name": "stdout",
          "text": [
            "First sentence in trees/train.txt:\n",
            "(3 (2 (2 The) (2 Rock)) (4 (3 (2 is) (4 (2 destined) (2 (2 (2 (2 (2 to) (2 (2 be) (2 (2 the) (2 (2 21st) (2 (2 (2 Century) (2 's)) (2 (3 new) (2 (2 ``) (2 Conan)))))))) (2 '')) (2 and)) (3 (2 that) (3 (2 he) (3 (2 's) (3 (2 going) (3 (2 to) (4 (3 (2 make) (3 (3 (2 a) (3 splash)) (2 (2 even) (3 greater)))) (2 (2 than) (2 (2 (2 (2 (1 (2 Arnold) (2 Schwarzenegger)) (2 ,)) (2 (2 Jean-Claud) (2 (2 Van) (2 Damme)))) (2 or)) (2 (2 Steven) (2 Segal))))))))))))) (2 .)))\n",
            "First sentence in trees/dev.txt:\n",
            "(3 (2 It) (4 (4 (2 's) (4 (3 (2 a) (4 (3 lovely) (2 film))) (3 (2 with) (4 (3 (3 lovely) (2 performances)) (2 (2 by) (2 (2 (2 Buy) (2 and)) (2 Accorsi))))))) (2 .)))\n",
            "First sentence in trees/test.txt:\n",
            "(2 (3 (3 Effective) (2 but)) (1 (1 too-tepid) (2 biopic)))\n"
          ]
        }
      ],
      "source": [
        "for path in (\"trees/train.txt\", \"trees/dev.txt\", \"trees/test.txt\"):\n",
        "    print(f\"First sentence in {path}:\")\n",
        "    print(next(filereader(path)))\n"
      ]
    },
    {
      "cell_type": "markdown",
      "metadata": {
        "id": "HexlSqTR_UrY"
      },
      "source": [
        "You can see that the number of sentences is not very large. That's probably because the data set required so much manual annotation. However, it is large enough to train a neural network on."
      ]
    },
    {
      "cell_type": "markdown",
      "metadata": {
        "id": "IfRjelOcsXuC"
      },
      "source": [
        "It will be useful to store each data example in an `Example` object,\n",
        "containing everything that we may need for each data point.\n",
        "It will contain the tokens, the tree, the top-level sentiment label, and\n",
        "the transitions (explained later)."
      ]
    },
    {
      "cell_type": "code",
      "execution_count": null,
      "metadata": {
        "id": "4I07Hb_-q8wg",
        "colab": {
          "base_uri": "https://localhost:8080/"
        },
        "outputId": "a14c1213-f938-4ba7-dd74-3c4a0da9b78f"
      },
      "outputs": [
        {
          "output_type": "stream",
          "name": "stdout",
          "text": [
            "train 8544\n",
            "dev 1101\n",
            "test 2210\n"
          ]
        }
      ],
      "source": [
        "from collections import namedtuple\n",
        "from nltk import Tree\n",
        "\n",
        "# A simple way to define a class is using namedtuple.\n",
        "Example = namedtuple(\"Example\", [\"tokens\", \"tree\", \"label\", \"transitions\"])\n",
        "\n",
        "\n",
        "def examplereader(path, lower=False):\n",
        "  \"\"\"Returns all examples in a file one by one.\"\"\"\n",
        "  for line in filereader(path):\n",
        "    line = line.lower() if lower else line\n",
        "    tokens = tokens_from_treestring(line)\n",
        "    tree = Tree.fromstring(line)  # use NLTK's Tree\n",
        "    label = int(line[1])\n",
        "    trans = transitions_from_treestring(line)\n",
        "    yield Example(tokens=tokens, tree=tree, label=label, transitions=trans)\n",
        "\n",
        "\n",
        "# Let's load the data into memory.\n",
        "LOWER = False  # we will keep the original casing\n",
        "train_data = list(examplereader(\"trees/train.txt\", lower=LOWER))\n",
        "dev_data = list(examplereader(\"trees/dev.txt\", lower=LOWER))\n",
        "test_data = list(examplereader(\"trees/test.txt\", lower=LOWER))\n",
        "\n",
        "print(\"train\", len(train_data))\n",
        "print(\"dev\", len(dev_data))\n",
        "print(\"test\", len(test_data))"
      ]
    },
    {
      "cell_type": "markdown",
      "metadata": {
        "id": "6KM0bDyeVZtP"
      },
      "source": [
        "Let's check out an `Example` object."
      ]
    },
    {
      "cell_type": "code",
      "source": [
        "example = dev_data[0]\n",
        "print(\"First example:\", example)\n",
        "print(\"First example tokens:\", example.tokens)\n",
        "print(\"First example label:\",  example.label)"
      ],
      "metadata": {
        "colab": {
          "base_uri": "https://localhost:8080/"
        },
        "id": "d5OTXuqQ9l_q",
        "outputId": "9734d6da-1421-4224-e4da-feaba131ed92"
      },
      "execution_count": null,
      "outputs": [
        {
          "output_type": "stream",
          "name": "stdout",
          "text": [
            "First example: Example(tokens=['It', \"'s\", 'a', 'lovely', 'film', 'with', 'lovely', 'performances', 'by', 'Buy', 'and', 'Accorsi', '.'], tree=Tree('3', [Tree('2', ['It']), Tree('4', [Tree('4', [Tree('2', [\"'s\"]), Tree('4', [Tree('3', [Tree('2', ['a']), Tree('4', [Tree('3', ['lovely']), Tree('2', ['film'])])]), Tree('3', [Tree('2', ['with']), Tree('4', [Tree('3', [Tree('3', ['lovely']), Tree('2', ['performances'])]), Tree('2', [Tree('2', ['by']), Tree('2', [Tree('2', [Tree('2', ['Buy']), Tree('2', ['and'])]), Tree('2', ['Accorsi'])])])])])])]), Tree('2', ['.'])])]), label=3, transitions=[0, 0, 0, 0, 0, 1, 1, 0, 0, 0, 1, 0, 0, 0, 1, 0, 1, 1, 1, 1, 1, 1, 0, 1, 1])\n",
            "First example tokens: ['It', \"'s\", 'a', 'lovely', 'film', 'with', 'lovely', 'performances', 'by', 'Buy', 'and', 'Accorsi', '.']\n",
            "First example label: 3\n"
          ]
        }
      ]
    },
    {
      "cell_type": "code",
      "source": [
        "def prepare_example(example, vocab):\n",
        "    \"\"\"\n",
        "    Prepare input and label for a single example, including transitions.\n",
        "    \"\"\"\n",
        "    # Map tokens to IDs\n",
        "    x = [vocab.w2i.get(t, 0) for t in example.tokens]  # 0 is <unk>\n",
        "    x = torch.LongTensor([x]).to(device)\n",
        "\n",
        "    # Extract transitions\n",
        "    transitions = example.transitions  # Ensure example has `transitions`\n",
        "    transitions = torch.LongTensor(transitions).to(device)\n",
        "\n",
        "    # Get label\n",
        "    y = torch.LongTensor([example.label]).to(device)\n",
        "\n",
        "    return x, transitions, y\n"
      ],
      "metadata": {
        "id": "fDowYsteOxqb"
      },
      "execution_count": null,
      "outputs": []
    },
    {
      "cell_type": "markdown",
      "metadata": {
        "id": "-WDSprDBVcr-"
      },
      "source": [
        "#### Vocabulary\n",
        "A first step in most NLP tasks is collecting all the word types that appear in the data into a vocabulary, and counting the frequency of their occurrences. On the one hand, this will give us an overview of the word distribution of the data set (what are the most frequent words, how many rare words are there, ...). On the other hand, we will also use the vocabulary to map each word to a unique numeric ID, which is a more handy index than a string."
      ]
    },
    {
      "cell_type": "code",
      "execution_count": null,
      "metadata": {
        "id": "VvNgKx7usRSt"
      },
      "outputs": [],
      "source": [
        "# Here we first define a class that can map a word to an ID (w2i)\n",
        "# and back (i2w).\n",
        "\n",
        "from collections import Counter, OrderedDict, defaultdict\n",
        "\n",
        "\n",
        "class OrderedCounter(Counter, OrderedDict):\n",
        "  \"\"\"Counter that remembers the order elements are first seen\"\"\"\n",
        "  def __repr__(self):\n",
        "    return '%s(%r)' % (self.__class__.__name__,\n",
        "                      OrderedDict(self))\n",
        "  def __reduce__(self):\n",
        "    return self.__class__, (OrderedDict(self),)\n",
        "\n",
        "\n",
        "class Vocabulary:\n",
        "  \"\"\"A vocabulary, assigns IDs to tokens\"\"\"\n",
        "\n",
        "  def __init__(self):\n",
        "    self.freqs = OrderedCounter()\n",
        "    self.w2i = {}\n",
        "    self.i2w = []\n",
        "\n",
        "  def count_token(self, t):\n",
        "    self.freqs[t] += 1\n",
        "\n",
        "  def add_token(self, t):\n",
        "    self.w2i[t] = len(self.w2i)\n",
        "    self.i2w.append(t)\n",
        "\n",
        "  def build(self, min_freq=0):\n",
        "    '''\n",
        "    min_freq: minimum number of occurrences for a word to be included\n",
        "              in the vocabulary\n",
        "    '''\n",
        "    self.add_token(\"<unk>\")  # reserve 0 for <unk> (unknown words)\n",
        "    self.add_token(\"<pad>\")  # reserve 1 for <pad> (discussed later)\n",
        "\n",
        "    tok_freq = list(self.freqs.items())\n",
        "    tok_freq.sort(key=lambda x: x[1], reverse=True)\n",
        "    for tok, freq in tok_freq:\n",
        "      if freq >= min_freq:\n",
        "        self.add_token(tok)"
      ]
    },
    {
      "cell_type": "markdown",
      "metadata": {
        "id": "kOvkH_llVsoW"
      },
      "source": [
        "The vocabulary has by default an `<unk>` token and a `<pad>` token. The `<unk>` token is reserved for all words which do not appear in the training data (and for which, therefore, we cannot learn word representations). The function of the `<pad>` token will be explained later.\n",
        "\n",
        "\n",
        "Let's build the vocabulary!\n"
      ]
    },
    {
      "cell_type": "code",
      "execution_count": null,
      "metadata": {
        "id": "GwGQgQQBNUSq",
        "colab": {
          "base_uri": "https://localhost:8080/"
        },
        "outputId": "8a7007cb-1e36-4d89-fdf9-0520d80660f8"
      },
      "outputs": [
        {
          "output_type": "stream",
          "name": "stdout",
          "text": [
            "Vocabulary size: 18280\n"
          ]
        }
      ],
      "source": [
        "# This process should be deterministic and should have the same result\n",
        "# if run multiple times on the same data set.\n",
        "\n",
        "v = Vocabulary()\n",
        "for data_set in (train_data,):\n",
        "  for ex in data_set:\n",
        "    for token in ex.tokens:\n",
        "      v.count_token(token)\n",
        "\n",
        "v.build()\n",
        "print(\"Vocabulary size:\", len(v.w2i))"
      ]
    },
    {
      "cell_type": "markdown",
      "metadata": {
        "id": "-UNIedPrPdCw"
      },
      "source": [
        "Let's have a closer look at the properties of our vocabulary. Having a good idea of what it is like can facilitate data analysis and debugging later on."
      ]
    },
    {
      "cell_type": "code",
      "execution_count": null,
      "metadata": {
        "id": "AmTC-rvQelpl"
      },
      "outputs": [],
      "source": [
        "# Now let's map the sentiment labels 0-4 to a more readable form\n",
        "i2t = [\"very negative\", \"negative\", \"neutral\", \"positive\", \"very positive\"]\n",
        "t2i = OrderedDict({p : i for p, i in zip(i2t, range(len(i2t)))})"
      ]
    },
    {
      "cell_type": "markdown",
      "metadata": {
        "id": "y0067ax54-rd"
      },
      "source": [
        "## PyTorch\n",
        "\n",
        "We are going to need PyTorch and Google Colab does not have it installed by default. Run the cell below to install it.\n",
        "\n",
        "*For installing PyTorch in your own computer, follow the instructions on [pytorch.org](pytorch.org) instead. This is for Google Colab only.*"
      ]
    },
    {
      "cell_type": "code",
      "execution_count": null,
      "metadata": {
        "id": "qKQMGtkR5KWr",
        "colab": {
          "base_uri": "https://localhost:8080/"
        },
        "outputId": "e12ff242-94f3-46de-ec01-ab28237125e1"
      },
      "outputs": [
        {
          "output_type": "stream",
          "name": "stdout",
          "text": [
            "Using torch 2.5.1+cu121\n"
          ]
        }
      ],
      "source": [
        "import torch\n",
        "print(\"Using torch\", torch.__version__) # should say 1.7.0+cu101"
      ]
    },
    {
      "cell_type": "code",
      "execution_count": null,
      "metadata": {
        "id": "mnvPcd_E1xH8"
      },
      "outputs": [],
      "source": [
        "# Let's also import torch.nn, a PyTorch package that\n",
        "# makes building neural networks more convenient.\n",
        "from torch import nn"
      ]
    },
    {
      "cell_type": "code",
      "execution_count": null,
      "metadata": {
        "id": "BYt8uTyGCKc7",
        "colab": {
          "base_uri": "https://localhost:8080/"
        },
        "outputId": "aabcab2d-8cbb-4dcd-ea34-1eff77278590"
      },
      "outputs": [
        {
          "output_type": "execute_result",
          "data": {
            "text/plain": [
              "device(type='cuda')"
            ]
          },
          "metadata": {},
          "execution_count": 18
        }
      ],
      "source": [
        "# PyTorch can run on CPU or on Nvidia GPU (video card) using CUDA\n",
        "# This cell selects the GPU if one is available.\n",
        "device = torch.device('cuda' if torch.cuda.is_available() else 'cpu')\n",
        "device"
      ]
    },
    {
      "cell_type": "code",
      "execution_count": null,
      "metadata": {
        "id": "2d1VMOOYx1Bw"
      },
      "outputs": [],
      "source": [
        "# Seed manually to make runs reproducible\n",
        "# You need to set this again if you do multiple runs of the same model\n",
        "torch.manual_seed(42)\n",
        "\n",
        "# When running on the CuDNN backend two further options must be set for reproducibility\n",
        "if torch.cuda.is_available():\n",
        "  torch.backends.cudnn.deterministic = True\n",
        "  torch.backends.cudnn.benchmark = False"
      ]
    },
    {
      "cell_type": "code",
      "execution_count": null,
      "metadata": {
        "id": "Fhvk5HenAroT"
      },
      "outputs": [],
      "source": [
        "# Here we print each parameter name, shape, and if it is trainable.\n",
        "def print_parameters(model):\n",
        "  total = 0\n",
        "  for name, p in model.named_parameters():\n",
        "    total += np.prod(p.shape)\n",
        "    print(\"{:24s} {:12s} requires_grad={}\".format(name, str(list(p.shape)), p.requires_grad))\n",
        "  print(\"\\nTotal number of parameters: {}\\n\".format(total))\n",
        "\n",
        "\n",
        "#print_parameters(bow_model)"
      ]
    },
    {
      "cell_type": "markdown",
      "metadata": {
        "id": "WSAw292WxuP4"
      },
      "source": [
        "#### Preparing an example for input\n",
        "\n",
        "To feed sentences to our PyTorch model, we need to convert a sequence of tokens to a sequence of IDs. The `prepare_example` function below takes care of this for us. We then use these IDs as indices for the word embedding table."
      ]
    },
    {
      "cell_type": "code",
      "execution_count": null,
      "metadata": {
        "id": "YWeGTC_OGReV"
      },
      "outputs": [],
      "source": [
        "def prepare_example(example, vocab):\n",
        "  \"\"\"\n",
        "  Map tokens to their IDs for a single example\n",
        "  \"\"\"\n",
        "\n",
        "  # vocab returns 0 if the word is not there (i2w[0] = <unk>)\n",
        "  x = [vocab.w2i.get(t, 0) for t in example.tokens]\n",
        "\n",
        "  x = torch.LongTensor([x])\n",
        "  x = x.to(device)\n",
        "\n",
        "  y = torch.LongTensor([example.label])\n",
        "  y = y.to(device)\n",
        "\n",
        "  return x, y"
      ]
    },
    {
      "cell_type": "code",
      "execution_count": null,
      "metadata": {
        "id": "sfbdv9px3uFF",
        "colab": {
          "base_uri": "https://localhost:8080/"
        },
        "outputId": "1adb47f7-58df-44fb-d93f-bca0b47fa396"
      },
      "outputs": [
        {
          "output_type": "stream",
          "name": "stdout",
          "text": [
            "x: tensor([[  28,    9,    6,  998,   16,   18,  998,  135,   32, 7688,    5,    0,\n",
            "            2]], device='cuda:0')\n",
            "y: tensor([3], device='cuda:0')\n"
          ]
        }
      ],
      "source": [
        "x, y = prepare_example(dev_data[0], v)\n",
        "print('x:', x)\n",
        "print('y:', y)"
      ]
    },
    {
      "cell_type": "markdown",
      "metadata": {
        "id": "oKNQjEc0yXnJ"
      },
      "source": [
        "#### Evaluation\n",
        "We now need to define an evaluation metric.\n",
        "How many predictions do we get right? The accuracy will tell us.\n",
        "Make sure that you understand this code block.\n"
      ]
    },
    {
      "cell_type": "code",
      "execution_count": null,
      "metadata": {
        "id": "yGmQLcVYKZsh"
      },
      "outputs": [],
      "source": [
        "def simple_evaluate(model, data, prep_fn=prepare_example, **kwargs):\n",
        "  \"\"\"Accuracy of a model on given data set.\"\"\"\n",
        "  correct = 0\n",
        "  total = 0\n",
        "  model.eval()  # disable dropout (explained later)\n",
        "\n",
        "  for example in data:\n",
        "\n",
        "    # convert the example input and label to PyTorch tensors\n",
        "    x, target = prep_fn(example, model.vocab)\n",
        "\n",
        "    # forward pass without backpropagation (no_grad)\n",
        "    # get the output from the neural network for input x\n",
        "    with torch.no_grad():\n",
        "      logits = model(x)\n",
        "\n",
        "    # get the prediction\n",
        "    prediction = logits.argmax(dim=-1)\n",
        "\n",
        "    # add the number of correct predictions to the total correct\n",
        "    correct += (prediction == target).sum().item()\n",
        "    total += 1\n",
        "\n",
        "  return correct, total, correct / float(total)"
      ]
    },
    {
      "cell_type": "markdown",
      "metadata": {
        "id": "5KlIGFXllWWm"
      },
      "source": [
        "We are using accuracy as a handy evaluation metric. Please consider using [alternative metrics](https://scikit-learn.org/stable/modules/classes.html#classification-metrics) for your experiments if that makes more theoretical sense."
      ]
    },
    {
      "cell_type": "markdown",
      "metadata": {
        "id": "dIk6OtSdzGRP"
      },
      "source": [
        "#### Example feed\n",
        "For stochastic gradient descent (SGD) we will need a random training example for every update.\n",
        "We implement this by shuffling the training data and returning examples one by one using `yield`.\n",
        "\n",
        "Shuffling is optional so that we get to use this function to get validation and test examples, too."
      ]
    },
    {
      "cell_type": "code",
      "execution_count": null,
      "metadata": {
        "id": "dxDFOZLfCXvJ"
      },
      "outputs": [],
      "source": [
        "def get_examples(data, shuffle=True, **kwargs):\n",
        "  \"\"\"Shuffle data set and return 1 example at a time (until nothing left)\"\"\"\n",
        "  if shuffle:\n",
        "    print(\"Shuffling training data\")\n",
        "    random.shuffle(data)  # shuffle training data each epoch\n",
        "  for example in data:\n",
        "    yield example"
      ]
    },
    {
      "cell_type": "markdown",
      "metadata": {
        "id": "g09SM8yb2cjx"
      },
      "source": [
        "#### Exercise: Training function\n",
        "\n",
        "Your task is now to complete the training loop below.\n",
        "Before you do so, please read the section about optimisation."
      ]
    },
    {
      "cell_type": "markdown",
      "metadata": {
        "id": "TVfUukVdM_1c"
      },
      "source": [
        "**Optimisation**\n",
        "\n",
        "As mentioned in the \"Intro to PyTorch\" notebook, one of the perks of using PyTorch is automatic differentiation. We will use it to train our BOW model.\n",
        "\n",
        "We train our model by feeding it an input, performing a **forward** pass, obtaining an output prediction, and calculating a **loss** with our loss function.\n",
        "After the gradients are computed in the **backward** pass, we can take a step on the surface of the loss function towards more optimal parameter settings (gradient descent).\n",
        "\n",
        "The package we will use to do this optimisation is [torch.optim](https://pytorch.org/docs/stable/optim.html)."
      ]
    },
    {
      "cell_type": "code",
      "execution_count": null,
      "metadata": {
        "id": "KhQigDrQ--YU"
      },
      "outputs": [],
      "source": [
        "from torch import optim"
      ]
    },
    {
      "cell_type": "code",
      "execution_count": null,
      "metadata": {
        "id": "ktFnKBux25lD"
      },
      "outputs": [],
      "source": [
        "def train_model(model, optimizer, num_iterations=10000,\n",
        "                print_every=1000, eval_every=1000,\n",
        "                batch_fn=get_examples,\n",
        "                prep_fn=prepare_example,\n",
        "                eval_fn=simple_evaluate,\n",
        "                batch_size=1, eval_batch_size=None):\n",
        "  \"\"\"Train a model.\"\"\"\n",
        "  iter_i = 0\n",
        "  train_loss = 0.\n",
        "  print_num = 0\n",
        "  start = time.time()\n",
        "  criterion = nn.CrossEntropyLoss() # loss function\n",
        "  best_eval = 0.\n",
        "  best_iter = 0\n",
        "\n",
        "  # store train loss and validation accuracy during training\n",
        "  # so we can plot them afterwards\n",
        "  losses = []\n",
        "  accuracies = []\n",
        "\n",
        "  if eval_batch_size is None:\n",
        "    eval_batch_size = batch_size\n",
        "\n",
        "  while True:  # when we run out of examples, shuffle and continue\n",
        "    for batch in batch_fn(train_data, batch_size=batch_size):\n",
        "\n",
        "      # forward pass\n",
        "      model.train()\n",
        "      x, targets = prep_fn(batch, model.vocab)\n",
        "      logits = model(x)\n",
        "\n",
        "      B = targets.size(0)  # later we will use B examples per update\n",
        "\n",
        "      # compute cross-entropy loss (our criterion)\n",
        "      # note that the cross entropy loss function computes the softmax for us\n",
        "      loss = criterion(logits.view([B, -1]), targets.view(-1))\n",
        "      train_loss += loss.item()\n",
        "\n",
        "      # backward pass (tip: check the Introduction to PyTorch notebook)\n",
        "\n",
        "      # erase previous gradients\n",
        "      optimizer.zero_grad()\n",
        "\n",
        "      # compute gradients\n",
        "      loss.backward()\n",
        "\n",
        "      # update weights - take a small step in the opposite dir of the gradient\n",
        "      optimizer.step()\n",
        "\n",
        "\n",
        "      print_num += 1\n",
        "      iter_i += 1\n",
        "\n",
        "      # print info\n",
        "      if iter_i % print_every == 0:\n",
        "        print(\"Iter %r: loss=%.4f, time=%.2fs\" %\n",
        "              (iter_i, train_loss, time.time()-start))\n",
        "        losses.append(train_loss)\n",
        "        print_num = 0\n",
        "        train_loss = 0.\n",
        "\n",
        "      # evaluate\n",
        "      if iter_i % eval_every == 0:\n",
        "        _, _, accuracy = eval_fn(model, dev_data, batch_size=eval_batch_size,\n",
        "                                 batch_fn=batch_fn, prep_fn=prep_fn)\n",
        "        accuracies.append(accuracy)\n",
        "        print(\"iter %r: dev acc=%.4f\" % (iter_i, accuracy))\n",
        "\n",
        "        # save best model parameters\n",
        "        if accuracy > best_eval:\n",
        "          print(\"new highscore\")\n",
        "          best_eval = accuracy\n",
        "          best_iter = iter_i\n",
        "          path = \"{}.pt\".format(model.__class__.__name__)\n",
        "          ckpt = {\n",
        "              \"state_dict\": model.state_dict(),\n",
        "              \"optimizer_state_dict\": optimizer.state_dict(),\n",
        "              \"best_eval\": best_eval,\n",
        "              \"best_iter\": best_iter\n",
        "          }\n",
        "          torch.save(ckpt, path)\n",
        "\n",
        "      # done training\n",
        "      if iter_i == num_iterations:\n",
        "        print(\"Done training\")\n",
        "\n",
        "        # evaluate on train, dev, and test with best model\n",
        "        print(\"Loading best model\")\n",
        "        path = \"{}.pt\".format(model.__class__.__name__)\n",
        "        ckpt = torch.load(path)\n",
        "        model.load_state_dict(ckpt[\"state_dict\"])\n",
        "\n",
        "        _, _, train_acc = eval_fn(\n",
        "            model, train_data, batch_size=eval_batch_size,\n",
        "            batch_fn=batch_fn, prep_fn=prep_fn)\n",
        "        _, _, dev_acc = eval_fn(\n",
        "            model, dev_data, batch_size=eval_batch_size,\n",
        "            batch_fn=batch_fn, prep_fn=prep_fn)\n",
        "        _, _, test_acc = eval_fn(\n",
        "            model, test_data, batch_size=eval_batch_size,\n",
        "            batch_fn=batch_fn, prep_fn=prep_fn)\n",
        "\n",
        "        print(\"best model iter {:d}: \"\n",
        "              \"train acc={:.4f}, dev acc={:.4f}, test acc={:.4f}\".format(\n",
        "                  best_iter, train_acc, dev_acc, test_acc))\n",
        "\n",
        "        return losses, accuracies, test_acc"
      ]
    },
    {
      "cell_type": "markdown",
      "metadata": {
        "id": "MQZ5flHwiiHY"
      },
      "source": [
        "# Pre-trained word embeddings"
      ]
    },
    {
      "cell_type": "markdown",
      "metadata": {
        "id": "9NX35vecmHy6"
      },
      "source": [
        "The Stanford Sentiment Treebank is a rather small data set, since it required fine-grained manual annotatation. This makes it difficult for the Deep CBOW model to learn good word embeddings, i.e. to learn good word representations for the words in our vocabulary.\n",
        "In fact, the only error signal that the network receives is from predicting the sentiment of entire sentences!\n",
        "\n",
        "To start off with better word representations, we can download **pre-trained word embeddings**.\n",
        "You can choose which pre-trained word embeddings to use:\n",
        "\n",
        "- **GloVe**. The \"original\" Stanford Sentiment classification [paper](http://aclweb.org/anthology/P/P15/P15-1150.pdf) used Glove embeddings, which are just another method (like *word2vec*) to get word embeddings from unannotated text. Glove is described in the following paper which you should cite if you use them:\n",
        "> Jeffrey Pennington, Richard Socher, and Christopher Manning. [\"Glove: Global vectors for word representation.\"](https://nlp.stanford.edu/pubs/glove.pdf) EMNLP 2014.\n",
        "\n",
        "- **Word2Vec**. This is the method that you learned about in class, described in:\n",
        "> Mikolov, Tomas, et al. [\"Distributed representations of words and phrases and their compositionality.\"](https://papers.nips.cc/paper/5021-distributed-representations-of-words-and-phrases-and-their-compositionality.pdf) Advances in neural information processing systems. 2013.\n",
        "\n",
        "Using these pre-trained word embeddings, we can initialize our word embedding lookup table and start form a point where similar words are already close to one another in the distributional semantic space.\n",
        "\n",
        "You can choose to keep the word embeddings **fixed** or to train them further, specialising them to the task at hand.\n",
        "We will keep them fixed for now.\n",
        "\n",
        "For the purposes of this lab, it is enough if you understand how word2vec works (whichever vectors you use), but if you are interested, we encourage you to also check out the GloVe paper.\n",
        "\n",
        "You can either download the word2vec vectors, or the Glove vectors.\n",
        "If you want to compare your results to the Stanford paper later on, then you should use Glove.\n",
        "**At the end of this lab you have the option to compare which vectors give you the best performance. For now, simply choose one of them and continue with that.**\n",
        "\n",
        "[**OPTIONAL in case you don't want to mount Google Drive:** instead of running all the 5 boxes below, you can 1) download the GloVe and word2vec in your local machine, 2) upload them on your Drive folder (\"My Drive\"). Then, uncomment the first 2 lines in box 6 before writing your code!]\n"
      ]
    },
    {
      "cell_type": "code",
      "execution_count": null,
      "metadata": {
        "id": "QTHqbBZN3WrO",
        "colab": {
          "base_uri": "https://localhost:8080/"
        },
        "outputId": "9af4b42e-2cd0-4075-fae0-c24fd848f5ec"
      },
      "outputs": [
        {
          "output_type": "stream",
          "name": "stdout",
          "text": [
            "Downloading glove file...\n",
            "File downloaded and saved as glove.filtered.txt\n"
          ]
        }
      ],
      "source": [
        "import requests\n",
        "\n",
        "# URL to the globr file\n",
        "url = \"https://gist.githubusercontent.com/bastings/b094de2813da58056a05e8e7950d4ad1/raw/3fbd3976199c2b88de2ae62afc0ecc6f15e6f7ce/glove.840B.300d.sst.txt\"\n",
        "\n",
        "# File name to save the downloaded file\n",
        "file_name = \"glove.filtered.txt\"\n",
        "\n",
        "# Download the file\n",
        "print(\"Downloading glove file...\")\n",
        "response = requests.get(url)\n",
        "\n",
        "# Save the file locally\n",
        "with open(file_name, \"wb\") as f:\n",
        "    f.write(response.content)\n",
        "\n",
        "print(f\"File downloaded and saved as {file_name}\")"
      ]
    },
    {
      "cell_type": "code",
      "execution_count": null,
      "metadata": {
        "id": "74grLoH-4Ef0",
        "colab": {
          "base_uri": "https://localhost:8080/"
        },
        "outputId": "a2316ed3-f847-44ee-98d1-d6421dcbee8d"
      },
      "outputs": [
        {
          "output_type": "stream",
          "name": "stdout",
          "text": [
            ", -0.082752 0.67204 -0.14987 -0.064983 0.056491 0.40228 0.0027747 -0.3311 -0.30691 2.0817 0.031819 0.013643 0.30265 0.0071297 -0.5819 -0.2774 -0.062254 1.1451 -0.24232 0.1235 -0.12243 0.33152 -0.006162 -0.30541 -0.13057 -0.054601 0.037083 -0.070552 0.5893 -0.30385 0.2898 -0.14653 -0.27052 0.37161 0.32031 -0.29125 0.0052483 -0.13212 -0.052736 0.087349 -0.26668 -0.16897 0.015162 -0.0083746 -0.14871 0.23413 -0.20719 -0.091386 0.40075 -0.17223 0.18145 0.37586 -0.28682 0.37289 -0.16185 0.18008 0.3032 -0.13216 0.18352 0.095759 0.094916 0.008289 0.11761 0.34046 0.03677 -0.29077 0.058303 -0.027814 0.082941 0.1862 -0.031494 0.27985 -0.074412 -0.13762 -0.21866 0.18138 0.040855 -0.113 0.24107 0.3657 -0.27525 -0.05684 0.34872 0.011884 0.14517 -0.71395 0.48497 0.14807 0.62287 0.20599 0.58379 -0.13438 0.40207 0.18311 0.28021 -0.42349 -0.25626 0.17715 -0.54095 0.16596 -0.036058 0.08499 -0.64989 0.075549 -0.28831 0.40626 -0.2802 0.094062 0.32406 0.28437 -0.26341 0.11553 0.071918 -0.47215 -0.18366 -0.34709 0.29964 -0.66514 0.002516 -0.42333 0.27512 0.36012 0.16311 0.23964 -0.05923 0.3261 0.20559 0.038677 -0.045816 0.089764 0.43151 -0.15954 0.08532 -0.26572 -0.15001 0.084286 -0.16714 -0.43004 0.060807 0.13121 -0.24112 0.66554 0.4453 -0.18019 -0.13919 0.56252 0.21457 -0.46443 -0.012211 0.029988 -0.051094 -0.20135 0.80788 0.47377 -0.057647 0.46216 0.16084 -0.20954 -0.05452 0.15572 -0.13712 0.12972 -0.011936 -0.003378 -0.13595 -0.080711 0.20065 0.054056 0.046816 0.059539 0.046265 0.17754 -0.31094 0.28119 -0.24355 0.085252 -0.21011 -0.19472 0.0027297 -0.46341 0.14789 -0.31517 -0.065939 0.036106 0.42903 -0.33759 0.16432 0.32568 -0.050392 -0.054297 0.24074 0.41923 0.13012 -0.17167 -0.37808 -0.23089 -0.019477 -0.29291 -0.30824 0.30297 -0.22659 0.081574 -0.18516 -0.21408 0.40616 -0.28974 0.074174 -0.17795 0.28595 -0.039626 -0.2339 -0.36054 -0.067503 -0.091065 0.23438 -0.0041331 0.003232 0.0072134 0.008697 0.21614 0.049904 0.35582 0.13748 0.073361 0.14166 0.2412 -0.013322 0.15613 0.083381 0.088146 -0.019357 0.43795 0.083961 0.45309 -0.50489 -0.10865 -0.2527 -0.18251 0.20441 0.13319 0.1294 0.050594 -0.15612 -0.39543 0.12538 0.24881 -0.1927 -0.31847 -0.12719 0.4341 0.31177 -0.0040946 -0.2094 -0.079961 0.1161 -0.050794 0.015266 -0.2803 -0.12486 0.23587 0.2339 -0.14023 0.028462 0.56923 -0.1649 -0.036429 0.010051 -0.17107 -0.042608 0.044965 -0.4393 -0.26137 0.30088 -0.060772 -0.45312 -0.19076 -0.20288 0.27694 -0.060888 0.11944 0.62206 -0.19343 0.47849 -0.30113 0.059389 0.074901 0.061068 -0.4662 0.40054 -0.19099 -0.14331 0.018267 -0.18643 0.20709 -0.35598 0.05338 -0.050821 -0.1918 -0.37846 -0.06589\n",
            ". 0.012001 0.20751 -0.12578 -0.59325 0.12525 0.15975 0.13748 -0.33157 -0.13694 1.7893 -0.47094 0.70434 0.26673 -0.089961 -0.18168 0.067226 0.053347 1.5595 -0.2541 0.038413 -0.01409 0.056774 0.023434 0.024042 0.31703 0.19025 -0.37505 0.035603 0.1181 0.012032 -0.037566 -0.5046 -0.049261 0.092351 0.11031 -0.073062 0.33994 0.28239 0.13413 0.070128 -0.022099 -0.28103 0.49607 -0.48693 -0.090964 -0.1538 -0.38011 -0.014228 -0.19392 -0.11068 -0.014088 -0.17906 0.24509 -0.16878 -0.15351 -0.13808 0.02151 0.13699 0.0068061 -0.14915 -0.38169 0.12727 0.44007 0.32678 -0.46117 0.068687 0.34747 0.18827 -0.31837 0.4447 -0.2095 -0.26987 0.48945 0.15388 0.05295 -0.049831 0.11207 0.14881 -0.37003 0.30777 -0.33865 0.045149 -0.18987 0.26634 -0.26401 -0.47556 0.68381 -0.30653 0.24606 0.31611 -0.071098 0.030417 0.088119 0.045025 0.20125 -0.21618 -0.36371 -0.25948 -0.42398 -0.14305 -0.10208 0.21498 -0.21924 -0.17935 0.21546 0.13801 0.24504 -0.2559 0.054815 0.21307 0.2564 -0.25673 0.17961 -0.47638 -0.25181 -0.0091498 -0.054362 -0.21007 0.12597 -0.40795 -0.021164 0.20585 0.18925 -0.0051896 -0.51394 0.28862 -0.077748 -0.27676 0.46567 -0.14225 -0.17879 -0.4357 -0.32481 0.15034 -0.058367 0.49652 0.20472 0.019866 0.13326 0.12823 -1.0177 0.29007 0.28995 0.029994 -0.10763 0.28665 -0.24387 0.22905 -0.26249 -0.069269 -0.17889 0.21936 0.15146 0.04567 -0.050497 0.071482 -0.1027 -0.080705 0.30296 0.031302 0.26613 -0.0060951 0.10313 -0.39987 -0.043945 -0.057625 0.08702 -0.098152 0.22835 -0.005211 0.038075 0.01591 -0.20622 0.021853 0.0040426 -0.043063 -0.002294 -0.26097 -0.25802 -0.28158 -0.23118 -0.010404 -0.30102 -0.4042 0.014653 -0.10445 0.30377 -0.20957 0.3119 0.068272 0.1008 0.010423 0.54011 0.29865 0.12653 0.013761 0.21738 -0.39521 0.066633 0.50327 0.14913 -0.11554 0.010042 0.095698 0.16607 -0.18808 0.055019 0.026715 -0.3164 -0.046583 -0.051591 0.023475 -0.11007 0.085642 0.28394 0.040497 0.071986 0.14157 -0.021199 0.44718 0.20088 -0.12964 -0.067183 0.47614 0.13394 -0.17287 -0.37324 -0.17285 0.02683 -0.1316 0.09116 -0.46487 0.1274 -0.090159 -0.10552 0.068006 -0.13381 0.17056 0.089509 -0.23133 -0.27572 0.061534 -0.051646 0.28377 0.25286 -0.24139 -0.19905 0.12049 -0.1011 0.27392 0.27843 0.26449 -0.18292 -0.048961 0.19198 0.17192 0.33659 -0.20184 -0.34305 -0.24553 -0.15399 0.3945 0.22839 -0.25753 -0.25675 -0.37332 -0.23884 -0.048816 0.78323 0.18851 -0.26477 0.096566 0.062658 -0.30668 -0.43334 0.10006 0.21136 0.039459 -0.11077 0.24421 0.60942 -0.46646 0.086385 -0.39702 -0.23363 0.021307 -0.10778 -0.2281 0.50803 0.11567 0.16165 -0.066737 -0.29556 0.022612 -0.28135 0.0635 0.14019 0.13871 -0.36049 -0.035\n",
            "the 0.27204 -0.06203 -0.1884 0.023225 -0.018158 0.0067192 -0.13877 0.17708 0.17709 2.5882 -0.35179 -0.17312 0.43285 -0.10708 0.15006 -0.19982 -0.19093 1.1871 -0.16207 -0.23538 0.003664 -0.19156 -0.085662 0.039199 -0.066449 -0.04209 -0.19122 0.011679 -0.37138 0.21886 0.0011423 0.4319 -0.14205 0.38059 0.30654 0.020167 -0.18316 -0.0065186 -0.0080549 -0.12063 0.027507 0.29839 -0.22896 -0.22882 0.14671 -0.076301 -0.1268 -0.0066651 -0.052795 0.14258 0.1561 0.05551 -0.16149 0.09629 -0.076533 -0.049971 -0.010195 -0.047641 -0.16679 -0.2394 0.0050141 -0.049175 0.013338 0.41923 -0.10104 0.015111 -0.077706 -0.13471 0.119 0.10802 0.21061 -0.051904 0.18527 0.17856 0.041293 -0.014385 -0.082567 -0.035483 -0.076173 -0.045367 0.089281 0.33672 -0.22099 -0.0067275 0.23983 -0.23147 -0.88592 0.091297 -0.012123 0.013233 -0.25799 -0.02972 0.016754 0.01369 0.32377 0.039546 0.042114 -0.088243 0.30318 0.087747 0.16346 -0.40485 -0.043845 -0.040697 0.20936 -0.77795 0.2997 0.2334 0.14891 -0.39037 -0.053086 0.062922 0.065663 -0.13906 0.094193 0.10344 -0.2797 0.28905 -0.32161 0.020687 0.063254 -0.23257 -0.4352 -0.017049 -0.32744 -0.047064 -0.075149 -0.18788 -0.015017 0.029342 -0.3527 -0.044278 -0.13507 -0.11644 -0.1043 0.1392 0.0039199 0.37603 0.067217 -0.37992 -1.1241 -0.057357 -0.16826 0.03941 0.2604 -0.023866 0.17963 0.13553 0.2139 0.052633 -0.25033 -0.11307 0.22234 0.066597 -0.11161 0.062438 -0.27972 0.19878 -0.36262 -1.0006e-05 -0.17262 0.29166 -0.15723 0.054295 0.06101 -0.39165 0.2766 0.057816 0.39709 0.025229 0.24672 -0.08905 0.15683 -0.2096 -0.22196 0.052394 -0.01136 0.050417 -0.14023 -0.042825 -0.031931 -0.21336 -0.20402 -0.23272 0.07449 0.088202 -0.11063 -0.33526 -0.014028 -0.29429 -0.086911 -0.1321 -0.43616 0.20513 0.0079362 0.48505 0.064237 0.14261 -0.43711 0.12783 -0.13111 0.24673 -0.27496 0.15896 0.43314 0.090286 0.24662 0.066463 -0.20099 0.1101 0.03644 0.17359 -0.15689 -0.086328 -0.17316 0.36975 -0.40317 -0.064814 -0.034166 -0.013773 0.062854 -0.17183 -0.12366 -0.034663 -0.22793 -0.23172 0.239 0.27473 0.15332 0.10661 -0.060982 -0.024805 -0.13478 0.17932 -0.37374 -0.02893 -0.11142 -0.08389 -0.055932 0.068039 -0.10783 0.1465 0.094617 -0.084554 0.067429 -0.3291 0.034082 -0.16747 -0.25997 -0.22917 0.020159 -0.02758 0.16136 -0.18538 0.037665 0.57603 0.20684 0.27941 0.16477 -0.018769 0.12062 0.069648 0.059022 -0.23154 0.24095 -0.3471 0.04854 -0.056502 0.41566 -0.43194 0.4823 -0.051759 -0.27285 -0.25893 0.16555 -0.1831 -0.06734 0.42457 0.010346 0.14237 0.25939 0.17123 -0.13821 -0.066846 0.015981 -0.30193 0.043579 -0.043102 0.35025 -0.19681 -0.4281 0.16899 0.22511 -0.28557 -0.1028 -0.018168 0.11407 0.13015 -0.18317 0.1323\n",
            "and -0.18567 0.066008 -0.25209 -0.11725 0.26513 0.064908 0.12291 -0.093979 0.024321 2.4926 -0.017916 -0.071218 -0.24782 -0.26237 -0.2246 -0.21961 -0.12927 1.0867 -0.66072 -0.031617 -0.057328 0.056903 -0.27939 -0.39825 0.14251 -0.085146 -0.14779 0.055067 -0.0028687 -0.20917 -0.070735 0.22577 -0.15881 -0.10395 0.09711 -0.56251 -0.32929 -0.20853 0.0098711 0.049777 0.0014883 0.15884 0.042771 -0.0026956 -0.02462 -0.19213 -0.22556 0.10838 0.090086 -0.13291 0.32559 -0.17038 -0.1099 -0.23986 -0.024289 0.014656 -0.237 0.084828 -0.35982 -0.076746 0.048909 0.11431 -0.21013 0.24765 -0.017531 -0.14028 0.046191 0.22972 0.1175 0.12724 0.012992 0.4587 0.41085 0.039106 0.15713 -0.18376 0.26834 0.056662 0.16844 -0.053788 -0.091892 0.11193 -0.08681 -0.13324 0.15062 -0.31733 -0.22078 0.25038 0.34131 0.36419 -0.089514 -0.22193 0.24471 0.040091 0.47798 -0.029996 0.0019212 0.063511 -0.20417 -0.26478 0.20649 0.015573 -0.27722 -0.18861 -0.10289 -0.49773 0.14986 -0.010877 0.25085 -0.28117 0.18966 -0.065879 0.094753 -0.15338 -0.055071 -0.36747 0.24993 0.096527 0.23538 0.18405 0.052859 0.22967 0.12582 0.15536 -0.17275 0.33946 -0.10049 0.074948 -0.093575 -0.04049 -0.016922 -0.0058039 -0.18108 0.19537 0.45178 0.10965 0.2337 -0.09905 -0.078633 0.21678 -0.71231 -0.099759 0.33333 -0.1646 -0.091688 0.21056 0.023669 0.028922 0.1199 -0.12512 -0.026037 -0.062217 0.55816 0.0050273 -0.30888 0.038611 0.17568 -0.11163 -0.10815 -0.19444 0.29433 0.14519 -0.042878 0.18534 0.018891 -0.61883 0.13352 0.036007 0.33995 0.22109 -0.079328 0.071319 0.17678 0.16378 -0.23142 -0.1434 -0.098122 -0.019286 0.2356 -0.34013 -0.061007 -0.23208 -0.31152 0.10063 -0.15957 0.20183 -0.016345 -0.12303 0.022667 -0.20986 -0.20127 -0.087883 0.064731 0.10195 -0.1786 0.33056 0.21407 -0.32165 -0.17106 0.19407 -0.38618 -0.2148 -0.052254 0.023175 0.47389 0.18612 0.12711 0.20855 -0.10256 -0.12016 -0.40488 0.029695 -0.027419 -0.0085227 -0.11415 0.081134 -0.17228 0.19142 0.026514 0.043789 -0.12399 0.13354 0.10112 0.081682 -0.15085 0.0075806 -0.18971 0.24669 0.22491 0.35553 -0.3277 -0.21821 0.1402 0.28604 0.055226 -0.086544 0.02111 -0.19236 0.074245 0.076782 0.00081666 0.034097 -0.57719 0.10657 0.28134 -0.11964 -0.68281 -0.32893 -0.24442 -0.025847 0.0091273 0.2025 -0.050959 -0.11042 0.010962 0.076773 0.40048 -0.40739 -0.44773 0.31954 -0.036326 -0.012789 -0.17282 0.1476 0.2356 0.080642 -0.36528 -0.0083443 0.6239 -0.24379 0.019917 -0.28803 -0.010494 0.038412 -0.11718 -0.072462 0.16381 0.38488 -0.029783 0.23444 0.4532 0.14815 -0.027021 -0.073181 -0.1147 -0.0054545 0.47796 0.090912 0.094489 -0.36882 -0.59396 -0.097729 0.20072 0.17055 -0.0047356 -0.039709 0.32498 -0.023452 0.12302 0.3312\n",
            "to 0.31924 0.06316 -0.27858 0.2612 0.079248 -0.21462 -0.10495 0.15495 -0.03353 2.4834 -0.50904 0.08749 0.21426 0.22151 -0.25234 -0.097544 -0.1927 1.3606 -0.11592 -0.10383 0.21929 0.11997 -0.11063 0.14212 -0.16643 0.21815 0.0042086 -0.070012 -0.23532 -0.26518 0.031248 0.16669 -0.089777 0.20059 0.31614 -0.5583 0.075735 0.27635 0.12741 -0.18185 -0.12722 0.024686 -0.077233 -0.48998 0.020355 0.0039164 0.1215 0.089723 -0.078975 0.081443 -0.099087 -0.055621 0.10737 -0.0044042 0.48496 0.11717 -0.017329 0.109 -0.35558 0.051084 0.15714 0.17961 -0.29711 0.033645 -0.025792 -0.013931 -0.23 -0.040306 0.22282 -0.013544 0.011554 0.3911 0.26533 -0.31012 0.40539 -0.042975 0.020811 -0.33033 0.19573 -0.037958 0.10274 -0.0013581 -0.44505 0.077886 0.08511 -0.20285 -0.19481 0.056933 0.53105 0.034154 -0.56996 -0.18469 0.093403 0.28044 -0.23349 0.10938 -0.014288 -0.274 0.034196 -0.098479 0.13268 0.19437 0.13463 -0.099059 0.040324 -0.66272 0.3571 0.15429 0.18598 0.087542 0.080538 -0.25121 0.24155 0.1783 0.036011 -0.027677 0.21161 -0.29107 -0.0083456 0.11317 0.31064 -0.10693 -0.27367 -0.039785 0.039881 0.034462 -0.16518 0.16115 0.060826 0.3075 -0.22398 0.14619 -0.2661 0.49732 -0.13996 -0.24287 0.039469 -0.084495 -0.24315 0.070701 -1.0136 -0.21733 -0.36878 -0.24973 0.17472 -0.011592 0.068561 -0.090411 0.21878 -0.2639 0.11904 0.14285 -0.18707 -0.13474 -0.13232 -0.26553 0.22947 -0.018215 0.0067383 -0.1019 0.10053 -0.1127 -0.13295 0.15951 0.14906 -0.095578 0.26992 0.011057 0.056568 0.021386 0.20215 0.00048589 0.5336 -0.22947 0.29275 0.17378 0.25423 -0.10976 0.058816 0.014616 -0.04306 0.10732 -0.028149 -0.19181 0.1025 -0.063892 0.012737 -0.12913 0.015037 0.26562 -0.017049 -0.060716 -0.094919 0.017775 0.13221 0.1683 -0.19323 -0.17612 0.075506 0.18939 0.12508 -0.1988 -0.16017 -0.21092 0.46933 0.044747 0.098349 0.011637 0.22281 -0.010837 -0.04833 -0.47335 -0.36811 -0.13592 -0.15086 0.25416 0.069531 0.14211 -0.26703 -0.1259 0.12076 -0.26117 0.033024 -0.034398 -0.13968 0.13446 -0.16709 0.15002 -0.13724 0.091226 -0.27718 0.020098 0.26919 0.43016 0.094019 -0.085496 -0.25192 -0.11645 -0.039734 0.0046738 0.54178 -0.16636 0.34546 0.098501 0.47819 -0.38428 -0.3238 -0.14822 -0.47817 0.16704 -0.064505 0.11834 -0.3448 0.096891 0.32309 0.41471 0.19463 -0.20891 -0.12223 -0.058298 -0.20268 0.2948 0.043397 0.10112 0.27177 -0.52124 -0.073794 0.044808 0.41388 0.088782 0.62255 -0.072391 0.090129 0.15428 0.023163 -0.13028 0.061762 0.33803 -0.091581 0.21039 0.05108 0.19184 0.10444 0.2138 -0.35091 -0.23702 0.038399 -0.10031 0.18359 0.025178 -0.12977 0.3713 0.18888 -0.0042738 -0.10645 -0.2581 -0.044629 0.082745 0.097801 0.25045\n"
          ]
        }
      ],
      "source": [
        "# Exercise: Print the first 4 lines of the files that you downloaded.\n",
        "# What do you see?\n",
        "# Print the first few lines of the file\n",
        "with open(\"glove.filtered.txt\", \"r\", encoding=\"utf-8\") as f:\n",
        "    for i in range(5):\n",
        "        print(f.readline().strip())\n"
      ]
    },
    {
      "cell_type": "code",
      "execution_count": null,
      "metadata": {
        "id": "qgGCNe7R4Qqw",
        "colab": {
          "base_uri": "https://localhost:8080/"
        },
        "outputId": "64b3e12c-e54b-4c76-bf9c-76e840065222"
      },
      "outputs": [
        {
          "output_type": "stream",
          "name": "stdout",
          "text": [
            "Loaded 20725 word embeddings!\n",
            "Vocabulary size: 20727\n",
            "First 10 vocabulary entries:\n",
            "0: <unk>\n",
            "1: <pad>\n",
            "2: ,\n",
            "3: .\n",
            "4: the\n",
            "5: and\n",
            "6: to\n",
            "7: of\n",
            "8: a\n",
            "9: in\n"
          ]
        }
      ],
      "source": [
        "# Parse the glove file\n",
        "glove = {}\n",
        "with open(\"glove.filtered.txt\", \"r\", encoding=\"utf-8\") as f:\n",
        "    for line in f:\n",
        "        values = line.strip().split()\n",
        "        word = values[0]  # The first value is the word\n",
        "        vector = [float(x) for x in values[1:]]  # The rest are the embedding values\n",
        "        glove[word] = vector\n",
        "\n",
        "print(f\"Loaded {len(glove)} word embeddings!\")\n",
        "\n",
        "# Initialize vocabulary object\n",
        "v = Vocabulary()\n",
        "\n",
        "# Add special tokens manually\n",
        "v.add_token(\"<unk>\")\n",
        "v.add_token(\"<pad>\")\n",
        "\n",
        "# Define embedding dimensions and initialize list for vectors\n",
        "embedding_dim = 300  # Update if using different dimensions\n",
        "vectors = []\n",
        "\n",
        "# Add special token embeddings\n",
        "vectors.append(np.random.uniform(-0.01, 0.01, embedding_dim))  # <unk>\n",
        "vectors.append(np.zeros(embedding_dim))  # <pad>\n",
        "\n",
        "# Add pre-trained word embeddings to vocabulary\n",
        "for word, vector in glove.items():\n",
        "    if word not in v.w2i:  # If the word is not already in the vocab\n",
        "        v.add_token(word)\n",
        "        vectors.append(vector)\n",
        "\n",
        "# Convert vectors to a NumPy array\n",
        "vectors = np.stack(vectors, axis=0)\n",
        "\n",
        "# Print vocabulary size and first few entries\n",
        "print(f\"Vocabulary size: {len(v.w2i)}\")\n",
        "print(\"First 10 vocabulary entries:\")\n",
        "for i, word in enumerate(v.i2w[:10]):\n",
        "    print(f\"{i}: {word}\")\n"
      ]
    },
    {
      "cell_type": "markdown",
      "metadata": {
        "id": "3GcMFdNzWvVi"
      },
      "source": [
        "Create a function to set set for reproducbility."
      ]
    },
    {
      "cell_type": "code",
      "execution_count": null,
      "metadata": {
        "id": "fGQcMCLBoF3R"
      },
      "outputs": [],
      "source": [
        "def set_seed(seed):\n",
        "\n",
        "    random.seed(seed)\n",
        "    np.random.seed(seed)\n",
        "    torch.manual_seed(seed)\n",
        "    if torch.cuda.is_available():\n",
        "        torch.cuda.manual_seed(seed)\n",
        "        torch.cuda.manual_seed_all(seed)\n",
        "\n",
        "    # Enforce determinism in PyTorch\n",
        "    torch.backends.cudnn.deterministic = True\n",
        "    torch.backends.cudnn.benchmark = False\n"
      ]
    },
    {
      "cell_type": "markdown",
      "metadata": {
        "id": "YEw6XHQY_AAQ"
      },
      "source": [
        "# Mini-batching\n",
        "\n"
      ]
    },
    {
      "cell_type": "code",
      "execution_count": null,
      "metadata": {
        "id": "IoAE2JBiXJ3P"
      },
      "outputs": [],
      "source": [
        "def get_minibatch(data, batch_size=25, shuffle=True):\n",
        "  \"\"\"Return minibatches, optional shuffling\"\"\"\n",
        "\n",
        "  if shuffle:\n",
        "    print(\"Shuffling training data\")\n",
        "    random.shuffle(data)  # shuffle training data each epoch\n",
        "\n",
        "  batch = []\n",
        "\n",
        "  # yield minibatches\n",
        "  for example in data:\n",
        "    batch.append(example)\n",
        "\n",
        "    if len(batch) == batch_size:\n",
        "      yield batch\n",
        "      batch = []\n",
        "\n",
        "  # in case there is something left\n",
        "  if len(batch) > 0:\n",
        "    yield batch"
      ]
    },
    {
      "cell_type": "markdown",
      "metadata": {
        "id": "DwZM-XYkT8Zx"
      },
      "source": [
        "#### Padding function\n",
        "We will need a function that adds padding 1s to a sequence of IDs so that\n",
        "it becomes as long as the longest sequence in the minibatch."
      ]
    },
    {
      "cell_type": "code",
      "execution_count": null,
      "metadata": {
        "colab": {
          "base_uri": "https://localhost:8080/"
        },
        "id": "sp0sK1ghw4Ft",
        "outputId": "3c63c36d-8ecb-47c0-d2de-e97ab5337727"
      },
      "outputs": [
        {
          "output_type": "execute_result",
          "data": {
            "text/plain": [
              "[2, 3, 4, 1, 1]"
            ]
          },
          "metadata": {},
          "execution_count": 38
        }
      ],
      "source": [
        "def pad(tokens, length, pad_value=1):\n",
        "  \"\"\"add padding 1s to a sequence to that it has the desired length\"\"\"\n",
        "  return tokens + [pad_value] * (length - len(tokens))\n",
        "\n",
        "# example\n",
        "tokens = [2, 3, 4]\n",
        "pad(tokens, 5)"
      ]
    },
    {
      "cell_type": "markdown",
      "metadata": {
        "id": "SL2iixMYUgfh"
      },
      "source": [
        "#### New `prepare` function\n",
        "\n",
        "We will also need a new function that turns a mini-batch into PyTorch tensors."
      ]
    },
    {
      "cell_type": "code",
      "execution_count": null,
      "metadata": {
        "id": "ZID0cqozWks8"
      },
      "outputs": [],
      "source": [
        "def prepare_minibatch(mb, vocab):\n",
        "  \"\"\"\n",
        "  Minibatch is a list of examples.\n",
        "  This function converts words to IDs and returns\n",
        "  torch tensors to be used as input/targets.\n",
        "  \"\"\"\n",
        "  batch_size = len(mb)\n",
        "  maxlen = max([len(ex.tokens) for ex in mb])\n",
        "\n",
        "  # vocab returns 0 if the word is not there\n",
        "  x = [pad([vocab.w2i.get(t, 0) for t in ex.tokens], maxlen) for ex in mb]\n",
        "\n",
        "  x = torch.LongTensor(x)\n",
        "  x = x.to(device)\n",
        "\n",
        "  y = [ex.label for ex in mb]\n",
        "  y = torch.LongTensor(y)\n",
        "  y = y.to(device)\n",
        "\n",
        "  return x, y"
      ]
    },
    {
      "cell_type": "code",
      "execution_count": null,
      "metadata": {
        "colab": {
          "base_uri": "https://localhost:8080/"
        },
        "id": "OwDAtCv1x2hB",
        "outputId": "9b0c9f7f-8851-4898-ba4f-d01ddd24b4e6"
      },
      "outputs": [
        {
          "output_type": "stream",
          "name": "stdout",
          "text": [
            "Example(tokens=['The', 'Rock', 'is', 'destined', 'to', 'be', 'the', '21st', 'Century', \"'s\", 'new', '``', 'Conan', \"''\", 'and', 'that', 'he', \"'s\", 'going', 'to', 'make', 'a', 'splash', 'even', 'greater', 'than', 'Arnold', 'Schwarzenegger', ',', 'Jean-Claud', 'Van', 'Damme', 'or', 'Steven', 'Segal', '.'], tree=Tree('3', [Tree('2', [Tree('2', ['The']), Tree('2', ['Rock'])]), Tree('4', [Tree('3', [Tree('2', ['is']), Tree('4', [Tree('2', ['destined']), Tree('2', [Tree('2', [Tree('2', [Tree('2', [Tree('2', ['to']), Tree('2', [Tree('2', ['be']), Tree('2', [Tree('2', ['the']), Tree('2', [Tree('2', ['21st']), Tree('2', [Tree('2', [Tree('2', ['Century']), Tree('2', [\"'s\"])]), Tree('2', [Tree('3', ['new']), Tree('2', [Tree('2', ['``']), Tree('2', ['Conan'])])])])])])])]), Tree('2', [\"''\"])]), Tree('2', ['and'])]), Tree('3', [Tree('2', ['that']), Tree('3', [Tree('2', ['he']), Tree('3', [Tree('2', [\"'s\"]), Tree('3', [Tree('2', ['going']), Tree('3', [Tree('2', ['to']), Tree('4', [Tree('3', [Tree('2', ['make']), Tree('3', [Tree('3', [Tree('2', ['a']), Tree('3', ['splash'])]), Tree('2', [Tree('2', ['even']), Tree('3', ['greater'])])])]), Tree('2', [Tree('2', ['than']), Tree('2', [Tree('2', [Tree('2', [Tree('2', [Tree('1', [Tree('2', ['Arnold']), Tree('2', ['Schwarzenegger'])]), Tree('2', [','])]), Tree('2', [Tree('2', ['Jean-Claud']), Tree('2', [Tree('2', ['Van']), Tree('2', ['Damme'])])])]), Tree('2', ['or'])]), Tree('2', [Tree('2', ['Steven']), Tree('2', ['Segal'])])])])])])])])])])])])]), Tree('2', ['.'])])]), label=3, transitions=[0, 0, 1, 0, 0, 0, 0, 0, 0, 0, 0, 1, 0, 0, 0, 1, 1, 1, 1, 1, 1, 1, 0, 1, 0, 1, 0, 0, 0, 0, 0, 0, 0, 0, 1, 0, 0, 1, 1, 1, 0, 0, 0, 1, 0, 1, 0, 0, 0, 1, 1, 1, 0, 1, 0, 0, 1, 1, 1, 1, 1, 1, 1, 1, 1, 1, 1, 1, 0, 1, 1])\n",
            "Example(tokens=['The', 'gorgeously', 'elaborate', 'continuation', 'of', '``', 'The', 'Lord', 'of', 'the', 'Rings', \"''\", 'trilogy', 'is', 'so', 'huge', 'that', 'a', 'column', 'of', 'words', 'can', 'not', 'adequately', 'describe', 'co-writer/director', 'Peter', 'Jackson', \"'s\", 'expanded', 'vision', 'of', 'J.R.R.', 'Tolkien', \"'s\", 'Middle-earth', '.'], tree=Tree('4', [Tree('4', [Tree('4', [Tree('2', ['The']), Tree('4', [Tree('3', ['gorgeously']), Tree('3', [Tree('2', ['elaborate']), Tree('2', ['continuation'])])])]), Tree('2', [Tree('2', [Tree('2', ['of']), Tree('2', ['``'])]), Tree('2', [Tree('2', ['The']), Tree('2', [Tree('2', [Tree('2', ['Lord']), Tree('2', [Tree('2', ['of']), Tree('2', [Tree('2', ['the']), Tree('2', ['Rings'])])])]), Tree('2', [Tree('2', [\"''\"]), Tree('2', ['trilogy'])])])])])]), Tree('2', [Tree('3', [Tree('2', [Tree('2', ['is']), Tree('2', [Tree('2', ['so']), Tree('2', ['huge'])])]), Tree('2', [Tree('2', ['that']), Tree('3', [Tree('2', [Tree('2', [Tree('2', ['a']), Tree('2', ['column'])]), Tree('2', [Tree('2', ['of']), Tree('2', ['words'])])]), Tree('2', [Tree('2', [Tree('2', [Tree('2', ['can']), Tree('1', ['not'])]), Tree('3', ['adequately'])]), Tree('2', [Tree('2', ['describe']), Tree('2', [Tree('3', [Tree('2', [Tree('2', ['co-writer/director']), Tree('2', [Tree('2', ['Peter']), Tree('3', [Tree('2', ['Jackson']), Tree('2', [\"'s\"])])])]), Tree('3', [Tree('2', ['expanded']), Tree('2', ['vision'])])]), Tree('2', [Tree('2', ['of']), Tree('2', [Tree('2', [Tree('2', ['J.R.R.']), Tree('2', [Tree('2', ['Tolkien']), Tree('2', [\"'s\"])])]), Tree('2', ['Middle-earth'])])])])])])])])]), Tree('2', ['.'])])]), label=4, transitions=[0, 0, 0, 0, 1, 1, 1, 0, 0, 1, 0, 0, 0, 0, 0, 1, 1, 1, 0, 0, 1, 1, 1, 1, 1, 0, 0, 0, 1, 1, 0, 0, 0, 1, 0, 0, 1, 1, 0, 0, 1, 0, 1, 0, 0, 0, 0, 0, 1, 1, 1, 0, 0, 1, 1, 0, 0, 0, 0, 1, 1, 0, 1, 1, 1, 1, 1, 1, 1, 1, 0, 1, 1])\n",
            "Example(tokens=['Singer/composer', 'Bryan', 'Adams', 'contributes', 'a', 'slew', 'of', 'songs', '--', 'a', 'few', 'potential', 'hits', ',', 'a', 'few', 'more', 'simply', 'intrusive', 'to', 'the', 'story', '--', 'but', 'the', 'whole', 'package', 'certainly', 'captures', 'the', 'intended', ',', 'er', ',', 'spirit', 'of', 'the', 'piece', '.'], tree=Tree('3', [Tree('3', [Tree('2', [Tree('2', [Tree('2', [Tree('2', [Tree('2', ['Singer/composer']), Tree('2', [Tree('2', ['Bryan']), Tree('2', ['Adams'])])]), Tree('2', [Tree('2', ['contributes']), Tree('2', [Tree('2', [Tree('2', ['a']), Tree('2', ['slew'])]), Tree('2', [Tree('2', ['of']), Tree('2', ['songs'])])])])]), Tree('2', [Tree('2', ['--']), Tree('2', [Tree('2', [Tree('2', [Tree('2', ['a']), Tree('2', [Tree('2', ['few']), Tree('3', ['potential'])])]), Tree('2', [Tree('2', [Tree('2', ['hits']), Tree('2', [','])]), Tree('2', [Tree('2', [Tree('2', ['a']), Tree('2', ['few'])]), Tree('1', [Tree('1', [Tree('2', ['more']), Tree('1', [Tree('2', ['simply']), Tree('2', ['intrusive'])])]), Tree('2', [Tree('2', ['to']), Tree('2', [Tree('2', ['the']), Tree('2', ['story'])])])])])])]), Tree('2', ['--'])])])]), Tree('2', ['but'])]), Tree('3', [Tree('4', [Tree('2', ['the']), Tree('3', [Tree('2', ['whole']), Tree('2', ['package'])])]), Tree('2', [Tree('3', ['certainly']), Tree('3', [Tree('2', ['captures']), Tree('2', [Tree('1', [Tree('2', ['the']), Tree('2', [Tree('2', [Tree('2', ['intended']), Tree('2', [Tree('2', [',']), Tree('2', [Tree('2', ['er']), Tree('2', [','])])])]), Tree('3', ['spirit'])])]), Tree('2', [Tree('2', ['of']), Tree('2', [Tree('2', ['the']), Tree('2', ['piece'])])])])])])])]), Tree('2', ['.'])]), label=3, transitions=[0, 0, 0, 1, 1, 0, 0, 0, 1, 0, 0, 1, 1, 1, 1, 0, 0, 0, 0, 1, 1, 0, 0, 1, 0, 0, 1, 0, 0, 0, 1, 1, 0, 0, 0, 1, 1, 1, 1, 1, 1, 0, 1, 1, 1, 0, 1, 0, 0, 0, 1, 1, 0, 0, 0, 0, 0, 0, 0, 1, 1, 1, 0, 1, 1, 0, 0, 0, 1, 1, 1, 1, 1, 1, 1, 0, 1])\n"
          ]
        }
      ],
      "source": [
        "# Let's test our new function.\n",
        "# This should give us 3 examples.\n",
        "mb = next(get_minibatch(train_data, batch_size=3, shuffle=False))\n",
        "for ex in mb:\n",
        "  print(ex)"
      ]
    },
    {
      "cell_type": "code",
      "execution_count": null,
      "metadata": {
        "colab": {
          "base_uri": "https://localhost:8080/"
        },
        "id": "dg8zEK8zyUCH",
        "outputId": "bb2de86e-4235-495f-8fd7-755262e3ceb4"
      },
      "outputs": [
        {
          "output_type": "stream",
          "name": "stdout",
          "text": [
            "x tensor([[   23,  1414,    11,  8222,     6,    27,     4,  2826,  3764,    21,\n",
            "            92,  5233,  8558, 15010,     5,    16,    53,    21,   183,     6,\n",
            "           107,     8,  7409,   148,  1552,    97,  6000, 10464,     2,     0,\n",
            "          2740, 15451,    33,  4008, 12925,     3,     1,     1,     1],\n",
            "        [   23, 15300,  6665,  8307,     7,  5233,    23,  1383,     7,     4,\n",
            "          4884, 15010,  8681,    11,    59,   933,    16,     8,  3045,     7,\n",
            "           566,    42,    36,  7800,  2886, 20302,  1433,  1977,    21,  4360,\n",
            "          2274,     7, 15256, 10099,    21, 15561,     3,     1,     1],\n",
            "        [    0,  5314,  3878,  7735,     8,  9726,     7,  1261,   158,     8,\n",
            "           219,  1060,  2187,     2,     8,   219,    50,   688, 11605,     6,\n",
            "             4,   414,   158,    43,     4,   494,  1568,  1214,  6985,     4,\n",
            "          2243,     2,  5986,     2,  2320,     7,     4,   982,     3]],\n",
            "       device='cuda:0')\n",
            "y tensor([3, 4, 3], device='cuda:0')\n"
          ]
        }
      ],
      "source": [
        "# We should find padding 1s at the end\n",
        "x, y = prepare_minibatch(mb, v)\n",
        "print(\"x\", x)\n",
        "print(\"y\", y)"
      ]
    },
    {
      "cell_type": "markdown",
      "metadata": {
        "id": "xYBJEoSNUwI0"
      },
      "source": [
        "#### Evaluate (mini-batch version)\n",
        "\n",
        "We can now update our evaluation function to use mini-batches"
      ]
    },
    {
      "cell_type": "code",
      "execution_count": null,
      "metadata": {
        "id": "eiZZpEghzqou"
      },
      "outputs": [],
      "source": [
        "def evaluate(model, data,\n",
        "             batch_fn=get_minibatch, prep_fn=prepare_minibatch,\n",
        "             batch_size=16):\n",
        "  \"\"\"Accuracy of a model on given data set (using mini-batches)\"\"\"\n",
        "  correct = 0\n",
        "  total = 0\n",
        "  model.eval()  # disable dropout\n",
        "\n",
        "  for mb in batch_fn(data, batch_size=batch_size, shuffle=False):\n",
        "    x, targets = prep_fn(mb, model.vocab)\n",
        "    with torch.no_grad():\n",
        "                  # The model now returns both root_logits and node_predictions\n",
        "      root_logits, _ = model(x)  # Extract only the root_logits\n",
        "\n",
        "    predictions = root_logits.argmax(dim=-1).view(-1)\n",
        "\n",
        "    # add the number of correct predictions to the total correct\n",
        "    correct += (predictions == targets.view(-1)).sum().item()\n",
        "    total += targets.size(0)\n",
        "\n",
        "  return correct, total, correct / float(total)"
      ]
    },
    {
      "cell_type": "markdown",
      "metadata": {
        "id": "q7WjcxXntMi5"
      },
      "source": [
        "# Tree-LSTM"
      ]
    },
    {
      "cell_type": "markdown",
      "metadata": {
        "id": "jyj_UD6GtO5M"
      },
      "source": [
        "In the final part of this lab we will exploit the tree structure of the SST data.\n",
        "Until now we only used the surface tokens, but remember that our data examples include binary trees with a sentiment score at every node.\n",
        "\n",
        "In particular, we will implement **N-ary Tree-LSTMs** which are described in:\n",
        "\n",
        "> Kai Sheng Tai, Richard Socher, and Christopher D. Manning. [Improved Semantic Representations From Tree-Structured Long Short-Term Memory Networks](http://aclweb.org/anthology/P/P15/P15-1150.pdf) ACL 2015.\n",
        "\n",
        "Since our trees are binary (i.e., N=2), we can refer to these as *Binary Tree-LSTMs*. If you study equations (9) to (14) in the paper, you will find that they are not all too different from the original LSTM that you already have.\n",
        "\n",
        "You should read this paper carefully and make sure that you understand the approach. You will also find our LSTM baseline there.\n",
        "Note however that Tree-LSTMs were proposed around the same time by two other groups:\n",
        "\n",
        "> Phong Le and Willem Zuidema. [Compositional distributional semantics with long short term memory](http://anthology.aclweb.org/S/S15/S15-1002.pdf). *SEM 2015.\n",
        "\n",
        "> Xiaodan Zhu, Parinaz Sobihani,  and Hongyu Guo. [Long short-term memory over recursive structures](http://proceedings.mlr.press/v37/zhub15.pdf). ICML 2015.\n",
        "\n",
        "It is good scientific practice to cite all three papers in your report.\n",
        "\n",
        "\n"
      ]
    },
    {
      "cell_type": "markdown",
      "metadata": {
        "id": "1rDzvSos3JFp"
      },
      "source": [
        "## Computation\n",
        "\n",
        "Do you remember the `transitions_from_treestring` function all the way in the beginning of this lab? Every example contains a **transition sequence** produced by this function. Let's look at it again:\n",
        "\n"
      ]
    },
    {
      "cell_type": "code",
      "execution_count": null,
      "metadata": {
        "colab": {
          "base_uri": "https://localhost:8080/"
        },
        "id": "Vdc0Z8MIpPbn",
        "outputId": "e0d04283-1be8-4e93-b8d5-f4462388eeed"
      },
      "outputs": [
        {
          "output_type": "stream",
          "name": "stdout",
          "text": [
            "                                                                                               3                                                                                                                                         \n",
            "      _________________________________________________________________________________________|____                                                                                                                                      \n",
            "     |                                                                                              4                                                                                                                                    \n",
            "     |                      ________________________________________________________________________|__________________________________________________________________________________________________________________________________   \n",
            "     |                     3                                                                                                                                                                                                           | \n",
            "     |         ____________|___________                                                                                                                                                                                                |  \n",
            "     |        |                        4                                                                                                                                                                                               | \n",
            "     |        |      __________________|_________________________________                                                                                                                                                              |  \n",
            "     |        |     |                                                    2                                                                                                                                                             | \n",
            "     |        |     |                                    ________________|_________________                                                                                                                                            |  \n",
            "     |        |     |                                   |                                  3                                                                                                                                           | \n",
            "     |        |     |                                   |                              ____|___                                                                                                                                        |  \n",
            "     |        |     |                                   |                             |        3                                                                                                                                       | \n",
            "     |        |     |                                   |                             |     ___|_________                                                                                                                              |  \n",
            "     |        |     |                                   |                             |    |             3                                                                                                                             | \n",
            "     |        |     |                                   |                             |    |    _________|_________________                                                                                                            |  \n",
            "     |        |     |                                   2                             |    |   |                           3                                                                                                           | \n",
            "     |        |     |                          _________|_________________________    |    |   |     ______________________|________________________________                                                                           |  \n",
            "     |        |     |                         2                                   |   |    |   |    |                                                       3                                                                          | \n",
            "     |        |     |           ______________|_______________________________    |   |    |   |    |     __________________________________________________|______________                                                            |  \n",
            "     |        |     |          2                                              |   |   |    |   |    |    |                                                                 4                                                           | \n",
            "     |        |     |       ___|___                                           |   |   |    |   |    |    |                  _______________________________________________|________________                                           |  \n",
            "     |        |     |      |       2                                          |   |   |    |   |    |    |                 |                                                                2                                          | \n",
            "     |        |     |      |    ___|___                                       |   |   |    |   |    |    |                 |                           _____________________________________|_______                                   |  \n",
            "     |        |     |      |   |       2                                      |   |   |    |   |    |    |                 |                          |                                             2                                  | \n",
            "     |        |     |      |   |    ___|________________                      |   |   |    |   |    |    |                 |                          |                                      _______|________________________          |  \n",
            "     |        |     |      |   |   |                    2                     |   |   |    |   |    |    |                 |                          |                                     2                                |         | \n",
            "     |        |     |      |   |   |    ________________|___                  |   |   |    |   |    |    |                 |                          |                               ______|_____________________           |         |  \n",
            "     |        |     |      |   |   |   |                    2                 |   |   |    |   |    |    |                 3                          |                              2                            |          |         | \n",
            "     |        |     |      |   |   |   |             _______|___              |   |   |    |   |    |    |    _____________|_____                     |                     _________|______________              |          |         |  \n",
            "     |        |     |      |   |   |   |            |           2             |   |   |    |   |    |    |   |                   3                    |                    2                        2             |          |         | \n",
            "     |        |     |      |   |   |   |            |        ___|___          |   |   |    |   |    |    |   |         __________|________            |            ________|_________        _______|___          |          |         |  \n",
            "     2        |     |      |   |   |   |            2       |       2         |   |   |    |   |    |    |   |        3                   2           |           1                  |      |           2         |          2         | \n",
            "  ___|___     |     |      |   |   |   |       _____|___    |    ___|____     |   |   |    |   |    |    |   |     ___|____           ____|_____      |      _____|________          |      |        ___|____     |     _____|____     |  \n",
            " 2       2    2     2      2   2   2   2      2         2   3   2        2    2   2   2    2   2    2    2   2    2        3         2          3     2     2              2         2      2       2        2    2    2          2    2 \n",
            " |       |    |     |      |   |   |   |      |         |   |   |        |    |   |   |    |   |    |    |   |    |        |         |          |     |     |              |         |      |       |        |    |    |          |    |  \n",
            "The     Rock  is destined  to  be the 21st Century      's new  ``     Conan  '' and that  he  's going  to make  a      splash     even     greater than Arnold     Schwarzenegger  ,  Jean-Claud Van     Damme  or Steven     Segal  . \n",
            "\n"
          ]
        },
        {
          "output_type": "stream",
          "name": "stderr",
          "text": [
            "<ipython-input-43-6ab7e95feba4>:5: DeprecationWarning: \n",
            "    Class TreePrettyPrinter has been deprecated.  Import\n",
            "    `TreePrettyPrinter` using `from nltk.tree import\n",
            "    TreePrettyPrinter` instead.\n",
            "  print(TreePrettyPrinter(tree))\n"
          ]
        }
      ],
      "source": [
        "# We can use NLTK to better visualise the tree structure of the sentence\n",
        "from nltk import Tree\n",
        "from nltk.treeprettyprinter import TreePrettyPrinter\n",
        "tree = Tree.fromstring(s)\n",
        "print(TreePrettyPrinter(tree))"
      ]
    },
    {
      "cell_type": "code",
      "execution_count": null,
      "metadata": {
        "colab": {
          "base_uri": "https://localhost:8080/"
        },
        "id": "5pg0Xumc3ZUS",
        "outputId": "11c0fe2b-dea8-4198-ede3-1363bc478fae"
      },
      "outputs": [
        {
          "output_type": "stream",
          "name": "stdout",
          "text": [
            "              3                                                                     \n",
            "  ____________|____________________                                                  \n",
            " |                                 4                                                \n",
            " |        _________________________|______________________________________________   \n",
            " |       4                                                                        | \n",
            " |    ___|______________                                                          |  \n",
            " |   |                  4                                                         | \n",
            " |   |         _________|__________                                               |  \n",
            " |   |        |                    3                                              | \n",
            " |   |        |               _____|______________________                        |  \n",
            " |   |        |              |                            4                       | \n",
            " |   |        |              |            ________________|_______                |  \n",
            " |   |        |              |           |                        2               | \n",
            " |   |        |              |           |                 _______|___            |  \n",
            " |   |        3              |           |                |           2           | \n",
            " |   |    ____|_____         |           |                |        ___|_____      |  \n",
            " |   |   |          4        |           3                |       2         |     | \n",
            " |   |   |     _____|___     |      _____|_______         |    ___|___      |     |  \n",
            " 2   2   2    3         2    2     3             2        2   2       2     2     2 \n",
            " |   |   |    |         |    |     |             |        |   |       |     |     |  \n",
            " It  's  a  lovely     film with lovely     performances  by Buy     and Accorsi  . \n",
            "\n",
            "Transitions:\n",
            "[0, 0, 0, 0, 0, 1, 1, 0, 0, 0, 1, 0, 0, 0, 1, 0, 1, 1, 1, 1, 1, 1, 0, 1, 1]\n"
          ]
        },
        {
          "output_type": "stream",
          "name": "stderr",
          "text": [
            "<ipython-input-44-0d63b35e49bd>:2: DeprecationWarning: \n",
            "    Class TreePrettyPrinter has been deprecated.  Import\n",
            "    `TreePrettyPrinter` using `from nltk.tree import\n",
            "    TreePrettyPrinter` instead.\n",
            "  print(TreePrettyPrinter(ex.tree))\n"
          ]
        }
      ],
      "source": [
        "ex = next(examplereader(\"trees/dev.txt\"))\n",
        "print(TreePrettyPrinter(ex.tree))\n",
        "print(\"Transitions:\")\n",
        "print(ex.transitions)"
      ]
    },
    {
      "cell_type": "code",
      "execution_count": null,
      "metadata": {
        "colab": {
          "base_uri": "https://localhost:8080/"
        },
        "id": "1y069gM4_v64",
        "outputId": "ce7924c8-7878-4d6b-9482-67576088ba20"
      },
      "outputs": [
        {
          "output_type": "stream",
          "name": "stdout",
          "text": [
            "S S S S S R R S S S R S S S R S R R R R R R S R R\n",
            "0 0 0 0 0 1 1 0 0 0 1 0 0 0 1 0 1 1 1 1 1 1 0 1 1\n"
          ]
        }
      ],
      "source": [
        "# for comparison\n",
        "seq = ex.transitions\n",
        "s = \" \".join([\"S\" if t == 0 else \"R\" for t in seq])\n",
        "print(s)\n",
        "print(\" \".join(map(str, seq)))"
      ]
    },
    {
      "cell_type": "markdown",
      "metadata": {
        "id": "d-qOuKbDAiBn"
      },
      "source": [
        "## Coding the Tree-LSTM\n",
        "\n",
        "The code below contains a Binary Tree-LSTM cell.\n",
        "It is used in the TreeLSTM class below it, which in turn is used in the TreeLSTMClassifier.\n",
        "The job of the TreeLSTM class is to encode a complete sentence and return the root node.\n",
        "The job of the TreeLSTMCell is to return a new state when provided with two children (a reduce action). By repeatedly calling the TreeLSTMCell, the TreeLSTM will encode a sentence. This can be done for multiple sentences at the same time.\n",
        "\n",
        "\n",
        "#### Exercise\n",
        "Check the `forward` function and complete the Tree-LSTM formulas.\n",
        "You can see that we defined a large linear layer for you, that projects the *concatenation* of the left and right child into the input gate, left forget gate, right forget gate, candidate, and output gate."
      ]
    },
    {
      "cell_type": "code",
      "execution_count": null,
      "metadata": {
        "id": "J9b9mjMlN7Pb"
      },
      "outputs": [],
      "source": [
        "class TreeLSTMCell(nn.Module):\n",
        "  \"\"\"A Binary Tree LSTM cell\"\"\"\n",
        "\n",
        "  def __init__(self, input_size, hidden_size, bias=True):\n",
        "    \"\"\"Creates the weights for this LSTM\"\"\"\n",
        "    super(TreeLSTMCell, self).__init__()\n",
        "\n",
        "    self.input_size = input_size\n",
        "    self.hidden_size = hidden_size\n",
        "    self.bias = bias\n",
        "\n",
        "    self.reduce_layer = nn.Linear(2 * hidden_size, 5 * hidden_size)\n",
        "    self.dropout_layer = nn.Dropout(p=0.25)\n",
        "\n",
        "    self.reset_parameters()\n",
        "\n",
        "  def reset_parameters(self):\n",
        "    \"\"\"This is PyTorch's default initialization method\"\"\"\n",
        "    stdv = 1.0 / math.sqrt(self.hidden_size)\n",
        "    for weight in self.parameters():\n",
        "      weight.data.uniform_(-stdv, stdv)\n",
        "\n",
        "  def forward(self, hx_l, hx_r, mask=None):\n",
        "    \"\"\"\n",
        "    hx_l is ((batch, hidden_size), (batch, hidden_size))\n",
        "    hx_r is ((batch, hidden_size), (batch, hidden_size))\n",
        "    \"\"\"\n",
        "    prev_h_l, prev_c_l = hx_l  # left child\n",
        "    prev_h_r, prev_c_r = hx_r  # right child\n",
        "\n",
        "    B = prev_h_l.size(0)\n",
        "\n",
        "    # we concatenate the left and right children\n",
        "    # you can also project from them separately and then sum\n",
        "    children = torch.cat([prev_h_l, prev_h_r], dim=1)\n",
        "\n",
        "    # project the combined children into a 5D tensor for i,fl,fr,g,o\n",
        "    # this is done for speed, and you could also do it separately\n",
        "    proj = self.reduce_layer(children)  # shape: B x 5D\n",
        "\n",
        "    # each shape: B x D\n",
        "    i, f_l, f_r, g, o = torch.chunk(proj, 5, dim=-1)\n",
        "\n",
        "    # main Tree LSTM computation\n",
        "    # The shape of each of these is [batch_size, hidden_size]\n",
        "\n",
        "    # Apply activations\n",
        "    i = torch.sigmoid(i)          # Input gate\n",
        "    f_l = torch.sigmoid(f_l)      # Left forget gate\n",
        "    f_r = torch.sigmoid(f_r)      # Right forget gate\n",
        "    g = torch.tanh(g)             # Candidate memory\n",
        "    o = torch.sigmoid(o)          # Output gate\n",
        "\n",
        "    # Compute the new cell state\n",
        "    c = i * g + f_l * prev_c_l + f_r * prev_c_r\n",
        "\n",
        "    # Compute the new hidden state\n",
        "    h = o * torch.tanh(c)\n",
        "\n",
        "    return h, c\n",
        "\n",
        "  def __repr__(self):\n",
        "    return \"{}({:d}, {:d})\".format(\n",
        "        self.__class__.__name__, self.input_size, self.hidden_size)"
      ]
    },
    {
      "cell_type": "markdown",
      "metadata": {
        "id": "Dj5dYSGh_643"
      },
      "source": [
        "## Explanation of the TreeLSTM class\n",
        "\n",
        "\n"
      ]
    },
    {
      "cell_type": "code",
      "execution_count": null,
      "metadata": {
        "id": "5PixvTd4AqsQ"
      },
      "outputs": [],
      "source": [
        "# Helper functions for batching and unbatching states\n",
        "# For speed we want to combine computations by batching, but\n",
        "# for processing logic we want to turn the output into lists again\n",
        "# to easily manipulate.\n",
        "\n",
        "def batch(states):\n",
        "  \"\"\"\n",
        "  Turns a list of states into a single tensor for fast processing.\n",
        "  This function also chunks (splits) each state into a (h, c) pair\"\"\"\n",
        "  return torch.cat(states, 0).chunk(2, 1)\n",
        "\n",
        "def unbatch(state):\n",
        "  \"\"\"\n",
        "  Turns a tensor back into a list of states.\n",
        "  First, (h, c) are merged into a single state.\n",
        "  Then the result is split into a list of sentences.\n",
        "  \"\"\"\n",
        "  return torch.split(torch.cat(state, 1), 1, 0)"
      ]
    },
    {
      "cell_type": "markdown",
      "metadata": {
        "id": "CynltDasaLPt"
      },
      "source": [
        "## Key Modifications:\n",
        "Logging Intermediate Representations:\n",
        "The node_logs list stores the hidden states generated after every REDUCE operation. This allows us to keep track of how the representation evolves through each step in the tree.\n",
        "Returning node_logs:\n",
        "We modified the return value of the forward function to return both final (the root node representation) and node_logs (the intermediate representations)."
      ]
    },
    {
      "cell_type": "code",
      "source": [
        "class TreeLSTM(nn.Module):\n",
        "    \"\"\"Encodes a sentence using a TreeLSTMCell\"\"\"\n",
        "\n",
        "    def __init__(self, input_size, hidden_size, bias=True):\n",
        "        \"\"\"Creates the weights for this LSTM\"\"\"\n",
        "        super(TreeLSTM, self).__init__()\n",
        "\n",
        "        self.input_size = input_size\n",
        "        self.hidden_size = hidden_size\n",
        "        self.bias = bias\n",
        "\n",
        "        self.hidden_proj = nn.Linear(embedding_dim, 150)  # Project to hidden_dim size\n",
        "\n",
        "        self.reduce = TreeLSTMCell(input_size, hidden_size)\n",
        "\n",
        "        # Project word to initial c\n",
        "        self.proj_x = nn.Linear(input_size, hidden_size)\n",
        "        self.proj_x_gate = nn.Linear(input_size, hidden_size)\n",
        "\n",
        "        self.buffers_dropout = nn.Dropout(p=0.5)\n",
        "\n",
        "    def forward(self, x, transitions):\n",
        "        \"\"\"\n",
        "        WARNING: assuming x is reversed!\n",
        "        :param x: word embeddings [B, T, E]\n",
        "        :param transitions: [2T-1, B]\n",
        "        :return: root states\n",
        "        \"\"\"\n",
        "        B = x.size(0)  # batch size\n",
        "        T = x.size(1)  # time\n",
        "\n",
        "        # Compute an initial c and h for each word\n",
        "        buffers_c = self.proj_x(x)\n",
        "        buffers_h = buffers_c.tanh()\n",
        "        buffers_h_gate = self.proj_x_gate(x).sigmoid()\n",
        "        buffers_h = buffers_h_gate * buffers_h\n",
        "\n",
        "        # Concatenate h and c for each word\n",
        "        buffers = torch.cat([buffers_h, buffers_c], dim=-1)\n",
        "\n",
        "        # Turn buffers into a list of stacks (1 stack for each sentence)\n",
        "        buffers = buffers.split(1, dim=0)  # Bx[T, 2D]\n",
        "        buffers = [list(b.squeeze(0).split(1, dim=0)) for b in buffers]  # BxTx[2D]\n",
        "\n",
        "        # Create B empty stacks\n",
        "        stacks = [[] for _ in buffers]\n",
        "\n",
        "        # List to store the hidden states of intermediate nodes\n",
        "        node_logs = []\n",
        "\n",
        "        # t_batch holds 1 transition for each sentence\n",
        "        for t_batch in transitions:\n",
        "            child_l = []  # Left child for each sentence with reduce action\n",
        "            child_r = []  # Right child for each sentence with reduce action\n",
        "\n",
        "            # Iterate over sentences in the batch\n",
        "            for transition, buffer, stack in zip(t_batch, buffers, stacks):\n",
        "                if transition == SHIFT:\n",
        "                    stack.append(buffer.pop())\n",
        "                    node_logs.append(stack[-1])  # Log the current leaf node\n",
        "\n",
        "                elif transition == REDUCE:\n",
        "                    assert len(stack) >= 2, \"Stack too small! Should not happen with valid transition sequences\"\n",
        "                    child_r.append(stack.pop())  # Right child is on top\n",
        "                    child_l.append(stack.pop())\n",
        "\n",
        "            if child_l:\n",
        "              # Perform batched reduce operation\n",
        "              reduced = iter(unbatch(self.reduce(batch(child_l), batch(child_r))))\n",
        "              # Unbatch into individual (h, c) pairs for each node\n",
        "              #reduced = iter(unbatch(reduced))\n",
        "\n",
        "              for transition, stack in zip(t_batch, stacks):\n",
        "                if transition == REDUCE:\n",
        "                  h = next(reduced)\n",
        "                  node_logs.append(h)  # Get prediction for each node\n",
        "                  stack.append(h)\n",
        "\n",
        "        final = [stack.pop().chunk(2, -1)[0] for stack in stacks]\n",
        "        final = torch.cat(final, dim=0)  # tensor [B, D]\n",
        "\n",
        "        # Return root states and all intermediate node logs for later analysis\n",
        "        return final, node_logs\n"
      ],
      "metadata": {
        "id": "_T29xGFLJhId"
      },
      "execution_count": null,
      "outputs": []
    },
    {
      "cell_type": "markdown",
      "metadata": {
        "id": "s4EzbVzqaXkw"
      },
      "source": [
        "Just like the LSTM before, we will need an extra class that does the classifications."
      ]
    },
    {
      "cell_type": "code",
      "execution_count": null,
      "metadata": {
        "id": "nLxpYRvtQKge"
      },
      "outputs": [],
      "source": [
        "class TreeLSTMClassifier(nn.Module):\n",
        "    \"\"\"\n",
        "    Encodes sentence with a TreeLSTM and projects final hidden state\n",
        "    \"\"\"\n",
        "    def __init__(self, vocab_size, embedding_dim, hidden_dim, output_dim, vocab, seed = None):\n",
        "        super(TreeLSTMClassifier, self).__init__()\n",
        "        self.seed = seed\n",
        "        self.vocab = vocab\n",
        "        self.hidden_dim = hidden_dim\n",
        "        self.embed = nn.Embedding(vocab_size, embedding_dim, padding_idx=1)\n",
        "        self.treelstm = TreeLSTM(embedding_dim, hidden_dim)\n",
        "        self.hidden_proj = nn.Linear(300, hidden_dim)\n",
        "        self.output_layer = nn.Sequential(\n",
        "            nn.Dropout(p=0.5),\n",
        "            nn.Linear(hidden_dim, output_dim, bias=True)\n",
        "        )\n",
        "\n",
        "    def forward(self, x):\n",
        "        # x is a pair here of words and transitions; we unpack it here.\n",
        "        # x is batch-major: [B, T], transitions is time major [2T-1, B]\n",
        "        x, transitions = x\n",
        "        emb = self.embed(x)\n",
        "\n",
        "        # Use TreeLSTM to get the root states and all node logs\n",
        "        root_states, node_logs = self.treelstm(emb, transitions)\n",
        "\n",
        "        # Make a prediction at the root level using the final hidden state\n",
        "        root_logits = self.output_layer(root_states)\n",
        "\n",
        "        # Create a list to store predictions at each intermediate node\n",
        "        node_predictions = []\n",
        "\n",
        "        # Make predictions for each intermediate node hidden state\n",
        "        for node_state in node_logs:\n",
        "            node_state = self.hidden_proj(node_state)\n",
        "            # Use the output layer to make a prediction for this node\n",
        "            node_logits = self.output_layer(node_state)\n",
        "            node_predictions.append(node_logits)\n",
        "\n",
        "        # Return root predictions and node predictions\n",
        "        # root_logits -> final prediction for the entire sentence\n",
        "        # node_predictions -> predictions for intermediate nodes\n",
        "        return root_logits, node_predictions\n"
      ]
    },
    {
      "cell_type": "markdown",
      "source": [
        "Key Changes:\n",
        "Calculate Node-Level Losses:\n",
        "\n",
        "After computing the root-level loss (root_loss), we iterate over the node-level predictions (node_predictions).\n",
        "Each node’s logits are passed to the cross-entropy loss function (criterion) to compute a loss.\n",
        "These losses are accumulated in node_losses.\n",
        "Combine Losses:\n",
        "\n",
        "The root loss and the total node-level loss are combined to form the total loss (total_loss).\n",
        "The model uses this total loss to compute gradients and update weights, ensuring that it learns from both root-level and intermediate node-level errors.\n",
        "Backpropagation:\n",
        "\n",
        "Total loss is used for backpropagation (total_loss.backward()), ensuring that the model learns from both types of predictions.\n",
        "Regular Updates:\n",
        "\n",
        "Printing the loss every print_every steps and evaluating the model every eval_every steps continues as in the original loop.\n",
        "The best model is saved based on the highest accuracy observed during evaluation."
      ],
      "metadata": {
        "id": "Zx02aIqbKH-e"
      }
    },
    {
      "cell_type": "code",
      "source": [
        "def train_model(model, optimizer, num_iterations=10000,\n",
        "                print_every=1000, eval_every=1000,\n",
        "                batch_fn=get_examples,\n",
        "                prep_fn=prepare_example,\n",
        "                eval_fn=simple_evaluate,\n",
        "                batch_size=1, eval_batch_size=None, seed = None):\n",
        "    \"\"\"\n",
        "    Train a model with both root and node-level losses.\n",
        "    \"\"\"\n",
        "    training_data = train_data[:]\n",
        "    iter_i = 0\n",
        "    train_loss = 0.0\n",
        "    print_num = 0\n",
        "    start = time.time()\n",
        "    criterion = nn.CrossEntropyLoss()  # Loss function\n",
        "    best_eval = 0.0\n",
        "    best_iter = 0\n",
        "\n",
        "    # Store train loss and validation accuracy during training\n",
        "    losses = []\n",
        "    accuracies = []\n",
        "\n",
        "    if eval_batch_size is None:\n",
        "        eval_batch_size = batch_size\n",
        "\n",
        "    while True:  # When we run out of examples, shuffle and continue\n",
        "        for batch in batch_fn(train_data, batch_size=batch_size):\n",
        "\n",
        "            # Forward pass\n",
        "            model.train()\n",
        "            x, targets = prep_fn(batch, model.vocab)\n",
        "            root_logits, node_predictions = model(x)\n",
        "\n",
        "            B = targets.size(0)  # Batch size\n",
        "\n",
        "            # Compute loss for root-level prediction\n",
        "            root_loss = criterion(root_logits.view([B, -1]), targets.view(-1))\n",
        "\n",
        "            # Combine root loss and node-level loss\n",
        "            total_loss = root_loss\n",
        "\n",
        "            train_loss += total_loss.item()\n",
        "\n",
        "            # Backward pass\n",
        "            optimizer.zero_grad()  # Erase previous gradients\n",
        "            total_loss.backward()  # Compute gradients\n",
        "            optimizer.step()  # Update weights\n",
        "\n",
        "            print_num += 1\n",
        "            iter_i += 1\n",
        "\n",
        "            # Print info\n",
        "            if iter_i % print_every == 0:\n",
        "                print(\"Iter %r: loss=%.4f, time=%.2fs\" % (iter_i, train_loss, time.time() - start))\n",
        "                losses.append(train_loss)\n",
        "                print_num = 0\n",
        "                train_loss = 0.0\n",
        "\n",
        "            # Evaluate on dev set\n",
        "            if iter_i % eval_every == 0:\n",
        "                _, _, accuracy = eval_fn(model, dev_data, batch_size=eval_batch_size,\n",
        "                                         batch_fn=batch_fn, prep_fn=prep_fn)\n",
        "                accuracies.append(accuracy)\n",
        "                print(\"iter %r: dev acc=%.4f\" % (iter_i, accuracy))\n",
        "\n",
        "                # Save best model parameters\n",
        "                if accuracy > best_eval:\n",
        "                    print(\"new highscore\")\n",
        "                    best_eval = accuracy\n",
        "                    best_iter = iter_i\n",
        "                    path = \"{}_seed_{}.pt\".format(model.__class__.__name__, model.seed)\n",
        "                    ckpt = {\n",
        "                        \"state_dict\": model.state_dict(),\n",
        "                        \"optimizer_state_dict\": optimizer.state_dict(),\n",
        "                        \"best_eval\": best_eval,\n",
        "                        \"best_iter\": best_iter\n",
        "                    }\n",
        "                    torch.save(ckpt, path)\n",
        "\n",
        "            # Done training\n",
        "            if iter_i == num_iterations:\n",
        "                print(\"Done training\")\n",
        "\n",
        "                # Evaluate on train and dev set with best model\n",
        "                print(\"Loading best model\")\n",
        "                path = \"{}_seed_{}.pt\".format(model.__class__.__name__, model.seed)\n",
        "                ckpt = torch.load(path)\n",
        "                model.load_state_dict(ckpt[\"state_dict\"])\n",
        "\n",
        "                _, _, train_acc = eval_fn(\n",
        "                    model, train_data, batch_size=eval_batch_size,\n",
        "                    batch_fn=batch_fn, prep_fn=prep_fn)\n",
        "                _, _, dev_acc = eval_fn(\n",
        "                    model, dev_data, batch_size=eval_batch_size,\n",
        "                    batch_fn=batch_fn, prep_fn=prep_fn)\n",
        "\n",
        "                print(\"best model iter {:d}: \"\n",
        "                      \"train acc={:.4f}, dev acc={:.4f}\".format(\n",
        "                          best_iter, train_acc, dev_acc))\n",
        "\n",
        "                return losses, accuracies, best_eval, path\n"
      ],
      "metadata": {
        "id": "ltXRM2TAdZsR"
      },
      "execution_count": null,
      "outputs": []
    },
    {
      "cell_type": "markdown",
      "metadata": {
        "id": "gh9RbhGwaiLg"
      },
      "source": [
        "## Special `prepare` function for Tree-LSTM\n",
        "\n",
        "We need yet another `prepare` function. For our implementation, sentences need to be *reversed*. We will do that here."
      ]
    },
    {
      "cell_type": "code",
      "execution_count": null,
      "metadata": {
        "id": "DiqH-_2xdm9H"
      },
      "outputs": [],
      "source": [
        "def prepare_treelstm_minibatch(mb, vocab):\n",
        "  \"\"\"\n",
        "  Returns sentences reversed (last word first)\n",
        "  Returns transitions together with the sentences.\n",
        "  \"\"\"\n",
        "  batch_size = len(mb)\n",
        "  maxlen = max([len(ex.tokens) for ex in mb])\n",
        "\n",
        "  # vocab returns 0 if the word is not there\n",
        "  # NOTE: reversed sequence!\n",
        "  x = [pad([vocab.w2i.get(t, 0) for t in ex.tokens], maxlen)[::-1] for ex in mb]\n",
        "\n",
        "  x = torch.LongTensor(x)\n",
        "  x = x.to(device)\n",
        "\n",
        "  y = [ex.label for ex in mb]\n",
        "  y = torch.LongTensor(y)\n",
        "  y = y.to(device)\n",
        "\n",
        "  maxlen_t = max([len(ex.transitions) for ex in mb])\n",
        "  transitions = [pad(ex.transitions, maxlen_t, pad_value=2) for ex in mb]\n",
        "  transitions = np.array(transitions)\n",
        "  transitions = transitions.T  # time-major\n",
        "\n",
        "  return (x, transitions), y"
      ]
    },
    {
      "source": [
        "def prepare_single_example(example, vocab):\n",
        "    x = [vocab.w2i.get(t, 0) for t in example.tokens]\n",
        "    x = torch.LongTensor([x]).to(device)\n",
        "\n",
        "    # Reshape transition to [num_transitions, 1] for single example\n",
        "    transitions = torch.LongTensor(example.transitions).unsqueeze(1).to(device)\n",
        "\n",
        "    y = torch.LongTensor([example.label]).to(device)\n",
        "\n",
        "    node_targets = [int(node.label()) for node in example.tree.subtrees()]\n",
        "    node_targets = torch.LongTensor(node_targets).to(device)\n",
        "\n",
        "    return (x, transitions), y, node_targets  # Return node targets"
      ],
      "cell_type": "code",
      "metadata": {
        "id": "OpEEKoj1kUoB"
      },
      "execution_count": null,
      "outputs": []
    },
    {
      "cell_type": "markdown",
      "source": [
        "## Train model"
      ],
      "metadata": {
        "id": "zxS8UEvcO9Zm"
      }
    },
    {
      "cell_type": "code",
      "source": [
        "# Define the random seeds\n",
        "seeds = [42, 123, 999]\n",
        "best_eval_accuracy = 0.0\n",
        "best_model_path = None\n",
        "all_results = []\n",
        "\n",
        "for seed in seeds:\n",
        "    # Set the random seed for reproducibility\n",
        "    torch.manual_seed(seed)\n",
        "    np.random.seed(seed)\n",
        "    random.seed(seed)\n",
        "\n",
        "    # Initialize the model\n",
        "    tree_lstm_model = TreeLSTMClassifier(\n",
        "        vocab_size=len(v.w2i),\n",
        "        embedding_dim=300,\n",
        "        hidden_dim=150,\n",
        "        output_dim=len(t2i),\n",
        "        vocab=v\n",
        "    ).to(device)\n",
        "\n",
        "    # Track the seed for logging purposes (optional)\n",
        "    tree_lstm_model.seed = seed\n",
        "\n",
        "    # Initialize the optimizer\n",
        "    optimizer = torch.optim.Adam(tree_lstm_model.parameters(), lr=3e-4)\n",
        "\n",
        "    # Load pre-trained word embeddings\n",
        "    with torch.no_grad():\n",
        "        tree_lstm_model.embed.weight.data.copy_(torch.from_numpy(vectors))\n",
        "        tree_lstm_model.embed.weight.requires_grad = False\n",
        "\n",
        "    # Train the model\n",
        "    losses, accuracies, eval_accuracy, model_path = train_model(\n",
        "        model=tree_lstm_model,\n",
        "        optimizer=optimizer,\n",
        "        num_iterations=1704,\n",
        "        print_every=250,\n",
        "        eval_every=250,\n",
        "        prep_fn=prepare_treelstm_minibatch,\n",
        "        eval_fn=evaluate,\n",
        "        batch_fn=get_minibatch,\n",
        "        batch_size=25,\n",
        "        eval_batch_size=25\n",
        "    )\n",
        "\n",
        "    # Store the result for this seed\n",
        "    all_results.append((seed, eval_accuracy, model_path))\n",
        "\n",
        "    # Update the best model if it has the highest validation accuracy\n",
        "    if eval_accuracy > best_eval_accuracy:\n",
        "        best_eval_accuracy = eval_accuracy\n",
        "        best_model_path = model_path\n",
        "\n",
        "# Load the best model based on validation accuracy\n",
        "if best_model_path:\n",
        "    print(f\"Loading the best model from path: {best_model_path}\")\n",
        "    best_ckpt = torch.load(best_model_path)\n",
        "    best_model = TreeLSTMClassifier(\n",
        "        vocab_size=len(v.w2i),\n",
        "        embedding_dim=300,\n",
        "        hidden_dim=150,\n",
        "        output_dim=len(t2i),\n",
        "        vocab=v\n",
        "    ).to(device)\n",
        "    best_model.load_state_dict(best_ckpt[\"state_dict\"])\n",
        "\n",
        "# Report the mean and standard deviation of the validation accuracies across different seeds\n",
        "accuracies = [result[1] for result in all_results]\n",
        "print(f\"Validation Accuracies: {accuracies}\")\n",
        "print(f\"Mean Accuracy: {np.mean(accuracies):.4f}, Standard Deviation: {np.std(accuracies):.4f}\")\n"
      ],
      "metadata": {
        "colab": {
          "base_uri": "https://localhost:8080/"
        },
        "id": "qq7zsiwcdwpN",
        "outputId": "3da41ba2-55b2-4ef4-b139-017840a1254a"
      },
      "execution_count": null,
      "outputs": [
        {
          "output_type": "stream",
          "name": "stdout",
          "text": [
            "Shuffling training data\n",
            "Iter 250: loss=374.0947, time=48.41s\n",
            "iter 250: dev acc=0.3924\n",
            "new highscore\n",
            "Shuffling training data\n",
            "Iter 500: loss=330.3558, time=98.81s\n",
            "iter 500: dev acc=0.4214\n",
            "new highscore\n",
            "Shuffling training data\n",
            "Iter 750: loss=318.4138, time=150.82s\n",
            "iter 750: dev acc=0.4242\n",
            "new highscore\n",
            "Iter 1000: loss=310.5360, time=205.82s\n",
            "iter 1000: dev acc=0.4432\n",
            "new highscore\n",
            "Shuffling training data\n",
            "Iter 1250: loss=301.8280, time=260.98s\n",
            "iter 1250: dev acc=0.4487\n",
            "new highscore\n",
            "Shuffling training data\n",
            "Iter 1500: loss=296.0855, time=311.23s\n",
            "iter 1500: dev acc=0.4505\n",
            "new highscore\n",
            "Done training\n",
            "Loading best model\n"
          ]
        },
        {
          "output_type": "stream",
          "name": "stderr",
          "text": [
            "<ipython-input-51-11ef100ca909>:86: FutureWarning: You are using `torch.load` with `weights_only=False` (the current default value), which uses the default pickle module implicitly. It is possible to construct malicious pickle data which will execute arbitrary code during unpickling (See https://github.com/pytorch/pytorch/blob/main/SECURITY.md#untrusted-models for more details). In a future release, the default value for `weights_only` will be flipped to `True`. This limits the functions that could be executed during unpickling. Arbitrary objects will no longer be allowed to be loaded via this mode unless they are explicitly allowlisted by the user via `torch.serialization.add_safe_globals`. We recommend you start setting `weights_only=True` for any use case where you don't have full control of the loaded file. Please open an issue on GitHub for any issues related to this experimental feature.\n",
            "  ckpt = torch.load(path)\n"
          ]
        },
        {
          "output_type": "stream",
          "name": "stdout",
          "text": [
            "best model iter 1500: train acc=0.5101, dev acc=0.4505\n",
            "Shuffling training data\n",
            "Iter 250: loss=371.0790, time=58.17s\n",
            "iter 250: dev acc=0.3851\n",
            "new highscore\n",
            "Shuffling training data\n",
            "Iter 500: loss=327.0506, time=112.19s\n",
            "iter 500: dev acc=0.4196\n",
            "new highscore\n",
            "Shuffling training data\n",
            "Iter 750: loss=318.3664, time=164.21s\n",
            "iter 750: dev acc=0.4360\n",
            "new highscore\n",
            "Iter 1000: loss=307.6221, time=215.74s\n",
            "iter 1000: dev acc=0.4514\n",
            "new highscore\n",
            "Shuffling training data\n",
            "Iter 1250: loss=302.0647, time=266.74s\n",
            "iter 1250: dev acc=0.4478\n",
            "Shuffling training data\n",
            "Iter 1500: loss=294.2226, time=317.75s\n",
            "iter 1500: dev acc=0.4469\n",
            "Done training\n",
            "Loading best model\n",
            "best model iter 1000: train acc=0.4759, dev acc=0.4514\n",
            "Shuffling training data\n",
            "Iter 250: loss=371.3390, time=47.03s\n",
            "iter 250: dev acc=0.3896\n",
            "new highscore\n",
            "Shuffling training data\n",
            "Iter 500: loss=328.1257, time=97.53s\n",
            "iter 500: dev acc=0.4360\n",
            "new highscore\n",
            "Shuffling training data\n",
            "Iter 750: loss=314.3562, time=148.42s\n",
            "iter 750: dev acc=0.4251\n",
            "Iter 1000: loss=307.4547, time=198.67s\n",
            "iter 1000: dev acc=0.4342\n",
            "Shuffling training data\n",
            "Iter 1250: loss=299.5635, time=248.62s\n",
            "iter 1250: dev acc=0.4332\n",
            "Shuffling training data\n",
            "Iter 1500: loss=299.7601, time=301.59s\n",
            "iter 1500: dev acc=0.4496\n",
            "new highscore\n",
            "Done training\n",
            "Loading best model\n",
            "best model iter 1500: train acc=0.5061, dev acc=0.4496\n",
            "Loading the best model from path: TreeLSTMClassifier_seed_123.pt\n",
            "Validation Accuracies: [0.45049954586739327, 0.4514078110808356, 0.44959128065395093]\n",
            "Mean Accuracy: 0.4505, Standard Deviation: 0.0007\n"
          ]
        },
        {
          "output_type": "stream",
          "name": "stderr",
          "text": [
            "<ipython-input-54-2c15438e46e1>:58: FutureWarning: You are using `torch.load` with `weights_only=False` (the current default value), which uses the default pickle module implicitly. It is possible to construct malicious pickle data which will execute arbitrary code during unpickling (See https://github.com/pytorch/pytorch/blob/main/SECURITY.md#untrusted-models for more details). In a future release, the default value for `weights_only` will be flipped to `True`. This limits the functions that could be executed during unpickling. Arbitrary objects will no longer be allowed to be loaded via this mode unless they are explicitly allowlisted by the user via `torch.serialization.add_safe_globals`. We recommend you start setting `weights_only=True` for any use case where you don't have full control of the loaded file. Please open an issue on GitHub for any issues related to this experimental feature.\n",
            "  best_ckpt = torch.load(best_model_path)\n"
          ]
        }
      ]
    },
    {
      "cell_type": "markdown",
      "source": [
        "# **Experiment 4**"
      ],
      "metadata": {
        "id": "eCEQ_wyND_QI"
      }
    },
    {
      "cell_type": "markdown",
      "source": [
        "## Evaluate errors at nodes"
      ],
      "metadata": {
        "id": "tjCWUFlqOxH8"
      }
    },
    {
      "cell_type": "code",
      "source": [
        "from nltk import Tree\n",
        "\n",
        "def evaluate_with_node_logging(model, data, vocab, prep_fn):\n",
        "    \"\"\"\n",
        "    Evaluate the model and log errors at each node where a REDUCE operation occurs,\n",
        "    using the exact subtree to determine the full phrase or sentence.\n",
        "    \"\"\"\n",
        "    model.eval()\n",
        "    errors = []\n",
        "    all_root_correct = 0\n",
        "    total_samples = 0\n",
        "\n",
        "    with torch.no_grad():\n",
        "        for example_idx, example in enumerate(data):\n",
        "            # Prepare the input for a single example\n",
        "            x, target, node_targets = prep_fn(example, vocab)\n",
        "            root_logits, node_logs = model(x)\n",
        "\n",
        "            # Extract root node text dynamically\n",
        "            root_text = \" \".join(example.tree.leaves()) if hasattr(example, \"tree\") else \"ROOT\"\n",
        "\n",
        "            # Log root prediction\n",
        "            root_pred = root_logits.argmax(dim=1).item()\n",
        "            root_gt = target.item()\n",
        "\n",
        "            if root_pred == root_gt:\n",
        "                all_root_correct += 1\n",
        "            else:\n",
        "                errors.append({\n",
        "                    \"type\": \"root\",\n",
        "                    \"ground_truth\": root_gt,\n",
        "                    \"prediction\": root_pred,\n",
        "                    \"node_text\": root_text,\n",
        "                    \"depth\": 1,\n",
        "                    \"example_id\": example_idx,\n",
        "                })\n",
        "\n",
        "            # Traverse the tree structure and log node predictions\n",
        "            _, transitions = x\n",
        "            transitions = transitions.squeeze()  # Remove extra batch dimensions\n",
        "\n",
        "            # Convert the example into an NLTK Tree\n",
        "            tree = Tree.fromstring(str(example.tree))\n",
        "\n",
        "            prediction_idx = 0\n",
        "\n",
        "            def traverse_and_log(tree, prediction_idx, current_depth, skip_root=True):\n",
        "                \"\"\"\n",
        "                Recursively traverse the tree and log errors, using the full subtree as the source.\n",
        "                \"\"\"\n",
        "                nonlocal errors\n",
        "\n",
        "                if isinstance(tree, Tree):\n",
        "                    # Skip logging the root node in the traversal\n",
        "                    if not skip_root or current_depth > 1:\n",
        "                        # Extract the full subtree as text\n",
        "                        node_text = \" \".join(tree.flatten())  # Flattened subtree as a full phrase\n",
        "                        node_word_count = len(node_text.split()) # length of each phrase\n",
        "\n",
        "                        if prediction_idx < len(node_logs):\n",
        "                            node_pred = node_logs[prediction_idx].argmax(dim=-1).item()\n",
        "                            ground_truth = node_targets[prediction_idx].item()\n",
        "\n",
        "                            # Log mismatch if any\n",
        "                            if node_pred != ground_truth:\n",
        "                                errors.append({\n",
        "                                    \"type\": \"node\",\n",
        "                                    \"ground_truth\": ground_truth,\n",
        "                                    \"prediction\": node_pred,\n",
        "                                    \"node_text\": node_text,  # Log the exact text from the subtree\n",
        "                                    \"depth\": current_depth,\n",
        "                                    \"node_word_count\": node_word_count,\n",
        "                                    \"example_id\": example_idx  # Include example ID here\n",
        "                                })\n",
        "\n",
        "                            # Increment prediction index after processing the current node\n",
        "                            prediction_idx += 1\n",
        "\n",
        "                    # Recur for child nodes and track depth\n",
        "                    for child in tree:\n",
        "                        prediction_idx = traverse_and_log(child, prediction_idx, current_depth + 1, skip_root=False)\n",
        "\n",
        "                return prediction_idx\n",
        "\n",
        "            # Start the traversal from the root of the tree\n",
        "            traverse_and_log(tree, prediction_idx, 1)\n",
        "\n",
        "            total_samples += 1\n",
        "\n",
        "    # Calculate and print root accuracy\n",
        "    accuracy = all_root_correct / total_samples\n",
        "    print(f\"Root accuracy: {accuracy * 100:.2f}%\")\n",
        "    print(f\"Total samples evaluated: {total_samples}\")\n",
        "    print(f\"Total errors logged: {len(errors)}\")\n",
        "\n",
        "    return errors\n"
      ],
      "metadata": {
        "id": "1XSjVwqBe_hr"
      },
      "execution_count": null,
      "outputs": []
    },
    {
      "cell_type": "code",
      "source": [
        "errors = evaluate_with_node_logging(\n",
        "    model=best_model,\n",
        "    data=test_data,\n",
        "    vocab=v,\n",
        "    prep_fn=prepare_single_example\n",
        ")"
      ],
      "metadata": {
        "id": "R3iXxDetaA4R",
        "colab": {
          "base_uri": "https://localhost:8080/"
        },
        "outputId": "ac07efc2-8694-4d10-a2e2-18c402c9459b"
      },
      "execution_count": null,
      "outputs": [
        {
          "output_type": "stream",
          "name": "stdout",
          "text": [
            "Root accuracy: 41.72%\n",
            "Total samples evaluated: 2210\n",
            "Total errors logged: 67993\n"
          ]
        }
      ]
    },
    {
      "cell_type": "markdown",
      "source": [
        "## Error Proportion Rates"
      ],
      "metadata": {
        "id": "ef25mB4a_ZTh"
      }
    },
    {
      "cell_type": "markdown",
      "source": [
        "## Flatten tree"
      ],
      "metadata": {
        "id": "xz5Crgzjdnlp"
      }
    },
    {
      "cell_type": "code",
      "source": [
        "def assign_correct_depths(errors, data):\n",
        "    \"\"\"\n",
        "    Assign correct depths to errors based on the original tree structure, excluding root node reassignment.\n",
        "    \"\"\"\n",
        "    def flatten_tree(tree):\n",
        "        \"\"\"\n",
        "        Flattens a tree into a single string of all its leaves.\n",
        "        \"\"\"\n",
        "        if isinstance(tree, Tree):\n",
        "            return \" \".join(tree.leaves())\n",
        "        return tree\n",
        "\n",
        "    for error in errors:\n",
        "        # Skip processing for root nodes, retain the original depth\n",
        "        if error[\"type\"] == \"root\":\n",
        "            continue\n",
        "\n",
        "        example_id = error[\"example_id\"]\n",
        "        original_tree = data[example_id].tree  # Assuming each example has a tree attribute\n",
        "        node_text = error[\"node_text\"]\n",
        "\n",
        "        def find_depth(tree, node_text, depth=1):  # Start depth at 1 for non-root nodes\n",
        "            # Flatten the subtree and compare\n",
        "            flattened_tree_text = flatten_tree(tree).strip()\n",
        "            if flattened_tree_text == node_text.strip():\n",
        "                return depth\n",
        "\n",
        "            # Recur through the subtrees\n",
        "            if isinstance(tree, Tree):\n",
        "                for subtree in tree:\n",
        "                    result = find_depth(subtree, node_text, depth + 1)\n",
        "                    if result is not None:\n",
        "                        return result\n",
        "\n",
        "            return None\n",
        "\n",
        "        # Find the depth or assign 0 if the node is not found\n",
        "        depth = find_depth(Tree.fromstring(str(original_tree)), node_text)\n",
        "        if depth is None:  # If node is not found in the tree\n",
        "            print(f\"Node text not found: {node_text}, Example ID: {example_id}, Tree: {original_tree}\")\n",
        "            error[\"depth\"] = 0  # Assign default depth 0 for errors with no depth\n",
        "        else:\n",
        "            error[\"depth\"] = depth\n",
        "\n",
        "    return errors"
      ],
      "metadata": {
        "id": "jIan7cYpdJAp"
      },
      "execution_count": null,
      "outputs": []
    },
    {
      "cell_type": "code",
      "source": [
        "corrected_errors = assign_correct_depths(errors, test_data)"
      ],
      "metadata": {
        "id": "9MX_FQ7hrq5-"
      },
      "execution_count": null,
      "outputs": []
    },
    {
      "cell_type": "code",
      "source": [
        "def get_all_subtrees(test_data):\n",
        "    \"\"\"\n",
        "    Returns a list of flattened subtrees (including all nodes) from the test data.\n",
        "    \"\"\"\n",
        "    def extract_subtrees(tree):\n",
        "        \"\"\"\n",
        "        Recursively extracts all subtrees from the given tree.\n",
        "        \"\"\"\n",
        "        subtrees = []\n",
        "        if isinstance(tree, Tree):\n",
        "            subtrees.append(\" \".join(tree.leaves()))\n",
        "            for child in tree:\n",
        "                subtrees.extend(extract_subtrees(child))\n",
        "        return subtrees\n",
        "\n",
        "    all_subtrees = []\n",
        "    for example in test_data:\n",
        "        original_tree = example.tree\n",
        "        if isinstance(original_tree, Tree):\n",
        "            all_subtrees.extend(extract_subtrees(original_tree))\n",
        "        else:\n",
        "            print(f\"Invalid tree structure in example: {example}\")\n",
        "\n",
        "    return all_subtrees\n",
        "\n",
        "all_flattened_subtrees = get_all_subtrees(test_data)\n"
      ],
      "metadata": {
        "id": "x0dXcJyZrzlD"
      },
      "execution_count": null,
      "outputs": []
    },
    {
      "cell_type": "code",
      "source": [
        "errors_df = pd.DataFrame(corrected_errors)\n",
        "\n",
        "# Create dictionaries to track the count of nodes and errors at each depth\n",
        "depth_node_count = defaultdict(int)\n",
        "\n",
        "# Iterate over the dataset to calculate the total number of nodes at each depth\n",
        "data = test_data\n",
        "\n",
        "for example in data:\n",
        "    tree = example.tree\n",
        "\n",
        "    def count_nodes(tree, depth=1):\n",
        "        if isinstance(tree, nltk.Tree):\n",
        "            depth_node_count[depth] += 1\n",
        "            for child in tree:\n",
        "                count_nodes(child, depth + 1)\n",
        "\n",
        "    count_nodes(tree)\n",
        "\n",
        "# Convert depth_node_count into a DataFrame for easier manipulation\n",
        "depth_node_df = pd.DataFrame(list(depth_node_count.items()), columns=['depth', 'total_nodes'])\n",
        "\n",
        "# Add total node counts to errors_df by merging\n",
        "errors_df = errors_df.merge(depth_node_df, on='depth', how='left')\n",
        "\n",
        "# Add a new column for error density\n",
        "errors_df['error_density'] = errors_df.groupby('depth')['depth'].transform('count') / errors_df['total_nodes']\n",
        "\n",
        "# Group by node_word_count and calculate total phrase lengths and error counts\n",
        "phrase_length_counts = errors_df.groupby('node_word_count').size()\n",
        "error_counts = errors_df[errors_df['type'] == 'node'].groupby('node_word_count').size()\n",
        "\n",
        "# Combine the counts into a DataFrame\n",
        "phrase_error_df = pd.DataFrame({\n",
        "    'total_phrases': phrase_length_counts,\n",
        "    'total_errors': error_counts\n",
        "}).fillna(0)\n",
        "\n",
        "# Add a new column for error rate per word count\n",
        "phrase_error_df['error_rate'] = phrase_error_df['total_errors'] / phrase_error_df['total_phrases']\n",
        "\n",
        "# Merge back to errors_df\n",
        "errors_df = errors_df.merge(\n",
        "    phrase_error_df[['total_phrases', 'total_errors', 'error_rate']],\n",
        "    on='node_word_count',\n",
        "    how='left'\n",
        ")\n",
        "\n",
        "print(errors_df.head())\n"
      ],
      "metadata": {
        "id": "Xpe_NFlxWeIv",
        "colab": {
          "base_uri": "https://localhost:8080/"
        },
        "outputId": "92741a26-b0a3-45b5-d608-85950d713222"
      },
      "execution_count": null,
      "outputs": [
        {
          "output_type": "stream",
          "name": "stdout",
          "text": [
            "   type  ground_truth  prediction                       node_text  depth  \\\n",
            "0  root             2           1  Effective but too-tepid biopic      1   \n",
            "1  node             2           1                   Effective but      2   \n",
            "2  node             3           2                       Effective      3   \n",
            "3  node             3           1                             but      3   \n",
            "4  node             2           1                too-tepid biopic      2   \n",
            "\n",
            "   example_id  node_word_count  total_nodes  error_density  total_phrases  \\\n",
            "0           0              NaN         2210       0.582805            NaN   \n",
            "1           0              2.0         4420       0.812217         8283.0   \n",
            "2           0              1.0         6474       0.803058        35419.0   \n",
            "3           0              1.0         6474       0.803058        35419.0   \n",
            "4           0              2.0         4420       0.812217         8283.0   \n",
            "\n",
            "   total_errors  error_rate  \n",
            "0           NaN         NaN  \n",
            "1        8283.0         1.0  \n",
            "2       35419.0         1.0  \n",
            "3       35419.0         1.0  \n",
            "4        8283.0         1.0  \n"
          ]
        }
      ]
    },
    {
      "cell_type": "markdown",
      "source": [
        "## Error proportions per length of phrase for sentiment"
      ],
      "metadata": {
        "id": "K2gFqdGH6KEf"
      }
    },
    {
      "cell_type": "code",
      "source": [
        "# Group by node_word_count and ground_truth to calculate error proportions\n",
        "error_proportions_phrase = errors_df.groupby(['node_word_count', 'ground_truth']).size().unstack(fill_value=0)\n",
        "\n",
        "# Normalize each sentiment by the total nodes for each node_word_count\n",
        "error_proportions_phrase = error_proportions_phrase.div(\n",
        "    errors_df.groupby('node_word_count')['total_phrases'].first(), axis=0\n",
        ")"
      ],
      "metadata": {
        "id": "R8d3I8sM6AfK"
      },
      "execution_count": null,
      "outputs": []
    },
    {
      "cell_type": "code",
      "source": [
        "# Calculate accuracy as 1 - error_proportion\n",
        "accuracy_proportions_phrase = 1 - error_proportions_phrase"
      ],
      "metadata": {
        "id": "XJSFAOns6UI4"
      },
      "execution_count": null,
      "outputs": []
    },
    {
      "cell_type": "code",
      "source": [
        "# Filter accuracy_proportions to include only depths 2 to 7\n",
        "accuracy_proportions_filtered_phrase = accuracy_proportions_phrase.loc[2:7]"
      ],
      "metadata": {
        "id": "elKVbobV6iBt"
      },
      "execution_count": null,
      "outputs": []
    },
    {
      "cell_type": "code",
      "source": [
        "# Create the plot\n",
        "plt.figure(figsize=(12, 8))\n",
        "colors = ['blue', 'orange', 'green', 'red', 'purple']  # Assign distinct colors for each sentiment class\n",
        "\n",
        "for idx, sentiment in enumerate(accuracy_proportions_filtered_phrase.columns):\n",
        "    plt.plot(\n",
        "        accuracy_proportions_filtered_phrase.index,\n",
        "        accuracy_proportions_filtered_phrase[sentiment],\n",
        "        label=f\"Sentiment {sentiment}\",\n",
        "        marker='o',\n",
        "        linestyle='-',\n",
        "        linewidth=2,\n",
        "        color=colors[idx]\n",
        "    )\n",
        "\n",
        "# Customize axes and labels\n",
        "plt.xlabel(\"Depth\", fontsize=14, labelpad=10, fontweight='bold')\n",
        "plt.ylabel(\"Accuracy Proportion\", fontsize=14, labelpad=10, fontweight='bold')\n",
        "plt.xticks(fontsize=12)\n",
        "plt.yticks(fontsize=12)\n",
        "\n",
        "# Add gridlines for readability\n",
        "plt.grid(axis='y', linestyle='--', alpha=0.7)\n",
        "\n",
        "# Add a legend\n",
        "plt.legend(\n",
        "    title=\"Ground Truth Sentiment\",\n",
        "    title_fontsize=12,\n",
        "    fontsize=10,\n",
        "    loc='upper right',\n",
        "    frameon=True,\n",
        "    shadow=True\n",
        ")\n",
        "\n",
        "\n",
        "# Adjust layout for better visual appeal\n",
        "plt.tight_layout()\n",
        "\n",
        "# Display the plot\n",
        "plt.show()\n"
      ],
      "metadata": {
        "id": "EqSufaho6wv9",
        "colab": {
          "base_uri": "https://localhost:8080/",
          "height": 807
        },
        "outputId": "276a240b-51a2-424b-f316-0ebd9c8fcbcf"
      },
      "execution_count": null,
      "outputs": [
        {
          "output_type": "display_data",
          "data": {
            "text/plain": [
              "<Figure size 1200x800 with 1 Axes>"
            ],
            "image/png": "[encoded data removed]"
          },
          "metadata": {}
        }
      ]
    },
    {
      "cell_type": "markdown",
      "source": [
        "## Error proportions per depth for sentiment"
      ],
      "metadata": {
        "id": "m4xx8PyUWcLt"
      }
    },
    {
      "cell_type": "code",
      "source": [
        "# Group by depth and ground_truth to calculate error proportions\n",
        "error_proportions = errors_df.groupby(['depth', 'ground_truth']).size().unstack(fill_value=0)\n",
        "\n",
        "# Normalize each sentiment by the total nodes at each depth\n",
        "error_proportions = error_proportions.div(errors_df.groupby('depth')['total_nodes'].first(), axis=0)"
      ],
      "metadata": {
        "id": "M1qCJu7QWyEJ"
      },
      "execution_count": null,
      "outputs": []
    },
    {
      "cell_type": "code",
      "source": [
        "# Calculate accuracy as 1 - error_proportion\n",
        "accuracy_proportions = 1 - error_proportions"
      ],
      "metadata": {
        "id": "07-iPiptOOCV"
      },
      "execution_count": null,
      "outputs": []
    },
    {
      "cell_type": "code",
      "source": [
        "# Filter accuracy_proportions to include only depths 2 to 7\n",
        "accuracy_proportions_filtered = accuracy_proportions.loc[2:7]"
      ],
      "metadata": {
        "id": "7oYqn8J9Onjs"
      },
      "execution_count": null,
      "outputs": []
    },
    {
      "cell_type": "markdown",
      "source": [
        "## FINAL GRAPHS"
      ],
      "metadata": {
        "id": "dy1sy4Bv7dzD"
      }
    },
    {
      "cell_type": "code",
      "source": [
        "import matplotlib.pyplot as plt\n",
        "\n",
        "fig, axes = plt.subplots(2, 1, figsize=(8, 8))\n",
        "\n",
        "colors =[\"#4d4dff\", \"#85c1e9\", \"#FFDB58\", \"#ff9e9e\", \"#ff5252\"]\n",
        "markers = ['o', 'v', 's', 'D', '*']\n",
        "\n",
        "# First subplot\n",
        "for idx, sentiment in enumerate(accuracy_proportions_filtered_phrase.columns):\n",
        "    axes[0].plot(\n",
        "        accuracy_proportions_filtered_phrase.index,\n",
        "        accuracy_proportions_filtered_phrase[sentiment],\n",
        "        label=f\"Sentiment {sentiment}\",\n",
        "        marker=markers[idx],\n",
        "        linestyle='-',\n",
        "        linewidth=2,\n",
        "        color=colors[idx]\n",
        "    )\n",
        "\n",
        "axes[0].set_xlabel(\"Phrase length\", fontsize=22)\n",
        "axes[0].set_ylabel(\"Mean accuracy\", fontsize=22)\n",
        "axes[0].grid(axis='y', linestyle='--', alpha=0.8)\n",
        "axes[0].tick_params(axis='both', labelsize=20)\n",
        "\n",
        "# Second subplot\n",
        "for idx, sentiment in enumerate(accuracy_proportions_filtered.columns):\n",
        "    axes[1].plot(\n",
        "        accuracy_proportions_filtered.index,\n",
        "        accuracy_proportions_filtered[sentiment],\n",
        "        label=f\"Sentiment {sentiment}\",\n",
        "        marker=markers[idx],\n",
        "        linestyle='-',\n",
        "        linewidth=2,\n",
        "        color=colors[idx]\n",
        "    )\n",
        "\n",
        "axes[1].set_xlabel(\"Depth\", fontsize=22)\n",
        "axes[1].set_ylabel(\"Mean accuracy\", fontsize=22)\n",
        "axes[1].grid(axis='y', linestyle='--', alpha=0.8, linewidth=2)\n",
        "axes[1].tick_params(axis='both', labelsize=25)\n",
        "\n",
        "custom_labels = [\"v neg\", \"neg\", \"neutral\", \"pos\", \"v pos\"]\n",
        "\n",
        "# Add legends to each subplot, slightly moved down\n",
        "axes[0].legend(\n",
        "    labels = custom_labels,\n",
        "    loc='center right',\n",
        "    fontsize=13,\n",
        "    title_fontsize=14,\n",
        "    bbox_to_anchor=(1, 0.4)\n",
        ")\n",
        "\n",
        "axes[1].legend(\n",
        "    labels = custom_labels,\n",
        "    loc='center right',\n",
        "    fontsize=13,\n",
        "    title_fontsize=13,\n",
        "    bbox_to_anchor=(1, 0.4)\n",
        ")\n",
        "\n",
        "plt.grid(visible=True, which='both', linestyle='--', linewidth=0.2, alpha=0.7)\n",
        "plt.tight_layout()\n",
        "plt.subplots_adjust(hspace=0.4)\n",
        "plt.show()\n"
      ],
      "metadata": {
        "colab": {
          "base_uri": "https://localhost:8080/",
          "height": 806
        },
        "id": "z-CJci7ogkXT",
        "outputId": "36d55a4e-635d-41c5-a340-b41ab9f23eaa"
      },
      "execution_count": null,
      "outputs": [
        {
          "output_type": "display_data",
          "data": {
            "text/plain": [
              "<Figure size 800x800 with 2 Axes>"
            ],
            "image/png": "[encoded data removed]"
          },
          "metadata": {}
        }
      ]
    },
    {
      "cell_type": "code",
      "source": [
        "import numpy as np\n",
        "import seaborn as sns\n",
        "\n",
        "num_classes = 5  # Assuming 5 sentiment classes (0 to 4)\n",
        "confusion_matrix = np.zeros((num_classes, num_classes), dtype=int)\n",
        "\n",
        "for error in errors:\n",
        "    if error['type'] == 'node':\n",
        "        confusion_matrix[error['ground_truth'], error['prediction']] += 1\n",
        "\n",
        "plt.figure(figsize=(10, 8))\n",
        "sns.heatmap(confusion_matrix, annot=True, cmap='Blues', fmt='g')\n",
        "plt.xlabel(\"Predicted Class\")\n",
        "plt.ylabel(\"True Class\")\n",
        "plt.title(\"Confusion Matrix for Node-Level Misclassifications\")\n",
        "plt.show()\n"
      ],
      "metadata": {
        "colab": {
          "base_uri": "https://localhost:8080/",
          "height": 718
        },
        "id": "e-bIBgGvQmyH",
        "outputId": "9ae237a5-59ea-432b-d47b-e18290281d3f"
      },
      "execution_count": null,
      "outputs": [
        {
          "output_type": "display_data",
          "data": {
            "text/plain": [
              "<Figure size 1000x800 with 2 Axes>"
            ],
            "image/png": "[encoded data removed]"
          },
          "metadata": {}
        }
      ]
    }
  ],
  "metadata": {
    "accelerator": "GPU",
    "colab": {
      "collapsed_sections": [
        "Uw1myN1eW8mA",
        "-WDSprDBVcr-",
        "g09SM8yb2cjx",
        "MQZ5flHwiiHY",
        "YEw6XHQY_AAQ",
        "DwZM-XYkT8Zx",
        "SL2iixMYUgfh",
        "xYBJEoSNUwI0",
        "1rDzvSos3JFp",
        "d-qOuKbDAiBn",
        "Dj5dYSGh_643",
        "gh9RbhGwaiLg",
        "tjCWUFlqOxH8",
        "ef25mB4a_ZTh"
      ],
      "gpuType": "T4",
      "provenance": []
    },
    "kernelspec": {
      "display_name": "Python 3",
      "name": "python3"
    },
    "language_info": {
      "codemirror_mode": {
        "name": "ipython",
        "version": 3
      },
      "file_extension": ".py",
      "mimetype": "text/x-python",
      "name": "python",
      "nbconvert_exporter": "python",
      "pygments_lexer": "ipython3",
      "version": "3.9.15"
    }
  },
  "nbformat": 4,
  "nbformat_minor": 0
}