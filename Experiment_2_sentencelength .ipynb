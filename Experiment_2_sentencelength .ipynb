{
  "cells": [
    {
      "cell_type": "markdown",
      "source": [
        "#**Experiment two:**\n",
        "For this experiment, we adress the following research questions\n",
        "\n",
        "How does performance depend on the sentence length? Compare the various models. Is there a model that does better on longer sentences? If so, why?\n",
        "\n",
        "To address both questions we run the models: DeepBOW, LSTM, Tree-LSTM and the supervised Tree-LSTM and compare their accuracies. We test them over 3 seeds to get the best models and mean accuracy on the test set.\n"
      ],
      "metadata": {
        "id": "Uw1myN1eW8mA"
      }
    },
    {
      "cell_type": "markdown",
      "metadata": {
        "id": "YbNKef3lymaj"
      },
      "source": [
        "## Preparing the data"
      ]
    },
    {
      "cell_type": "markdown",
      "metadata": {
        "id": "9jxTkpg59FlU"
      },
      "source": [
        "Let's first download the data set and take a look."
      ]
    },
    {
      "cell_type": "code",
      "execution_count": 1,
      "metadata": {
        "id": "WZp53HmMP3F2"
      },
      "outputs": [],
      "source": [
        "import re\n",
        "import random\n",
        "import time\n",
        "import math\n",
        "import numpy as np\n",
        "import nltk\n",
        "import matplotlib.pyplot as plt\n",
        "import pandas as pd\n",
        "plt.style.use('default')"
      ]
    },
    {
      "cell_type": "code",
      "source": [
        "!wget http://nlp.stanford.edu/sentiment/trainDevTestTrees_PTB.zip\n",
        "!unzip trainDevTestTrees_PTB.zip"
      ],
      "metadata": {
        "colab": {
          "base_uri": "https://localhost:8080/"
        },
        "id": "1QprhgkFodAV",
        "outputId": "b9a8e97e-e3af-4246-f9e9-4a5602ffec9f"
      },
      "execution_count": 2,
      "outputs": [
        {
          "output_type": "stream",
          "name": "stdout",
          "text": [
            "--2024-12-12 19:28:33--  http://nlp.stanford.edu/sentiment/trainDevTestTrees_PTB.zip\n",
            "Resolving nlp.stanford.edu (nlp.stanford.edu)... 171.64.67.140\n",
            "Connecting to nlp.stanford.edu (nlp.stanford.edu)|171.64.67.140|:80... connected.\n",
            "HTTP request sent, awaiting response... 302 Found\n",
            "Location: https://nlp.stanford.edu/sentiment/trainDevTestTrees_PTB.zip [following]\n",
            "--2024-12-12 19:28:34--  https://nlp.stanford.edu/sentiment/trainDevTestTrees_PTB.zip\n",
            "Connecting to nlp.stanford.edu (nlp.stanford.edu)|171.64.67.140|:443... connected.\n",
            "HTTP request sent, awaiting response... 200 OK\n",
            "Length: 789539 (771K) [application/zip]\n",
            "Saving to: ‘trainDevTestTrees_PTB.zip’\n",
            "\n",
            "trainDevTestTrees_P 100%[===================>] 771.03K  3.48MB/s    in 0.2s    \n",
            "\n",
            "2024-12-12 19:28:34 (3.48 MB/s) - ‘trainDevTestTrees_PTB.zip’ saved [789539/789539]\n",
            "\n",
            "Archive:  trainDevTestTrees_PTB.zip\n",
            "   creating: trees/\n",
            "  inflating: trees/dev.txt           \n",
            "  inflating: trees/test.txt          \n",
            "  inflating: trees/train.txt         \n"
          ]
        }
      ]
    },
    {
      "cell_type": "code",
      "execution_count": 3,
      "metadata": {
        "id": "0IpAphkBO5eW"
      },
      "outputs": [],
      "source": [
        "# this function reads in a textfile and fixes an issue with \"\\\\\"\n",
        "def filereader(path):\n",
        "  with open(path, mode=\"r\", encoding=\"utf-8\") as f:\n",
        "    for line in f:\n",
        "      yield line.strip().replace(\"\\\\\",\"\")"
      ]
    },
    {
      "cell_type": "markdown",
      "metadata": {
        "id": "yP_jpquiprH8"
      },
      "source": [
        "Let's look at a data point. It is a **flattened binary tree**, with sentiment scores at every node, and words as the leaves (or *terminal nodes*)."
      ]
    },
    {
      "cell_type": "code",
      "execution_count": 4,
      "metadata": {
        "id": "ylkIopm0QJML",
        "colab": {
          "base_uri": "https://localhost:8080/"
        },
        "outputId": "42b63a35-f49e-49ea-b750-8c1661f5c017"
      },
      "outputs": [
        {
          "output_type": "stream",
          "name": "stdout",
          "text": [
            "(3 (2 It) (4 (4 (2 's) (4 (3 (2 a) (4 (3 lovely) (2 film))) (3 (2 with) (4 (3 (3 lovely) (2 performances)) (2 (2 by) (2 (2 (2 Buy) (2 and)) (2 Accorsi))))))) (2 .)))\n"
          ]
        }
      ],
      "source": [
        "s = next(filereader(\"trees/dev.txt\"))\n",
        "print(s)"
      ]
    },
    {
      "cell_type": "code",
      "execution_count": 5,
      "metadata": {
        "id": "7_U7HTFwdrWt",
        "colab": {
          "base_uri": "https://localhost:8080/"
        },
        "outputId": "60b165ba-3221-4982-e998-e9182503982a"
      },
      "outputs": [
        {
          "output_type": "stream",
          "name": "stdout",
          "text": [
            "              3                                                                     \n",
            "  ____________|____________________                                                  \n",
            " |                                 4                                                \n",
            " |        _________________________|______________________________________________   \n",
            " |       4                                                                        | \n",
            " |    ___|______________                                                          |  \n",
            " |   |                  4                                                         | \n",
            " |   |         _________|__________                                               |  \n",
            " |   |        |                    3                                              | \n",
            " |   |        |               _____|______________________                        |  \n",
            " |   |        |              |                            4                       | \n",
            " |   |        |              |            ________________|_______                |  \n",
            " |   |        |              |           |                        2               | \n",
            " |   |        |              |           |                 _______|___            |  \n",
            " |   |        3              |           |                |           2           | \n",
            " |   |    ____|_____         |           |                |        ___|_____      |  \n",
            " |   |   |          4        |           3                |       2         |     | \n",
            " |   |   |     _____|___     |      _____|_______         |    ___|___      |     |  \n",
            " 2   2   2    3         2    2     3             2        2   2       2     2     2 \n",
            " |   |   |    |         |    |     |             |        |   |       |     |     |  \n",
            " It  's  a  lovely     film with lovely     performances  by Buy     and Accorsi  . \n",
            "\n"
          ]
        },
        {
          "output_type": "stream",
          "name": "stderr",
          "text": [
            "<ipython-input-5-6ab7e95feba4>:5: DeprecationWarning: \n",
            "    Class TreePrettyPrinter has been deprecated.  Import\n",
            "    `TreePrettyPrinter` using `from nltk.tree import\n",
            "    TreePrettyPrinter` instead.\n",
            "  print(TreePrettyPrinter(tree))\n"
          ]
        }
      ],
      "source": [
        "# We can use NLTK to better visualise the tree structure of the sentence\n",
        "from nltk import Tree\n",
        "from nltk.treeprettyprinter import TreePrettyPrinter\n",
        "tree = Tree.fromstring(s)\n",
        "print(TreePrettyPrinter(tree))"
      ]
    },
    {
      "cell_type": "markdown",
      "metadata": {
        "id": "ekAWKsji9t93"
      },
      "source": [
        "The sentiment scores range from 0 (very negative) to 5 (very positive). Again, as you can see, every node in the tree is labeled with a sentiment score. For now, we will only use the score at the **root node**, i.e., the sentiment score for the complete sentence."
      ]
    },
    {
      "cell_type": "code",
      "execution_count": 6,
      "metadata": {
        "id": "DKynLm0xPKr2",
        "colab": {
          "base_uri": "https://localhost:8080/"
        },
        "outputId": "4dabb82c-8915-4f7d-8f11-32e561632745"
      },
      "outputs": [
        {
          "output_type": "stream",
          "name": "stdout",
          "text": [
            "['It', \"'s\", 'a', 'lovely', 'film', 'with', 'lovely', 'performances', 'by', 'Buy', 'and', 'Accorsi', '.']\n",
            "13\n"
          ]
        }
      ],
      "source": [
        "# Let's first make a function that extracts the tokens (the leaves).\n",
        "\n",
        "def tokens_from_treestring(s):\n",
        "  \"\"\"extract the tokens from a sentiment tree\"\"\"\n",
        "  return re.sub(r\"\\([0-9] |\\)\", \"\", s).split()\n",
        "\n",
        "# let's try it on our example tree\n",
        "tokens = tokens_from_treestring(s)\n",
        "print(tokens)\n",
        "print(len(tokens))"
      ]
    },
    {
      "cell_type": "markdown",
      "metadata": {
        "id": "B8vFkeqN-NLP"
      },
      "source": [
        "> *Warning: you could also parse a treestring using NLTK and ask it to return the leaves, but there seems to be an issue with NLTK not always correctly parsing the input, so do not rely on it.*"
      ]
    },
    {
      "cell_type": "code",
      "execution_count": 7,
      "metadata": {
        "id": "Akr9K_Mv4dym"
      },
      "outputs": [],
      "source": [
        "# We will also need the following function, but you can ignore this for now.\n",
        "# It is explained later on.\n",
        "\n",
        "SHIFT = 0\n",
        "REDUCE = 1\n",
        "\n",
        "\n",
        "def transitions_from_treestring(s):\n",
        "  s = re.sub(\"\\([0-5] ([^)]+)\\)\", \"0\", s)\n",
        "  s = re.sub(\"\\)\", \" )\", s)\n",
        "  s = re.sub(\"\\([0-4] \", \"\", s)\n",
        "  s = re.sub(\"\\([0-4] \", \"\", s)\n",
        "  s = re.sub(\"\\)\", \"1\", s)\n",
        "  return list(map(int, s.split()))"
      ]
    },
    {
      "cell_type": "code",
      "execution_count": 8,
      "metadata": {
        "id": "mNtPdlwPgRat",
        "colab": {
          "base_uri": "https://localhost:8080/"
        },
        "outputId": "713d9ca9-0104-4c58-d215-5512d3b6c161"
      },
      "outputs": [
        {
          "output_type": "stream",
          "name": "stdout",
          "text": [
            "trees/train.txt  8544\n",
            "trees/dev.txt    1101\n",
            "trees/test.txt   2210\n"
          ]
        }
      ],
      "source": [
        "# Now let's first see how large our data sets are.\n",
        "for path in (\"trees/train.txt\", \"trees/dev.txt\", \"trees/test.txt\"):\n",
        "  print(\"{:16s} {:4d}\".format(path, sum(1 for _ in filereader(path))))"
      ]
    },
    {
      "cell_type": "code",
      "execution_count": 9,
      "metadata": {
        "id": "YP0wc22ohWlO",
        "colab": {
          "base_uri": "https://localhost:8080/"
        },
        "outputId": "c4fd938e-2cd1-42c7-f18f-10d97c012e2f"
      },
      "outputs": [
        {
          "output_type": "stream",
          "name": "stdout",
          "text": [
            "First sentence in trees/train.txt:\n",
            "(3 (2 (2 The) (2 Rock)) (4 (3 (2 is) (4 (2 destined) (2 (2 (2 (2 (2 to) (2 (2 be) (2 (2 the) (2 (2 21st) (2 (2 (2 Century) (2 's)) (2 (3 new) (2 (2 ``) (2 Conan)))))))) (2 '')) (2 and)) (3 (2 that) (3 (2 he) (3 (2 's) (3 (2 going) (3 (2 to) (4 (3 (2 make) (3 (3 (2 a) (3 splash)) (2 (2 even) (3 greater)))) (2 (2 than) (2 (2 (2 (2 (1 (2 Arnold) (2 Schwarzenegger)) (2 ,)) (2 (2 Jean-Claud) (2 (2 Van) (2 Damme)))) (2 or)) (2 (2 Steven) (2 Segal))))))))))))) (2 .)))\n",
            "First sentence in trees/dev.txt:\n",
            "(3 (2 It) (4 (4 (2 's) (4 (3 (2 a) (4 (3 lovely) (2 film))) (3 (2 with) (4 (3 (3 lovely) (2 performances)) (2 (2 by) (2 (2 (2 Buy) (2 and)) (2 Accorsi))))))) (2 .)))\n",
            "First sentence in trees/test.txt:\n",
            "(2 (3 (3 Effective) (2 but)) (1 (1 too-tepid) (2 biopic)))\n"
          ]
        }
      ],
      "source": [
        "for path in (\"trees/train.txt\", \"trees/dev.txt\", \"trees/test.txt\"):\n",
        "    print(f\"First sentence in {path}:\")\n",
        "    print(next(filereader(path)))\n"
      ]
    },
    {
      "cell_type": "markdown",
      "metadata": {
        "id": "HexlSqTR_UrY"
      },
      "source": [
        "You can see that the number of sentences is not very large. That's probably because the data set required so much manual annotation. However, it is large enough to train a neural network on."
      ]
    },
    {
      "cell_type": "markdown",
      "metadata": {
        "id": "IfRjelOcsXuC"
      },
      "source": [
        "It will be useful to store each data example in an `Example` object,\n",
        "containing everything that we may need for each data point.\n",
        "It will contain the tokens, the tree, the top-level sentiment label, and\n",
        "the transitions (explained later)."
      ]
    },
    {
      "cell_type": "code",
      "execution_count": 10,
      "metadata": {
        "id": "4I07Hb_-q8wg",
        "colab": {
          "base_uri": "https://localhost:8080/"
        },
        "outputId": "5738039f-ff59-455b-98da-e3bb96b83056"
      },
      "outputs": [
        {
          "output_type": "stream",
          "name": "stdout",
          "text": [
            "train 8544\n",
            "dev 1101\n",
            "test 2210\n"
          ]
        }
      ],
      "source": [
        "from collections import namedtuple\n",
        "from nltk import Tree\n",
        "\n",
        "# A simple way to define a class is using namedtuple.\n",
        "Example = namedtuple(\"Example\", [\"tokens\", \"tree\", \"label\", \"transitions\"])\n",
        "\n",
        "\n",
        "def examplereader(path, lower=False):\n",
        "  \"\"\"Returns all examples in a file one by one.\"\"\"\n",
        "  for line in filereader(path):\n",
        "    line = line.lower() if lower else line\n",
        "    tokens = tokens_from_treestring(line)\n",
        "    tree = Tree.fromstring(line)  # use NLTK's Tree\n",
        "    label = int(line[1])\n",
        "    trans = transitions_from_treestring(line)\n",
        "    yield Example(tokens=tokens, tree=tree, label=label, transitions=trans)\n",
        "\n",
        "\n",
        "# Let's load the data into memory.\n",
        "LOWER = False  # we will keep the original casing\n",
        "train_data = list(examplereader(\"trees/train.txt\", lower=LOWER))\n",
        "dev_data = list(examplereader(\"trees/dev.txt\", lower=LOWER))\n",
        "test_data = list(examplereader(\"trees/test.txt\", lower=LOWER))\n",
        "\n",
        "print(\"train\", len(train_data))\n",
        "print(\"dev\", len(dev_data))\n",
        "print(\"test\", len(test_data))"
      ]
    },
    {
      "cell_type": "markdown",
      "metadata": {
        "id": "6KM0bDyeVZtP"
      },
      "source": [
        "Let's check out an `Example` object."
      ]
    },
    {
      "cell_type": "markdown",
      "metadata": {
        "id": "-WDSprDBVcr-"
      },
      "source": [
        "#### Vocabulary\n",
        "A first step in most NLP tasks is collecting all the word types that appear in the data into a vocabulary, and counting the frequency of their occurrences. On the one hand, this will give us an overview of the word distribution of the data set (what are the most frequent words, how many rare words are there, ...). On the other hand, we will also use the vocabulary to map each word to a unique numeric ID, which is a more handy index than a string."
      ]
    },
    {
      "cell_type": "code",
      "execution_count": 11,
      "metadata": {
        "id": "VvNgKx7usRSt"
      },
      "outputs": [],
      "source": [
        "# Here we first define a class that can map a word to an ID (w2i)\n",
        "# and back (i2w).\n",
        "\n",
        "from collections import Counter, OrderedDict, defaultdict\n",
        "\n",
        "\n",
        "class OrderedCounter(Counter, OrderedDict):\n",
        "  \"\"\"Counter that remembers the order elements are first seen\"\"\"\n",
        "  def __repr__(self):\n",
        "    return '%s(%r)' % (self.__class__.__name__,\n",
        "                      OrderedDict(self))\n",
        "  def __reduce__(self):\n",
        "    return self.__class__, (OrderedDict(self),)\n",
        "\n",
        "\n",
        "class Vocabulary:\n",
        "  \"\"\"A vocabulary, assigns IDs to tokens\"\"\"\n",
        "\n",
        "  def __init__(self):\n",
        "    self.freqs = OrderedCounter()\n",
        "    self.w2i = {}\n",
        "    self.i2w = []\n",
        "\n",
        "  def count_token(self, t):\n",
        "    self.freqs[t] += 1\n",
        "\n",
        "  def add_token(self, t):\n",
        "    self.w2i[t] = len(self.w2i)\n",
        "    self.i2w.append(t)\n",
        "\n",
        "  def build(self, min_freq=0):\n",
        "    '''\n",
        "    min_freq: minimum number of occurrences for a word to be included\n",
        "              in the vocabulary\n",
        "    '''\n",
        "    self.add_token(\"<unk>\")  # reserve 0 for <unk> (unknown words)\n",
        "    self.add_token(\"<pad>\")  # reserve 1 for <pad> (discussed later)\n",
        "\n",
        "    tok_freq = list(self.freqs.items())\n",
        "    tok_freq.sort(key=lambda x: x[1], reverse=True)\n",
        "    for tok, freq in tok_freq:\n",
        "      if freq >= min_freq:\n",
        "        self.add_token(tok)"
      ]
    },
    {
      "cell_type": "markdown",
      "metadata": {
        "id": "kOvkH_llVsoW"
      },
      "source": [
        "The vocabulary has by default an `<unk>` token and a `<pad>` token. The `<unk>` token is reserved for all words which do not appear in the training data (and for which, therefore, we cannot learn word representations). The function of the `<pad>` token will be explained later.\n",
        "\n",
        "\n",
        "Let's build the vocabulary!\n"
      ]
    },
    {
      "cell_type": "code",
      "execution_count": 12,
      "metadata": {
        "id": "GwGQgQQBNUSq",
        "colab": {
          "base_uri": "https://localhost:8080/"
        },
        "outputId": "08f7a06e-36c5-4b94-e62b-cb58d2b11d0b"
      },
      "outputs": [
        {
          "output_type": "stream",
          "name": "stdout",
          "text": [
            "Vocabulary size: 18280\n"
          ]
        }
      ],
      "source": [
        "# This process should be deterministic and should have the same result\n",
        "# if run multiple times on the same data set.\n",
        "\n",
        "v = Vocabulary()\n",
        "for data_set in (train_data,):\n",
        "  for ex in data_set:\n",
        "    for token in ex.tokens:\n",
        "      v.count_token(token)\n",
        "\n",
        "v.build()\n",
        "print(\"Vocabulary size:\", len(v.w2i))"
      ]
    },
    {
      "cell_type": "markdown",
      "metadata": {
        "id": "-UNIedPrPdCw"
      },
      "source": [
        "Let's have a closer look at the properties of our vocabulary. Having a good idea of what it is like can facilitate data analysis and debugging later on."
      ]
    },
    {
      "cell_type": "code",
      "execution_count": 13,
      "metadata": {
        "id": "AmTC-rvQelpl",
        "colab": {
          "base_uri": "https://localhost:8080/"
        },
        "outputId": "de9ae04a-c872-456c-a0bb-aeae620e40e1"
      },
      "outputs": [
        {
          "output_type": "stream",
          "name": "stdout",
          "text": [
            "['very negative', 'negative', 'neutral', 'positive', 'very positive']\n",
            "very positive\n"
          ]
        }
      ],
      "source": [
        "# Now let's map the sentiment labels 0-4 to a more readable form\n",
        "i2t = [\"very negative\", \"negative\", \"neutral\", \"positive\", \"very positive\"]\n",
        "print(i2t)\n",
        "print(i2t[4])"
      ]
    },
    {
      "cell_type": "code",
      "execution_count": 14,
      "metadata": {
        "id": "D7UI26DP2dr2",
        "colab": {
          "base_uri": "https://localhost:8080/"
        },
        "outputId": "ac9d0a12-b293-47f1-c01d-34f4c92ac1ec"
      },
      "outputs": [
        {
          "output_type": "stream",
          "name": "stdout",
          "text": [
            "OrderedDict([('very negative', 0), ('negative', 1), ('neutral', 2), ('positive', 3), ('very positive', 4)])\n",
            "4\n"
          ]
        }
      ],
      "source": [
        "# And let's also create the opposite mapping.\n",
        "# We won't use a Vocabulary for this (although we could), since the labels\n",
        "# are already numeric.\n",
        "t2i = OrderedDict({p : i for p, i in zip(i2t, range(len(i2t)))})\n",
        "print(t2i)\n",
        "print(t2i['very positive'])"
      ]
    },
    {
      "cell_type": "markdown",
      "metadata": {
        "id": "y0067ax54-rd"
      },
      "source": [
        "## PyTorch\n",
        "\n",
        "We are going to need PyTorch and Google Colab does not have it installed by default. Run the cell below to install it.\n",
        "\n",
        "*For installing PyTorch in your own computer, follow the instructions on [pytorch.org](pytorch.org) instead. This is for Google Colab only.*"
      ]
    },
    {
      "cell_type": "code",
      "execution_count": 15,
      "metadata": {
        "id": "qKQMGtkR5KWr",
        "colab": {
          "base_uri": "https://localhost:8080/"
        },
        "outputId": "c6f278e3-a9a7-4ddd-d3ba-a2986fba80a7"
      },
      "outputs": [
        {
          "output_type": "stream",
          "name": "stdout",
          "text": [
            "Using torch 2.5.1+cu121\n"
          ]
        }
      ],
      "source": [
        "import torch\n",
        "print(\"Using torch\", torch.__version__) # should say 1.7.0+cu101"
      ]
    },
    {
      "cell_type": "code",
      "execution_count": 16,
      "metadata": {
        "id": "mnvPcd_E1xH8"
      },
      "outputs": [],
      "source": [
        "# Let's also import torch.nn, a PyTorch package that\n",
        "# makes building neural networks more convenient.\n",
        "from torch import nn"
      ]
    },
    {
      "cell_type": "code",
      "execution_count": 17,
      "metadata": {
        "id": "BYt8uTyGCKc7",
        "colab": {
          "base_uri": "https://localhost:8080/"
        },
        "outputId": "2dd75883-7451-40b2-dbb2-1cb2d77e9e62"
      },
      "outputs": [
        {
          "output_type": "execute_result",
          "data": {
            "text/plain": [
              "device(type='cuda')"
            ]
          },
          "metadata": {},
          "execution_count": 17
        }
      ],
      "source": [
        "# PyTorch can run on CPU or on Nvidia GPU (video card) using CUDA\n",
        "# This cell selects the GPU if one is available.\n",
        "device = torch.device('cuda' if torch.cuda.is_available() else 'cpu')\n",
        "device"
      ]
    },
    {
      "cell_type": "code",
      "execution_count": 18,
      "metadata": {
        "id": "2d1VMOOYx1Bw"
      },
      "outputs": [],
      "source": [
        "# Seed manually to make runs reproducible\n",
        "# You need to set this again if you do multiple runs of the same model\n",
        "torch.manual_seed(42)\n",
        "\n",
        "# When running on the CuDNN backend two further options must be set for reproducibility\n",
        "if torch.cuda.is_available():\n",
        "  torch.backends.cudnn.deterministic = True\n",
        "  torch.backends.cudnn.benchmark = False"
      ]
    },
    {
      "cell_type": "markdown",
      "metadata": {
        "id": "vfCx-HvMH1qQ"
      },
      "source": [
        "> **Hey, wait, where is the bias vector?**\n",
        "> PyTorch does not print Parameters, only Modules!\n",
        "\n",
        "> We can print it ourselves though, to check that it is there."
      ]
    },
    {
      "cell_type": "code",
      "execution_count": 19,
      "metadata": {
        "id": "Fhvk5HenAroT"
      },
      "outputs": [],
      "source": [
        "\n",
        "# Here we print each parameter name, shape, and if it is trainable.\n",
        "def print_parameters(model):\n",
        "  total = 0\n",
        "  for name, p in model.named_parameters():\n",
        "    total += np.prod(p.shape)\n",
        "    print(\"{:24s} {:12s} requires_grad={}\".format(name, str(list(p.shape)), p.requires_grad))\n",
        "  print(\"\\nTotal number of parameters: {}\\n\".format(total))\n",
        "\n",
        "\n",
        "#print_parameters(bow_model)"
      ]
    },
    {
      "cell_type": "markdown",
      "metadata": {
        "id": "WSAw292WxuP4"
      },
      "source": [
        "#### Preparing an example for input\n",
        "\n",
        "To feed sentences to our PyTorch model, we need to convert a sequence of tokens to a sequence of IDs. The `prepare_example` function below takes care of this for us. We then use these IDs as indices for the word embedding table."
      ]
    },
    {
      "cell_type": "code",
      "execution_count": 20,
      "metadata": {
        "id": "YWeGTC_OGReV"
      },
      "outputs": [],
      "source": [
        "def prepare_example(example, vocab):\n",
        "  \"\"\"\n",
        "  Map tokens to their IDs for a single example\n",
        "  \"\"\"\n",
        "\n",
        "  # vocab returns 0 if the word is not there (i2w[0] = <unk>)\n",
        "  x = [vocab.w2i.get(t, 0) for t in example.tokens]\n",
        "\n",
        "  x = torch.LongTensor([x])\n",
        "  x = x.to(device)\n",
        "\n",
        "  y = torch.LongTensor([example.label])\n",
        "  y = y.to(device)\n",
        "\n",
        "  return x, y"
      ]
    },
    {
      "cell_type": "code",
      "execution_count": 21,
      "metadata": {
        "id": "sfbdv9px3uFF",
        "colab": {
          "base_uri": "https://localhost:8080/"
        },
        "outputId": "d9450cb9-a692-4297-c9ed-d79278915c83"
      },
      "outputs": [
        {
          "output_type": "stream",
          "name": "stdout",
          "text": [
            "x: tensor([[  28,    9,    6,  998,   16,   18,  998,  135,   32, 7688,    5,    0,\n",
            "            2]], device='cuda:0')\n",
            "y: tensor([3], device='cuda:0')\n"
          ]
        }
      ],
      "source": [
        "x, y = prepare_example(dev_data[0], v)\n",
        "print('x:', x)\n",
        "print('y:', y)"
      ]
    },
    {
      "cell_type": "markdown",
      "metadata": {
        "id": "oKNQjEc0yXnJ"
      },
      "source": [
        "#### Evaluation\n",
        "We now need to define an evaluation metric.\n",
        "How many predictions do we get right? The accuracy will tell us.\n",
        "Make sure that you understand this code block.\n"
      ]
    },
    {
      "cell_type": "code",
      "execution_count": 22,
      "metadata": {
        "id": "yGmQLcVYKZsh"
      },
      "outputs": [],
      "source": [
        "def simple_evaluate(model, data, prep_fn=prepare_example, **kwargs):\n",
        "  \"\"\"Accuracy of a model on given data set.\"\"\"\n",
        "  correct = 0\n",
        "  total = 0\n",
        "  model.eval()  # disable dropout (explained later)\n",
        "\n",
        "  for example in data:\n",
        "\n",
        "    # convert the example input and label to PyTorch tensors\n",
        "    x, target = prep_fn(example, model.vocab)\n",
        "\n",
        "    # forward pass without backpropagation (no_grad)\n",
        "    # get the output from the neural network for input x\n",
        "    with torch.no_grad():\n",
        "      logits = model(x)\n",
        "\n",
        "    # get the prediction\n",
        "    prediction = logits.argmax(dim=-1)\n",
        "\n",
        "    # add the number of correct predictions to the total correct\n",
        "    correct += (prediction == target).sum().item()\n",
        "    total += 1\n",
        "\n",
        "  return correct, total, correct / float(total)"
      ]
    },
    {
      "cell_type": "markdown",
      "metadata": {
        "id": "5KlIGFXllWWm"
      },
      "source": [
        "We are using accuracy as a handy evaluation metric. Please consider using [alternative metrics](https://scikit-learn.org/stable/modules/classes.html#classification-metrics) for your experiments if that makes more theoretical sense."
      ]
    },
    {
      "cell_type": "markdown",
      "metadata": {
        "id": "dIk6OtSdzGRP"
      },
      "source": [
        "#### Example feed\n",
        "For stochastic gradient descent (SGD) we will need a random training example for every update.\n",
        "We implement this by shuffling the training data and returning examples one by one using `yield`.\n",
        "\n",
        "Shuffling is optional so that we get to use this function to get validation and test examples, too."
      ]
    },
    {
      "cell_type": "code",
      "execution_count": 23,
      "metadata": {
        "id": "dxDFOZLfCXvJ"
      },
      "outputs": [],
      "source": [
        "def get_examples(data, shuffle=True, **kwargs):\n",
        "  \"\"\"Shuffle data set and return 1 example at a time (until nothing left)\"\"\"\n",
        "  if shuffle:\n",
        "    print(\"Shuffling training data\")\n",
        "    random.shuffle(data)  # shuffle training data each epoch\n",
        "  for example in data:\n",
        "    yield example"
      ]
    },
    {
      "cell_type": "markdown",
      "metadata": {
        "id": "g09SM8yb2cjx"
      },
      "source": [
        "#### Exercise: Training function\n",
        "\n",
        "Your task is now to complete the training loop below.\n",
        "Before you do so, please read the section about optimisation."
      ]
    },
    {
      "cell_type": "markdown",
      "metadata": {
        "id": "TVfUukVdM_1c"
      },
      "source": [
        "**Optimisation**\n",
        "\n",
        "As mentioned in the \"Intro to PyTorch\" notebook, one of the perks of using PyTorch is automatic differentiation. We will use it to train our BOW model.\n",
        "\n",
        "We train our model by feeding it an input, performing a **forward** pass, obtaining an output prediction, and calculating a **loss** with our loss function.\n",
        "After the gradients are computed in the **backward** pass, we can take a step on the surface of the loss function towards more optimal parameter settings (gradient descent).\n",
        "\n",
        "The package we will use to do this optimisation is [torch.optim](https://pytorch.org/docs/stable/optim.html)."
      ]
    },
    {
      "cell_type": "code",
      "execution_count": 24,
      "metadata": {
        "id": "KhQigDrQ--YU"
      },
      "outputs": [],
      "source": [
        "from torch import optim"
      ]
    },
    {
      "cell_type": "markdown",
      "metadata": {
        "id": "wGIvcTZU_Cez"
      },
      "source": [
        "Besides implementations of stochastic gradient descent (SGD), this package also implements the optimisation algorithm Adam, which we'll be using in this practical.\n",
        "For the purposes of this assignment you do not need to know what Adam does besides that it uses gradient information to update our model parameters by calling:\n",
        "\n",
        "```\n",
        "optimizer.step()\n",
        "```\n",
        "Remember when we updated our parameters in the PyTorch tutorial in a loop?\n",
        "\n",
        "\n",
        "```python\n",
        "# update weights\n",
        "learning_rate = 0.5\n",
        "for f in net.parameters():\n",
        "    # for each parameter, take a small step in the opposite dir of the gradient\n",
        "    p.data = p.data - p.grad.data * learning_rate\n",
        "\n",
        "```\n",
        "The function call optimizer.step() does effectively the same thing.\n",
        "\n",
        "*(If you want to know more about optimisation algorithms using gradient information, [this blog](http://ruder.io/optimizing-gradient-descent/.) gives a nice intuitive overview.)*"
      ]
    },
    {
      "cell_type": "code",
      "execution_count": 25,
      "metadata": {
        "id": "ktFnKBux25lD"
      },
      "outputs": [],
      "source": [
        "def train_model(model, optimizer, num_iterations=10000,\n",
        "                print_every=1000, eval_every=1000,\n",
        "                batch_fn=get_examples,\n",
        "                prep_fn=prepare_example,\n",
        "                eval_fn=simple_evaluate,\n",
        "                batch_size=1, eval_batch_size=None):\n",
        "  \"\"\"Train a model.\"\"\"\n",
        "  training_data = train_data[:]\n",
        "  iter_i = 0\n",
        "  train_loss = 0.\n",
        "  print_num = 0\n",
        "  start = time.time()\n",
        "  criterion = nn.CrossEntropyLoss() # loss function\n",
        "  best_eval = 0.\n",
        "  best_iter = 0\n",
        "\n",
        "  # store train loss and validation accuracy during training\n",
        "  # so we can plot them afterwards\n",
        "  losses = []\n",
        "  accuracies = []\n",
        "\n",
        "  if eval_batch_size is None:\n",
        "    eval_batch_size = batch_size\n",
        "\n",
        "  while True:  # when we run out of examples, shuffle and continue\n",
        "    for batch in batch_fn(train_data, batch_size=batch_size):\n",
        "\n",
        "      # forward pass\n",
        "      model.train()\n",
        "      x, targets = prep_fn(batch, model.vocab)\n",
        "      logits = model(x)\n",
        "\n",
        "      B = targets.size(0)  # later we will use B examples per update\n",
        "\n",
        "      # compute cross-entropy loss (our criterion)\n",
        "      # note that the cross entropy loss function computes the softmax for us\n",
        "      loss = criterion(logits.view([B, -1]), targets.view(-1))\n",
        "      train_loss += loss.item()\n",
        "\n",
        "      # backward pass (tip: check the Introduction to PyTorch notebook)\n",
        "\n",
        "      # erase previous gradients\n",
        "      optimizer.zero_grad()\n",
        "\n",
        "      # compute gradients\n",
        "      loss.backward()\n",
        "\n",
        "      # update weights - take a small step in the opposite dir of the gradient\n",
        "      optimizer.step()\n",
        "\n",
        "\n",
        "      print_num += 1\n",
        "      iter_i += 1\n",
        "\n",
        "      # print info\n",
        "      if iter_i % print_every == 0:\n",
        "        print(\"Iter %r: loss=%.4f, time=%.2fs\" %\n",
        "              (iter_i, train_loss, time.time()-start))\n",
        "        losses.append(train_loss)\n",
        "        print_num = 0\n",
        "        train_loss = 0.\n",
        "\n",
        "      # evaluate\n",
        "      if iter_i % eval_every == 0:\n",
        "        _, _, accuracy = eval_fn(model, dev_data, batch_size=eval_batch_size,\n",
        "                                 batch_fn=batch_fn, prep_fn=prep_fn)\n",
        "        accuracies.append(accuracy)\n",
        "        print(\"iter %r: dev acc=%.4f\" % (iter_i, accuracy))\n",
        "\n",
        "        # save best model parameters\n",
        "        if accuracy > best_eval:\n",
        "          print(\"new highscore\")\n",
        "          best_eval = accuracy\n",
        "          best_iter = iter_i\n",
        "          path = \"{}.pt\".format(model.__class__.__name__)\n",
        "          ckpt = {\n",
        "              \"state_dict\": model.state_dict(),\n",
        "              \"optimizer_state_dict\": optimizer.state_dict(),\n",
        "              \"best_eval\": best_eval,\n",
        "              \"best_iter\": best_iter\n",
        "          }\n",
        "          torch.save(ckpt, path)\n",
        "\n",
        "      # done training\n",
        "      if iter_i == num_iterations:\n",
        "        print(\"Done training\")\n",
        "\n",
        "        # evaluate on train, dev, and test with best model\n",
        "        print(\"Loading best model\")\n",
        "        path = \"{}.pt\".format(model.__class__.__name__)\n",
        "        ckpt = torch.load(path)\n",
        "        model.load_state_dict(ckpt[\"state_dict\"])\n",
        "\n",
        "        _, _, train_acc = eval_fn(\n",
        "            model, train_data, batch_size=eval_batch_size,\n",
        "            batch_fn=batch_fn, prep_fn=prep_fn)\n",
        "        _, _, dev_acc = eval_fn(\n",
        "            model, dev_data, batch_size=eval_batch_size,\n",
        "            batch_fn=batch_fn, prep_fn=prep_fn)\n",
        "        _, _, test_acc = eval_fn(\n",
        "            model, test_data, batch_size=eval_batch_size,\n",
        "            batch_fn=batch_fn, prep_fn=prep_fn)\n",
        "\n",
        "        print(\"best model iter {:d}: \"\n",
        "              \"train acc={:.4f}, dev acc={:.4f}, test acc={:.4f}\".format(\n",
        "                  best_iter, train_acc, dev_acc, test_acc))\n",
        "\n",
        "        return losses, accuracies, test_acc"
      ]
    },
    {
      "cell_type": "markdown",
      "metadata": {
        "id": "Psxh-Le1BMDQ"
      },
      "source": [
        "Please note that we set the number of iterations to 30K as an indicative value, after which we simply stop training without checking for convergence. You should choose an appropriate number of iterations and motivate your decision. **This holds for all pre-set numbers of iteration in the following code blocks.**"
      ]
    },
    {
      "cell_type": "markdown",
      "metadata": {
        "id": "E9mB1_XhMPNN"
      },
      "source": [
        "# CBOW"
      ]
    },
    {
      "cell_type": "markdown",
      "metadata": {
        "id": "pWk78FvNMw4o"
      },
      "source": [
        "We now continue with a **continuous bag-of-words (CBOW)** model. (*This is not the same as the word2vec CBOW model!*)\n",
        "\n",
        "It is similar to the BOW model above, but now embeddings can have a dimension of *arbitrary size*.\n",
        "This means that we can choose a higher dimensionality and learn more aspects of each word. We will still sum word vectors to get a sentence representation, but now the size of the resulting vector will no longer correspond to the number of sentiment classes.\n",
        "\n",
        "So to turn the size of our summed vector into the number of output classes, we can *learn* a parameter matrix $W$ and multiply it by the sum vector $x$: $$Wx$$\n",
        "If the size of $x$ is `d x 1`, we can set $W$ to be `5 x d`, so that the output of the matrix multiplication will be the of the desired size, `5 x 1`. Then, just like for the BOW model, we can obtain a prediction using the argmax function."
      ]
    },
    {
      "cell_type": "markdown",
      "metadata": {
        "id": "gIjrCPfCwsXI"
      },
      "source": [
        "## Exercise: implement and train the CBOW model\n",
        "\n",
        "Write a class `CBOW` that:\n",
        "\n",
        "- has word embeddings with size 300\n",
        "- sums the word vectors for the input words (just like in `BOW`)\n",
        "- projects the resulting vector down to 5 units using a linear layer and a bias term (check out `nn.Linear`)\n",
        "\n",
        "Train your CBOW model and plot the validation accuracy and training loss over time."
      ]
    },
    {
      "cell_type": "code",
      "execution_count": 26,
      "metadata": {
        "id": "PEV22aR2MP0Q"
      },
      "outputs": [],
      "source": [
        "import torch\n",
        "import torch.nn as nn\n",
        "\n",
        "class CBOW(nn.Module):\n",
        "    def __init__(self, vocab_size, num_classes, vocab, embedding_dim=300):\n",
        "        \"\"\"\n",
        "        CBOW Model\n",
        "        \"\"\"\n",
        "        super(CBOW, self).__init__()\n",
        "\n",
        "        # 1. Embedding layer: maps word indices to 300-dimensional vectors\n",
        "        self.embed = nn.Embedding(vocab_size, embedding_dim)\n",
        "\n",
        "        # 2. Linear layer: projects the sentence vector (embedding_dim) to output logits (num_classes)\n",
        "        self.fc = nn.Linear(embedding_dim, num_classes)\n",
        "\n",
        "        self.vocab = vocab\n",
        "\n",
        "    def forward(self, x):\n",
        "        \"\"\"\n",
        "        Forward pass of the CBOW model\n",
        "        \"\"\"\n",
        "        # 1. Look up embeddings for each word in the input\n",
        "        embeddings = self.embed(x)  # Shape: [batch_size, seq_len, embedding_dim]\n",
        "\n",
        "        # 2. Sum embeddings along the sequence length dimension\n",
        "        sentence_vector = embeddings.sum(dim=1)  # Shape: [batch_size, embedding_dim]\n",
        "\n",
        "        # 3. Project the sentence vector to logits using the linear layer\n",
        "        logits = self.fc(sentence_vector)  # Shape: [batch_size, num_classes]\n",
        "\n",
        "        return logits"
      ]
    },
    {
      "cell_type": "code",
      "execution_count": 27,
      "metadata": {
        "id": "KdUEf2INYxaq",
        "colab": {
          "base_uri": "https://localhost:8080/"
        },
        "outputId": "f22fa536-84da-4202-cfe7-b5ec8520769f"
      },
      "outputs": [
        {
          "output_type": "stream",
          "name": "stdout",
          "text": [
            "Is GPU available?  True\n"
          ]
        }
      ],
      "source": [
        "print(\"Is GPU available? \", torch.cuda.is_available())"
      ]
    },
    {
      "cell_type": "code",
      "execution_count": 28,
      "metadata": {
        "id": "8gK-jxAoRXLe"
      },
      "outputs": [],
      "source": [
        "# # If everything is in place we can now train our first model!\n",
        "# cbow_model = CBOW(len(v.w2i), len(t2i), vocab=v)\n",
        "# print(cbow_model)\n",
        "\n",
        "# cbow_model = cbow_model.to(device)\n",
        "\n",
        "# optimizer = optim.Adam(cbow_model.parameters(), lr=0.0005)\n",
        "\n",
        "# cbow_losses, cbow_accuracies = train_model(\n",
        "#     cbow_model, optimizer, num_iterations=1000,\n",
        "#     print_every=100, eval_every=100)"
      ]
    },
    {
      "cell_type": "code",
      "execution_count": 29,
      "metadata": {
        "id": "0Ggu90ITTQm_"
      },
      "outputs": [],
      "source": [
        "# This will plot the validation accuracies across time.\n",
        "# plt.plot(cbow_accuracies)"
      ]
    },
    {
      "cell_type": "code",
      "execution_count": 30,
      "metadata": {
        "id": "rqFk-J0bTRgx"
      },
      "outputs": [],
      "source": [
        "# This will plot the validation accuracies across time.\n",
        "# plt.plot(cbow_losses)"
      ]
    },
    {
      "cell_type": "markdown",
      "metadata": {
        "id": "zpFt_Fo2TdN0"
      },
      "source": [
        "# Deep CBOW"
      ]
    },
    {
      "cell_type": "markdown",
      "metadata": {
        "id": "iZanOMesTfEZ"
      },
      "source": [
        "To see if we can squeeze some more performance out of the CBOW model, we can make it deeper and non-linear by adding more layers and, e.g., tanh-activations.\n",
        "By using more parameters we can learn more aspects of the data, and by using more layers and non-linearities, we can try to learn a more complex function.\n",
        "This is not something that always works. If the input-output mapping of your data is simple, then a complicated function could easily overfit on your training set, thereby leading to poor generalization.\n",
        "\n",
        "#### Exercise: write Deep CBOW class and train it\n",
        "\n",
        "Write a class `DeepCBOW`.\n",
        "\n",
        "In your code, make sure that your `output_layer` consists of the following:\n",
        "- A linear transformation from E units to D units.\n",
        "- A Tanh activation\n",
        "- A linear transformation from D units to D units\n",
        "- A Tanh activation\n",
        "- A linear transformation from D units to 5 units (our output classes).\n",
        "\n",
        "E is the size of the word embeddings (please use E=300) and D for the size of a hidden layer (please use D=100).\n",
        "\n",
        "We recommend using [nn.Sequential](https://pytorch.org/docs/stable/nn.html?highlight=sequential#torch.nn.Sequential) to implement this exercise."
      ]
    },
    {
      "cell_type": "code",
      "execution_count": 31,
      "metadata": {
        "id": "l8Z1igvpTrZq"
      },
      "outputs": [],
      "source": [
        "import torch\n",
        "import torch.nn as nn\n",
        "\n",
        "class DeepCBOW(nn.Module):\n",
        "    def __init__(self, vocab_size, vocab, num_classes, embedding_dim=300, hidden_dim=100):\n",
        "        \"\"\"\n",
        "        Deep CBOW Model\n",
        "        :param vocab_size: Size of the vocabulary\n",
        "        :param num_classes: Number of output classes\n",
        "        :param embedding_dim: Size of the word embeddings (E)\n",
        "        :param hidden_dim: Size of the hidden layers (D)\n",
        "        \"\"\"\n",
        "        super(DeepCBOW, self).__init__()\n",
        "\n",
        "        # Embedding layer: Map word indices to embedding vectors\n",
        "        self.embed = nn.Embedding(vocab_size, embedding_dim)\n",
        "\n",
        "        # Output layer: Stack of linear layers + tanh activations\n",
        "        self.output_layer = nn.Sequential(\n",
        "            nn.Linear(embedding_dim, hidden_dim),  # E -> D\n",
        "            nn.Tanh(),                            # Non-linearity\n",
        "            nn.Linear(hidden_dim, hidden_dim),    # D -> D\n",
        "            nn.Tanh(),                            # Non-linearity\n",
        "            nn.Linear(hidden_dim, num_classes)    # D -> 5\n",
        "        )\n",
        "\n",
        "    def forward(self, x):\n",
        "        \"\"\"\n",
        "        Forward pass of the Deep CBOW model\n",
        "        :param x: Input word indices (batch_size, seq_len)\n",
        "        :return: Logits (batch_size, num_classes)\n",
        "        \"\"\"\n",
        "        # 1. Look up embeddings for each word in the input\n",
        "        embeddings = self.embed(x)  # Shape: [batch_size, seq_len, embedding_dim]\n",
        "\n",
        "        # 2. Sum embeddings along the sequence length dimension\n",
        "        sentence_vector = embeddings.sum(dim=1)  # Shape: [batch_size, embedding_dim]\n",
        "\n",
        "        # 3. Pass through the output layer\n",
        "        logits = self.output_layer(sentence_vector)  # Shape: [batch_size, num_classes]\n",
        "\n",
        "        return logits\n"
      ]
    },
    {
      "cell_type": "markdown",
      "metadata": {
        "id": "MQZ5flHwiiHY"
      },
      "source": [
        "# Pre-trained word embeddings"
      ]
    },
    {
      "source": [
        "import requests\n",
        "\n",
        "url = \"https://gist.githubusercontent.com/bastings/b094de2813da58056a05e8e7950d4ad1/raw/3fbd3976199c2b88de2ae62afc0ecc6f15e6f7ce/glove.840B.300d.sst.txt\"\n",
        "\n",
        "# File name to save the downloaded file\n",
        "file_name = \"glove.filtered.txt\"\n",
        "\n",
        "# Download the file\n",
        "response = requests.get(url)\n",
        "response.raise_for_status()  # Raise an exception for bad responses\n",
        "\n",
        "# Save the file content\n",
        "with open(file_name, \"wb\") as f: # wb mode for writing binary data\n",
        "    f.write(response.content)\n",
        "\n",
        "print(f\"File downloaded and saved as {file_name}\")"
      ],
      "cell_type": "code",
      "metadata": {
        "colab": {
          "base_uri": "https://localhost:8080/"
        },
        "id": "FWDqegPCIWje",
        "outputId": "3418ae86-3d58-48b8-d9ee-4e06b27dec6f"
      },
      "execution_count": 32,
      "outputs": [
        {
          "output_type": "stream",
          "name": "stdout",
          "text": [
            "File downloaded and saved as glove.filtered.txt\n"
          ]
        }
      ]
    },
    {
      "cell_type": "code",
      "source": [
        "# Exercise: Print the first 4 lines of the files that you downloaded.\n",
        "# What do you see?\n",
        "# Print the first few lines of the file\n",
        "with open(\"glove.filtered.txt\", \"r\", encoding=\"utf-8\") as f:\n",
        "    for i in range(5):  # Adjust the number if needed\n",
        "        (f.readline().strip())\n"
      ],
      "metadata": {
        "id": "74grLoH-4Ef0"
      },
      "execution_count": 33,
      "outputs": []
    },
    {
      "cell_type": "code",
      "execution_count": 34,
      "metadata": {
        "id": "qgGCNe7R4Qqw",
        "colab": {
          "base_uri": "https://localhost:8080/"
        },
        "outputId": "2c048a0b-3702-407c-fe01-8e389b59a5aa"
      },
      "outputs": [
        {
          "output_type": "stream",
          "name": "stdout",
          "text": [
            "Loaded 20725 word embeddings!\n",
            "Vocabulary size: 20727\n",
            "First 10 vocabulary entries:\n",
            "0: <unk>\n",
            "1: <pad>\n",
            "2: ,\n",
            "3: .\n",
            "4: the\n",
            "5: and\n",
            "6: to\n",
            "7: of\n",
            "8: a\n",
            "9: in\n"
          ]
        }
      ],
      "source": [
        "# Parse the Word2Vec file\n",
        "glove = {}\n",
        "with open(file_name, \"r\", encoding=\"utf-8\") as f:\n",
        "    for line in f:\n",
        "        values = line.strip().split()\n",
        "        word = values[0]  # The first value is the word\n",
        "        vector = [float(x) for x in values[1:]]  # The rest are the embedding values\n",
        "        glove[word] = vector\n",
        "\n",
        "print(f\"Loaded {len(glove)} word embeddings!\")\n",
        "\n",
        "\n",
        "from collections import defaultdict\n",
        "import numpy as np\n",
        "\n",
        "# Initialize vocabulary object\n",
        "v = Vocabulary()\n",
        "\n",
        "# Add special tokens manually\n",
        "v.add_token(\"<unk>\")\n",
        "v.add_token(\"<pad>\")\n",
        "\n",
        "# Define embedding dimensions and initialize list for vectors\n",
        "embedding_dim = 300  # Update if using different dimensions\n",
        "vectors = []\n",
        "\n",
        "# Add special token embeddings\n",
        "vectors.append(np.random.uniform(-0.01, 0.01, embedding_dim))  # <unk>\n",
        "vectors.append(np.zeros(embedding_dim))  # <pad>\n",
        "\n",
        "# Add pre-trained word embeddings to vocabulary\n",
        "for word, vector in glove.items():\n",
        "    if word not in v.w2i:  # If the word is not already in the vocab\n",
        "        v.add_token(word)\n",
        "        vectors.append(vector)\n",
        "\n",
        "# Convert vectors to a NumPy array\n",
        "vectors = np.stack(vectors, axis=0)\n",
        "\n",
        "# Print vocabulary size and first few entries\n",
        "print(f\"Vocabulary size: {len(v.w2i)}\")\n",
        "print(\"First 10 vocabulary entries:\")\n",
        "for i, word in enumerate(v.i2w[:10]):\n",
        "    print(f\"{i}: {word}\")\n"
      ]
    },
    {
      "cell_type": "markdown",
      "source": [
        "# Create and Evaluate bins"
      ],
      "metadata": {
        "id": "_OV_0qcKZBXi"
      }
    },
    {
      "cell_type": "code",
      "source": [
        "def create_bins(dataset, vocab, window_size=5, max_length=45):\n",
        "    \"\"\"\n",
        "    Create sliding window bins with custom window size and maximum length.\n",
        "    \"\"\"\n",
        "    # Create sliding window bins\n",
        "    bins = [(max(0, i - window_size // 2), min(max_length, i + window_size // 2))\n",
        "            for i in range(0, max_length + 1)]\n",
        "\n",
        "    # Initialize dictionary for bins\n",
        "    binned_data = {f\"{low}-{high}\": [] for low, high in bins}\n",
        "\n",
        "    for example in dataset:\n",
        "        # Convert tokens to IDs and compute sentence length\n",
        "        x, y = prepare_example(example, vocab)\n",
        "        sentence_length = x.size(1)\n",
        "\n",
        "        # Place the example into the correct sliding window bin\n",
        "        for low, high in bins:\n",
        "            if low <= sentence_length <= high:\n",
        "                binned_data[f\"{low}-{high}\"].append((x, y))\n",
        "                break\n",
        "\n",
        "    return binned_data\n"
      ],
      "metadata": {
        "id": "Gj2mWXUlRg_9"
      },
      "execution_count": 35,
      "outputs": []
    },
    {
      "cell_type": "code",
      "source": [
        "def create_bins(dataset, vocab, window_size=5, max_length=45):\n",
        "    \"\"\"\n",
        "    Create sliding window bins with custom window size and maximum length.\n",
        "    Includes a special bin for sentence lengths 35 and up.\n",
        "    \"\"\"\n",
        "    # Create sliding window bins, excluding the last bin for 35 and up\n",
        "    bins = [(max(0, i - window_size // 2), min(max_length, i + window_size // 2))\n",
        "            for i in range(0, max_length)]  # Bins for sentences < 35\n",
        "\n",
        "    # Initialize dictionary for bins\n",
        "    binned_data = {f\"{low}-{high}\": [] for low, high in bins}\n",
        "\n",
        "    for example in dataset:\n",
        "        # Convert tokens to IDs and compute sentence length\n",
        "        x, y = prepare_example(example, vocab)\n",
        "        sentence_length = x.size(1)\n",
        "\n",
        "        # Place the example into the correct bin\n",
        "        for low, high in bins:\n",
        "            if low <= sentence_length <= high:\n",
        "                binned_data[f\"{low}-{high}\"].append((x, y))\n",
        "                break\n",
        "\n",
        "    return binned_data\n"
      ],
      "metadata": {
        "id": "W2drsFEUQ6np"
      },
      "execution_count": 36,
      "outputs": []
    },
    {
      "source": [
        "def evaluate_on_bins(model, binned_data, eval_fn, verbose=True):\n",
        "    \"\"\"\n",
        "    Evaluate the model on each bin of sentence lengths.\n",
        "    \"\"\"\n",
        "    model.eval()\n",
        "    bin_results = {}\n",
        "\n",
        "    for bin_range, examples in binned_data.items():\n",
        "        if not examples:\n",
        "            bin_results[bin_range] = 0.0\n",
        "            if verbose:\n",
        "                print(f\"Bin {bin_range}: No examples to evaluate.\")\n",
        "            continue\n",
        "\n",
        "        all_preds, all_labels = [], []\n",
        "        for x, y in examples:\n",
        "            with torch.no_grad():\n",
        "                logits = model(x)\n",
        "                preds = torch.argmax(logits, dim=1)\n",
        "                all_preds.append(preds.cpu().numpy())\n",
        "                all_labels.append(y.cpu().numpy())\n",
        "\n",
        "        # Flatten predictions and labels\n",
        "        all_preds = np.concatenate(all_preds)\n",
        "        all_labels = np.concatenate(all_labels)\n",
        "\n",
        "        # Compute accuracy instead of using eval_fn\n",
        "        accuracy = (all_preds == all_labels).mean()\n",
        "\n",
        "        bin_results[bin_range] = accuracy\n",
        "        if verbose:\n",
        "            print(f\"Bin {bin_range}: Metric = {accuracy:.4f}\")\n",
        "\n",
        "    return bin_results"
      ],
      "cell_type": "code",
      "metadata": {
        "id": "vGxkrvFeSXQy"
      },
      "execution_count": 37,
      "outputs": []
    },
    {
      "cell_type": "markdown",
      "metadata": {
        "id": "BfEd38W0NnAI"
      },
      "source": [
        "#### Exercise: train Deep CBOW with (fixed) pre-trained embeddings\n",
        "\n",
        "Now train Deep CBOW again using the pre-trained word vectors.\n"
      ]
    },
    {
      "cell_type": "markdown",
      "source": [
        "Create a function to set set for reproducbility."
      ],
      "metadata": {
        "id": "3GcMFdNzWvVi"
      }
    },
    {
      "cell_type": "code",
      "execution_count": 38,
      "metadata": {
        "id": "fGQcMCLBoF3R"
      },
      "outputs": [],
      "source": [
        "def set_seed(seed):\n",
        "\n",
        "    random.seed(seed)\n",
        "    np.random.seed(seed)\n",
        "    torch.manual_seed(seed)\n",
        "    if torch.cuda.is_available():\n",
        "        torch.cuda.manual_seed(seed)\n",
        "        torch.cuda.manual_seed_all(seed)\n",
        "\n",
        "    # Enforce determinism in PyTorch\n",
        "    torch.backends.cudnn.deterministic = True\n",
        "    torch.backends.cudnn.benchmark = False\n"
      ]
    },
    {
      "cell_type": "code",
      "execution_count": 39,
      "metadata": {
        "id": "z_6ooqgEsB20"
      },
      "outputs": [],
      "source": [
        "# We define a new class that inherits from DeepCBOW.\n",
        "class PTDeepCBOW(DeepCBOW):\n",
        "  def __init__(self, vocab_size, vocab, output_dim, embedding_dim, hidden_dim):\n",
        "    super(PTDeepCBOW, self).__init__(\n",
        "        vocab_size, vocab, output_dim, embedding_dim, hidden_dim)\n",
        "    self.vocab = vocab"
      ]
    },
    {
      "cell_type": "code",
      "source": [
        "seeds = [42, 123, 999]\n",
        "test_accuracies = []\n",
        "all_bin_accuracies = {}  # To store bin accuracies across seeds\n",
        "\n",
        "# Define sliding bins with a window size of 5\n",
        "window_size = 5\n",
        "max_length = 45  # Adjust as needed\n",
        "bins = [(max(0, i - window_size // 2), min(max_length, i + window_size // 2)) for i in range(0, max_length + 1)]\n",
        "bin_ranges = [f\"{low}-{high}\" for low, high in bins]\n",
        "\n",
        "# Prepare structure to track bin accuracies for each seed\n",
        "for bin_range in bin_ranges:\n",
        "    all_bin_accuracies[bin_range] = []\n",
        "\n",
        "for seed in seeds:\n",
        "    set_seed(seed)\n",
        "\n",
        "    # Initialize model\n",
        "    model = PTDeepCBOW(\n",
        "        vocab_size=len(v.w2i),\n",
        "        vocab=v,\n",
        "        embedding_dim=300,\n",
        "        hidden_dim=100,\n",
        "        output_dim=5\n",
        "    ).to(device)\n",
        "    model.embed.weight.data.copy_(torch.from_numpy(vectors))\n",
        "    model.embed.weight.requires_grad = False  # Freeze pre-trained embeddings\n",
        "\n",
        "    # Initialize optimizer\n",
        "    optimizer = torch.optim.Adam(model.parameters(), lr=0.0005)\n",
        "\n",
        "    # Train model\n",
        "    losses, accuracies, test_acc = train_model(\n",
        "        model=model,\n",
        "        optimizer=optimizer,\n",
        "        num_iterations=3240,  # Number of training iterations\n",
        "        print_every=250,      # Print loss every 1000 iterations\n",
        "        eval_every=250,       # Evaluate on validation set every 1000 iterations\n",
        "        batch_fn=get_examples, # Your batch generation function\n",
        "        prep_fn=prepare_example,\n",
        "        eval_fn=simple_evaluate,\n",
        "        batch_size=25,         # Training batch size\n",
        "        eval_batch_size=25     # Validation/test batch size\n",
        "    )\n",
        "\n",
        "    # Evaluate on bins\n",
        "    binned_data = create_bins(test_data, v)\n",
        "    bin_accuracies = evaluate_on_bins(model, binned_data, eval_fn=simple_evaluate)\n",
        "\n",
        "    # Store bin accuracies for this seed\n",
        "    for bin_range, accuracy in bin_accuracies.items():\n",
        "        if accuracy is not None:\n",
        "            all_bin_accuracies[bin_range].append(accuracy)\n",
        "\n",
        "    print(f\"Best Test Accuracy for seed {seed}: {test_acc:.4f}\")\n",
        "    test_accuracies.append(test_acc)\n",
        "\n",
        "# Compute mean and standard deviation across seeds for overall accuracy\n",
        "mean_accuracy = np.mean(test_accuracies)\n",
        "std_accuracy = np.std(test_accuracies)\n",
        "print(f\"Mean Test Accuracy: {mean_accuracy:.4f}\")\n",
        "print(f\"Standard Deviation: {std_accuracy:.4f}\")\n",
        "\n",
        "# Compute mean and standard deviation of bin accuracies\n",
        "print(\"\\nBin-Wise Mean and Standard Deviation Across Seeds:\")\n",
        "for bin_range, accuracies in all_bin_accuracies.items():\n",
        "    if accuracies:  # Skip bins with no data\n",
        "        mean_bin_acc = np.mean(accuracies)\n",
        "        std_bin_acc = np.std(accuracies)\n",
        "        print(f\"Bin {bin_range}: Mean Accuracy = {mean_bin_acc:.4f}, Std = {std_bin_acc:.4f}\")\n",
        "\n"
      ],
      "metadata": {
        "colab": {
          "base_uri": "https://localhost:8080/"
        },
        "outputId": "810d51ef-6552-468d-a91a-169a26d9d59e",
        "id": "1zEwISe2r0VP"
      },
      "execution_count": 40,
      "outputs": [
        {
          "output_type": "stream",
          "name": "stdout",
          "text": [
            "Shuffling training data\n",
            "Iter 250: loss=397.7270, time=1.32s\n",
            "iter 250: dev acc=0.2961\n",
            "new highscore\n",
            "Iter 500: loss=377.8989, time=2.23s\n",
            "iter 500: dev acc=0.2943\n",
            "Iter 750: loss=370.3613, time=3.01s\n",
            "iter 750: dev acc=0.3161\n",
            "new highscore\n",
            "Iter 1000: loss=360.1955, time=3.84s\n",
            "iter 1000: dev acc=0.3170\n",
            "new highscore\n",
            "Iter 1250: loss=341.0709, time=4.65s\n",
            "iter 1250: dev acc=0.3524\n",
            "new highscore\n",
            "Iter 1500: loss=347.0394, time=5.50s\n",
            "iter 1500: dev acc=0.4069\n",
            "new highscore\n",
            "Iter 1750: loss=326.4417, time=6.42s\n",
            "iter 1750: dev acc=0.4005\n",
            "Iter 2000: loss=346.3436, time=7.38s\n",
            "iter 2000: dev acc=0.3851\n",
            "Iter 2250: loss=337.0974, time=8.50s\n",
            "iter 2250: dev acc=0.3542\n",
            "Iter 2500: loss=330.1880, time=9.29s\n",
            "iter 2500: dev acc=0.3942\n",
            "Iter 2750: loss=349.5433, time=10.06s\n",
            "iter 2750: dev acc=0.4133\n",
            "new highscore\n",
            "Iter 3000: loss=346.9627, time=10.89s\n",
            "iter 3000: dev acc=0.4114\n",
            "Done training\n",
            "Loading best model\n"
          ]
        },
        {
          "output_type": "stream",
          "name": "stderr",
          "text": [
            "<ipython-input-25-07f34c5b57a1>:91: FutureWarning: You are using `torch.load` with `weights_only=False` (the current default value), which uses the default pickle module implicitly. It is possible to construct malicious pickle data which will execute arbitrary code during unpickling (See https://github.com/pytorch/pytorch/blob/main/SECURITY.md#untrusted-models for more details). In a future release, the default value for `weights_only` will be flipped to `True`. This limits the functions that could be executed during unpickling. Arbitrary objects will no longer be allowed to be loaded via this mode unless they are explicitly allowlisted by the user via `torch.serialization.add_safe_globals`. We recommend you start setting `weights_only=True` for any use case where you don't have full control of the loaded file. Please open an issue on GitHub for any issues related to this experimental feature.\n",
            "  ckpt = torch.load(path)\n"
          ]
        },
        {
          "output_type": "stream",
          "name": "stdout",
          "text": [
            "best model iter 2750: train acc=0.4202, dev acc=0.4133, test acc=0.4240\n",
            "Bin 0-2: Metric = 0.5000\n",
            "Bin 0-3: Metric = 0.6923\n",
            "Bin 0-4: Metric = 0.2000\n",
            "Bin 1-5: Metric = 0.4545\n",
            "Bin 2-6: Metric = 0.5088\n",
            "Bin 3-7: Metric = 0.3731\n",
            "Bin 4-8: Metric = 0.5204\n",
            "Bin 5-9: Metric = 0.6119\n",
            "Bin 6-10: Metric = 0.3803\n",
            "Bin 7-11: Metric = 0.4848\n",
            "Bin 8-12: Metric = 0.4359\n",
            "Bin 9-13: Metric = 0.4941\n",
            "Bin 10-14: Metric = 0.3671\n",
            "Bin 11-15: Metric = 0.4194\n",
            "Bin 12-16: Metric = 0.4533\n",
            "Bin 13-17: Metric = 0.4316\n",
            "Bin 14-18: Metric = 0.3689\n",
            "Bin 15-19: Metric = 0.4505\n",
            "Bin 16-20: Metric = 0.4217\n",
            "Bin 17-21: Metric = 0.3243\n",
            "Bin 18-22: Metric = 0.3793\n",
            "Bin 19-23: Metric = 0.3226\n",
            "Bin 20-24: Metric = 0.4125\n",
            "Bin 21-25: Metric = 0.3788\n",
            "Bin 22-26: Metric = 0.4308\n",
            "Bin 23-27: Metric = 0.5588\n",
            "Bin 24-28: Metric = 0.4286\n",
            "Bin 25-29: Metric = 0.3654\n",
            "Bin 26-30: Metric = 0.2941\n",
            "Bin 27-31: Metric = 0.3421\n",
            "Bin 28-32: Metric = 0.3667\n",
            "Bin 29-33: Metric = 0.5789\n",
            "Bin 30-34: Metric = 0.5652\n",
            "Bin 31-35: Metric = 0.2778\n",
            "Bin 32-36: Metric = 0.3000\n",
            "Bin 33-37: Metric = 0.2941\n",
            "Bin 34-38: Metric = 0.3158\n",
            "Bin 35-39: Metric = 0.2000\n",
            "Bin 36-40: Metric = 0.6667\n",
            "Bin 37-41: Metric = 0.1667\n",
            "Bin 38-42: Metric = 0.6000\n",
            "Bin 39-43: Metric = 0.4286\n",
            "Bin 40-44: Metric = 0.2000\n",
            "Bin 41-45: Metric = 0.3333\n",
            "Bin 42-45: No examples to evaluate.\n",
            "Best Test Accuracy for seed 42: 0.4240\n",
            "Shuffling training data\n",
            "Iter 250: loss=390.1217, time=0.38s\n",
            "iter 250: dev acc=0.3370\n",
            "new highscore\n",
            "Iter 500: loss=366.3954, time=1.22s\n",
            "iter 500: dev acc=0.3533\n",
            "new highscore\n",
            "Iter 750: loss=338.9078, time=2.05s\n",
            "iter 750: dev acc=0.3651\n",
            "new highscore\n",
            "Iter 1000: loss=353.3295, time=3.10s\n",
            "iter 1000: dev acc=0.3261\n",
            "Iter 1250: loss=348.8142, time=4.16s\n",
            "iter 1250: dev acc=0.3224\n",
            "Iter 1500: loss=372.7674, time=5.10s\n",
            "iter 1500: dev acc=0.3179\n",
            "Iter 1750: loss=351.8649, time=5.88s\n",
            "iter 1750: dev acc=0.3751\n",
            "new highscore\n",
            "Iter 2000: loss=337.6683, time=6.72s\n",
            "iter 2000: dev acc=0.3942\n",
            "new highscore\n",
            "Iter 2250: loss=343.7991, time=7.56s\n",
            "iter 2250: dev acc=0.3924\n",
            "Iter 2500: loss=338.4815, time=8.31s\n",
            "iter 2500: dev acc=0.3878\n",
            "Iter 2750: loss=344.6050, time=9.09s\n",
            "iter 2750: dev acc=0.3969\n",
            "new highscore\n",
            "Iter 3000: loss=346.7063, time=9.92s\n",
            "iter 3000: dev acc=0.3824\n",
            "Done training\n",
            "Loading best model\n",
            "best model iter 2750: train acc=0.4161, dev acc=0.3969, test acc=0.4172\n",
            "Bin 0-2: Metric = 0.3333\n",
            "Bin 0-3: Metric = 0.4615\n",
            "Bin 0-4: Metric = 0.2000\n",
            "Bin 1-5: Metric = 0.4545\n",
            "Bin 2-6: Metric = 0.5088\n",
            "Bin 3-7: Metric = 0.3582\n",
            "Bin 4-8: Metric = 0.4490\n",
            "Bin 5-9: Metric = 0.5522\n",
            "Bin 6-10: Metric = 0.4085\n",
            "Bin 7-11: Metric = 0.4394\n",
            "Bin 8-12: Metric = 0.4744\n",
            "Bin 9-13: Metric = 0.4706\n",
            "Bin 10-14: Metric = 0.3671\n",
            "Bin 11-15: Metric = 0.4409\n",
            "Bin 12-16: Metric = 0.4133\n",
            "Bin 13-17: Metric = 0.4737\n",
            "Bin 14-18: Metric = 0.3786\n",
            "Bin 15-19: Metric = 0.4505\n",
            "Bin 16-20: Metric = 0.3855\n",
            "Bin 17-21: Metric = 0.2973\n",
            "Bin 18-22: Metric = 0.3563\n",
            "Bin 19-23: Metric = 0.3226\n",
            "Bin 20-24: Metric = 0.4000\n",
            "Bin 21-25: Metric = 0.4242\n",
            "Bin 22-26: Metric = 0.4154\n",
            "Bin 23-27: Metric = 0.5441\n",
            "Bin 24-28: Metric = 0.4286\n",
            "Bin 25-29: Metric = 0.4038\n",
            "Bin 26-30: Metric = 0.3824\n",
            "Bin 27-31: Metric = 0.3947\n",
            "Bin 28-32: Metric = 0.3333\n",
            "Bin 29-33: Metric = 0.5789\n",
            "Bin 30-34: Metric = 0.5217\n",
            "Bin 31-35: Metric = 0.2778\n",
            "Bin 32-36: Metric = 0.4500\n",
            "Bin 33-37: Metric = 0.2353\n",
            "Bin 34-38: Metric = 0.3158\n",
            "Bin 35-39: Metric = 0.3000\n",
            "Bin 36-40: Metric = 0.4444\n",
            "Bin 37-41: Metric = 0.3333\n",
            "Bin 38-42: Metric = 0.6000\n",
            "Bin 39-43: Metric = 0.2857\n",
            "Bin 40-44: Metric = 0.2000\n",
            "Bin 41-45: Metric = 0.3333\n",
            "Bin 42-45: No examples to evaluate.\n",
            "Best Test Accuracy for seed 123: 0.4172\n",
            "Shuffling training data\n",
            "Iter 250: loss=392.5544, time=0.52s\n",
            "iter 250: dev acc=0.2970\n",
            "new highscore\n",
            "Iter 500: loss=365.3850, time=1.60s\n",
            "iter 500: dev acc=0.3678\n",
            "new highscore\n",
            "Iter 750: loss=358.1277, time=2.42s\n",
            "iter 750: dev acc=0.3669\n",
            "Iter 1000: loss=346.5774, time=3.18s\n",
            "iter 1000: dev acc=0.3769\n",
            "new highscore\n",
            "Iter 1250: loss=344.8920, time=4.01s\n",
            "iter 1250: dev acc=0.3760\n",
            "Iter 1500: loss=348.0109, time=4.77s\n",
            "iter 1500: dev acc=0.3797\n",
            "new highscore\n",
            "Iter 1750: loss=349.1415, time=5.60s\n",
            "iter 1750: dev acc=0.3424\n",
            "Iter 2000: loss=353.6737, time=6.37s\n",
            "iter 2000: dev acc=0.3778\n",
            "Iter 2250: loss=340.4922, time=7.19s\n",
            "iter 2250: dev acc=0.3551\n",
            "Iter 2500: loss=339.9150, time=7.98s\n",
            "iter 2500: dev acc=0.4005\n",
            "new highscore\n",
            "Iter 2750: loss=336.9733, time=8.79s\n",
            "iter 2750: dev acc=0.3361\n",
            "Iter 3000: loss=344.0615, time=9.56s\n",
            "iter 3000: dev acc=0.3715\n",
            "Done training\n",
            "Loading best model\n",
            "best model iter 2500: train acc=0.4276, dev acc=0.4005, test acc=0.4131\n",
            "Bin 0-2: Metric = 0.5000\n",
            "Bin 0-3: Metric = 0.6923\n",
            "Bin 0-4: Metric = 0.4000\n",
            "Bin 1-5: Metric = 0.4242\n",
            "Bin 2-6: Metric = 0.4211\n",
            "Bin 3-7: Metric = 0.3881\n",
            "Bin 4-8: Metric = 0.4796\n",
            "Bin 5-9: Metric = 0.5224\n",
            "Bin 6-10: Metric = 0.4085\n",
            "Bin 7-11: Metric = 0.4242\n",
            "Bin 8-12: Metric = 0.4359\n",
            "Bin 9-13: Metric = 0.4235\n",
            "Bin 10-14: Metric = 0.3418\n",
            "Bin 11-15: Metric = 0.4194\n",
            "Bin 12-16: Metric = 0.5067\n",
            "Bin 13-17: Metric = 0.4526\n",
            "Bin 14-18: Metric = 0.4272\n",
            "Bin 15-19: Metric = 0.4176\n",
            "Bin 16-20: Metric = 0.3735\n",
            "Bin 17-21: Metric = 0.2973\n",
            "Bin 18-22: Metric = 0.4253\n",
            "Bin 19-23: Metric = 0.3118\n",
            "Bin 20-24: Metric = 0.4500\n",
            "Bin 21-25: Metric = 0.3636\n",
            "Bin 22-26: Metric = 0.4308\n",
            "Bin 23-27: Metric = 0.5000\n",
            "Bin 24-28: Metric = 0.3393\n",
            "Bin 25-29: Metric = 0.4423\n",
            "Bin 26-30: Metric = 0.3824\n",
            "Bin 27-31: Metric = 0.3684\n",
            "Bin 28-32: Metric = 0.3667\n",
            "Bin 29-33: Metric = 0.4211\n",
            "Bin 30-34: Metric = 0.3913\n",
            "Bin 31-35: Metric = 0.2778\n",
            "Bin 32-36: Metric = 0.4500\n",
            "Bin 33-37: Metric = 0.2941\n",
            "Bin 34-38: Metric = 0.4211\n",
            "Bin 35-39: Metric = 0.2000\n",
            "Bin 36-40: Metric = 0.4444\n",
            "Bin 37-41: Metric = 0.3333\n",
            "Bin 38-42: Metric = 0.6000\n",
            "Bin 39-43: Metric = 0.2857\n",
            "Bin 40-44: Metric = 0.2000\n",
            "Bin 41-45: Metric = 0.3333\n",
            "Bin 42-45: No examples to evaluate.\n",
            "Best Test Accuracy for seed 999: 0.4131\n",
            "Mean Test Accuracy: 0.4181\n",
            "Standard Deviation: 0.0045\n",
            "\n",
            "Bin-Wise Mean and Standard Deviation Across Seeds:\n",
            "Bin 0-2: Mean Accuracy = 0.4444, Std = 0.0786\n",
            "Bin 0-3: Mean Accuracy = 0.6154, Std = 0.1088\n",
            "Bin 0-4: Mean Accuracy = 0.2667, Std = 0.0943\n",
            "Bin 1-5: Mean Accuracy = 0.4444, Std = 0.0143\n",
            "Bin 2-6: Mean Accuracy = 0.4795, Std = 0.0414\n",
            "Bin 3-7: Mean Accuracy = 0.3731, Std = 0.0122\n",
            "Bin 4-8: Mean Accuracy = 0.4830, Std = 0.0293\n",
            "Bin 5-9: Mean Accuracy = 0.5622, Std = 0.0372\n",
            "Bin 6-10: Mean Accuracy = 0.3991, Std = 0.0133\n",
            "Bin 7-11: Mean Accuracy = 0.4495, Std = 0.0258\n",
            "Bin 8-12: Mean Accuracy = 0.4487, Std = 0.0181\n",
            "Bin 9-13: Mean Accuracy = 0.4627, Std = 0.0293\n",
            "Bin 10-14: Mean Accuracy = 0.3586, Std = 0.0119\n",
            "Bin 11-15: Mean Accuracy = 0.4265, Std = 0.0101\n",
            "Bin 12-16: Mean Accuracy = 0.4578, Std = 0.0382\n",
            "Bin 13-17: Mean Accuracy = 0.4526, Std = 0.0172\n",
            "Bin 14-18: Mean Accuracy = 0.3916, Std = 0.0255\n",
            "Bin 15-19: Mean Accuracy = 0.4396, Std = 0.0155\n",
            "Bin 16-20: Mean Accuracy = 0.3936, Std = 0.0205\n",
            "Bin 17-21: Mean Accuracy = 0.3063, Std = 0.0127\n",
            "Bin 18-22: Mean Accuracy = 0.3870, Std = 0.0287\n",
            "Bin 19-23: Mean Accuracy = 0.3190, Std = 0.0051\n",
            "Bin 20-24: Mean Accuracy = 0.4208, Std = 0.0212\n",
            "Bin 21-25: Mean Accuracy = 0.3889, Std = 0.0258\n",
            "Bin 22-26: Mean Accuracy = 0.4256, Std = 0.0073\n",
            "Bin 23-27: Mean Accuracy = 0.5343, Std = 0.0250\n",
            "Bin 24-28: Mean Accuracy = 0.3988, Std = 0.0421\n",
            "Bin 25-29: Mean Accuracy = 0.4038, Std = 0.0314\n",
            "Bin 26-30: Mean Accuracy = 0.3529, Std = 0.0416\n",
            "Bin 27-31: Mean Accuracy = 0.3684, Std = 0.0215\n",
            "Bin 28-32: Mean Accuracy = 0.3556, Std = 0.0157\n",
            "Bin 29-33: Mean Accuracy = 0.5263, Std = 0.0744\n",
            "Bin 30-34: Mean Accuracy = 0.4928, Std = 0.0739\n",
            "Bin 31-35: Mean Accuracy = 0.2778, Std = 0.0000\n",
            "Bin 32-36: Mean Accuracy = 0.4000, Std = 0.0707\n",
            "Bin 33-37: Mean Accuracy = 0.2745, Std = 0.0277\n",
            "Bin 34-38: Mean Accuracy = 0.3509, Std = 0.0496\n",
            "Bin 35-39: Mean Accuracy = 0.2333, Std = 0.0471\n",
            "Bin 36-40: Mean Accuracy = 0.5185, Std = 0.1048\n",
            "Bin 37-41: Mean Accuracy = 0.2778, Std = 0.0786\n",
            "Bin 38-42: Mean Accuracy = 0.6000, Std = 0.0000\n",
            "Bin 39-43: Mean Accuracy = 0.3333, Std = 0.0673\n",
            "Bin 40-44: Mean Accuracy = 0.2000, Std = 0.0000\n",
            "Bin 41-45: Mean Accuracy = 0.3333, Std = 0.0000\n",
            "Bin 42-45: Mean Accuracy = 0.0000, Std = 0.0000\n"
          ]
        }
      ]
    },
    {
      "cell_type": "code",
      "source": [
        "# Dictionary to store mean bin accuracies\n",
        "mean_bin_accuracies_dcbow = {}\n",
        "\n",
        "# Compute mean and standard deviation of bin accuracies\n",
        "print(\"\\nBin-Wise Mean and Standard Deviation Across Seeds:\")\n",
        "for bin_range, accuracies in all_bin_accuracies.items():\n",
        "    if accuracies:  # Skip bins with no data\n",
        "        mean_bin_acc = np.mean(accuracies)\n",
        "        std_bin_acc = np.std(accuracies)\n",
        "\n",
        "        # Save the mean accuracy into the dictionary\n",
        "        mean_bin_accuracies_dcbow[bin_range] = mean_bin_acc\n",
        "\n",
        "        # Print the results\n",
        "        print(f\"Bin {bin_range}: Mean Accuracy = {mean_bin_acc:.4f}, Std = {std_bin_acc:.4f}\")\n",
        "\n",
        "# Now mean_bin_accuracies contains the mean accuracy for each bin range\n",
        "print(\"Saved Mean Bin Accuracies:\", mean_bin_accuracies_dcbow)\n"
      ],
      "metadata": {
        "colab": {
          "base_uri": "https://localhost:8080/"
        },
        "id": "7NI4zFD7jiWW",
        "outputId": "f17ec0e8-da9f-4766-ecdf-b4fd09ff7d4e"
      },
      "execution_count": 41,
      "outputs": [
        {
          "output_type": "stream",
          "name": "stdout",
          "text": [
            "\n",
            "Bin-Wise Mean and Standard Deviation Across Seeds:\n",
            "Bin 0-2: Mean Accuracy = 0.4444, Std = 0.0786\n",
            "Bin 0-3: Mean Accuracy = 0.6154, Std = 0.1088\n",
            "Bin 0-4: Mean Accuracy = 0.2667, Std = 0.0943\n",
            "Bin 1-5: Mean Accuracy = 0.4444, Std = 0.0143\n",
            "Bin 2-6: Mean Accuracy = 0.4795, Std = 0.0414\n",
            "Bin 3-7: Mean Accuracy = 0.3731, Std = 0.0122\n",
            "Bin 4-8: Mean Accuracy = 0.4830, Std = 0.0293\n",
            "Bin 5-9: Mean Accuracy = 0.5622, Std = 0.0372\n",
            "Bin 6-10: Mean Accuracy = 0.3991, Std = 0.0133\n",
            "Bin 7-11: Mean Accuracy = 0.4495, Std = 0.0258\n",
            "Bin 8-12: Mean Accuracy = 0.4487, Std = 0.0181\n",
            "Bin 9-13: Mean Accuracy = 0.4627, Std = 0.0293\n",
            "Bin 10-14: Mean Accuracy = 0.3586, Std = 0.0119\n",
            "Bin 11-15: Mean Accuracy = 0.4265, Std = 0.0101\n",
            "Bin 12-16: Mean Accuracy = 0.4578, Std = 0.0382\n",
            "Bin 13-17: Mean Accuracy = 0.4526, Std = 0.0172\n",
            "Bin 14-18: Mean Accuracy = 0.3916, Std = 0.0255\n",
            "Bin 15-19: Mean Accuracy = 0.4396, Std = 0.0155\n",
            "Bin 16-20: Mean Accuracy = 0.3936, Std = 0.0205\n",
            "Bin 17-21: Mean Accuracy = 0.3063, Std = 0.0127\n",
            "Bin 18-22: Mean Accuracy = 0.3870, Std = 0.0287\n",
            "Bin 19-23: Mean Accuracy = 0.3190, Std = 0.0051\n",
            "Bin 20-24: Mean Accuracy = 0.4208, Std = 0.0212\n",
            "Bin 21-25: Mean Accuracy = 0.3889, Std = 0.0258\n",
            "Bin 22-26: Mean Accuracy = 0.4256, Std = 0.0073\n",
            "Bin 23-27: Mean Accuracy = 0.5343, Std = 0.0250\n",
            "Bin 24-28: Mean Accuracy = 0.3988, Std = 0.0421\n",
            "Bin 25-29: Mean Accuracy = 0.4038, Std = 0.0314\n",
            "Bin 26-30: Mean Accuracy = 0.3529, Std = 0.0416\n",
            "Bin 27-31: Mean Accuracy = 0.3684, Std = 0.0215\n",
            "Bin 28-32: Mean Accuracy = 0.3556, Std = 0.0157\n",
            "Bin 29-33: Mean Accuracy = 0.5263, Std = 0.0744\n",
            "Bin 30-34: Mean Accuracy = 0.4928, Std = 0.0739\n",
            "Bin 31-35: Mean Accuracy = 0.2778, Std = 0.0000\n",
            "Bin 32-36: Mean Accuracy = 0.4000, Std = 0.0707\n",
            "Bin 33-37: Mean Accuracy = 0.2745, Std = 0.0277\n",
            "Bin 34-38: Mean Accuracy = 0.3509, Std = 0.0496\n",
            "Bin 35-39: Mean Accuracy = 0.2333, Std = 0.0471\n",
            "Bin 36-40: Mean Accuracy = 0.5185, Std = 0.1048\n",
            "Bin 37-41: Mean Accuracy = 0.2778, Std = 0.0786\n",
            "Bin 38-42: Mean Accuracy = 0.6000, Std = 0.0000\n",
            "Bin 39-43: Mean Accuracy = 0.3333, Std = 0.0673\n",
            "Bin 40-44: Mean Accuracy = 0.2000, Std = 0.0000\n",
            "Bin 41-45: Mean Accuracy = 0.3333, Std = 0.0000\n",
            "Bin 42-45: Mean Accuracy = 0.0000, Std = 0.0000\n",
            "Saved Mean Bin Accuracies: {'0-2': 0.4444444444444444, '0-3': 0.6153846153846153, '0-4': 0.26666666666666666, '1-5': 0.4444444444444444, '2-6': 0.4795321637426901, '3-7': 0.3731343283582089, '4-8': 0.4829931972789116, '5-9': 0.5621890547263682, '6-10': 0.3990610328638498, '7-11': 0.44949494949494956, '8-12': 0.44871794871794873, '9-13': 0.46274509803921565, '10-14': 0.35864978902953587, '11-15': 0.4265232974910394, '12-16': 0.45777777777777784, '13-17': 0.45263157894736844, '14-18': 0.3915857605177993, '15-19': 0.43956043956043955, '16-20': 0.39357429718875503, '17-21': 0.30630630630630634, '18-22': 0.38697318007662834, '19-23': 0.31899641577060933, '20-24': 0.42083333333333334, '21-25': 0.38888888888888884, '22-26': 0.4256410256410257, '23-27': 0.5343137254901961, '24-28': 0.3988095238095238, '25-29': 0.4038461538461538, '26-30': 0.35294117647058826, '27-31': 0.368421052631579, '28-32': 0.35555555555555557, '29-33': 0.5263157894736842, '30-34': 0.49275362318840576, '31-35': 0.2777777777777778, '32-36': 0.39999999999999997, '33-37': 0.2745098039215686, '34-38': 0.3508771929824561, '35-39': 0.2333333333333333, '36-40': 0.5185185185185185, '37-41': 0.27777777777777773, '38-42': 0.6, '39-43': 0.3333333333333333, '40-44': 0.20000000000000004, '41-45': 0.3333333333333333, '42-45': 0.0}\n"
          ]
        }
      ]
    },
    {
      "cell_type": "markdown",
      "metadata": {
        "id": "g41yW4PL9jG0"
      },
      "source": [
        "# LSTM"
      ]
    },
    {
      "cell_type": "markdown",
      "metadata": {
        "id": "v9f4b45BXKFC"
      },
      "source": [
        "#### Exercise: Finish the LSTM cell below.\n",
        "You will need to implement the LSTM formulas:\n",
        "\n",
        "$$\n",
        "\\begin{array}{ll}\n",
        "        i = \\sigma(W_{ii} x + b_{ii} + W_{hi} h + b_{hi}) \\\\\n",
        "        f = \\sigma(W_{if} x + b_{if} + W_{hf} h + b_{hf}) \\\\\n",
        "        g = \\tanh(W_{ig} x + b_{ig} + W_{hg} h + b_{hg}) \\\\\n",
        "        o = \\sigma(W_{io} x + b_{io} + W_{ho} h + b_{ho}) \\\\\n",
        "        c' = f * c + i * g \\\\\n",
        "        h' = o \\tanh(c') \\\\\n",
        "\\end{array}\n",
        " $$\n",
        "\n",
        "where $\\sigma$ is the sigmoid function.\n",
        "\n",
        "*Note that the LSTM formulas can differ slightly between different papers. We use the PyTorch LSTM formulation here.*"
      ]
    },
    {
      "cell_type": "code",
      "execution_count": 42,
      "metadata": {
        "id": "zJ9m5kLMd7-v"
      },
      "outputs": [],
      "source": [
        "class MyLSTMCell(nn.Module):\n",
        "  \"\"\"Our own LSTM cell\"\"\"\n",
        "\n",
        "  def __init__(self, input_size, hidden_size, bias=True):\n",
        "    \"\"\"Creates the weights for this LSTM\"\"\"\n",
        "    super(MyLSTMCell, self).__init__()\n",
        "\n",
        "    self.input_size = input_size\n",
        "    self.hidden_size = hidden_size\n",
        "    self.bias = bias\n",
        "\n",
        "# Define weights for input gates\n",
        "    self.W_ii = nn.Parameter(torch.Tensor(hidden_size, input_size))\n",
        "    self.W_if = nn.Parameter(torch.Tensor(hidden_size, input_size))\n",
        "    self.W_ig = nn.Parameter(torch.Tensor(hidden_size, input_size))\n",
        "    self.W_io = nn.Parameter(torch.Tensor(hidden_size, input_size))\n",
        "\n",
        "        # Define weights for hidden state gates\n",
        "    self.W_hi = nn.Parameter(torch.Tensor(hidden_size, hidden_size))\n",
        "    self.W_hf = nn.Parameter(torch.Tensor(hidden_size, hidden_size))\n",
        "    self.W_hg = nn.Parameter(torch.Tensor(hidden_size, hidden_size))\n",
        "    self.W_ho = nn.Parameter(torch.Tensor(hidden_size, hidden_size))\n",
        "\n",
        "        # Define biases\n",
        "    self.b_i = nn.Parameter(torch.Tensor(hidden_size))\n",
        "    self.b_f = nn.Parameter(torch.Tensor(hidden_size))\n",
        "    self.b_g = nn.Parameter(torch.Tensor(hidden_size))\n",
        "    self.b_o = nn.Parameter(torch.Tensor(hidden_size))\n",
        "\n",
        "\n",
        "    self.reset_parameters()\n",
        "\n",
        "  def reset_parameters(self):\n",
        "    \"\"\"This is PyTorch's default initialization method\"\"\"\n",
        "    stdv = 1.0 / math.sqrt(self.hidden_size)\n",
        "    for weight in self.parameters():\n",
        "      weight.data.uniform_(-stdv, stdv)\n",
        "\n",
        "  def forward(self, input_, hx, mask=None):\n",
        "    \"\"\"\n",
        "    input is (batch, input_size)\n",
        "    hx is ((batch, hidden_size), (batch, hidden_size))\n",
        "    \"\"\"\n",
        "    prev_h, prev_c = hx\n",
        "\n",
        "    # Compute the input gate\n",
        "    i = torch.sigmoid(\n",
        "            torch.mm(input_, self.W_ii.T) + torch.mm(prev_h, self.W_hi.T) + self.b_i\n",
        "        )\n",
        "    # Compute the forget gate\n",
        "    f = torch.sigmoid(\n",
        "        torch.mm(input_, self.W_if.T) + torch.mm(prev_h, self.W_hf.T) + self.b_f\n",
        "    )\n",
        "    # Compute the candidate cell state\n",
        "    g = torch.tanh(\n",
        "        torch.mm(input_, self.W_ig.T) + torch.mm(prev_h, self.W_hg.T) + self.b_g\n",
        "    )\n",
        "     # Compute the output gate\n",
        "    o = torch.sigmoid(\n",
        "        torch.mm(input_, self.W_io.T) + torch.mm(prev_h, self.W_ho.T) + self.b_o\n",
        "    )\n",
        "\n",
        "        # Update the cell state\n",
        "    c = f * prev_c + i * g\n",
        "\n",
        "        # Compute the hidden state\n",
        "    h = o * torch.tanh(c)\n",
        "\n",
        "    return h, c\n",
        "\n",
        "  def __repr__(self):\n",
        "    return \"{}({:d}, {:d})\".format(\n",
        "        self.__class__.__name__, self.input_size, self.hidden_size)"
      ]
    },
    {
      "cell_type": "markdown",
      "metadata": {
        "id": "4JM7xPhkQeE5"
      },
      "source": [
        "#### Optional: Efficient Matrix Multiplication\n",
        "\n",
        "It is more efficient to do a few big matrix multiplications than to do many smaller ones. So we will implement the above cell using just **two** linear layers.\n",
        "\n",
        "This is possible because the eight linear transformations contained in one forward pass through an LSTM cell can be reduced to just two:\n",
        "$$W_h h + b_h$$\n",
        "$$W_i x + b_i $$\n",
        "\n",
        "with $h = $ `prev_h` and $x = $ `input_`.\n",
        "\n",
        "and where:\n",
        "\n",
        "$W_h =  \\begin{pmatrix}\n",
        "W_{hi}\\\\\n",
        "W_{hf}\\\\\n",
        "W_{hg}\\\\\n",
        "W_{ho}\n",
        "\\end{pmatrix}$, $b_h = \\begin{pmatrix}\n",
        "b_{hi}\\\\\n",
        "b_{hf}\\\\\n",
        "b_{hg}\\\\\n",
        "b_{ho}\n",
        "\\end{pmatrix}$,  $W_i = \\begin{pmatrix}\n",
        "W_{ii}\\\\\n",
        "W_{if}\\\\\n",
        "W_{ig}\\\\\n",
        "W_{io}\n",
        "\\end{pmatrix}$ and $b_i = \\begin{pmatrix}\n",
        "b_{ii}\\\\\n",
        "b_{if}\\\\\n",
        "b_{ig}\\\\\n",
        "b_{io}\n",
        "\\end{pmatrix}$.\n",
        "\n",
        "Convince yourself that, after chunking with [torch.chunk](https://pytorch.org/docs/stable/torch.html?highlight=chunk#torch.chunk), the output of those two linear transformations is equivalent to the output of the eight linear transformations in the LSTM cell calculations above."
      ]
    },
    {
      "cell_type": "markdown",
      "metadata": {
        "id": "X9gA-UcqSBe0"
      },
      "source": [
        "#### LSTM Classifier\n",
        "\n",
        "Having an LSTM cell is not enough: we still need some code that calls it repeatedly, and then makes a prediction from the final hidden state.\n",
        "You will find that code below. Make sure that you understand it."
      ]
    },
    {
      "cell_type": "code",
      "execution_count": 43,
      "metadata": {
        "id": "3iuYZm5poEn5"
      },
      "outputs": [],
      "source": [
        "class LSTMClassifier(nn.Module):\n",
        "  \"\"\"Encodes sentence with an LSTM and projects final hidden state\"\"\"\n",
        "\n",
        "  def __init__(self, vocab_size, embedding_dim, hidden_dim, output_dim, vocab):\n",
        "    super(LSTMClassifier, self).__init__()\n",
        "    self.vocab = vocab\n",
        "    self.hidden_dim = hidden_dim\n",
        "    self.embed = nn.Embedding(vocab_size, embedding_dim, padding_idx=1)\n",
        "    self.rnn = MyLSTMCell(embedding_dim, hidden_dim)\n",
        "\n",
        "    self.output_layer = nn.Sequential(\n",
        "        nn.Dropout(p=0.5),  # explained later\n",
        "        nn.Linear(hidden_dim, output_dim)\n",
        "    )\n",
        "\n",
        "  def forward(self, x):\n",
        "\n",
        "    B = x.size(0)  # batch size (this is 1 for now, i.e. 1 single example)\n",
        "    T = x.size(1)  # timesteps (the number of words in the sentence)\n",
        "\n",
        "    input_ = self.embed(x)\n",
        "\n",
        "    # here we create initial hidden states containing zeros\n",
        "    # we use a trick here so that, if input is on the GPU, then so are hx and cx\n",
        "    hx = input_.new_zeros(B, self.rnn.hidden_size)\n",
        "    cx = input_.new_zeros(B, self.rnn.hidden_size)\n",
        "\n",
        "    # process input sentences one word/timestep at a time\n",
        "    # input is batch-major (i.e., batch size is the first dimension)\n",
        "    # so the first word(s) is (are) input_[:, 0]\n",
        "    outputs = []\n",
        "    for i in range(T):\n",
        "      hx, cx = self.rnn(input_[:, i], (hx, cx))\n",
        "      outputs.append(hx)\n",
        "\n",
        "    # if we have a single example, our final LSTM state is the last hx\n",
        "    if B == 1:\n",
        "      final = hx\n",
        "    else:\n",
        "      #\n",
        "      # This part is explained in next section, ignore this else-block for now.\n",
        "      #\n",
        "      # We processed sentences with different lengths, so some of the sentences\n",
        "      # had already finished and we have been adding padding inputs to hx.\n",
        "      # We select the final state based on the length of each sentence.\n",
        "\n",
        "      # two lines below not needed if using LSTM from pytorch\n",
        "      outputs = torch.stack(outputs, dim=0)           # [T, B, D]\n",
        "      outputs = outputs.transpose(0, 1).contiguous()  # [B, T, D]\n",
        "\n",
        "      # to be super-sure we're not accidentally indexing the wrong state\n",
        "      # we zero out positions that are invalid\n",
        "      pad_positions = (x == 1).unsqueeze(-1)\n",
        "\n",
        "      outputs = outputs.contiguous()\n",
        "      outputs = outputs.masked_fill_(pad_positions, 0.)\n",
        "\n",
        "      mask = (x != 1)  # true for valid positions [B, T]\n",
        "      lengths = mask.sum(dim=1)                 # [B, 1]\n",
        "\n",
        "      indexes = (lengths - 1) + torch.arange(B, device=x.device, dtype=x.dtype) * T\n",
        "      final = outputs.view(-1, self.hidden_dim)[indexes]  # [B, D]\n",
        "\n",
        "    # we use the last hidden state to classify the sentence\n",
        "    logits = self.output_layer(final)\n",
        "    return logits"
      ]
    },
    {
      "cell_type": "markdown",
      "metadata": {
        "id": "FxFoVpvMPB6g"
      },
      "source": [
        "#### Dropout\n",
        "\n",
        "Data sparsity and a small data set can cause *overfitting*. This is a phenomenom that is very likely to occur when training strong and expressive models, like LSTMs, on small data. In practice, if your model overfits, this means that it will be very good at predicting (or \"remembering\") the sentiment of the training set, but unable to generalise to new, unseen data in the test set. This is undesirable and one technique to mitigate this issue is *dropout*.\n",
        "\n",
        "A dropout layer is defined by the following formula, which can be applied, for example, to a linear layer:\n",
        "\n",
        "$$\\text{tanh}(W(\\mathbf{h}\\odot \\mathbf{d}) + \\mathbf{b})$$\n",
        "\n",
        "where $\\mathbf{d} \\in \\{0, 1\\}^n$, with $d_j \\sim \\text{Bernoulli}(p)$,\n",
        "\n",
        "These formula simply means that we *drop* certain parameters during training (by setting them to zero). Which parameters we drop is stochastically determined by a Bernoulli distribution and the probability of each parameter being dropped is set to $p = 0.5$ in our experiments (see the previous cell of code where we define our output layer). A dropout layer can be applied at many different places in our models. This technique helps against the undesirable effect that a model relies on single parameters for prediction (e.g. if $h^{\\prime}_j$ is large, always predict positive). If we use dropout, the model needs to learn to rely on different parameters, which is desirable to obtain better generalisation to unseen data."
      ]
    },
    {
      "cell_type": "markdown",
      "metadata": {
        "id": "XQjEjLt9z0XW"
      },
      "source": [
        "**Let's train our LSTM!** Note that is will be a lot slower than previous models because we need to do many more computations per sentence.\n",
        "\n",
        "#### Training"
      ]
    },
    {
      "cell_type": "markdown",
      "metadata": {
        "id": "YEw6XHQY_AAQ"
      },
      "source": [
        "# Mini-batching\n",
        "\n"
      ]
    },
    {
      "cell_type": "markdown",
      "metadata": {
        "id": "FPf96wGzBTQJ"
      },
      "source": [
        "**Why is the LSTM so slow?** Despite our best efforts, we still need to make a lot of matrix multiplications per example (linear in the length of the example) just to get a single classification, and we can only process the 2nd word once we have computed the hidden state for the 1st word (sequential computation).\n",
        "\n",
        "GPUs are more efficient if we do a few big matrix multiplications, rather than lots of small ones. If we could process multiple examples at the same time, then we could exploit that. That is, we could still process the input sequentially, but doing so for multiple sentences at the same time.\n",
        "\n",
        "Up to now our \"mini-batches\" consisted of a single example. This was for a reason: the sentences in our data sets have **different lengths**, and this makes it difficult to process them at the same time.\n",
        "\n",
        "Consider a batch of 2 sentences:\n",
        "\n",
        "```\n",
        "this movie is bad\n",
        "this movie is super cool !\n",
        "```\n",
        "\n",
        "Let's say the IDs for these sentences are:\n",
        "\n",
        "```\n",
        "2 3 4 5\n",
        "2 3 4 6 7 8\n",
        "```\n",
        "\n",
        "We cannot feed PyTorch an object with rows of variable length! We need to turn this into a matrix.\n",
        "\n",
        "The solution is to add **padding values** to our mini-batch:\n",
        "\n",
        "```\n",
        "2 3 4 5 1 1\n",
        "2 3 4 6 7 8\n",
        "```\n",
        "\n",
        "Whenever a sentence is shorter than the longest sentence in a mini-batch, we just use a padding value (here: 1) to fill the matrix.\n",
        "\n",
        "In our computation, we should **ignore** the padding positions (e.g. mask them out) so that paddings do not contribute to the loss.\n",
        "\n",
        "#### Mini-batch feed\n",
        "We will now implement a `get_minibatch` function which will replace `get_example` and returns a mini-batch of the requested size."
      ]
    },
    {
      "cell_type": "code",
      "execution_count": 44,
      "metadata": {
        "id": "IoAE2JBiXJ3P"
      },
      "outputs": [],
      "source": [
        "def get_minibatch(data, batch_size=25, shuffle=True):\n",
        "  \"\"\"Return minibatches, optional shuffling\"\"\"\n",
        "\n",
        "  if shuffle:\n",
        "    print(\"Shuffling training data\")\n",
        "    random.shuffle(data)  # shuffle training data each epoch\n",
        "\n",
        "  batch = []\n",
        "\n",
        "  # yield minibatches\n",
        "  for example in data:\n",
        "    batch.append(example)\n",
        "\n",
        "    if len(batch) == batch_size:\n",
        "      yield batch\n",
        "      batch = []\n",
        "\n",
        "  # in case there is something left\n",
        "  if len(batch) > 0:\n",
        "    yield batch"
      ]
    },
    {
      "cell_type": "markdown",
      "metadata": {
        "id": "DwZM-XYkT8Zx"
      },
      "source": [
        "#### Padding function\n",
        "We will need a function that adds padding 1s to a sequence of IDs so that\n",
        "it becomes as long as the longest sequence in the minibatch."
      ]
    },
    {
      "cell_type": "code",
      "execution_count": 45,
      "metadata": {
        "id": "sp0sK1ghw4Ft",
        "outputId": "6b116e52-8fb2-434b-e262-bdb6c183d861",
        "colab": {
          "base_uri": "https://localhost:8080/"
        }
      },
      "outputs": [
        {
          "output_type": "execute_result",
          "data": {
            "text/plain": [
              "[2, 3, 4, 1, 1]"
            ]
          },
          "metadata": {},
          "execution_count": 45
        }
      ],
      "source": [
        "def pad(tokens, length, pad_value=1):\n",
        "  \"\"\"add padding 1s to a sequence to that it has the desired length\"\"\"\n",
        "  return tokens + [pad_value] * (length - len(tokens))\n",
        "\n",
        "# example\n",
        "tokens = [2, 3, 4]\n",
        "pad(tokens, 5)"
      ]
    },
    {
      "cell_type": "markdown",
      "metadata": {
        "id": "SL2iixMYUgfh"
      },
      "source": [
        "#### New `prepare` function\n",
        "\n",
        "We will also need a new function that turns a mini-batch into PyTorch tensors."
      ]
    },
    {
      "cell_type": "code",
      "execution_count": 46,
      "metadata": {
        "id": "ZID0cqozWks8"
      },
      "outputs": [],
      "source": [
        "def prepare_minibatch(mb, vocab):\n",
        "  \"\"\"\n",
        "  Minibatch is a list of examples.\n",
        "  This function converts words to IDs and returns\n",
        "  torch tensors to be used as input/targets.\n",
        "  \"\"\"\n",
        "  batch_size = len(mb)\n",
        "  maxlen = max([len(ex.tokens) for ex in mb])\n",
        "\n",
        "  # vocab returns 0 if the word is not there\n",
        "  x = [pad([vocab.w2i.get(t, 0) for t in ex.tokens], maxlen) for ex in mb]\n",
        "\n",
        "  x = torch.LongTensor(x)\n",
        "  x = x.to(device)\n",
        "\n",
        "  y = [ex.label for ex in mb]\n",
        "  y = torch.LongTensor(y)\n",
        "  y = y.to(device)\n",
        "\n",
        "  return x, y"
      ]
    },
    {
      "cell_type": "code",
      "execution_count": 47,
      "metadata": {
        "id": "OwDAtCv1x2hB"
      },
      "outputs": [],
      "source": [
        "# Let's test our new function.\n",
        "# This should give us 3 examples.\n",
        "mb = next(get_minibatch(train_data, batch_size=3, shuffle=False))"
      ]
    },
    {
      "cell_type": "code",
      "execution_count": 48,
      "metadata": {
        "id": "dg8zEK8zyUCH"
      },
      "outputs": [],
      "source": [
        "# We should find padding 1s at the end\n",
        "x, y = prepare_minibatch(mb, v)"
      ]
    },
    {
      "cell_type": "markdown",
      "metadata": {
        "id": "xYBJEoSNUwI0"
      },
      "source": [
        "#### Evaluate (mini-batch version)\n",
        "\n",
        "We can now update our evaluation function to use mini-batches"
      ]
    },
    {
      "cell_type": "code",
      "execution_count": 49,
      "metadata": {
        "id": "eiZZpEghzqou"
      },
      "outputs": [],
      "source": [
        "def evaluate(model, data,\n",
        "             batch_fn=get_minibatch, prep_fn=prepare_minibatch,\n",
        "             batch_size=16):\n",
        "  \"\"\"Accuracy of a model on given data set (using mini-batches)\"\"\"\n",
        "  correct = 0\n",
        "  total = 0\n",
        "  model.eval()\n",
        "\n",
        "  for mb in batch_fn(data, batch_size=batch_size, shuffle=False):\n",
        "    x, targets = prep_fn(mb, model.vocab)\n",
        "    with torch.no_grad():\n",
        "      logits = model(x)\n",
        "\n",
        "    predictions = logits.argmax(dim=-1).view(-1)\n",
        "\n",
        "    # add the number of correct predictions to the total correct\n",
        "    correct += (predictions == targets.view(-1)).sum().item()\n",
        "    total += targets.size(0)\n",
        "\n",
        "  return correct, total, correct / float(total)"
      ]
    },
    {
      "cell_type": "markdown",
      "metadata": {
        "id": "23wAZomozh_2"
      },
      "source": [
        "# LSTM (Mini-batched)"
      ]
    },
    {
      "cell_type": "markdown",
      "metadata": {
        "id": "B-gkPU7jzBe2"
      },
      "source": [
        "With this, let's run the LSTM again but now using mini-batches!"
      ]
    },
    {
      "cell_type": "code",
      "source": [
        "seeds = [42, 123, 999]\n",
        "test_accuracies = []\n",
        "all_bin_accuracies = {}\n",
        "lstm_model = LSTMClassifier(\n",
        "  len(v.w2i), 300, 168, len(t2i), v)\n",
        "\n",
        "\n",
        "# Define sliding bins with a window size of 5\n",
        "window_size = 5\n",
        "max_length = 45\n",
        "bins = [(max(0, i - window_size // 2), min(max_length, i + window_size // 2)) for i in range(0, max_length + 1)]\n",
        "bin_ranges = [f\"{low}-{high}\" for low, high in bins]\n",
        "\n",
        "# Prepare structure to track bin accuracies for each seed\n",
        "for bin_range in bin_ranges:\n",
        "    all_bin_accuracies[bin_range] = []\n",
        "\n",
        "for seed in seeds:\n",
        "    set_seed(seed)\n",
        "    lstm_model = LSTMClassifier(\n",
        "        len(v.w2i), vocab=v, embedding_dim=300, hidden_dim=168, output_dim=5)\n",
        "    with torch.no_grad():\n",
        "      lstm_model.embed.weight.data.copy_(torch.from_numpy(vectors))\n",
        "      lstm_model.embed.weight.requires_grad = False\n",
        "\n",
        "    # Initialize optimizer\n",
        "    optimizer = torch.optim.Adam(model.parameters(), lr=3e-4)\n",
        "\n",
        "    # Train model\n",
        "    losses, accuracies, test_acc = train_model(\n",
        "        model=model,\n",
        "        optimizer=optimizer,\n",
        "        num_iterations=3240,\n",
        "        print_every=250,\n",
        "        eval_every=250,\n",
        "        batch_fn=get_examples,\n",
        "        prep_fn=prepare_example,\n",
        "        eval_fn=simple_evaluate,\n",
        "        batch_size=25,\n",
        "        eval_batch_size=25\n",
        "    )\n",
        "\n",
        "    # Evaluate on bins\n",
        "    binned_data = create_bins(test_data, v)\n",
        "    bin_accuracies = evaluate_on_bins(model, binned_data, eval_fn=simple_evaluate)\n",
        "\n",
        "    # Store bin accuracies for this seed\n",
        "    for bin_range, accuracy in bin_accuracies.items():\n",
        "        if accuracy is not None:\n",
        "            all_bin_accuracies[bin_range].append(accuracy)\n",
        "\n",
        "    print(f\"Best Test Accuracy for seed {seed}: {test_acc:.4f}\")\n",
        "    test_accuracies.append(test_acc)\n",
        "\n",
        "# Compute mean and standard deviation across seeds for overall accuracy\n",
        "mean_accuracy = np.mean(test_accuracies)\n",
        "std_accuracy = np.std(test_accuracies)\n",
        "print(f\"Mean Test Accuracy: {mean_accuracy:.4f}\")\n",
        "print(f\"Standard Deviation: {std_accuracy:.4f}\")\n",
        "\n",
        "# Compute mean and standard deviation of bin accuracies\n",
        "print(\"\\nBin-Wise Mean and Standard Deviation Across Seeds:\")\n",
        "for bin_range, accuracies in all_bin_accuracies.items():\n",
        "    if accuracies:  # Skip bins with no data\n",
        "        mean_bin_acc = np.mean(accuracies)\n",
        "        std_bin_acc = np.std(accuracies)\n",
        "        print(f\"Bin {bin_range}: Mean Accuracy = {mean_bin_acc:.4f}, Std = {std_bin_acc:.4f}\")\n"
      ],
      "metadata": {
        "colab": {
          "base_uri": "https://localhost:8080/"
        },
        "id": "s1SdebMOp7n-",
        "outputId": "4a3e214f-7f4f-4317-8716-eb7e4011fe02"
      },
      "execution_count": 50,
      "outputs": [
        {
          "output_type": "stream",
          "name": "stdout",
          "text": [
            "Shuffling training data\n",
            "Iter 250: loss=321.3841, time=0.40s\n",
            "iter 250: dev acc=0.3987\n",
            "new highscore\n",
            "Iter 500: loss=336.3661, time=1.27s\n",
            "iter 500: dev acc=0.3533\n",
            "Iter 750: loss=333.4222, time=2.05s\n",
            "iter 750: dev acc=0.3624\n",
            "Iter 1000: loss=345.1123, time=2.81s\n",
            "iter 1000: dev acc=0.3887\n",
            "Iter 1250: loss=326.7629, time=3.57s\n",
            "iter 1250: dev acc=0.3996\n",
            "new highscore\n",
            "Iter 1500: loss=336.5004, time=4.39s\n",
            "iter 1500: dev acc=0.3951\n",
            "Iter 1750: loss=333.7417, time=5.17s\n",
            "iter 1750: dev acc=0.3851\n",
            "Iter 2000: loss=324.0344, time=5.95s\n",
            "iter 2000: dev acc=0.4078\n",
            "new highscore\n",
            "Iter 2250: loss=340.2244, time=6.78s\n",
            "iter 2250: dev acc=0.3933\n",
            "Iter 2500: loss=320.3774, time=7.54s\n",
            "iter 2500: dev acc=0.3996\n",
            "Iter 2750: loss=334.9160, time=8.53s\n",
            "iter 2750: dev acc=0.3878\n",
            "Iter 3000: loss=334.9844, time=9.55s\n",
            "iter 3000: dev acc=0.3951\n",
            "Done training\n",
            "Loading best model\n"
          ]
        },
        {
          "output_type": "stream",
          "name": "stderr",
          "text": [
            "<ipython-input-25-07f34c5b57a1>:91: FutureWarning: You are using `torch.load` with `weights_only=False` (the current default value), which uses the default pickle module implicitly. It is possible to construct malicious pickle data which will execute arbitrary code during unpickling (See https://github.com/pytorch/pytorch/blob/main/SECURITY.md#untrusted-models for more details). In a future release, the default value for `weights_only` will be flipped to `True`. This limits the functions that could be executed during unpickling. Arbitrary objects will no longer be allowed to be loaded via this mode unless they are explicitly allowlisted by the user via `torch.serialization.add_safe_globals`. We recommend you start setting `weights_only=True` for any use case where you don't have full control of the loaded file. Please open an issue on GitHub for any issues related to this experimental feature.\n",
            "  ckpt = torch.load(path)\n"
          ]
        },
        {
          "output_type": "stream",
          "name": "stdout",
          "text": [
            "best model iter 2000: train acc=0.4353, dev acc=0.4078, test acc=0.4308\n",
            "Bin 0-2: Metric = 0.1667\n",
            "Bin 0-3: Metric = 0.7692\n",
            "Bin 0-4: Metric = 0.2500\n",
            "Bin 1-5: Metric = 0.3939\n",
            "Bin 2-6: Metric = 0.4912\n",
            "Bin 3-7: Metric = 0.3582\n",
            "Bin 4-8: Metric = 0.4796\n",
            "Bin 5-9: Metric = 0.5672\n",
            "Bin 6-10: Metric = 0.4225\n",
            "Bin 7-11: Metric = 0.4848\n",
            "Bin 8-12: Metric = 0.3974\n",
            "Bin 9-13: Metric = 0.4353\n",
            "Bin 10-14: Metric = 0.3544\n",
            "Bin 11-15: Metric = 0.4624\n",
            "Bin 12-16: Metric = 0.4933\n",
            "Bin 13-17: Metric = 0.4211\n",
            "Bin 14-18: Metric = 0.4078\n",
            "Bin 15-19: Metric = 0.5055\n",
            "Bin 16-20: Metric = 0.3855\n",
            "Bin 17-21: Metric = 0.2973\n",
            "Bin 18-22: Metric = 0.4138\n",
            "Bin 19-23: Metric = 0.3548\n",
            "Bin 20-24: Metric = 0.5000\n",
            "Bin 21-25: Metric = 0.4394\n",
            "Bin 22-26: Metric = 0.4308\n",
            "Bin 23-27: Metric = 0.5294\n",
            "Bin 24-28: Metric = 0.4107\n",
            "Bin 25-29: Metric = 0.4231\n",
            "Bin 26-30: Metric = 0.4706\n",
            "Bin 27-31: Metric = 0.4211\n",
            "Bin 28-32: Metric = 0.2667\n",
            "Bin 29-33: Metric = 0.5789\n",
            "Bin 30-34: Metric = 0.5217\n",
            "Bin 31-35: Metric = 0.2222\n",
            "Bin 32-36: Metric = 0.3500\n",
            "Bin 33-37: Metric = 0.2941\n",
            "Bin 34-38: Metric = 0.4737\n",
            "Bin 35-39: Metric = 0.2000\n",
            "Bin 36-40: Metric = 0.5556\n",
            "Bin 37-41: Metric = 0.3333\n",
            "Bin 38-42: Metric = 0.6000\n",
            "Bin 39-43: Metric = 0.4286\n",
            "Bin 40-44: Metric = 0.2000\n",
            "Bin 41-45: Metric = 0.3333\n",
            "Bin 42-45: No examples to evaluate.\n",
            "Best Test Accuracy for seed 42: 0.4308\n",
            "Shuffling training data\n",
            "Iter 250: loss=325.3500, time=0.40s\n",
            "iter 250: dev acc=0.3951\n",
            "new highscore\n",
            "Iter 500: loss=328.0502, time=1.25s\n",
            "iter 500: dev acc=0.3933\n",
            "Iter 750: loss=325.5399, time=2.03s\n",
            "iter 750: dev acc=0.3860\n",
            "Iter 1000: loss=316.3876, time=2.80s\n",
            "iter 1000: dev acc=0.3996\n",
            "new highscore\n",
            "Iter 1250: loss=323.7839, time=3.64s\n",
            "iter 1250: dev acc=0.3969\n",
            "Iter 1500: loss=327.9122, time=4.40s\n",
            "iter 1500: dev acc=0.4105\n",
            "new highscore\n",
            "Iter 1750: loss=330.7062, time=5.32s\n",
            "iter 1750: dev acc=0.3987\n",
            "Iter 2000: loss=320.6055, time=6.28s\n",
            "iter 2000: dev acc=0.4042\n",
            "Iter 2250: loss=332.0545, time=7.36s\n",
            "iter 2250: dev acc=0.3987\n",
            "Iter 2500: loss=318.1214, time=8.27s\n",
            "iter 2500: dev acc=0.3987\n",
            "Iter 2750: loss=330.4535, time=9.04s\n",
            "iter 2750: dev acc=0.3996\n",
            "Iter 3000: loss=337.0352, time=9.84s\n",
            "iter 3000: dev acc=0.4133\n",
            "new highscore\n",
            "Done training\n",
            "Loading best model\n",
            "best model iter 3000: train acc=0.4515, dev acc=0.4133, test acc=0.4290\n",
            "Bin 0-2: Metric = 0.6667\n",
            "Bin 0-3: Metric = 0.6923\n",
            "Bin 0-4: Metric = 0.3500\n",
            "Bin 1-5: Metric = 0.4545\n",
            "Bin 2-6: Metric = 0.5088\n",
            "Bin 3-7: Metric = 0.3582\n",
            "Bin 4-8: Metric = 0.4082\n",
            "Bin 5-9: Metric = 0.7015\n",
            "Bin 6-10: Metric = 0.4085\n",
            "Bin 7-11: Metric = 0.4242\n",
            "Bin 8-12: Metric = 0.4231\n",
            "Bin 9-13: Metric = 0.5176\n",
            "Bin 10-14: Metric = 0.3797\n",
            "Bin 11-15: Metric = 0.4086\n",
            "Bin 12-16: Metric = 0.5200\n",
            "Bin 13-17: Metric = 0.4737\n",
            "Bin 14-18: Metric = 0.3981\n",
            "Bin 15-19: Metric = 0.4505\n",
            "Bin 16-20: Metric = 0.3614\n",
            "Bin 17-21: Metric = 0.3108\n",
            "Bin 18-22: Metric = 0.4023\n",
            "Bin 19-23: Metric = 0.3441\n",
            "Bin 20-24: Metric = 0.4500\n",
            "Bin 21-25: Metric = 0.4091\n",
            "Bin 22-26: Metric = 0.4769\n",
            "Bin 23-27: Metric = 0.5000\n",
            "Bin 24-28: Metric = 0.3750\n",
            "Bin 25-29: Metric = 0.3269\n",
            "Bin 26-30: Metric = 0.3529\n",
            "Bin 27-31: Metric = 0.4211\n",
            "Bin 28-32: Metric = 0.3667\n",
            "Bin 29-33: Metric = 0.5789\n",
            "Bin 30-34: Metric = 0.4783\n",
            "Bin 31-35: Metric = 0.2778\n",
            "Bin 32-36: Metric = 0.3500\n",
            "Bin 33-37: Metric = 0.2941\n",
            "Bin 34-38: Metric = 0.4737\n",
            "Bin 35-39: Metric = 0.2000\n",
            "Bin 36-40: Metric = 0.4444\n",
            "Bin 37-41: Metric = 0.3333\n",
            "Bin 38-42: Metric = 0.6000\n",
            "Bin 39-43: Metric = 0.2857\n",
            "Bin 40-44: Metric = 0.2000\n",
            "Bin 41-45: Metric = 0.3333\n",
            "Bin 42-45: No examples to evaluate.\n",
            "Best Test Accuracy for seed 123: 0.4290\n",
            "Shuffling training data\n",
            "Iter 250: loss=335.9564, time=0.39s\n",
            "iter 250: dev acc=0.4105\n",
            "new highscore\n",
            "Iter 500: loss=324.2201, time=1.23s\n",
            "iter 500: dev acc=0.4223\n",
            "new highscore\n",
            "Iter 750: loss=320.5899, time=2.30s\n",
            "iter 750: dev acc=0.4015\n",
            "Iter 1000: loss=315.9518, time=3.33s\n",
            "iter 1000: dev acc=0.4015\n",
            "Iter 1250: loss=328.4300, time=4.32s\n",
            "iter 1250: dev acc=0.4151\n",
            "Iter 1500: loss=320.6987, time=5.08s\n",
            "iter 1500: dev acc=0.4124\n",
            "Iter 1750: loss=314.7181, time=5.85s\n",
            "iter 1750: dev acc=0.4096\n",
            "Iter 2000: loss=314.9779, time=6.61s\n",
            "iter 2000: dev acc=0.3878\n",
            "Iter 2250: loss=313.6995, time=7.39s\n",
            "iter 2250: dev acc=0.4124\n",
            "Iter 2500: loss=317.0287, time=8.16s\n",
            "iter 2500: dev acc=0.4223\n",
            "Iter 2750: loss=321.7268, time=8.93s\n",
            "iter 2750: dev acc=0.3951\n",
            "Iter 3000: loss=333.8769, time=9.68s\n",
            "iter 3000: dev acc=0.4214\n",
            "Done training\n",
            "Loading best model\n",
            "best model iter 500: train acc=0.4522, dev acc=0.4223, test acc=0.4457\n",
            "Bin 0-2: Metric = 0.5000\n",
            "Bin 0-3: Metric = 0.5385\n",
            "Bin 0-4: Metric = 0.3500\n",
            "Bin 1-5: Metric = 0.4242\n",
            "Bin 2-6: Metric = 0.5439\n",
            "Bin 3-7: Metric = 0.4627\n",
            "Bin 4-8: Metric = 0.5102\n",
            "Bin 5-9: Metric = 0.6269\n",
            "Bin 6-10: Metric = 0.3662\n",
            "Bin 7-11: Metric = 0.3788\n",
            "Bin 8-12: Metric = 0.5000\n",
            "Bin 9-13: Metric = 0.4706\n",
            "Bin 10-14: Metric = 0.3165\n",
            "Bin 11-15: Metric = 0.4194\n",
            "Bin 12-16: Metric = 0.5867\n",
            "Bin 13-17: Metric = 0.4737\n",
            "Bin 14-18: Metric = 0.4660\n",
            "Bin 15-19: Metric = 0.5055\n",
            "Bin 16-20: Metric = 0.3614\n",
            "Bin 17-21: Metric = 0.3378\n",
            "Bin 18-22: Metric = 0.4023\n",
            "Bin 19-23: Metric = 0.4409\n",
            "Bin 20-24: Metric = 0.4750\n",
            "Bin 21-25: Metric = 0.4091\n",
            "Bin 22-26: Metric = 0.4769\n",
            "Bin 23-27: Metric = 0.4706\n",
            "Bin 24-28: Metric = 0.4107\n",
            "Bin 25-29: Metric = 0.4231\n",
            "Bin 26-30: Metric = 0.3824\n",
            "Bin 27-31: Metric = 0.4737\n",
            "Bin 28-32: Metric = 0.4000\n",
            "Bin 29-33: Metric = 0.5000\n",
            "Bin 30-34: Metric = 0.3913\n",
            "Bin 31-35: Metric = 0.2778\n",
            "Bin 32-36: Metric = 0.4500\n",
            "Bin 33-37: Metric = 0.3529\n",
            "Bin 34-38: Metric = 0.4211\n",
            "Bin 35-39: Metric = 0.1000\n",
            "Bin 36-40: Metric = 0.6667\n",
            "Bin 37-41: Metric = 0.3333\n",
            "Bin 38-42: Metric = 0.6000\n",
            "Bin 39-43: Metric = 0.5714\n",
            "Bin 40-44: Metric = 0.2000\n",
            "Bin 41-45: Metric = 0.3333\n",
            "Bin 42-45: No examples to evaluate.\n",
            "Best Test Accuracy for seed 999: 0.4457\n",
            "Mean Test Accuracy: 0.4351\n",
            "Standard Deviation: 0.0075\n",
            "\n",
            "Bin-Wise Mean and Standard Deviation Across Seeds:\n",
            "Bin 0-2: Mean Accuracy = 0.4444, Std = 0.2079\n",
            "Bin 0-3: Mean Accuracy = 0.6667, Std = 0.0959\n",
            "Bin 0-4: Mean Accuracy = 0.3167, Std = 0.0471\n",
            "Bin 1-5: Mean Accuracy = 0.4242, Std = 0.0247\n",
            "Bin 2-6: Mean Accuracy = 0.5146, Std = 0.0219\n",
            "Bin 3-7: Mean Accuracy = 0.3930, Std = 0.0493\n",
            "Bin 4-8: Mean Accuracy = 0.4660, Std = 0.0428\n",
            "Bin 5-9: Mean Accuracy = 0.6318, Std = 0.0550\n",
            "Bin 6-10: Mean Accuracy = 0.3991, Std = 0.0239\n",
            "Bin 7-11: Mean Accuracy = 0.4293, Std = 0.0434\n",
            "Bin 8-12: Mean Accuracy = 0.4402, Std = 0.0436\n",
            "Bin 9-13: Mean Accuracy = 0.4745, Std = 0.0337\n",
            "Bin 10-14: Mean Accuracy = 0.3502, Std = 0.0260\n",
            "Bin 11-15: Mean Accuracy = 0.4301, Std = 0.0232\n",
            "Bin 12-16: Mean Accuracy = 0.5333, Std = 0.0393\n",
            "Bin 13-17: Mean Accuracy = 0.4561, Std = 0.0248\n",
            "Bin 14-18: Mean Accuracy = 0.4239, Std = 0.0300\n",
            "Bin 15-19: Mean Accuracy = 0.4872, Std = 0.0259\n",
            "Bin 16-20: Mean Accuracy = 0.3695, Std = 0.0114\n",
            "Bin 17-21: Mean Accuracy = 0.3153, Std = 0.0169\n",
            "Bin 18-22: Mean Accuracy = 0.4061, Std = 0.0054\n",
            "Bin 19-23: Mean Accuracy = 0.3799, Std = 0.0433\n",
            "Bin 20-24: Mean Accuracy = 0.4750, Std = 0.0204\n",
            "Bin 21-25: Mean Accuracy = 0.4192, Std = 0.0143\n",
            "Bin 22-26: Mean Accuracy = 0.4615, Std = 0.0218\n",
            "Bin 23-27: Mean Accuracy = 0.5000, Std = 0.0240\n",
            "Bin 24-28: Mean Accuracy = 0.3988, Std = 0.0168\n",
            "Bin 25-29: Mean Accuracy = 0.3910, Std = 0.0453\n",
            "Bin 26-30: Mean Accuracy = 0.4020, Std = 0.0500\n",
            "Bin 27-31: Mean Accuracy = 0.4386, Std = 0.0248\n",
            "Bin 28-32: Mean Accuracy = 0.3444, Std = 0.0567\n",
            "Bin 29-33: Mean Accuracy = 0.5526, Std = 0.0372\n",
            "Bin 30-34: Mean Accuracy = 0.4638, Std = 0.0542\n",
            "Bin 31-35: Mean Accuracy = 0.2593, Std = 0.0262\n",
            "Bin 32-36: Mean Accuracy = 0.3833, Std = 0.0471\n",
            "Bin 33-37: Mean Accuracy = 0.3137, Std = 0.0277\n",
            "Bin 34-38: Mean Accuracy = 0.4561, Std = 0.0248\n",
            "Bin 35-39: Mean Accuracy = 0.1667, Std = 0.0471\n",
            "Bin 36-40: Mean Accuracy = 0.5556, Std = 0.0907\n",
            "Bin 37-41: Mean Accuracy = 0.3333, Std = 0.0000\n",
            "Bin 38-42: Mean Accuracy = 0.6000, Std = 0.0000\n",
            "Bin 39-43: Mean Accuracy = 0.4286, Std = 0.1166\n",
            "Bin 40-44: Mean Accuracy = 0.2000, Std = 0.0000\n",
            "Bin 41-45: Mean Accuracy = 0.3333, Std = 0.0000\n",
            "Bin 42-45: Mean Accuracy = 0.0000, Std = 0.0000\n"
          ]
        }
      ]
    },
    {
      "cell_type": "code",
      "source": [
        "# Dictionary to store mean bin accuracies\n",
        "mean_bin_accuracies_lstm = {}\n",
        "for bin_range, accuracies in all_bin_accuracies.items():\n",
        "    if accuracies:\n",
        "        mean_bin_acc = np.mean(accuracies)\n",
        "        std_bin_acc = np.std(accuracies)\n",
        "\n",
        "        # Save the mean accuracy into the dictionary\n",
        "        mean_bin_accuracies_lstm[bin_range] = mean_bin_acc"
      ],
      "metadata": {
        "id": "9TN7u9uilDyV"
      },
      "execution_count": 51,
      "outputs": []
    },
    {
      "cell_type": "markdown",
      "metadata": {
        "id": "eep3X9go3rtj"
      },
      "source": [
        "With this knowledge we will use 20 000 iterations for fine-tuning word embeddings.\n"
      ]
    },
    {
      "cell_type": "code",
      "source": [
        "window_size = 5\n",
        "max_length = 45\n",
        "bins = [(max(0, i - window_size // 2), min(max_length, i + window_size // 2)) for i in range(0, max_length + 1)]\n",
        "bin_ranges = [f\"{low}-{high}\" for low, high in bins]\n",
        "\n",
        "# Prepare structure to track bin accuracies for each seed\n",
        "for bin_range in bin_ranges:\n",
        "    all_bin_accuracies[bin_range] = []\n",
        "\n",
        "for seed in seeds:\n",
        "    set_seed(seed)\n",
        "    lstm_model = LSTMClassifier(\n",
        "        len(v.w2i), vocab=v, embedding_dim=300, hidden_dim=168, output_dim=5)\n",
        "    with torch.no_grad():\n",
        "      lstm_model.embed.weight.data.copy_(torch.from_numpy(vectors))\n",
        "      lstm_model.embed.weight.requires_grad = True\n",
        "\n",
        "    # Initialize optimizer\n",
        "    optimizer = torch.optim.Adam(model.parameters(), lr=3e-4)\n",
        "\n",
        "    # Train model\n",
        "    losses, accuracies, test_acc = train_model(\n",
        "        model=model,\n",
        "        optimizer=optimizer,\n",
        "        num_iterations=3240,\n",
        "        print_every=250,\n",
        "        eval_every=250,\n",
        "        batch_fn=get_examples,\n",
        "        prep_fn=prepare_example,\n",
        "        eval_fn=simple_evaluate,\n",
        "        batch_size=25,\n",
        "        eval_batch_size=25\n",
        "    )\n",
        "\n",
        "    # Evaluate on bins\n",
        "    binned_data = create_bins(dev_data, v)\n",
        "    bin_accuracies = evaluate_on_bins(model, binned_data, eval_fn=simple_evaluate)\n",
        "\n",
        "    # Store bin accuracies for this seed\n",
        "    for bin_range, accuracy in bin_accuracies.items():\n",
        "        if accuracy is not None:\n",
        "            all_bin_accuracies[bin_range].append(accuracy)\n",
        "\n",
        "    print(f\"Best Test Accuracy for seed {seed}: {test_acc:.4f}\")\n",
        "    test_accuracies.append(test_acc)\n",
        "\n",
        "# Compute mean and standard deviation across seeds for overall accuracy\n",
        "mean_accuracy = np.mean(test_accuracies)\n",
        "std_accuracy = np.std(test_accuracies)\n",
        "print(f\"Mean Test Accuracy: {mean_accuracy:.4f}\")\n",
        "print(f\"Standard Deviation: {std_accuracy:.4f}\")\n",
        "\n",
        "# Compute mean and standard deviation of bin accuracies\n",
        "for bin_range, accuracies in all_bin_accuracies.items():\n",
        "    if accuracies:\n",
        "        mean_bin_acc = np.mean(accuracies)\n",
        "        std_bin_acc = np.std(accuracies)\n"
      ],
      "metadata": {
        "colab": {
          "base_uri": "https://localhost:8080/"
        },
        "id": "u-tgRuMqanfs",
        "outputId": "04ea8025-1eab-4580-ae25-1f615601b0f4"
      },
      "execution_count": 52,
      "outputs": [
        {
          "output_type": "stream",
          "name": "stdout",
          "text": [
            "Shuffling training data\n",
            "Iter 250: loss=310.6130, time=0.51s\n",
            "iter 250: dev acc=0.4233\n",
            "new highscore\n",
            "Iter 500: loss=306.2836, time=1.37s\n",
            "iter 500: dev acc=0.4160\n",
            "Iter 750: loss=331.0577, time=2.16s\n",
            "iter 750: dev acc=0.4205\n",
            "Iter 1000: loss=313.7298, time=2.93s\n",
            "iter 1000: dev acc=0.4369\n",
            "new highscore\n",
            "Iter 1250: loss=310.2031, time=3.76s\n",
            "iter 1250: dev acc=0.4242\n",
            "Iter 1500: loss=322.1683, time=4.53s\n",
            "iter 1500: dev acc=0.4087\n",
            "Iter 1750: loss=319.6525, time=5.30s\n",
            "iter 1750: dev acc=0.4278\n",
            "Iter 2000: loss=310.4597, time=6.07s\n",
            "iter 2000: dev acc=0.4142\n",
            "Iter 2250: loss=310.2217, time=6.88s\n",
            "iter 2250: dev acc=0.4051\n",
            "Iter 2500: loss=312.9044, time=7.66s\n",
            "iter 2500: dev acc=0.3797\n",
            "Iter 2750: loss=322.3291, time=8.43s\n",
            "iter 2750: dev acc=0.4051\n",
            "Iter 3000: loss=334.9731, time=9.21s\n",
            "iter 3000: dev acc=0.4160\n",
            "Done training\n",
            "Loading best model\n"
          ]
        },
        {
          "output_type": "stream",
          "name": "stderr",
          "text": [
            "<ipython-input-25-07f34c5b57a1>:91: FutureWarning: You are using `torch.load` with `weights_only=False` (the current default value), which uses the default pickle module implicitly. It is possible to construct malicious pickle data which will execute arbitrary code during unpickling (See https://github.com/pytorch/pytorch/blob/main/SECURITY.md#untrusted-models for more details). In a future release, the default value for `weights_only` will be flipped to `True`. This limits the functions that could be executed during unpickling. Arbitrary objects will no longer be allowed to be loaded via this mode unless they are explicitly allowlisted by the user via `torch.serialization.add_safe_globals`. We recommend you start setting `weights_only=True` for any use case where you don't have full control of the loaded file. Please open an issue on GitHub for any issues related to this experimental feature.\n",
            "  ckpt = torch.load(path)\n"
          ]
        },
        {
          "output_type": "stream",
          "name": "stdout",
          "text": [
            "best model iter 1000: train acc=0.4552, dev acc=0.4369, test acc=0.4339\n",
            "Bin 0-2: Metric = 0.0000\n",
            "Bin 0-3: Metric = 0.4000\n",
            "Bin 0-4: Metric = 0.6000\n",
            "Bin 1-5: Metric = 0.5909\n",
            "Bin 2-6: Metric = 0.5161\n",
            "Bin 3-7: Metric = 0.4800\n",
            "Bin 4-8: Metric = 0.4643\n",
            "Bin 5-9: Metric = 0.4889\n",
            "Bin 6-10: Metric = 0.5000\n",
            "Bin 7-11: Metric = 0.6000\n",
            "Bin 8-12: Metric = 0.4524\n",
            "Bin 9-13: Metric = 0.3158\n",
            "Bin 10-14: Metric = 0.3077\n",
            "Bin 11-15: Metric = 0.3333\n",
            "Bin 12-16: Metric = 0.4694\n",
            "Bin 13-17: Metric = 0.5556\n",
            "Bin 14-18: Metric = 0.5641\n",
            "Bin 15-19: Metric = 0.5625\n",
            "Bin 16-20: Metric = 0.3571\n",
            "Bin 17-21: Metric = 0.5227\n",
            "Bin 18-22: Metric = 0.4043\n",
            "Bin 19-23: Metric = 0.4857\n",
            "Bin 20-24: Metric = 0.2500\n",
            "Bin 21-25: Metric = 0.2941\n",
            "Bin 22-26: Metric = 0.5357\n",
            "Bin 23-27: Metric = 0.5385\n",
            "Bin 24-28: Metric = 0.4643\n",
            "Bin 25-29: Metric = 0.3600\n",
            "Bin 26-30: Metric = 0.3913\n",
            "Bin 27-31: Metric = 0.3684\n",
            "Bin 28-32: Metric = 0.3333\n",
            "Bin 29-33: Metric = 0.3333\n",
            "Bin 30-34: Metric = 0.3333\n",
            "Bin 31-35: Metric = 0.3333\n",
            "Bin 32-36: Metric = 0.2500\n",
            "Bin 33-37: Metric = 0.4000\n",
            "Bin 34-38: Metric = 0.5000\n",
            "Bin 35-39: Metric = 0.3333\n",
            "Bin 36-40: Metric = 0.2500\n",
            "Bin 37-41: Metric = 0.3333\n",
            "Bin 38-42: Metric = 0.3333\n",
            "Bin 39-43: Metric = 0.5000\n",
            "Bin 40-44: Metric = 0.0000\n",
            "Bin 41-45: Metric = 0.0000\n",
            "Bin 42-45: No examples to evaluate.\n",
            "Best Test Accuracy for seed 42: 0.4339\n",
            "Shuffling training data\n",
            "Iter 250: loss=327.0362, time=0.38s\n",
            "iter 250: dev acc=0.4296\n",
            "new highscore\n",
            "Iter 500: loss=303.4228, time=1.18s\n",
            "iter 500: dev acc=0.3869\n",
            "Iter 750: loss=310.9906, time=1.95s\n",
            "iter 750: dev acc=0.4124\n",
            "Iter 1000: loss=326.3112, time=2.72s\n",
            "iter 1000: dev acc=0.4151\n",
            "Iter 1250: loss=343.6171, time=3.48s\n",
            "iter 1250: dev acc=0.4269\n",
            "Iter 1500: loss=305.2546, time=4.24s\n",
            "iter 1500: dev acc=0.4124\n",
            "Iter 1750: loss=308.8517, time=5.00s\n",
            "iter 1750: dev acc=0.3996\n",
            "Iter 2000: loss=326.2124, time=5.75s\n",
            "iter 2000: dev acc=0.3742\n",
            "Iter 2250: loss=317.1282, time=6.53s\n",
            "iter 2250: dev acc=0.3987\n",
            "Iter 2500: loss=332.1818, time=7.29s\n",
            "iter 2500: dev acc=0.4033\n",
            "Iter 2750: loss=335.4465, time=8.08s\n",
            "iter 2750: dev acc=0.4105\n",
            "Iter 3000: loss=320.1935, time=9.04s\n",
            "iter 3000: dev acc=0.4114\n",
            "Done training\n",
            "Loading best model\n",
            "best model iter 250: train acc=0.4534, dev acc=0.4296, test acc=0.4448\n",
            "Bin 0-2: Metric = 0.0000\n",
            "Bin 0-3: Metric = 0.4000\n",
            "Bin 0-4: Metric = 0.4000\n",
            "Bin 1-5: Metric = 0.3182\n",
            "Bin 2-6: Metric = 0.5806\n",
            "Bin 3-7: Metric = 0.4400\n",
            "Bin 4-8: Metric = 0.4643\n",
            "Bin 5-9: Metric = 0.4667\n",
            "Bin 6-10: Metric = 0.4688\n",
            "Bin 7-11: Metric = 0.5333\n",
            "Bin 8-12: Metric = 0.4524\n",
            "Bin 9-13: Metric = 0.4211\n",
            "Bin 10-14: Metric = 0.3462\n",
            "Bin 11-15: Metric = 0.3333\n",
            "Bin 12-16: Metric = 0.4286\n",
            "Bin 13-17: Metric = 0.4889\n",
            "Bin 14-18: Metric = 0.5128\n",
            "Bin 15-19: Metric = 0.5417\n",
            "Bin 16-20: Metric = 0.3810\n",
            "Bin 17-21: Metric = 0.4773\n",
            "Bin 18-22: Metric = 0.3617\n",
            "Bin 19-23: Metric = 0.6286\n",
            "Bin 20-24: Metric = 0.3125\n",
            "Bin 21-25: Metric = 0.2941\n",
            "Bin 22-26: Metric = 0.4643\n",
            "Bin 23-27: Metric = 0.4615\n",
            "Bin 24-28: Metric = 0.3929\n",
            "Bin 25-29: Metric = 0.3600\n",
            "Bin 26-30: Metric = 0.4348\n",
            "Bin 27-31: Metric = 0.4737\n",
            "Bin 28-32: Metric = 0.4167\n",
            "Bin 29-33: Metric = 0.3750\n",
            "Bin 30-34: Metric = 0.3333\n",
            "Bin 31-35: Metric = 0.3333\n",
            "Bin 32-36: Metric = 0.3333\n",
            "Bin 33-37: Metric = 0.5000\n",
            "Bin 34-38: Metric = 0.2500\n",
            "Bin 35-39: Metric = 0.3333\n",
            "Bin 36-40: Metric = 0.2500\n",
            "Bin 37-41: Metric = 0.6667\n",
            "Bin 38-42: Metric = 0.0000\n",
            "Bin 39-43: Metric = 0.5000\n",
            "Bin 40-44: Metric = 0.3333\n",
            "Bin 41-45: Metric = 0.0000\n",
            "Bin 42-45: No examples to evaluate.\n",
            "Best Test Accuracy for seed 123: 0.4448\n",
            "Shuffling training data\n",
            "Iter 250: loss=317.3592, time=0.47s\n",
            "iter 250: dev acc=0.4242\n",
            "new highscore\n",
            "Iter 500: loss=328.0366, time=1.57s\n",
            "iter 500: dev acc=0.4205\n",
            "Iter 750: loss=318.7206, time=2.34s\n",
            "iter 750: dev acc=0.3824\n",
            "Iter 1000: loss=311.1044, time=3.10s\n",
            "iter 1000: dev acc=0.4105\n",
            "Iter 1250: loss=328.4805, time=3.86s\n",
            "iter 1250: dev acc=0.4124\n",
            "Iter 1500: loss=308.3480, time=4.64s\n",
            "iter 1500: dev acc=0.4405\n",
            "new highscore\n",
            "Iter 1750: loss=325.6384, time=5.46s\n",
            "iter 1750: dev acc=0.4314\n",
            "Iter 2000: loss=333.0369, time=6.43s\n",
            "iter 2000: dev acc=0.4051\n",
            "Iter 2250: loss=323.5729, time=7.39s\n",
            "iter 2250: dev acc=0.4178\n",
            "Iter 2500: loss=297.3541, time=8.51s\n",
            "iter 2500: dev acc=0.4151\n",
            "Iter 2750: loss=295.9312, time=9.30s\n",
            "iter 2750: dev acc=0.4169\n",
            "Iter 3000: loss=338.5115, time=10.08s\n",
            "iter 3000: dev acc=0.4260\n",
            "Done training\n",
            "Loading best model\n",
            "best model iter 1500: train acc=0.4637, dev acc=0.4405, test acc=0.4516\n",
            "Bin 0-2: Metric = 0.0000\n",
            "Bin 0-3: Metric = 0.4000\n",
            "Bin 0-4: Metric = 0.4000\n",
            "Bin 1-5: Metric = 0.5000\n",
            "Bin 2-6: Metric = 0.6129\n",
            "Bin 3-7: Metric = 0.4800\n",
            "Bin 4-8: Metric = 0.5357\n",
            "Bin 5-9: Metric = 0.3778\n",
            "Bin 6-10: Metric = 0.5000\n",
            "Bin 7-11: Metric = 0.6667\n",
            "Bin 8-12: Metric = 0.4762\n",
            "Bin 9-13: Metric = 0.4474\n",
            "Bin 10-14: Metric = 0.4038\n",
            "Bin 11-15: Metric = 0.2917\n",
            "Bin 12-16: Metric = 0.4082\n",
            "Bin 13-17: Metric = 0.4889\n",
            "Bin 14-18: Metric = 0.4615\n",
            "Bin 15-19: Metric = 0.5625\n",
            "Bin 16-20: Metric = 0.4524\n",
            "Bin 17-21: Metric = 0.4318\n",
            "Bin 18-22: Metric = 0.4043\n",
            "Bin 19-23: Metric = 0.4571\n",
            "Bin 20-24: Metric = 0.3750\n",
            "Bin 21-25: Metric = 0.3824\n",
            "Bin 22-26: Metric = 0.6071\n",
            "Bin 23-27: Metric = 0.4872\n",
            "Bin 24-28: Metric = 0.3214\n",
            "Bin 25-29: Metric = 0.2800\n",
            "Bin 26-30: Metric = 0.4348\n",
            "Bin 27-31: Metric = 0.4211\n",
            "Bin 28-32: Metric = 0.3750\n",
            "Bin 29-33: Metric = 0.3750\n",
            "Bin 30-34: Metric = 0.4444\n",
            "Bin 31-35: Metric = 0.4444\n",
            "Bin 32-36: Metric = 0.3333\n",
            "Bin 33-37: Metric = 0.4000\n",
            "Bin 34-38: Metric = 0.2500\n",
            "Bin 35-39: Metric = 0.3333\n",
            "Bin 36-40: Metric = 0.2500\n",
            "Bin 37-41: Metric = 0.6667\n",
            "Bin 38-42: Metric = 0.3333\n",
            "Bin 39-43: Metric = 0.5000\n",
            "Bin 40-44: Metric = 0.0000\n",
            "Bin 41-45: Metric = 0.0000\n",
            "Bin 42-45: No examples to evaluate.\n",
            "Best Test Accuracy for seed 999: 0.4516\n",
            "Mean Test Accuracy: 0.4393\n",
            "Standard Deviation: 0.0085\n"
          ]
        }
      ]
    },
    {
      "cell_type": "code",
      "source": [
        "# Dictionary to store mean bin accuracies\n",
        "mean_bin_accuracies_lstm_tuned = {}\n",
        "\n",
        "# Compute mean and standard deviation of bin accuracies\n",
        "for bin_range, accuracies in all_bin_accuracies.items():\n",
        "    if accuracies:  # Skip bins with no data\n",
        "        mean_bin_acc = np.mean(accuracies)\n",
        "        std_bin_acc = np.std(accuracies)\n",
        "\n",
        "        # Save the mean accuracy into the dictionary\n",
        "        mean_bin_accuracies_lstm_tuned[bin_range] = mean_bin_acc"
      ],
      "metadata": {
        "id": "BBJg7LDrmg5x"
      },
      "execution_count": 53,
      "outputs": []
    },
    {
      "cell_type": "code",
      "source": [
        "import matplotlib.pyplot as plt\n",
        "\n",
        "# Calculate sentence lengths for your dataset\n",
        "def get_sentence_lengths(dataset):\n",
        "    lengths = [len(example.tokens) for example in dataset]\n",
        "    return lengths\n",
        "\n",
        "# Get sentence lengths for train, dev, and test datasets\n",
        "train_lengths = get_sentence_lengths(train_data)\n",
        "dev_lengths = get_sentence_lengths(dev_data)\n",
        "test_lengths = get_sentence_lengths(test_data)\n",
        "\n",
        "# Plot histograms for each dataset\n",
        "plt.figure(figsize=(10, 6))\n",
        "plt.hist(train_lengths, bins=20, alpha=0.5, label='Train', color='blue')\n",
        "plt.hist(dev_lengths, bins=20, alpha=0.5, label='Dev', color='orange')\n",
        "plt.hist(test_lengths, bins=20, alpha=0.5, label='Test', color='green')\n",
        "plt.xlabel('Sentence Length')\n",
        "plt.ylabel('Frequency')\n",
        "plt.title('Distribution of Sentence Lengths')\n",
        "plt.legend()\n",
        "plt.show()\n"
      ],
      "metadata": {
        "colab": {
          "base_uri": "https://localhost:8080/",
          "height": 0
        },
        "id": "vIUS7q1tnUhG",
        "outputId": "01e50bfd-5068-4a0f-8e99-e153b26bb235"
      },
      "execution_count": 54,
      "outputs": [
        {
          "output_type": "display_data",
          "data": {
            "text/plain": [
              "<Figure size 1000x600 with 1 Axes>"
            ],
            "image/png": "[encoded data removed]"
          },
          "metadata": {}
        }
      ]
    },
    {
      "cell_type": "code",
      "source": [
        "import numpy as np\n",
        "\n",
        "# Compute basic statistics\n",
        "print(\"Train dataset:\")\n",
        "print(f\"Mean: {np.mean(train_lengths):.2f}, Median: {np.median(train_lengths):.2f}, Std: {np.std(train_lengths):.2f}\")\n",
        "print(\"Dev dataset:\")\n",
        "print(f\"Mean: {np.mean(dev_lengths):.2f}, Median: {np.median(dev_lengths):.2f}, Std: {np.std(dev_lengths):.2f}\")\n",
        "print(\"Test dataset:\")\n",
        "print(f\"Mean: {np.mean(test_lengths):.2f}, Median: {np.median(test_lengths):.2f}, Std: {np.std(test_lengths):.2f}\")\n"
      ],
      "metadata": {
        "colab": {
          "base_uri": "https://localhost:8080/"
        },
        "id": "Qh5wECP3nfTS",
        "outputId": "6ccbe6e2-2b80-461e-f93f-9e405ce7c434"
      },
      "execution_count": 55,
      "outputs": [
        {
          "output_type": "stream",
          "name": "stdout",
          "text": [
            "Train dataset:\n",
            "Mean: 19.14, Median: 18.00, Std: 9.31\n",
            "Dev dataset:\n",
            "Mean: 19.32, Median: 19.00, Std: 8.86\n",
            "Test dataset:\n",
            "Mean: 19.19, Median: 18.00, Std: 8.99\n"
          ]
        }
      ]
    },
    {
      "cell_type": "markdown",
      "metadata": {
        "id": "q7WjcxXntMi5"
      },
      "source": [
        "# Tree-LSTM"
      ]
    },
    {
      "cell_type": "markdown",
      "metadata": {
        "id": "jyj_UD6GtO5M"
      },
      "source": [
        "In the final part of this lab we will exploit the tree structure of the SST data.\n",
        "Until now we only used the surface tokens, but remember that our data examples include binary trees with a sentiment score at every node.\n",
        "\n",
        "In particular, we will implement **N-ary Tree-LSTMs** which are described in:\n",
        "\n",
        "> Kai Sheng Tai, Richard Socher, and Christopher D. Manning. [Improved Semantic Representations From Tree-Structured Long Short-Term Memory Networks](http://aclweb.org/anthology/P/P15/P15-1150.pdf) ACL 2015.\n",
        "\n",
        "Since our trees are binary (i.e., N=2), we can refer to these as *Binary Tree-LSTMs*. If you study equations (9) to (14) in the paper, you will find that they are not all too different from the original LSTM that you already have.\n",
        "\n",
        "You should read this paper carefully and make sure that you understand the approach. You will also find our LSTM baseline there.\n",
        "Note however that Tree-LSTMs were proposed around the same time by two other groups:\n",
        "\n",
        "> Phong Le and Willem Zuidema. [Compositional distributional semantics with long short term memory](http://anthology.aclweb.org/S/S15/S15-1002.pdf). *SEM 2015.\n",
        "\n",
        "> Xiaodan Zhu, Parinaz Sobihani,  and Hongyu Guo. [Long short-term memory over recursive structures](http://proceedings.mlr.press/v37/zhub15.pdf). ICML 2015.\n",
        "\n",
        "It is good scientific practice to cite all three papers in your report.\n",
        "\n",
        "\n"
      ]
    },
    {
      "cell_type": "markdown",
      "metadata": {
        "id": "1rDzvSos3JFp"
      },
      "source": [
        "## Computation\n",
        "\n",
        "Do you remember the `transitions_from_treestring` function all the way in the beginning of this lab? Every example contains a **transition sequence** produced by this function. Let's look at it again:\n",
        "\n"
      ]
    },
    {
      "cell_type": "code",
      "execution_count": 56,
      "metadata": {
        "id": "5pg0Xumc3ZUS"
      },
      "outputs": [],
      "source": [
        "ex = next(examplereader(\"trees/dev.txt\"))"
      ]
    },
    {
      "cell_type": "markdown",
      "metadata": {
        "id": "pDWKShm1AfmR"
      },
      "source": [
        "## Obtaining the transition sequence\n"
      ]
    },
    {
      "cell_type": "code",
      "execution_count": 57,
      "metadata": {
        "id": "1y069gM4_v64"
      },
      "outputs": [],
      "source": [
        "# for comparison\n",
        "seq = ex.transitions\n",
        "s = \" \".join([\"S\" if t == 0 else \"R\" for t in seq])"
      ]
    },
    {
      "cell_type": "markdown",
      "metadata": {
        "id": "d-qOuKbDAiBn"
      },
      "source": [
        "## Coding the Tree-LSTM\n",
        "\n",
        "The code below contains a Binary Tree-LSTM cell.\n",
        "It is used in the TreeLSTM class below it, which in turn is used in the TreeLSTMClassifier.\n",
        "The job of the TreeLSTM class is to encode a complete sentence and return the root node.\n",
        "The job of the TreeLSTMCell is to return a new state when provided with two children (a reduce action). By repeatedly calling the TreeLSTMCell, the TreeLSTM will encode a sentence. This can be done for multiple sentences at the same time.\n",
        "\n",
        "\n",
        "#### Exercise\n",
        "Check the `forward` function and complete the Tree-LSTM formulas.\n",
        "You can see that we defined a large linear layer for you, that projects the *concatenation* of the left and right child into the input gate, left forget gate, right forget gate, candidate, and output gate."
      ]
    },
    {
      "cell_type": "code",
      "execution_count": 58,
      "metadata": {
        "id": "J9b9mjMlN7Pb"
      },
      "outputs": [],
      "source": [
        "class TreeLSTMCell(nn.Module):\n",
        "  \"\"\"A Binary Tree LSTM cell\"\"\"\n",
        "\n",
        "  def __init__(self, input_size, hidden_size, bias=True):\n",
        "    \"\"\"Creates the weights for this LSTM\"\"\"\n",
        "    super(TreeLSTMCell, self).__init__()\n",
        "\n",
        "    self.input_size = input_size\n",
        "    self.hidden_size = hidden_size\n",
        "    self.bias = bias\n",
        "\n",
        "    self.reduce_layer = nn.Linear(2 * hidden_size, 5 * hidden_size)\n",
        "    self.dropout_layer = nn.Dropout(p=0.25)\n",
        "\n",
        "    self.reset_parameters()\n",
        "\n",
        "  def reset_parameters(self):\n",
        "    \"\"\"This is PyTorch's default initialization method\"\"\"\n",
        "    stdv = 1.0 / math.sqrt(self.hidden_size)\n",
        "    for weight in self.parameters():\n",
        "      weight.data.uniform_(-stdv, stdv)\n",
        "\n",
        "  def forward(self, hx_l, hx_r, mask=None):\n",
        "    \"\"\"\n",
        "    hx_l is ((batch, hidden_size), (batch, hidden_size))\n",
        "    hx_r is ((batch, hidden_size), (batch, hidden_size))\n",
        "    \"\"\"\n",
        "    prev_h_l, prev_c_l = hx_l  # left child\n",
        "    prev_h_r, prev_c_r = hx_r  # right child\n",
        "\n",
        "    B = prev_h_l.size(0)\n",
        "\n",
        "    # we concatenate the left and right children\n",
        "    # you can also project from them separately and then sum\n",
        "    children = torch.cat([prev_h_l, prev_h_r], dim=1)\n",
        "\n",
        "    # project the combined children into a 5D tensor for i,fl,fr,g,o\n",
        "    # this is done for speed, and you could also do it separately\n",
        "    proj = self.reduce_layer(children)  # shape: B x 5D\n",
        "\n",
        "    # each shape: B x D\n",
        "    i, f_l, f_r, g, o = torch.chunk(proj, 5, dim=-1)\n",
        "\n",
        "    # main Tree LSTM computation\n",
        "    # The shape of each of these is [batch_size, hidden_size]\n",
        "\n",
        "    # Apply activations\n",
        "    i = torch.sigmoid(i)          # Input gate\n",
        "    f_l = torch.sigmoid(f_l)      # Left forget gate\n",
        "    f_r = torch.sigmoid(f_r)      # Right forget gate\n",
        "    g = torch.tanh(g)             # Candidate memory\n",
        "    o = torch.sigmoid(o)          # Output gate\n",
        "\n",
        "    # Compute the new cell state\n",
        "    c = i * g + f_l * prev_c_l + f_r * prev_c_r\n",
        "\n",
        "    # Compute the new hidden state\n",
        "    h = o * torch.tanh(c)\n",
        "\n",
        "    return h, c\n",
        "\n",
        "  def __repr__(self):\n",
        "    return \"{}({:d}, {:d})\".format(\n",
        "        self.__class__.__name__, self.input_size, self.hidden_size)"
      ]
    },
    {
      "cell_type": "markdown",
      "metadata": {
        "id": "Dj5dYSGh_643"
      },
      "source": [
        "## Explanation of the TreeLSTM class\n",
        "\n",
        "\n",
        "The code below contains the TreeLSTM class, which implements everything we need in order to encode a sentence from word embeddings. The calculations are the same as in the paper, implemented such that the class `TreeLSTMCell` above is as general as possible and only takes two children to reduce them into a parent.\n",
        "\n",
        "\n",
        "**Initialize $\\mathbf{h}$ and $\\mathbf{c}$ outside of the cell for the leaves**\n",
        "\n",
        "At the leaves of each tree the children nodes are **empty**, whereas in higher levels the nodes are binary tree nodes that *do* have a left and right child (but no input $x$). By initializing the leaf nodes outside of the cell class (`TreeLSTMCell`), we avoid if-else statements in the forward pass.\n",
        "\n",
        "The `TreeLSTM` class (among other things) pre-calculates an initial $h$ and $c$ for every word in the sentence. Since the initial left and right child are 0, the only calculations we need to do are based on $x$, and we can drop the forget gate calculation (`prev_c_l` and `prev_c_r` are zero). The calculations we do in order to initalize $h$ and $c$ are then:\n",
        "\n",
        "$$\n",
        "c_1 =  W^{(u)}x_1 \\\\\n",
        "o_1 = \\sigma (W^{(i)}x_1) \\\\\n",
        "h_1 = o_1 \\odot \\text{tanh}(c_1)$$\n",
        "*NB: note that these equations are chosen as initializations of $c$ and $h$, other initializations are possible and might work equally well.*\n",
        "\n",
        "**Sentence Representations**\n",
        "\n",
        "All our leaf nodes are now initialized, so we can start processing the sentence in its tree form. Each sentence is represented by a buffer (initially a list with a concatenation of $[h_1, c_1]$ for every word in the reversed sentence), a stack (initially an empty list) and a transition sequence. To encode our sentence, we construct the tree from its transition sequence as explained earlier.\n",
        "\n",
        "*A short example that constructs a tree:*\n",
        "\n",
        "We loop over the time dimension of the batched transition sequences (i.e. row by row), which contain values of 0's, 1's and 2's (representing SHIFT, REDUCE and padding respectively). If we have a batch of size 2 where the first example has a transition sequence given by [0, 0, 1, 0, 0, 0, 1] and the second by [0, 0, 1, 0, 0, 1], our transition batch will be given by the following two-dimensional numpy array:\n",
        "\n",
        "$$\n",
        "\\text{transitions} =\n",
        "\\begin{pmatrix}\n",
        "0 & 0\\\\\n",
        "0 & 0\\\\\n",
        "1 & 1\\\\\n",
        "0 & 0\\\\\n",
        "0 & 0\\\\\n",
        "0 & 1\\\\\n",
        "1 & 2\n",
        "\\end{pmatrix}\n",
        "$$\n",
        "The inner loop (`for transition, buffer, stack in zip(t_batch, buffers, stacks)`) goes over each example in the batch and updates its buffer and stack. The nested loop for this example will then do roughy the following:\n",
        "\n",
        "```\n",
        "Time = 0:  t_batch = [0, 0], the inner loop performs 2 SHIFTs.\n",
        "\n",
        "Time = 1:  t_batch = [0, 0], \"..\"\n",
        "\n",
        "Time = 2:  t_batch = [1, 1], causing the inner loop to fill the list child_l and child_r for both examples in the batch. Now the statement if child_l will return True, triggering a REDUCE action to be performed by our Tree LSTM cell with a batch size of 2.\n",
        "\n",
        "Time = 3:  t_batch = [0, 0], \"..\".\n",
        "\n",
        "Time = 4:  t_batch = [0, 0], \"..\"\n",
        "\n",
        "Time = 5:  t_batch = [0, 1], one SHIFT will be done and another REDUCE action will be performed by our Tree LSTM, this time of batch size 1.  \n",
        "\n",
        "Time = 6:  t_batch = [1, 2], triggering another REDUCE action with batch size 1.\n",
        "```\n",
        "*NB: note that this was an artificial example for the purpose of demonstrating parts of the code, the transition sequences do not necessarily represent actual trees.*\n",
        "\n",
        "**Batching and Unbatching**\n",
        "\n",
        "Within the body of the outer loop over time, we use the functions for batching and unbatching.\n",
        "\n",
        "*Batching*\n",
        "\n",
        "Before passing two lists of children to the reduce layer (an instance of `TreeLSTMCell`), we batch the children as they are at this point a list of tensors of variable length based on how many REDUCE actions there are to perform at a certain time step across the batch (let's call the length `L`). To do an efficient forward pass we want to transform the list to a pair of tensors of shape `([L, D], [L, D])`, which the function `batch` achieves.\n",
        "\n",
        "*Unbatching*\n",
        "\n",
        "In the same line where we batched the children, we unbatch the output of the forward pass to become a list of states of length `L` again. We do this because we need to loop over each example's transition at the current time step and push the children that are reduced into a parent to the stack.\n",
        "\n",
        "*The batch and unbatch functions let us switch between the \"PyTorch world\" (Tensors) and the Python world (easy to manipulate lists).*\n"
      ]
    },
    {
      "cell_type": "code",
      "execution_count": 59,
      "metadata": {
        "id": "5PixvTd4AqsQ"
      },
      "outputs": [],
      "source": [
        "# Helper functions for batching and unbatching states\n",
        "# For speed we want to combine computations by batching, but\n",
        "# for processing logic we want to turn the output into lists again\n",
        "# to easily manipulate.\n",
        "\n",
        "def batch(states):\n",
        "  \"\"\"\n",
        "  Turns a list of states into a single tensor for fast processing.\n",
        "  This function also chunks (splits) each state into a (h, c) pair\"\"\"\n",
        "  return torch.cat(states, 0).chunk(2, 1)\n",
        "\n",
        "def unbatch(state):\n",
        "  \"\"\"\n",
        "  Turns a tensor back into a list of states.\n",
        "  First, (h, c) are merged into a single state.\n",
        "  Then the result is split into a list of sentences.\n",
        "  \"\"\"\n",
        "  return torch.split(torch.cat(state, 1), 1, 0)"
      ]
    },
    {
      "cell_type": "markdown",
      "metadata": {
        "id": "CynltDasaLPt"
      },
      "source": [
        "Take some time to understand the class below, having read the explanation above."
      ]
    },
    {
      "cell_type": "code",
      "execution_count": 60,
      "metadata": {
        "id": "rQOqMXG4gX5G"
      },
      "outputs": [],
      "source": [
        "class TreeLSTM(nn.Module):\n",
        "  \"\"\"Encodes a sentence using a TreeLSTMCell\"\"\"\n",
        "\n",
        "  def __init__(self, input_size, hidden_size, bias=True):\n",
        "    \"\"\"Creates the weights for this LSTM\"\"\"\n",
        "    super(TreeLSTM, self).__init__()\n",
        "\n",
        "    self.input_size = input_size\n",
        "    self.hidden_size = hidden_size\n",
        "    self.bias = bias\n",
        "    self.reduce = TreeLSTMCell(input_size, hidden_size)\n",
        "\n",
        "    # project word to initial c\n",
        "    self.proj_x = nn.Linear(input_size, hidden_size)\n",
        "    self.proj_x_gate = nn.Linear(input_size, hidden_size)\n",
        "\n",
        "    self.buffers_dropout = nn.Dropout(p=0.5)\n",
        "\n",
        "  def forward(self, x, transitions):\n",
        "    \"\"\"\n",
        "    WARNING: assuming x is reversed!\n",
        "    :param x: word embeddings [B, T, E]\n",
        "    :param transitions: [2T-1, B]\n",
        "    :return: root states\n",
        "    \"\"\"\n",
        "\n",
        "    B = x.size(0)  # batch size\n",
        "    T = x.size(1)  # time\n",
        "\n",
        "    # compute an initial c and h for each word\n",
        "    # Note: this corresponds to input x in the Tai et al. Tree LSTM paper.\n",
        "    # We do not handle input x in the TreeLSTMCell itself.\n",
        "    buffers_c = self.proj_x(x)\n",
        "    buffers_h = buffers_c.tanh()\n",
        "    buffers_h_gate = self.proj_x_gate(x).sigmoid()\n",
        "    buffers_h = buffers_h_gate * buffers_h\n",
        "\n",
        "    # concatenate h and c for each word\n",
        "    buffers = torch.cat([buffers_h, buffers_c], dim=-1)\n",
        "\n",
        "    D = buffers.size(-1) // 2\n",
        "\n",
        "    # we turn buffers into a list of stacks (1 stack for each sentence)\n",
        "    # first we split buffers so that it is a list of sentences (length B)\n",
        "    # then we split each sentence to be a list of word vectors\n",
        "    buffers = buffers.split(1, dim=0)  # Bx[T, 2D]\n",
        "    buffers = [list(b.squeeze(0).split(1, dim=0)) for b in buffers]  # BxTx[2D]\n",
        "\n",
        "    # create B empty stacks\n",
        "    stacks = [[] for _ in buffers]\n",
        "\n",
        "    # t_batch holds 1 transition for each sentence\n",
        "    for t_batch in transitions:\n",
        "\n",
        "      child_l = []  # contains the left child for each sentence with reduce action\n",
        "      child_r = []  # contains the corresponding right child\n",
        "\n",
        "      # iterate over sentences in the batch\n",
        "      # each has a transition t, a buffer and a stack\n",
        "      for transition, buffer, stack in zip(t_batch, buffers, stacks):\n",
        "        if transition == SHIFT:\n",
        "          stack.append(buffer.pop())\n",
        "        elif transition == REDUCE:\n",
        "          assert len(stack) >= 2, \\\n",
        "            \"Stack too small! Should not happen with valid transition sequences\"\n",
        "          child_r.append(stack.pop())  # right child is on top\n",
        "          child_l.append(stack.pop())\n",
        "\n",
        "      # if there are sentences with reduce transition, perform them batched\n",
        "      if child_l:\n",
        "        reduced = iter(unbatch(self.reduce(batch(child_l), batch(child_r))))\n",
        "        for transition, stack in zip(t_batch, stacks):\n",
        "          if transition == REDUCE:\n",
        "            stack.append(next(reduced))\n",
        "\n",
        "    final = [stack.pop().chunk(2, -1)[0] for stack in stacks]\n",
        "    final = torch.cat(final, dim=0)  # tensor [B, D]\n",
        "\n",
        "    return final"
      ]
    },
    {
      "cell_type": "markdown",
      "metadata": {
        "id": "s4EzbVzqaXkw"
      },
      "source": [
        "Just like the LSTM before, we will need an extra class that does the classifications."
      ]
    },
    {
      "cell_type": "code",
      "execution_count": 61,
      "metadata": {
        "id": "nLxpYRvtQKge"
      },
      "outputs": [],
      "source": [
        "class TreeLSTMClassifier(nn.Module):\n",
        "  \"\"\"Encodes sentence with a TreeLSTM and projects final hidden state\"\"\"\n",
        "\n",
        "  def __init__(self, vocab_size, embedding_dim, hidden_dim, output_dim, vocab):\n",
        "    super(TreeLSTMClassifier, self).__init__()\n",
        "    self.vocab = vocab\n",
        "    self.hidden_dim = hidden_dim\n",
        "    self.embed = nn.Embedding(vocab_size, embedding_dim, padding_idx=1)\n",
        "    self.treelstm = TreeLSTM(embedding_dim, hidden_dim)\n",
        "    self.output_layer = nn.Sequential(\n",
        "        nn.Dropout(p=0.5),\n",
        "        nn.Linear(hidden_dim, output_dim, bias=True)\n",
        "    )\n",
        "\n",
        "  def forward(self, x):\n",
        "\n",
        "    # x is a pair here of words and transitions; we unpack it here.\n",
        "    # x is batch-major: [B, T], transitions is time major [2T-1, B]\n",
        "    x, transitions = x\n",
        "    emb = self.embed(x)\n",
        "\n",
        "    # we use the root/top state of the Tree LSTM to classify the sentence\n",
        "    root_states = self.treelstm(emb, transitions)\n",
        "\n",
        "    # we use the last hidden state to classify the sentence\n",
        "    logits = self.output_layer(root_states)\n",
        "    return logits"
      ]
    },
    {
      "cell_type": "markdown",
      "metadata": {
        "id": "gh9RbhGwaiLg"
      },
      "source": [
        "## Special `prepare` function for Tree-LSTM\n",
        "\n",
        "We need yet another `prepare` function. For our implementation, sentences need to be *reversed*. We will do that here."
      ]
    },
    {
      "cell_type": "code",
      "execution_count": 62,
      "metadata": {
        "id": "DiqH-_2xdm9H"
      },
      "outputs": [],
      "source": [
        "def prepare_treelstm_minibatch(mb, vocab):\n",
        "  \"\"\"\n",
        "  Returns sentences reversed (last word first)\n",
        "  Returns transitions together with the sentences.\n",
        "  \"\"\"\n",
        "  batch_size = len(mb)\n",
        "  maxlen = max([len(ex.tokens) for ex in mb])\n",
        "\n",
        "  # vocab returns 0 if the word is not there\n",
        "  # NOTE: reversed sequence!\n",
        "  x = [pad([vocab.w2i.get(t, 0) for t in ex.tokens], maxlen)[::-1] for ex in mb]\n",
        "\n",
        "  x = torch.LongTensor(x)\n",
        "  x = x.to(device)\n",
        "\n",
        "  y = [ex.label for ex in mb]\n",
        "  y = torch.LongTensor(y)\n",
        "  y = y.to(device)\n",
        "\n",
        "  maxlen_t = max([len(ex.transitions) for ex in mb])\n",
        "  transitions = [pad(ex.transitions, maxlen_t, pad_value=2) for ex in mb]\n",
        "  transitions = np.array(transitions)\n",
        "  transitions = transitions.T  # time-major\n",
        "\n",
        "  return (x, transitions), y"
      ]
    },
    {
      "cell_type": "markdown",
      "metadata": {
        "id": "IMUsrlL9ayVe"
      },
      "source": [
        "## Training"
      ]
    },
    {
      "cell_type": "markdown",
      "source": [
        "#### Tree LSTM fixed embeddings\n"
      ],
      "metadata": {
        "id": "Z_-Zz3Rd07Jn"
      }
    },
    {
      "cell_type": "code",
      "source": [
        "all_bin_accuracies = {}\n",
        "window_size = 5\n",
        "max_length = 45\n",
        "bins = [(max(0, i - window_size // 2), min(max_length, i + window_size // 2)) for i in range(0, max_length + 1)]\n",
        "bin_ranges = [f\"{low}-{high}\" for low, high in bins]\n",
        "\n",
        "# Prepare structure to track bin accuracies for each seed\n",
        "for bin_range in bin_ranges:\n",
        "    all_bin_accuracies[bin_range] = []\n",
        "\n",
        "for seed in seeds:\n",
        "    set_seed(seed)\n",
        "    tree_model = TreeLSTMClassifier(\n",
        "    len(v.w2i), 300, 150, len(t2i), vocab=v)\n",
        "    with torch.no_grad():\n",
        "      lstm_model.embed.weight.data.copy_(torch.from_numpy(vectors))\n",
        "      lstm_model.embed.weight.requires_grad = False\n",
        "\n",
        "    # Initialize optimizer\n",
        "    optimizer = torch.optim.Adam(model.parameters(), lr=2e-4)\n",
        "\n",
        "    # Train model\n",
        "    losses, accuracies, test_acc = train_model(\n",
        "        model=model,\n",
        "        optimizer=optimizer,\n",
        "        num_iterations=1704,\n",
        "        print_every=250,\n",
        "        eval_every=250,\n",
        "        batch_fn=get_examples,\n",
        "        prep_fn=prepare_example,\n",
        "        eval_fn=simple_evaluate,\n",
        "        batch_size=25,\n",
        "        eval_batch_size=25\n",
        "    )\n",
        "\n",
        "    # Evaluate on bins\n",
        "    binned_data = create_bins(test_data, v)\n",
        "    bin_accuracies = evaluate_on_bins(model, binned_data, eval_fn=simple_evaluate)\n",
        "\n",
        "    # Store bin accuracies for this seed\n",
        "    for bin_range, accuracy in bin_accuracies.items():\n",
        "        if accuracy is not None:\n",
        "            all_bin_accuracies[bin_range].append(accuracy)\n",
        "\n",
        "    print(f\"Best Test Accuracy for seed {seed}: {test_acc:.4f}\")\n",
        "    test_accuracies.append(test_acc)\n",
        "\n",
        "# Compute mean and standard deviation across seeds for overall accuracy\n",
        "mean_accuracy = np.mean(test_accuracies)\n",
        "std_accuracy = np.std(test_accuracies)\n",
        "print(f\"Mean Test Accuracy: {mean_accuracy:.4f}\")\n",
        "print(f\"Standard Deviation: {std_accuracy:.4f}\")\n",
        "\n",
        "# Compute mean and standard deviation of bin accuracies\n",
        "for bin_range, accuracies in all_bin_accuracies.items():\n",
        "    if accuracies:  # Skip bins with no data\n",
        "        mean_bin_acc = np.mean(accuracies)\n",
        "        std_bin_acc = np.std(accuracies)\n"
      ],
      "metadata": {
        "colab": {
          "base_uri": "https://localhost:8080/"
        },
        "id": "OdjgCEsweble",
        "outputId": "79a0c936-e58a-437a-9bb4-6afc4b5617b0"
      },
      "execution_count": 63,
      "outputs": [
        {
          "output_type": "stream",
          "name": "stdout",
          "text": [
            "Shuffling training data\n",
            "Iter 250: loss=316.0388, time=0.38s\n",
            "iter 250: dev acc=0.4205\n",
            "new highscore\n",
            "Iter 500: loss=296.7200, time=1.26s\n",
            "iter 500: dev acc=0.4160\n",
            "Iter 750: loss=293.9924, time=2.05s\n",
            "iter 750: dev acc=0.4233\n",
            "new highscore\n",
            "Iter 1000: loss=305.2319, time=2.97s\n",
            "iter 1000: dev acc=0.4187\n",
            "Iter 1250: loss=325.6496, time=3.91s\n",
            "iter 1250: dev acc=0.4105\n",
            "Iter 1500: loss=309.6179, time=4.99s\n",
            "iter 1500: dev acc=0.4214\n",
            "Done training\n",
            "Loading best model\n"
          ]
        },
        {
          "output_type": "stream",
          "name": "stderr",
          "text": [
            "<ipython-input-25-07f34c5b57a1>:91: FutureWarning: You are using `torch.load` with `weights_only=False` (the current default value), which uses the default pickle module implicitly. It is possible to construct malicious pickle data which will execute arbitrary code during unpickling (See https://github.com/pytorch/pytorch/blob/main/SECURITY.md#untrusted-models for more details). In a future release, the default value for `weights_only` will be flipped to `True`. This limits the functions that could be executed during unpickling. Arbitrary objects will no longer be allowed to be loaded via this mode unless they are explicitly allowlisted by the user via `torch.serialization.add_safe_globals`. We recommend you start setting `weights_only=True` for any use case where you don't have full control of the loaded file. Please open an issue on GitHub for any issues related to this experimental feature.\n",
            "  ckpt = torch.load(path)\n"
          ]
        },
        {
          "output_type": "stream",
          "name": "stdout",
          "text": [
            "best model iter 750: train acc=0.4552, dev acc=0.4233, test acc=0.4457\n",
            "Bin 0-2: Metric = 0.5000\n",
            "Bin 0-3: Metric = 0.8462\n",
            "Bin 0-4: Metric = 0.3000\n",
            "Bin 1-5: Metric = 0.5152\n",
            "Bin 2-6: Metric = 0.4912\n",
            "Bin 3-7: Metric = 0.4776\n",
            "Bin 4-8: Metric = 0.5000\n",
            "Bin 5-9: Metric = 0.6567\n",
            "Bin 6-10: Metric = 0.3803\n",
            "Bin 7-11: Metric = 0.4848\n",
            "Bin 8-12: Metric = 0.3846\n",
            "Bin 9-13: Metric = 0.4824\n",
            "Bin 10-14: Metric = 0.3418\n",
            "Bin 11-15: Metric = 0.5269\n",
            "Bin 12-16: Metric = 0.4933\n",
            "Bin 13-17: Metric = 0.4632\n",
            "Bin 14-18: Metric = 0.4466\n",
            "Bin 15-19: Metric = 0.5055\n",
            "Bin 16-20: Metric = 0.4337\n",
            "Bin 17-21: Metric = 0.3514\n",
            "Bin 18-22: Metric = 0.3563\n",
            "Bin 19-23: Metric = 0.3333\n",
            "Bin 20-24: Metric = 0.4625\n",
            "Bin 21-25: Metric = 0.4545\n",
            "Bin 22-26: Metric = 0.3846\n",
            "Bin 23-27: Metric = 0.5441\n",
            "Bin 24-28: Metric = 0.3929\n",
            "Bin 25-29: Metric = 0.3846\n",
            "Bin 26-30: Metric = 0.4118\n",
            "Bin 27-31: Metric = 0.3158\n",
            "Bin 28-32: Metric = 0.4333\n",
            "Bin 29-33: Metric = 0.5789\n",
            "Bin 30-34: Metric = 0.4783\n",
            "Bin 31-35: Metric = 0.3333\n",
            "Bin 32-36: Metric = 0.3000\n",
            "Bin 33-37: Metric = 0.2941\n",
            "Bin 34-38: Metric = 0.4737\n",
            "Bin 35-39: Metric = 0.2000\n",
            "Bin 36-40: Metric = 0.6667\n",
            "Bin 37-41: Metric = 0.3333\n",
            "Bin 38-42: Metric = 0.6000\n",
            "Bin 39-43: Metric = 0.4286\n",
            "Bin 40-44: Metric = 0.2000\n",
            "Bin 41-45: Metric = 0.3333\n",
            "Bin 42-45: No examples to evaluate.\n",
            "Best Test Accuracy for seed 42: 0.4457\n",
            "Shuffling training data\n",
            "Iter 250: loss=310.2462, time=0.40s\n",
            "iter 250: dev acc=0.4251\n",
            "new highscore\n",
            "Iter 500: loss=311.9593, time=1.23s\n",
            "iter 500: dev acc=0.4296\n",
            "new highscore\n",
            "Iter 750: loss=335.7345, time=2.06s\n",
            "iter 750: dev acc=0.4233\n",
            "Iter 1000: loss=299.5422, time=2.85s\n",
            "iter 1000: dev acc=0.4223\n",
            "Iter 1250: loss=304.0916, time=3.64s\n",
            "iter 1250: dev acc=0.4214\n",
            "Iter 1500: loss=311.0960, time=4.43s\n",
            "iter 1500: dev acc=0.4278\n",
            "Done training\n",
            "Loading best model\n",
            "best model iter 500: train acc=0.4568, dev acc=0.4296, test acc=0.4425\n",
            "Bin 0-2: Metric = 0.3333\n",
            "Bin 0-3: Metric = 0.8462\n",
            "Bin 0-4: Metric = 0.3000\n",
            "Bin 1-5: Metric = 0.4545\n",
            "Bin 2-6: Metric = 0.4912\n",
            "Bin 3-7: Metric = 0.4776\n",
            "Bin 4-8: Metric = 0.5102\n",
            "Bin 5-9: Metric = 0.6716\n",
            "Bin 6-10: Metric = 0.3803\n",
            "Bin 7-11: Metric = 0.4545\n",
            "Bin 8-12: Metric = 0.4103\n",
            "Bin 9-13: Metric = 0.4471\n",
            "Bin 10-14: Metric = 0.3418\n",
            "Bin 11-15: Metric = 0.5054\n",
            "Bin 12-16: Metric = 0.5067\n",
            "Bin 13-17: Metric = 0.4737\n",
            "Bin 14-18: Metric = 0.4563\n",
            "Bin 15-19: Metric = 0.4615\n",
            "Bin 16-20: Metric = 0.4458\n",
            "Bin 17-21: Metric = 0.3243\n",
            "Bin 18-22: Metric = 0.3448\n",
            "Bin 19-23: Metric = 0.3763\n",
            "Bin 20-24: Metric = 0.4875\n",
            "Bin 21-25: Metric = 0.4242\n",
            "Bin 22-26: Metric = 0.4308\n",
            "Bin 23-27: Metric = 0.5294\n",
            "Bin 24-28: Metric = 0.3929\n",
            "Bin 25-29: Metric = 0.4038\n",
            "Bin 26-30: Metric = 0.4118\n",
            "Bin 27-31: Metric = 0.3684\n",
            "Bin 28-32: Metric = 0.3667\n",
            "Bin 29-33: Metric = 0.5263\n",
            "Bin 30-34: Metric = 0.3913\n",
            "Bin 31-35: Metric = 0.2222\n",
            "Bin 32-36: Metric = 0.4500\n",
            "Bin 33-37: Metric = 0.2353\n",
            "Bin 34-38: Metric = 0.4737\n",
            "Bin 35-39: Metric = 0.2000\n",
            "Bin 36-40: Metric = 0.6667\n",
            "Bin 37-41: Metric = 0.3333\n",
            "Bin 38-42: Metric = 0.4000\n",
            "Bin 39-43: Metric = 0.4286\n",
            "Bin 40-44: Metric = 0.2000\n",
            "Bin 41-45: Metric = 0.6667\n",
            "Bin 42-45: No examples to evaluate.\n",
            "Best Test Accuracy for seed 123: 0.4425\n",
            "Shuffling training data\n",
            "Iter 250: loss=316.8739, time=0.39s\n",
            "iter 250: dev acc=0.4323\n",
            "new highscore\n",
            "Iter 500: loss=327.1949, time=1.20s\n",
            "iter 500: dev acc=0.4233\n",
            "Iter 750: loss=287.8168, time=1.98s\n",
            "iter 750: dev acc=0.4105\n",
            "Iter 1000: loss=314.5108, time=2.74s\n",
            "iter 1000: dev acc=0.4351\n",
            "new highscore\n",
            "Iter 1250: loss=301.1972, time=3.56s\n",
            "iter 1250: dev acc=0.4251\n",
            "Iter 1500: loss=325.1215, time=4.33s\n",
            "iter 1500: dev acc=0.3896\n",
            "Done training\n",
            "Loading best model\n",
            "best model iter 1000: train acc=0.4608, dev acc=0.4351, test acc=0.4566\n",
            "Bin 0-2: Metric = 0.6667\n",
            "Bin 0-3: Metric = 0.7692\n",
            "Bin 0-4: Metric = 0.2500\n",
            "Bin 1-5: Metric = 0.3939\n",
            "Bin 2-6: Metric = 0.5439\n",
            "Bin 3-7: Metric = 0.4776\n",
            "Bin 4-8: Metric = 0.5102\n",
            "Bin 5-9: Metric = 0.6866\n",
            "Bin 6-10: Metric = 0.3521\n",
            "Bin 7-11: Metric = 0.5303\n",
            "Bin 8-12: Metric = 0.4615\n",
            "Bin 9-13: Metric = 0.4706\n",
            "Bin 10-14: Metric = 0.3165\n",
            "Bin 11-15: Metric = 0.5054\n",
            "Bin 12-16: Metric = 0.5200\n",
            "Bin 13-17: Metric = 0.5053\n",
            "Bin 14-18: Metric = 0.5146\n",
            "Bin 15-19: Metric = 0.5165\n",
            "Bin 16-20: Metric = 0.4096\n",
            "Bin 17-21: Metric = 0.3649\n",
            "Bin 18-22: Metric = 0.3908\n",
            "Bin 19-23: Metric = 0.3763\n",
            "Bin 20-24: Metric = 0.5375\n",
            "Bin 21-25: Metric = 0.4394\n",
            "Bin 22-26: Metric = 0.4615\n",
            "Bin 23-27: Metric = 0.4853\n",
            "Bin 24-28: Metric = 0.3750\n",
            "Bin 25-29: Metric = 0.4038\n",
            "Bin 26-30: Metric = 0.3824\n",
            "Bin 27-31: Metric = 0.3684\n",
            "Bin 28-32: Metric = 0.3667\n",
            "Bin 29-33: Metric = 0.5263\n",
            "Bin 30-34: Metric = 0.3913\n",
            "Bin 31-35: Metric = 0.2778\n",
            "Bin 32-36: Metric = 0.4500\n",
            "Bin 33-37: Metric = 0.2941\n",
            "Bin 34-38: Metric = 0.4211\n",
            "Bin 35-39: Metric = 0.2000\n",
            "Bin 36-40: Metric = 0.4444\n",
            "Bin 37-41: Metric = 0.3333\n",
            "Bin 38-42: Metric = 0.6000\n",
            "Bin 39-43: Metric = 0.5714\n",
            "Bin 40-44: Metric = 0.2000\n",
            "Bin 41-45: Metric = 0.6667\n",
            "Bin 42-45: No examples to evaluate.\n",
            "Best Test Accuracy for seed 999: 0.4566\n",
            "Mean Test Accuracy: 0.4423\n",
            "Standard Deviation: 0.0088\n"
          ]
        }
      ]
    },
    {
      "cell_type": "code",
      "source": [
        "# Dictionary to store mean bin accuracies\n",
        "mean_bin_accuracies_tree_lstm = {}\n",
        "\n",
        "for bin_range, accuracies in all_bin_accuracies.items():\n",
        "    if accuracies:\n",
        "        mean_bin_acc = np.mean(accuracies)\n",
        "        std_bin_acc = np.std(accuracies)\n",
        "\n",
        "        # Save the mean accuracy into the dictionary\n",
        "        mean_bin_accuracies_tree_lstm[bin_range] = mean_bin_acc"
      ],
      "metadata": {
        "id": "Un11ISqs4KIA"
      },
      "execution_count": 64,
      "outputs": []
    },
    {
      "cell_type": "markdown",
      "source": [
        "#### Tree-LSTMs embeddings tuned"
      ],
      "metadata": {
        "id": "m4iyZmko1F04"
      }
    },
    {
      "cell_type": "code",
      "source": [
        "all_bin_accuracies = {}\n",
        "window_size = 5\n",
        "max_length = 45\n",
        "bins = [(max(0, i - window_size // 2), min(max_length, i + window_size // 2)) for i in range(0, max_length + 1)]\n",
        "bin_ranges = [f\"{low}-{high}\" for low, high in bins]\n",
        "\n",
        "# Prepare structure to track bin accuracies for each seed\n",
        "for bin_range in bin_ranges:\n",
        "    all_bin_accuracies[bin_range] = []\n",
        "\n",
        "for seed in seeds:\n",
        "    set_seed(seed)\n",
        "    tree_model = TreeLSTMClassifier(\n",
        "    len(v.w2i), 300, 150, len(t2i), vocab=v)\n",
        "    with torch.no_grad():\n",
        "      tree_model.embed.weight.data.copy_(torch.from_numpy(vectors))\n",
        "      tree_model.embed.weight.requires_grad = True\n",
        "\n",
        "    # Initialize optimizer\n",
        "    optimizer = torch.optim.Adam(tree_model.parameters(), lr=2e-4)\n",
        "\n",
        "    # Train model\n",
        "    losses, accuracies, test_acc = train_model(\n",
        "        model=model,\n",
        "        optimizer=optimizer,\n",
        "        num_iterations=20000,\n",
        "        print_every=1000,\n",
        "        eval_every=1000,\n",
        "        batch_fn=get_examples,\n",
        "        prep_fn=prepare_example,\n",
        "        eval_fn=simple_evaluate,\n",
        "        batch_size=25,\n",
        "        eval_batch_size=25\n",
        "    )\n",
        "\n",
        "    # Evaluate on bins\n",
        "    binned_data = create_bins(test_data, v)\n",
        "    bin_accuracies = evaluate_on_bins(model, binned_data, eval_fn=simple_evaluate)\n",
        "\n",
        "    # Store bin accuracies for this seed\n",
        "    for bin_range, accuracy in bin_accuracies.items():\n",
        "        if accuracy is not None:\n",
        "            all_bin_accuracies[bin_range].append(accuracy)\n",
        "\n",
        "    print(f\"Best Test Accuracy for seed {seed}: {test_acc:.4f}\")\n",
        "    test_accuracies.append(test_acc)\n",
        "\n",
        "# Compute mean and standard deviation across seeds for overall accuracy\n",
        "mean_accuracy = np.mean(test_accuracies)\n",
        "std_accuracy = np.std(test_accuracies)\n",
        "print(f\"Mean Test Accuracy: {mean_accuracy:.4f}\")\n",
        "print(f\"Standard Deviation: {std_accuracy:.4f}\")\n",
        "\n",
        "for bin_range, accuracies in all_bin_accuracies.items():\n",
        "    if accuracies:  # Skip bins with no data\n",
        "        mean_bin_acc = np.mean(accuracies)\n",
        "        std_bin_acc = np.std(accuracies)\n",
        "\n"
      ],
      "metadata": {
        "colab": {
          "base_uri": "https://localhost:8080/"
        },
        "outputId": "104a74f4-3104-4627-dd84-9c949999f037",
        "id": "EHAoEyCz6UvQ"
      },
      "execution_count": 65,
      "outputs": [
        {
          "output_type": "stream",
          "name": "stdout",
          "text": [
            "Shuffling training data\n",
            "Iter 1000: loss=1256.9199, time=1.32s\n",
            "iter 1000: dev acc=0.4351\n",
            "new highscore\n",
            "Iter 2000: loss=1242.9113, time=3.05s\n",
            "iter 2000: dev acc=0.4351\n",
            "Iter 3000: loss=1207.3078, time=4.71s\n",
            "iter 3000: dev acc=0.4351\n",
            "Iter 4000: loss=1280.0389, time=6.38s\n",
            "iter 4000: dev acc=0.4351\n",
            "Iter 5000: loss=1197.2609, time=8.06s\n",
            "iter 5000: dev acc=0.4351\n",
            "Iter 6000: loss=1235.0754, time=10.10s\n",
            "iter 6000: dev acc=0.4351\n",
            "Iter 7000: loss=1215.9107, time=12.01s\n",
            "iter 7000: dev acc=0.4351\n",
            "Iter 8000: loss=1181.2393, time=13.65s\n",
            "iter 8000: dev acc=0.4351\n",
            "Shuffling training data\n",
            "Iter 9000: loss=1236.8518, time=15.31s\n",
            "iter 9000: dev acc=0.4351\n",
            "Iter 10000: loss=1250.3826, time=16.97s\n",
            "iter 10000: dev acc=0.4351\n",
            "Iter 11000: loss=1207.0571, time=18.67s\n",
            "iter 11000: dev acc=0.4351\n",
            "Iter 12000: loss=1241.8292, time=20.34s\n",
            "iter 12000: dev acc=0.4351\n",
            "Iter 13000: loss=1231.4109, time=22.18s\n",
            "iter 13000: dev acc=0.4351\n",
            "Iter 14000: loss=1230.7175, time=24.25s\n",
            "iter 14000: dev acc=0.4351\n",
            "Iter 15000: loss=1222.7538, time=25.92s\n",
            "iter 15000: dev acc=0.4351\n",
            "Iter 16000: loss=1198.1642, time=27.61s\n",
            "iter 16000: dev acc=0.4351\n",
            "Iter 17000: loss=1210.9163, time=29.27s\n",
            "iter 17000: dev acc=0.4351\n",
            "Shuffling training data\n",
            "Iter 18000: loss=1240.7668, time=30.94s\n",
            "iter 18000: dev acc=0.4351\n",
            "Iter 19000: loss=1260.0223, time=32.61s\n",
            "iter 19000: dev acc=0.4351\n",
            "Iter 20000: loss=1262.4363, time=34.37s\n",
            "iter 20000: dev acc=0.4351\n",
            "Done training\n",
            "Loading best model\n"
          ]
        },
        {
          "output_type": "stream",
          "name": "stderr",
          "text": [
            "<ipython-input-25-07f34c5b57a1>:91: FutureWarning: You are using `torch.load` with `weights_only=False` (the current default value), which uses the default pickle module implicitly. It is possible to construct malicious pickle data which will execute arbitrary code during unpickling (See https://github.com/pytorch/pytorch/blob/main/SECURITY.md#untrusted-models for more details). In a future release, the default value for `weights_only` will be flipped to `True`. This limits the functions that could be executed during unpickling. Arbitrary objects will no longer be allowed to be loaded via this mode unless they are explicitly allowlisted by the user via `torch.serialization.add_safe_globals`. We recommend you start setting `weights_only=True` for any use case where you don't have full control of the loaded file. Please open an issue on GitHub for any issues related to this experimental feature.\n",
            "  ckpt = torch.load(path)\n"
          ]
        },
        {
          "output_type": "stream",
          "name": "stdout",
          "text": [
            "best model iter 1000: train acc=0.4608, dev acc=0.4351, test acc=0.4566\n",
            "Bin 0-2: Metric = 0.6667\n",
            "Bin 0-3: Metric = 0.7692\n",
            "Bin 0-4: Metric = 0.2500\n",
            "Bin 1-5: Metric = 0.3939\n",
            "Bin 2-6: Metric = 0.5439\n",
            "Bin 3-7: Metric = 0.4776\n",
            "Bin 4-8: Metric = 0.5102\n",
            "Bin 5-9: Metric = 0.6866\n",
            "Bin 6-10: Metric = 0.3521\n",
            "Bin 7-11: Metric = 0.5303\n",
            "Bin 8-12: Metric = 0.4615\n",
            "Bin 9-13: Metric = 0.4706\n",
            "Bin 10-14: Metric = 0.3165\n",
            "Bin 11-15: Metric = 0.5054\n",
            "Bin 12-16: Metric = 0.5200\n",
            "Bin 13-17: Metric = 0.5053\n",
            "Bin 14-18: Metric = 0.5146\n",
            "Bin 15-19: Metric = 0.5165\n",
            "Bin 16-20: Metric = 0.4096\n",
            "Bin 17-21: Metric = 0.3649\n",
            "Bin 18-22: Metric = 0.3908\n",
            "Bin 19-23: Metric = 0.3763\n",
            "Bin 20-24: Metric = 0.5375\n",
            "Bin 21-25: Metric = 0.4394\n",
            "Bin 22-26: Metric = 0.4615\n",
            "Bin 23-27: Metric = 0.4853\n",
            "Bin 24-28: Metric = 0.3750\n",
            "Bin 25-29: Metric = 0.4038\n",
            "Bin 26-30: Metric = 0.3824\n",
            "Bin 27-31: Metric = 0.3684\n",
            "Bin 28-32: Metric = 0.3667\n",
            "Bin 29-33: Metric = 0.5263\n",
            "Bin 30-34: Metric = 0.3913\n",
            "Bin 31-35: Metric = 0.2778\n",
            "Bin 32-36: Metric = 0.4500\n",
            "Bin 33-37: Metric = 0.2941\n",
            "Bin 34-38: Metric = 0.4211\n",
            "Bin 35-39: Metric = 0.2000\n",
            "Bin 36-40: Metric = 0.4444\n",
            "Bin 37-41: Metric = 0.3333\n",
            "Bin 38-42: Metric = 0.6000\n",
            "Bin 39-43: Metric = 0.5714\n",
            "Bin 40-44: Metric = 0.2000\n",
            "Bin 41-45: Metric = 0.6667\n",
            "Bin 42-45: No examples to evaluate.\n",
            "Best Test Accuracy for seed 42: 0.4566\n",
            "Shuffling training data\n",
            "Iter 1000: loss=1205.1465, time=1.28s\n",
            "iter 1000: dev acc=0.4351\n",
            "new highscore\n",
            "Iter 2000: loss=1218.6170, time=3.01s\n",
            "iter 2000: dev acc=0.4351\n",
            "Iter 3000: loss=1266.2448, time=4.67s\n",
            "iter 3000: dev acc=0.4351\n",
            "Iter 4000: loss=1208.9960, time=6.38s\n",
            "iter 4000: dev acc=0.4351\n",
            "Iter 5000: loss=1251.0382, time=8.50s\n",
            "iter 5000: dev acc=0.4351\n",
            "Iter 6000: loss=1231.6865, time=10.25s\n",
            "iter 6000: dev acc=0.4351\n",
            "Iter 7000: loss=1198.9143, time=11.91s\n",
            "iter 7000: dev acc=0.4351\n",
            "Iter 8000: loss=1218.1057, time=13.62s\n",
            "iter 8000: dev acc=0.4351\n",
            "Shuffling training data\n",
            "Iter 9000: loss=1245.9741, time=15.30s\n",
            "iter 9000: dev acc=0.4351\n",
            "Iter 10000: loss=1230.8612, time=16.98s\n",
            "iter 10000: dev acc=0.4351\n",
            "Iter 11000: loss=1208.3424, time=18.67s\n",
            "iter 11000: dev acc=0.4351\n",
            "Iter 12000: loss=1206.9812, time=20.76s\n",
            "iter 12000: dev acc=0.4351\n",
            "Iter 13000: loss=1271.4319, time=22.68s\n",
            "iter 13000: dev acc=0.4351\n",
            "Iter 14000: loss=1218.4149, time=24.36s\n",
            "iter 14000: dev acc=0.4351\n",
            "Iter 15000: loss=1252.8813, time=26.05s\n",
            "iter 15000: dev acc=0.4351\n",
            "Iter 16000: loss=1205.6090, time=27.78s\n",
            "iter 16000: dev acc=0.4351\n",
            "Iter 17000: loss=1206.7256, time=29.46s\n",
            "iter 17000: dev acc=0.4351\n",
            "Shuffling training data\n",
            "Iter 18000: loss=1222.5386, time=31.13s\n",
            "iter 18000: dev acc=0.4351\n",
            "Iter 19000: loss=1222.1884, time=33.07s\n",
            "iter 19000: dev acc=0.4351\n",
            "Iter 20000: loss=1249.6827, time=35.06s\n",
            "iter 20000: dev acc=0.4351\n",
            "Done training\n",
            "Loading best model\n",
            "best model iter 1000: train acc=0.4608, dev acc=0.4351, test acc=0.4566\n",
            "Bin 0-2: Metric = 0.6667\n",
            "Bin 0-3: Metric = 0.7692\n",
            "Bin 0-4: Metric = 0.2500\n",
            "Bin 1-5: Metric = 0.3939\n",
            "Bin 2-6: Metric = 0.5439\n",
            "Bin 3-7: Metric = 0.4776\n",
            "Bin 4-8: Metric = 0.5102\n",
            "Bin 5-9: Metric = 0.6866\n",
            "Bin 6-10: Metric = 0.3521\n",
            "Bin 7-11: Metric = 0.5303\n",
            "Bin 8-12: Metric = 0.4615\n",
            "Bin 9-13: Metric = 0.4706\n",
            "Bin 10-14: Metric = 0.3165\n",
            "Bin 11-15: Metric = 0.5054\n",
            "Bin 12-16: Metric = 0.5200\n",
            "Bin 13-17: Metric = 0.5053\n",
            "Bin 14-18: Metric = 0.5146\n",
            "Bin 15-19: Metric = 0.5165\n",
            "Bin 16-20: Metric = 0.4096\n",
            "Bin 17-21: Metric = 0.3649\n",
            "Bin 18-22: Metric = 0.3908\n",
            "Bin 19-23: Metric = 0.3763\n",
            "Bin 20-24: Metric = 0.5375\n",
            "Bin 21-25: Metric = 0.4394\n",
            "Bin 22-26: Metric = 0.4615\n",
            "Bin 23-27: Metric = 0.4853\n",
            "Bin 24-28: Metric = 0.3750\n",
            "Bin 25-29: Metric = 0.4038\n",
            "Bin 26-30: Metric = 0.3824\n",
            "Bin 27-31: Metric = 0.3684\n",
            "Bin 28-32: Metric = 0.3667\n",
            "Bin 29-33: Metric = 0.5263\n",
            "Bin 30-34: Metric = 0.3913\n",
            "Bin 31-35: Metric = 0.2778\n",
            "Bin 32-36: Metric = 0.4500\n",
            "Bin 33-37: Metric = 0.2941\n",
            "Bin 34-38: Metric = 0.4211\n",
            "Bin 35-39: Metric = 0.2000\n",
            "Bin 36-40: Metric = 0.4444\n",
            "Bin 37-41: Metric = 0.3333\n",
            "Bin 38-42: Metric = 0.6000\n",
            "Bin 39-43: Metric = 0.5714\n",
            "Bin 40-44: Metric = 0.2000\n",
            "Bin 41-45: Metric = 0.6667\n",
            "Bin 42-45: No examples to evaluate.\n",
            "Best Test Accuracy for seed 123: 0.4566\n",
            "Shuffling training data\n",
            "Iter 1000: loss=1231.1921, time=1.75s\n",
            "iter 1000: dev acc=0.4351\n",
            "new highscore\n",
            "Iter 2000: loss=1247.9220, time=3.94s\n",
            "iter 2000: dev acc=0.4351\n",
            "Iter 3000: loss=1213.0645, time=5.62s\n",
            "iter 3000: dev acc=0.4351\n",
            "Iter 4000: loss=1230.1568, time=7.31s\n",
            "iter 4000: dev acc=0.4351\n",
            "Iter 5000: loss=1221.2787, time=8.98s\n",
            "iter 5000: dev acc=0.4351\n",
            "Iter 6000: loss=1227.7718, time=10.65s\n",
            "iter 6000: dev acc=0.4351\n",
            "Iter 7000: loss=1183.6282, time=12.30s\n",
            "iter 7000: dev acc=0.4351\n",
            "Iter 8000: loss=1243.9340, time=14.09s\n",
            "iter 8000: dev acc=0.4351\n",
            "Shuffling training data\n",
            "Iter 9000: loss=1251.3132, time=16.26s\n",
            "iter 9000: dev acc=0.4351\n",
            "Iter 10000: loss=1195.2258, time=17.92s\n",
            "iter 10000: dev acc=0.4351\n",
            "Iter 11000: loss=1211.9572, time=19.58s\n",
            "iter 11000: dev acc=0.4351\n",
            "Iter 12000: loss=1218.3804, time=21.25s\n",
            "iter 12000: dev acc=0.4351\n",
            "Iter 13000: loss=1253.9120, time=22.93s\n",
            "iter 13000: dev acc=0.4351\n",
            "Iter 14000: loss=1209.8138, time=24.67s\n",
            "iter 14000: dev acc=0.4351\n",
            "Iter 15000: loss=1233.7852, time=26.39s\n",
            "iter 15000: dev acc=0.4351\n",
            "Iter 16000: loss=1218.9425, time=28.50s\n",
            "iter 16000: dev acc=0.4351\n",
            "Iter 17000: loss=1264.8439, time=30.38s\n",
            "iter 17000: dev acc=0.4351\n",
            "Shuffling training data\n",
            "Iter 18000: loss=1228.0024, time=32.09s\n",
            "iter 18000: dev acc=0.4351\n",
            "Iter 19000: loss=1192.1696, time=33.81s\n",
            "iter 19000: dev acc=0.4351\n",
            "Iter 20000: loss=1226.7150, time=35.51s\n",
            "iter 20000: dev acc=0.4351\n",
            "Done training\n",
            "Loading best model\n",
            "best model iter 1000: train acc=0.4608, dev acc=0.4351, test acc=0.4566\n",
            "Bin 0-2: Metric = 0.6667\n",
            "Bin 0-3: Metric = 0.7692\n",
            "Bin 0-4: Metric = 0.2500\n",
            "Bin 1-5: Metric = 0.3939\n",
            "Bin 2-6: Metric = 0.5439\n",
            "Bin 3-7: Metric = 0.4776\n",
            "Bin 4-8: Metric = 0.5102\n",
            "Bin 5-9: Metric = 0.6866\n",
            "Bin 6-10: Metric = 0.3521\n",
            "Bin 7-11: Metric = 0.5303\n",
            "Bin 8-12: Metric = 0.4615\n",
            "Bin 9-13: Metric = 0.4706\n",
            "Bin 10-14: Metric = 0.3165\n",
            "Bin 11-15: Metric = 0.5054\n",
            "Bin 12-16: Metric = 0.5200\n",
            "Bin 13-17: Metric = 0.5053\n",
            "Bin 14-18: Metric = 0.5146\n",
            "Bin 15-19: Metric = 0.5165\n",
            "Bin 16-20: Metric = 0.4096\n",
            "Bin 17-21: Metric = 0.3649\n",
            "Bin 18-22: Metric = 0.3908\n",
            "Bin 19-23: Metric = 0.3763\n",
            "Bin 20-24: Metric = 0.5375\n",
            "Bin 21-25: Metric = 0.4394\n",
            "Bin 22-26: Metric = 0.4615\n",
            "Bin 23-27: Metric = 0.4853\n",
            "Bin 24-28: Metric = 0.3750\n",
            "Bin 25-29: Metric = 0.4038\n",
            "Bin 26-30: Metric = 0.3824\n",
            "Bin 27-31: Metric = 0.3684\n",
            "Bin 28-32: Metric = 0.3667\n",
            "Bin 29-33: Metric = 0.5263\n",
            "Bin 30-34: Metric = 0.3913\n",
            "Bin 31-35: Metric = 0.2778\n",
            "Bin 32-36: Metric = 0.4500\n",
            "Bin 33-37: Metric = 0.2941\n",
            "Bin 34-38: Metric = 0.4211\n",
            "Bin 35-39: Metric = 0.2000\n",
            "Bin 36-40: Metric = 0.4444\n",
            "Bin 37-41: Metric = 0.3333\n",
            "Bin 38-42: Metric = 0.6000\n",
            "Bin 39-43: Metric = 0.5714\n",
            "Bin 40-44: Metric = 0.2000\n",
            "Bin 41-45: Metric = 0.6667\n",
            "Bin 42-45: No examples to evaluate.\n",
            "Best Test Accuracy for seed 999: 0.4566\n",
            "Mean Test Accuracy: 0.4459\n",
            "Standard Deviation: 0.0098\n"
          ]
        }
      ]
    },
    {
      "cell_type": "code",
      "source": [
        "# Dictionary to store mean bin accuracies\n",
        "mean_bin_accuracies_tree_lstm_tuned = {}\n",
        "\n",
        "# Compute mean and standard deviation of bin accuracies\n",
        "for bin_range, accuracies in all_bin_accuracies.items():\n",
        "    if accuracies:  # Skip bins with no data\n",
        "        mean_bin_acc = np.mean(accuracies)\n",
        "        std_bin_acc = np.std(accuracies)\n",
        "\n",
        "        # Save the mean accuracy into the dictionary\n",
        "        mean_bin_accuracies_tree_lstm_tuned[bin_range] = mean_bin_acc"
      ],
      "metadata": {
        "id": "rgwr__tB7Ck_"
      },
      "execution_count": 66,
      "outputs": []
    },
    {
      "cell_type": "markdown",
      "source": [
        "# Visualize mean accuracies across sentence lengths"
      ],
      "metadata": {
        "id": "CqHx9DDV1SGY"
      }
    },
    {
      "cell_type": "markdown",
      "source": [
        "## Including subtrees in graph\n",
        "\n",
        "In this section, we process the dataset by extracting relevant components required for training a Tree LSTM model. We define an Example structure to represent each data point, which includes the tokens, the tree structure, sentiment labels, and the transitions used for tree reduction.\n",
        "\n",
        "We then extract subtrees from each tree in the dataset, ensuring that only meaningful subtrees with more than one token are considered. Each subtree is paired with its corresponding sentiment label, which is used as the target for the model.\n",
        "\n",
        "Finally, we load the training, development, and test datasets using a custom reader function, preparing them for use in the training process. These datasets are stored as lists of examples, ready for model training and evaluation."
      ],
      "metadata": {
        "id": "ISKoNWCiP5HV"
      }
    },
    {
      "cell_type": "markdown",
      "source": [
        "##Processing trees"
      ],
      "metadata": {
        "id": "oX3Z8IwWl2X4"
      }
    },
    {
      "cell_type": "code",
      "source": [
        "def extract_subtrees(tree_string):\n",
        "    \"\"\"\n",
        "    Recursively extract all subtrees from the given tree string.\n",
        "    \"\"\"\n",
        "    subtrees = []\n",
        "    stack = []\n",
        "    current_subtree = []\n",
        "\n",
        "    for char in tree_string:\n",
        "        if char == '(':\n",
        "            # Push current subtree to stack and start a new one\n",
        "            if current_subtree:\n",
        "                stack.append(current_subtree)\n",
        "            current_subtree = []\n",
        "            current_subtree.append(char)\n",
        "        elif char == ')':\n",
        "            # Close the current subtree and add it to the list of subtrees\n",
        "            current_subtree.append(char)\n",
        "            subtrees.append(''.join(current_subtree))\n",
        "\n",
        "            # Pop the previous subtree from stack and continue\n",
        "            if stack:\n",
        "                previous_subtree = stack.pop()\n",
        "                previous_subtree.extend(current_subtree)\n",
        "                current_subtree = previous_subtree\n",
        "        else:\n",
        "            current_subtree.append(char)\n",
        "\n",
        "    return subtrees\n",
        "\n",
        "def process_trees(input_file, output_file):\n",
        "    \"\"\"\n",
        "    Read the input file, extract all subtrees from each tree and write to output file.\n",
        "    \"\"\"\n",
        "    with open(input_file, 'r') as infile, open(output_file, 'w') as outfile:\n",
        "        for line in infile:\n",
        "            line = line.strip()\n",
        "            if line:\n",
        "                subtrees = extract_subtrees(line)\n",
        "                for subtree in subtrees:\n",
        "                    outfile.write(subtree + '\\n')\n",
        "\n",
        "input_file = 'trees/train.txt'  # Input file containing the original SST trees\n",
        "output_file = 'trees/subtrees.txt'  # Output file where each subtree will be written\n",
        "process_trees(input_file, output_file)\n",
        "print(\"Subtrees have been successfully extracted and written to\", output_file)\n"
      ],
      "metadata": {
        "colab": {
          "base_uri": "https://localhost:8080/"
        },
        "id": "4oBRiSDj8QEc",
        "outputId": "6a3ac6cd-43ba-4171-a323-2fb971be86ea"
      },
      "execution_count": 68,
      "outputs": [
        {
          "output_type": "stream",
          "name": "stdout",
          "text": [
            "Subtrees have been successfully extracted and written to trees/subtrees.txt\n"
          ]
        }
      ]
    },
    {
      "cell_type": "code",
      "source": [
        "# Print the first 10 lines of the output file\n",
        "with open(output_file, 'r') as file:\n",
        "    for i in range(10):\n",
        "        line = file.readline().strip()"
      ],
      "metadata": {
        "id": "BwthIH1Y6rJ4"
      },
      "execution_count": 69,
      "outputs": []
    },
    {
      "cell_type": "code",
      "source": [
        "# A simple way to define a class is using namedtuple.\n",
        "Example = namedtuple(\"Example\", [\"tokens\", \"tree\", \"label\", \"transitions\"])\n",
        "\n",
        "\n",
        "def examplereader(path, lower=False):\n",
        "  \"\"\"Returns all examples in a file one by one.\"\"\"\n",
        "  for line in filereader(path):\n",
        "    line = line.lower() if lower else line\n",
        "    tokens = tokens_from_treestring(line)\n",
        "    tree = Tree.fromstring(line)  # use NLTK's Tree\n",
        "    label = int(line[1])\n",
        "    trans = transitions_from_treestring(line)\n",
        "    yield Example(tokens=tokens, tree=tree, label=label, transitions=trans)\n",
        "\n",
        "\n",
        "# Let's load the data into memory.\n",
        "LOWER = False  # we will keep the original casing\n",
        "train_data = list(examplereader(\"trees/subtrees.txt\", lower=LOWER))"
      ],
      "metadata": {
        "id": "CUKpZPhQ8ggZ"
      },
      "execution_count": 70,
      "outputs": []
    },
    {
      "cell_type": "code",
      "source": [
        "len(train_data)"
      ],
      "metadata": {
        "id": "B7sDsJ_knmEz"
      },
      "execution_count": null,
      "outputs": []
    },
    {
      "cell_type": "markdown",
      "source": [
        "From the size of the training data, use 100 batches therefore to pass 10 epochs, iterations need to be 33000"
      ],
      "metadata": {
        "id": "atYras9GoBEx"
      }
    },
    {
      "cell_type": "code",
      "source": [
        "all_bin_accuracies = {}\n",
        "test_accuracies = []\n",
        "window_size = 5\n",
        "max_length = 45\n",
        "bins = [(max(0, i - window_size // 2), min(max_length, i + window_size // 2)) for i in range(0, max_length + 1)]\n",
        "bin_ranges = [f\"{low}-{high}\" for low, high in bins]\n",
        "\n",
        "# Prepare structure to track bin accuracies for each seed\n",
        "for bin_range in bin_ranges:\n",
        "    all_bin_accuracies[bin_range] = []\n",
        "\n",
        "for seed in seeds:\n",
        "    set_seed(seed)\n",
        "    tree_model = TreeLSTMClassifier(\n",
        "    len(v.w2i), 300, 150, len(t2i), vocab=v)\n",
        "    with torch.no_grad():\n",
        "      tree_model.embed.weight.data.copy_(torch.from_numpy(vectors))\n",
        "      tree_model.embed.weight.requires_grad = True\n",
        "\n",
        "    # Initialize optimizer\n",
        "    optimizer = torch.optim.Adam(tree_model.parameters(), lr=2e-4)\n",
        "\n",
        "    # Train model\n",
        "    losses, accuracies, test_acc = train_model(\n",
        "        model=model,\n",
        "        optimizer=optimizer,\n",
        "        num_iterations=15930,\n",
        "        print_every=1000,\n",
        "        eval_every=1000,\n",
        "        batch_fn=get_examples,\n",
        "        prep_fn=prepare_example,\n",
        "        eval_fn=simple_evaluate,\n",
        "        batch_size=100,\n",
        "        eval_batch_size=100\n",
        "    )\n",
        "\n",
        "    # Evaluate on bins\n",
        "    binned_data = create_bins(test_data, v)\n",
        "    bin_accuracies = evaluate_on_bins(model, binned_data, eval_fn=simple_evaluate)\n",
        "\n",
        "    # Store bin accuracies for this seed\n",
        "    for bin_range, accuracy in bin_accuracies.items():\n",
        "        if accuracy is not None:\n",
        "            all_bin_accuracies[bin_range].append(accuracy)\n",
        "\n",
        "    print(f\"Best Test Accuracy for seed {seed}: {test_acc:.4f}\")\n",
        "    test_accuracies.append(test_acc)\n",
        "\n",
        "# Compute mean and standard deviation across seeds for overall accuracy\n",
        "mean_accuracy = np.mean(test_accuracies)\n",
        "std_accuracy = np.std(test_accuracies)\n",
        "print(f\"Mean Test Accuracy: {mean_accuracy:.4f}\")\n",
        "print(f\"Standard Deviation: {std_accuracy:.4f}\")\n",
        "\n",
        "# Compute mean and standard deviation of bin accuracies\n",
        "for bin_range, accuracies in all_bin_accuracies.items():\n",
        "    if accuracies:  # Skip bins with no data\n",
        "        mean_bin_acc = np.mean(accuracies)\n",
        "        std_bin_acc = np.std(accuracies)"
      ],
      "metadata": {
        "colab": {
          "base_uri": "https://localhost:8080/"
        },
        "id": "yOMFCUatnGt4",
        "outputId": "3170eb03-31a8-4d7b-cee7-6db5460bcdb0"
      },
      "execution_count": 79,
      "outputs": [
        {
          "output_type": "stream",
          "name": "stdout",
          "text": [
            "Shuffling training data\n",
            "Iter 1000: loss=1536.8234, time=1.47s\n",
            "iter 1000: dev acc=0.4351\n",
            "new highscore\n",
            "Iter 2000: loss=1544.0778, time=3.60s\n",
            "iter 2000: dev acc=0.4351\n",
            "Iter 3000: loss=1547.0044, time=5.56s\n",
            "iter 3000: dev acc=0.4351\n",
            "Iter 4000: loss=1554.6468, time=7.20s\n",
            "iter 4000: dev acc=0.4351\n",
            "Iter 5000: loss=1568.6283, time=8.87s\n",
            "iter 5000: dev acc=0.4351\n",
            "Iter 6000: loss=1538.7983, time=10.56s\n",
            "iter 6000: dev acc=0.4351\n",
            "Iter 7000: loss=1555.0954, time=12.24s\n",
            "iter 7000: dev acc=0.4351\n",
            "Iter 8000: loss=1554.0163, time=13.90s\n",
            "iter 8000: dev acc=0.4351\n",
            "Iter 9000: loss=1540.7953, time=15.79s\n",
            "iter 9000: dev acc=0.4351\n",
            "Iter 10000: loss=1565.3584, time=17.90s\n",
            "iter 10000: dev acc=0.4351\n",
            "Iter 11000: loss=1560.8487, time=19.55s\n",
            "iter 11000: dev acc=0.4351\n",
            "Iter 12000: loss=1545.3802, time=21.22s\n",
            "iter 12000: dev acc=0.4351\n",
            "Iter 13000: loss=1545.8586, time=22.88s\n",
            "iter 13000: dev acc=0.4351\n",
            "Iter 14000: loss=1571.5275, time=24.54s\n",
            "iter 14000: dev acc=0.4351\n",
            "Iter 15000: loss=1560.9925, time=26.20s\n",
            "iter 15000: dev acc=0.4351\n",
            "Done training\n",
            "Loading best model\n"
          ]
        },
        {
          "output_type": "stream",
          "name": "stderr",
          "text": [
            "<ipython-input-25-07f34c5b57a1>:91: FutureWarning: You are using `torch.load` with `weights_only=False` (the current default value), which uses the default pickle module implicitly. It is possible to construct malicious pickle data which will execute arbitrary code during unpickling (See https://github.com/pytorch/pytorch/blob/main/SECURITY.md#untrusted-models for more details). In a future release, the default value for `weights_only` will be flipped to `True`. This limits the functions that could be executed during unpickling. Arbitrary objects will no longer be allowed to be loaded via this mode unless they are explicitly allowlisted by the user via `torch.serialization.add_safe_globals`. We recommend you start setting `weights_only=True` for any use case where you don't have full control of the loaded file. Please open an issue on GitHub for any issues related to this experimental feature.\n",
            "  ckpt = torch.load(path)\n"
          ]
        },
        {
          "output_type": "stream",
          "name": "stdout",
          "text": [
            "best model iter 1000: train acc=0.2061, dev acc=0.4351, test acc=0.4566\n",
            "Bin 0-2: Metric = 0.6667\n",
            "Bin 0-3: Metric = 0.7692\n",
            "Bin 0-4: Metric = 0.2500\n",
            "Bin 1-5: Metric = 0.3939\n",
            "Bin 2-6: Metric = 0.5439\n",
            "Bin 3-7: Metric = 0.4776\n",
            "Bin 4-8: Metric = 0.5102\n",
            "Bin 5-9: Metric = 0.6866\n",
            "Bin 6-10: Metric = 0.3521\n",
            "Bin 7-11: Metric = 0.5303\n",
            "Bin 8-12: Metric = 0.4615\n",
            "Bin 9-13: Metric = 0.4706\n",
            "Bin 10-14: Metric = 0.3165\n",
            "Bin 11-15: Metric = 0.5054\n",
            "Bin 12-16: Metric = 0.5200\n",
            "Bin 13-17: Metric = 0.5053\n",
            "Bin 14-18: Metric = 0.5146\n",
            "Bin 15-19: Metric = 0.5165\n",
            "Bin 16-20: Metric = 0.4096\n",
            "Bin 17-21: Metric = 0.3649\n",
            "Bin 18-22: Metric = 0.3908\n",
            "Bin 19-23: Metric = 0.3763\n",
            "Bin 20-24: Metric = 0.5375\n",
            "Bin 21-25: Metric = 0.4394\n",
            "Bin 22-26: Metric = 0.4615\n",
            "Bin 23-27: Metric = 0.4853\n",
            "Bin 24-28: Metric = 0.3750\n",
            "Bin 25-29: Metric = 0.4038\n",
            "Bin 26-30: Metric = 0.3824\n",
            "Bin 27-31: Metric = 0.3684\n",
            "Bin 28-32: Metric = 0.3667\n",
            "Bin 29-33: Metric = 0.5263\n",
            "Bin 30-34: Metric = 0.3913\n",
            "Bin 31-35: Metric = 0.2778\n",
            "Bin 32-36: Metric = 0.4500\n",
            "Bin 33-37: Metric = 0.2941\n",
            "Bin 34-38: Metric = 0.4211\n",
            "Bin 35-39: Metric = 0.2000\n",
            "Bin 36-40: Metric = 0.4444\n",
            "Bin 37-41: Metric = 0.3333\n",
            "Bin 38-42: Metric = 0.6000\n",
            "Bin 39-43: Metric = 0.5714\n",
            "Bin 40-44: Metric = 0.2000\n",
            "Bin 41-45: Metric = 0.6667\n",
            "Bin 42-45: No examples to evaluate.\n",
            "Best Test Accuracy for seed 42: 0.4566\n",
            "Shuffling training data\n",
            "Iter 1000: loss=1566.2008, time=1.47s\n",
            "iter 1000: dev acc=0.4351\n",
            "new highscore\n",
            "Iter 2000: loss=1521.3843, time=3.23s\n",
            "iter 2000: dev acc=0.4351\n",
            "Iter 3000: loss=1542.4652, time=4.88s\n",
            "iter 3000: dev acc=0.4351\n",
            "Iter 4000: loss=1579.8598, time=6.54s\n",
            "iter 4000: dev acc=0.4351\n",
            "Iter 5000: loss=1514.7950, time=8.21s\n",
            "iter 5000: dev acc=0.4351\n",
            "Iter 6000: loss=1548.5871, time=10.07s\n",
            "iter 6000: dev acc=0.4351\n",
            "Iter 7000: loss=1541.5488, time=12.15s\n",
            "iter 7000: dev acc=0.4351\n",
            "Iter 8000: loss=1570.0695, time=13.79s\n",
            "iter 8000: dev acc=0.4351\n",
            "Iter 9000: loss=1569.8929, time=15.44s\n",
            "iter 9000: dev acc=0.4351\n",
            "Iter 10000: loss=1538.2850, time=17.10s\n",
            "iter 10000: dev acc=0.4351\n",
            "Iter 11000: loss=1523.8331, time=18.78s\n",
            "iter 11000: dev acc=0.4351\n",
            "Iter 12000: loss=1522.9897, time=20.42s\n",
            "iter 12000: dev acc=0.4351\n",
            "Iter 13000: loss=1549.6110, time=22.15s\n",
            "iter 13000: dev acc=0.4351\n",
            "Iter 14000: loss=1532.6834, time=24.25s\n",
            "iter 14000: dev acc=0.4351\n",
            "Iter 15000: loss=1558.5080, time=25.95s\n",
            "iter 15000: dev acc=0.4351\n",
            "Done training\n",
            "Loading best model\n",
            "best model iter 1000: train acc=0.2061, dev acc=0.4351, test acc=0.4566\n",
            "Bin 0-2: Metric = 0.6667\n",
            "Bin 0-3: Metric = 0.7692\n",
            "Bin 0-4: Metric = 0.2500\n",
            "Bin 1-5: Metric = 0.3939\n",
            "Bin 2-6: Metric = 0.5439\n",
            "Bin 3-7: Metric = 0.4776\n",
            "Bin 4-8: Metric = 0.5102\n",
            "Bin 5-9: Metric = 0.6866\n",
            "Bin 6-10: Metric = 0.3521\n",
            "Bin 7-11: Metric = 0.5303\n",
            "Bin 8-12: Metric = 0.4615\n",
            "Bin 9-13: Metric = 0.4706\n",
            "Bin 10-14: Metric = 0.3165\n",
            "Bin 11-15: Metric = 0.5054\n",
            "Bin 12-16: Metric = 0.5200\n",
            "Bin 13-17: Metric = 0.5053\n",
            "Bin 14-18: Metric = 0.5146\n",
            "Bin 15-19: Metric = 0.5165\n",
            "Bin 16-20: Metric = 0.4096\n",
            "Bin 17-21: Metric = 0.3649\n",
            "Bin 18-22: Metric = 0.3908\n",
            "Bin 19-23: Metric = 0.3763\n",
            "Bin 20-24: Metric = 0.5375\n",
            "Bin 21-25: Metric = 0.4394\n",
            "Bin 22-26: Metric = 0.4615\n",
            "Bin 23-27: Metric = 0.4853\n",
            "Bin 24-28: Metric = 0.3750\n",
            "Bin 25-29: Metric = 0.4038\n",
            "Bin 26-30: Metric = 0.3824\n",
            "Bin 27-31: Metric = 0.3684\n",
            "Bin 28-32: Metric = 0.3667\n",
            "Bin 29-33: Metric = 0.5263\n",
            "Bin 30-34: Metric = 0.3913\n",
            "Bin 31-35: Metric = 0.2778\n",
            "Bin 32-36: Metric = 0.4500\n",
            "Bin 33-37: Metric = 0.2941\n",
            "Bin 34-38: Metric = 0.4211\n",
            "Bin 35-39: Metric = 0.2000\n",
            "Bin 36-40: Metric = 0.4444\n",
            "Bin 37-41: Metric = 0.3333\n",
            "Bin 38-42: Metric = 0.6000\n",
            "Bin 39-43: Metric = 0.5714\n",
            "Bin 40-44: Metric = 0.2000\n",
            "Bin 41-45: Metric = 0.6667\n",
            "Bin 42-45: No examples to evaluate.\n",
            "Best Test Accuracy for seed 123: 0.4566\n",
            "Shuffling training data\n",
            "Iter 1000: loss=1522.4008, time=1.69s\n",
            "iter 1000: dev acc=0.4351\n",
            "new highscore\n",
            "Iter 2000: loss=1570.1261, time=3.45s\n",
            "iter 2000: dev acc=0.4351\n",
            "Iter 3000: loss=1554.9161, time=5.11s\n",
            "iter 3000: dev acc=0.4351\n",
            "Iter 4000: loss=1560.9845, time=6.78s\n",
            "iter 4000: dev acc=0.4351\n",
            "Iter 5000: loss=1570.3156, time=8.43s\n",
            "iter 5000: dev acc=0.4351\n",
            "Iter 6000: loss=1540.8098, time=10.09s\n",
            "iter 6000: dev acc=0.4351\n",
            "Iter 7000: loss=1557.5772, time=11.99s\n",
            "iter 7000: dev acc=0.4351\n",
            "Iter 8000: loss=1559.0718, time=14.09s\n",
            "iter 8000: dev acc=0.4351\n",
            "Iter 9000: loss=1612.0166, time=15.76s\n",
            "iter 9000: dev acc=0.4351\n",
            "Iter 10000: loss=1569.9787, time=17.45s\n",
            "iter 10000: dev acc=0.4351\n",
            "Iter 11000: loss=1554.7012, time=19.08s\n",
            "iter 11000: dev acc=0.4351\n",
            "Iter 12000: loss=1575.4209, time=20.73s\n",
            "iter 12000: dev acc=0.4351\n",
            "Iter 13000: loss=1538.9551, time=22.36s\n",
            "iter 13000: dev acc=0.4351\n",
            "Iter 14000: loss=1515.8590, time=24.13s\n",
            "iter 14000: dev acc=0.4351\n",
            "Iter 15000: loss=1550.8112, time=26.24s\n",
            "iter 15000: dev acc=0.4351\n",
            "Done training\n",
            "Loading best model\n",
            "best model iter 1000: train acc=0.2061, dev acc=0.4351, test acc=0.4566\n",
            "Bin 0-2: Metric = 0.6667\n",
            "Bin 0-3: Metric = 0.7692\n",
            "Bin 0-4: Metric = 0.2500\n",
            "Bin 1-5: Metric = 0.3939\n",
            "Bin 2-6: Metric = 0.5439\n",
            "Bin 3-7: Metric = 0.4776\n",
            "Bin 4-8: Metric = 0.5102\n",
            "Bin 5-9: Metric = 0.6866\n",
            "Bin 6-10: Metric = 0.3521\n",
            "Bin 7-11: Metric = 0.5303\n",
            "Bin 8-12: Metric = 0.4615\n",
            "Bin 9-13: Metric = 0.4706\n",
            "Bin 10-14: Metric = 0.3165\n",
            "Bin 11-15: Metric = 0.5054\n",
            "Bin 12-16: Metric = 0.5200\n",
            "Bin 13-17: Metric = 0.5053\n",
            "Bin 14-18: Metric = 0.5146\n",
            "Bin 15-19: Metric = 0.5165\n",
            "Bin 16-20: Metric = 0.4096\n",
            "Bin 17-21: Metric = 0.3649\n",
            "Bin 18-22: Metric = 0.3908\n",
            "Bin 19-23: Metric = 0.3763\n",
            "Bin 20-24: Metric = 0.5375\n",
            "Bin 21-25: Metric = 0.4394\n",
            "Bin 22-26: Metric = 0.4615\n",
            "Bin 23-27: Metric = 0.4853\n",
            "Bin 24-28: Metric = 0.3750\n",
            "Bin 25-29: Metric = 0.4038\n",
            "Bin 26-30: Metric = 0.3824\n",
            "Bin 27-31: Metric = 0.3684\n",
            "Bin 28-32: Metric = 0.3667\n",
            "Bin 29-33: Metric = 0.5263\n",
            "Bin 30-34: Metric = 0.3913\n",
            "Bin 31-35: Metric = 0.2778\n",
            "Bin 32-36: Metric = 0.4500\n",
            "Bin 33-37: Metric = 0.2941\n",
            "Bin 34-38: Metric = 0.4211\n",
            "Bin 35-39: Metric = 0.2000\n",
            "Bin 36-40: Metric = 0.4444\n",
            "Bin 37-41: Metric = 0.3333\n",
            "Bin 38-42: Metric = 0.6000\n",
            "Bin 39-43: Metric = 0.5714\n",
            "Bin 40-44: Metric = 0.2000\n",
            "Bin 41-45: Metric = 0.6667\n",
            "Bin 42-45: No examples to evaluate.\n",
            "Best Test Accuracy for seed 999: 0.4566\n",
            "Mean Test Accuracy: 0.4566\n",
            "Standard Deviation: 0.0000\n"
          ]
        }
      ]
    },
    {
      "cell_type": "code",
      "source": [
        "# Dictionary to store mean bin accuracies\n",
        "mean_bin_accuracies_tree_lstm_sub = {}\n",
        "\n",
        "# Compute mean and standard deviation of bin accuracies\n",
        "for bin_range, accuracies in all_bin_accuracies.items():\n",
        "    if accuracies:  # Skip bins with no data\n",
        "        mean_bin_acc = np.mean(accuracies)\n",
        "        std_bin_acc = np.std(accuracies)\n",
        "\n",
        "        # Save the mean accuracy into the dictionary\n",
        "        mean_bin_accuracies_tree_lstm_sub[bin_range] = mean_bin_acc\n"
      ],
      "metadata": {
        "id": "xnAPZD65nKdB"
      },
      "execution_count": 72,
      "outputs": []
    },
    {
      "cell_type": "markdown",
      "source": [
        "## Plotting trees"
      ],
      "metadata": {
        "id": "EBTBx4vJl-EZ"
      }
    },
    {
      "cell_type": "code",
      "source": [
        "# Extract bin ranges and accuracies\n",
        "bin_ranges = list(mean_bin_accuracies_lstm.keys())\n",
        "dcbow_accuracies = list(mean_bin_accuracies_dcbow.values())\n",
        "lstm_accuracies = list(mean_bin_accuracies_lstm.values())\n",
        "lstm_tuned_accuracies = list(mean_bin_accuracies_lstm_tuned.values())\n",
        "tree_lstm_accuracies = list(mean_bin_accuracies_tree_lstm.values())\n",
        "tree_lstm_tuned_accuracies = list(mean_bin_accuracies_tree_lstm_tuned.values())\n",
        "tree_lstm_sub_accuracies = list(mean_bin_accuracies_tree_lstm_sub.values())\n",
        "\n",
        "\n",
        "bins = [(0, 2), (0, 3), (0, 4), (1, 5), (2, 6), (3, 7), (4, 8), (5, 9), (6, 10),\n",
        "        (7, 11), (8, 12), (9, 13), (10, 14), (11, 15), (12, 16), (13, 17),\n",
        "        (14, 18), (15, 19), (16, 20), (17, 21), (18, 22), (19, 23), (20, 24),\n",
        "        (21, 25), (22, 26), (23, 27), (24, 28), (25, 29), (26, 30), (27, 31),\n",
        "        (28, 32), (29, 33), (30, 34), (31, 35), (32, 36), (33, 37), (34, 38),\n",
        "        (35, 39), (36, 40), (37, 41), (38, 42), (39, 43), (40, 44), (41, 45),\n",
        "        (42, 46), (43, 47)]\n",
        "\n",
        "# Plot the data\n",
        "plt.figure(figsize=(10, 6))\n",
        "\n",
        "plt.plot(bin_ranges, dcbow_accuracies, marker='o', label='Deep CBOW')\n",
        "plt.plot(bin_ranges, lstm_accuracies, marker='v', label='LSTM')\n",
        "plt.plot(bin_ranges, lstm_tuned_accuracies, marker='s', label='LSTM Tuned')\n",
        "plt.plot(bin_ranges, tree_lstm_accuracies, marker = 'v', label = 'N-ary T-LSTM')\n",
        "plt.plot(bin_ranges, tree_lstm_tuned_accuracies, marker = 's', label = 'N-ary T-LSTM Tuned')\n",
        "plt.plot(bin_ranges, tree_lstm_sub_accuracies, marker = 's', label = 'N-ary T-LSTM subtrees')\n",
        "\n",
        "\n",
        "# Set x-tick positions and labels\n",
        "tick_positions = list(range(0, len(bins), 5))\n",
        "tick_labels = [str(i) for i in range(0, len(tick_positions) * 5, 5)]\n",
        "plt.yticks(fontsize=20)\n",
        "plt.xticks(fontsize=20)\n",
        "\n",
        "plt.xticks(tick_positions, tick_labels)\n",
        "\n",
        "# Add labels, legend, and title\n",
        "plt.xlabel(\"Sentence Length\", fontsize=22)\n",
        "plt.xlim(1, 35)\n",
        "plt.ylabel(\"Mean Accuracy\", fontsize=22)\n",
        "plt.legend(loc='upper right', fontsize=11, frameon=True)\n",
        "\n",
        "# Add gridlines for better readability\n",
        "plt.grid(visible=True, which='both', linestyle='--', linewidth=0.5, alpha=0.7)\n",
        "\n",
        "# Show the plot\n",
        "plt.show()"
      ],
      "metadata": {
        "colab": {
          "base_uri": "https://localhost:8080/",
          "height": 571
        },
        "id": "ny6fFUDoXS5A",
        "outputId": "6e302b81-21e1-4c12-92bb-ffc42fffdf8e"
      },
      "execution_count": 101,
      "outputs": [
        {
          "output_type": "display_data",
          "data": {
            "text/plain": [
              "<Figure size 1000x600 with 1 Axes>"
            ],
            "image/png": "[encoded data removed]"
          },
          "metadata": {}
        }
      ]
    },
    {
      "cell_type": "code",
      "source": [
        "# Convert accuracies into pandas Series for rolling mean calculation\n",
        "dcbow_series = pd.Series(dcbow_accuracies)\n",
        "lstm_series = pd.Series(lstm_accuracies)\n",
        "tree_lstm_series = pd.Series(tree_lstm_accuracies)\n",
        "tree_lstm_sub_series = pd.Series(tree_lstm_sub_accuracies)\n",
        "\n",
        "\n",
        "# Apply rolling mean (window size = 5)\n",
        "window_size = 5\n",
        "dcbow_smoothed = dcbow_series.rolling(window=window_size, center=True).mean()\n",
        "lstm_smoothed = lstm_series.rolling(window=window_size, center=True).mean()\n",
        "tree_lstm_smoothed = tree_lstm_series.rolling(window=window_size, center=True).mean()\n",
        "tree_lstm_sub_smoothed = tree_lstm_sub_series.rolling(window=window_size, center=True).mean()\n",
        "\n",
        "\n",
        "# Plot the data\n",
        "plt.figure(figsize=(10, 6))\n",
        "\n",
        "plt.plot(bin_ranges, dcbow_smoothed, marker='o', label='Deep CBOW', linestyle='-', alpha=0.8)\n",
        "plt.plot(bin_ranges, lstm_smoothed, marker='v', label='LSTM', linestyle='-', alpha=0.8)\n",
        "plt.plot(bin_ranges, tree_lstm_smoothed, marker='^', label='N-ary T-LSTM', linestyle='-', alpha=0.8)\n",
        "plt.plot(bin_ranges, tree_lstm_sub_smoothed, marker='s', label='N-ary T-LSTM subtrees',linestyle='-', alpha=0.8)\n",
        "\n",
        "# Set x-tick positions and labels\n",
        "tick_positions = list(range(0, len(bins), 5))\n",
        "tick_labels = [str(i) for i in range(0, len(tick_positions) * 5, 5)]\n",
        "plt.yticks(fontsize=20)\n",
        "plt.xticks(tick_positions, tick_labels, fontsize =22)\n",
        "\n",
        "# Add labels, legend, and title\n",
        "plt.xlabel(\"Sentence Length\", fontsize=24)\n",
        "plt.xlim(1, 35)\n",
        "plt.ylim(0.2, 0.7)\n",
        "plt.ylabel(\"Mean Accuracy\", fontsize=24)\n",
        "plt.legend(loc='upper left', fontsize=14, frameon=True)\n",
        "\n",
        "# Add gridlines for better readability\n",
        "plt.grid(visible=True, which='both', linestyle='--', linewidth=0.5, alpha=0.7)\n",
        "\n",
        "# Show the plot\n",
        "plt.show()\n"
      ],
      "metadata": {
        "colab": {
          "base_uri": "https://localhost:8080/",
          "height": 587
        },
        "id": "hR4bQ_EAo_FH",
        "outputId": "ce755e83-b4b7-4742-e93b-61ed6c21d110"
      },
      "execution_count": 93,
      "outputs": [
        {
          "output_type": "display_data",
          "data": {
            "text/plain": [
              "<Figure size 1000x600 with 1 Axes>"
            ],
            "image/png": "[encoded data removed]"
          },
          "metadata": {}
        }
      ]
    }
  ],
  "metadata": {
    "accelerator": "GPU",
    "colab": {
      "provenance": [],
      "gpuType": "T4",
      "collapsed_sections": [
        "YbNKef3lymaj",
        "y0067ax54-rd",
        "gIjrCPfCwsXI",
        "g41yW4PL9jG0",
        "DwZM-XYkT8Zx",
        "SL2iixMYUgfh",
        "xYBJEoSNUwI0",
        "23wAZomozh_2"
      ]
    },
    "kernelspec": {
      "display_name": "Python 3",
      "name": "python3"
    },
    "language_info": {
      "codemirror_mode": {
        "name": "ipython",
        "version": 3
      },
      "file_extension": ".py",
      "mimetype": "text/x-python",
      "name": "python",
      "nbconvert_exporter": "python",
      "pygments_lexer": "ipython3",
      "version": "3.9.15"
    }
  },
  "nbformat": 4,
  "nbformat_minor": 0
}